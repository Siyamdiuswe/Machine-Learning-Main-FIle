{
 "cells": [
  {
   "cell_type": "code",
   "execution_count": 1,
   "metadata": {},
   "outputs": [
    {
     "name": "stdout",
     "output_type": "stream",
     "text": [
      "4.1.1\n"
     ]
    }
   ],
   "source": [
    "import plotly\n",
    "from plotly import __version__\n",
    "print(__version__)\n",
    "from plotly.offline import download_plotlyjs, init_notebook_mode, plot, iplot"
   ]
  },
  {
   "cell_type": "code",
   "execution_count": 2,
   "metadata": {},
   "outputs": [
    {
     "data": {
      "text/html": [
       "        <script type=\"text/javascript\">\n",
       "        window.PlotlyConfig = {MathJaxConfig: 'local'};\n",
       "        if (window.MathJax) {MathJax.Hub.Config({SVG: {font: \"STIX-Web\"}});}\n",
       "        if (typeof require !== 'undefined') {\n",
       "        require.undef(\"plotly\");\n",
       "        requirejs.config({\n",
       "            paths: {\n",
       "                'plotly': ['https://cdn.plot.ly/plotly-latest.min']\n",
       "            }\n",
       "        });\n",
       "        require(['plotly'], function(Plotly) {\n",
       "            window._Plotly = Plotly;\n",
       "        });\n",
       "        }\n",
       "        </script>\n",
       "        "
      ]
     },
     "metadata": {},
     "output_type": "display_data"
    }
   ],
   "source": [
    "init_notebook_mode(connected=True)"
   ]
  },
  {
   "cell_type": "code",
   "execution_count": 3,
   "metadata": {},
   "outputs": [
    {
     "data": {
      "application/vnd.plotly.v1+json": {
       "config": {
        "linkText": "Export to plot.ly",
        "plotlyServerURL": "https://plot.ly",
        "showLink": false
       },
       "data": [
        {
         "type": "scatter",
         "x": [
          1,
          2,
          3,
          4,
          5
         ],
         "y": [
          1,
          5,
          6,
          7,
          9
         ]
        }
       ],
       "layout": {
        "template": {
         "data": {
          "bar": [
           {
            "error_x": {
             "color": "#2a3f5f"
            },
            "error_y": {
             "color": "#2a3f5f"
            },
            "marker": {
             "line": {
              "color": "#E5ECF6",
              "width": 0.5
             }
            },
            "type": "bar"
           }
          ],
          "barpolar": [
           {
            "marker": {
             "line": {
              "color": "#E5ECF6",
              "width": 0.5
             }
            },
            "type": "barpolar"
           }
          ],
          "carpet": [
           {
            "aaxis": {
             "endlinecolor": "#2a3f5f",
             "gridcolor": "white",
             "linecolor": "white",
             "minorgridcolor": "white",
             "startlinecolor": "#2a3f5f"
            },
            "baxis": {
             "endlinecolor": "#2a3f5f",
             "gridcolor": "white",
             "linecolor": "white",
             "minorgridcolor": "white",
             "startlinecolor": "#2a3f5f"
            },
            "type": "carpet"
           }
          ],
          "choropleth": [
           {
            "colorbar": {
             "outlinewidth": 0,
             "ticks": ""
            },
            "type": "choropleth"
           }
          ],
          "contour": [
           {
            "colorbar": {
             "outlinewidth": 0,
             "ticks": ""
            },
            "colorscale": [
             [
              0,
              "#0d0887"
             ],
             [
              0.1111111111111111,
              "#46039f"
             ],
             [
              0.2222222222222222,
              "#7201a8"
             ],
             [
              0.3333333333333333,
              "#9c179e"
             ],
             [
              0.4444444444444444,
              "#bd3786"
             ],
             [
              0.5555555555555556,
              "#d8576b"
             ],
             [
              0.6666666666666666,
              "#ed7953"
             ],
             [
              0.7777777777777778,
              "#fb9f3a"
             ],
             [
              0.8888888888888888,
              "#fdca26"
             ],
             [
              1,
              "#f0f921"
             ]
            ],
            "type": "contour"
           }
          ],
          "contourcarpet": [
           {
            "colorbar": {
             "outlinewidth": 0,
             "ticks": ""
            },
            "type": "contourcarpet"
           }
          ],
          "heatmap": [
           {
            "colorbar": {
             "outlinewidth": 0,
             "ticks": ""
            },
            "colorscale": [
             [
              0,
              "#0d0887"
             ],
             [
              0.1111111111111111,
              "#46039f"
             ],
             [
              0.2222222222222222,
              "#7201a8"
             ],
             [
              0.3333333333333333,
              "#9c179e"
             ],
             [
              0.4444444444444444,
              "#bd3786"
             ],
             [
              0.5555555555555556,
              "#d8576b"
             ],
             [
              0.6666666666666666,
              "#ed7953"
             ],
             [
              0.7777777777777778,
              "#fb9f3a"
             ],
             [
              0.8888888888888888,
              "#fdca26"
             ],
             [
              1,
              "#f0f921"
             ]
            ],
            "type": "heatmap"
           }
          ],
          "heatmapgl": [
           {
            "colorbar": {
             "outlinewidth": 0,
             "ticks": ""
            },
            "colorscale": [
             [
              0,
              "#0d0887"
             ],
             [
              0.1111111111111111,
              "#46039f"
             ],
             [
              0.2222222222222222,
              "#7201a8"
             ],
             [
              0.3333333333333333,
              "#9c179e"
             ],
             [
              0.4444444444444444,
              "#bd3786"
             ],
             [
              0.5555555555555556,
              "#d8576b"
             ],
             [
              0.6666666666666666,
              "#ed7953"
             ],
             [
              0.7777777777777778,
              "#fb9f3a"
             ],
             [
              0.8888888888888888,
              "#fdca26"
             ],
             [
              1,
              "#f0f921"
             ]
            ],
            "type": "heatmapgl"
           }
          ],
          "histogram": [
           {
            "marker": {
             "colorbar": {
              "outlinewidth": 0,
              "ticks": ""
             }
            },
            "type": "histogram"
           }
          ],
          "histogram2d": [
           {
            "colorbar": {
             "outlinewidth": 0,
             "ticks": ""
            },
            "colorscale": [
             [
              0,
              "#0d0887"
             ],
             [
              0.1111111111111111,
              "#46039f"
             ],
             [
              0.2222222222222222,
              "#7201a8"
             ],
             [
              0.3333333333333333,
              "#9c179e"
             ],
             [
              0.4444444444444444,
              "#bd3786"
             ],
             [
              0.5555555555555556,
              "#d8576b"
             ],
             [
              0.6666666666666666,
              "#ed7953"
             ],
             [
              0.7777777777777778,
              "#fb9f3a"
             ],
             [
              0.8888888888888888,
              "#fdca26"
             ],
             [
              1,
              "#f0f921"
             ]
            ],
            "type": "histogram2d"
           }
          ],
          "histogram2dcontour": [
           {
            "colorbar": {
             "outlinewidth": 0,
             "ticks": ""
            },
            "colorscale": [
             [
              0,
              "#0d0887"
             ],
             [
              0.1111111111111111,
              "#46039f"
             ],
             [
              0.2222222222222222,
              "#7201a8"
             ],
             [
              0.3333333333333333,
              "#9c179e"
             ],
             [
              0.4444444444444444,
              "#bd3786"
             ],
             [
              0.5555555555555556,
              "#d8576b"
             ],
             [
              0.6666666666666666,
              "#ed7953"
             ],
             [
              0.7777777777777778,
              "#fb9f3a"
             ],
             [
              0.8888888888888888,
              "#fdca26"
             ],
             [
              1,
              "#f0f921"
             ]
            ],
            "type": "histogram2dcontour"
           }
          ],
          "mesh3d": [
           {
            "colorbar": {
             "outlinewidth": 0,
             "ticks": ""
            },
            "type": "mesh3d"
           }
          ],
          "parcoords": [
           {
            "line": {
             "colorbar": {
              "outlinewidth": 0,
              "ticks": ""
             }
            },
            "type": "parcoords"
           }
          ],
          "scatter": [
           {
            "marker": {
             "colorbar": {
              "outlinewidth": 0,
              "ticks": ""
             }
            },
            "type": "scatter"
           }
          ],
          "scatter3d": [
           {
            "line": {
             "colorbar": {
              "outlinewidth": 0,
              "ticks": ""
             }
            },
            "marker": {
             "colorbar": {
              "outlinewidth": 0,
              "ticks": ""
             }
            },
            "type": "scatter3d"
           }
          ],
          "scattercarpet": [
           {
            "marker": {
             "colorbar": {
              "outlinewidth": 0,
              "ticks": ""
             }
            },
            "type": "scattercarpet"
           }
          ],
          "scattergeo": [
           {
            "marker": {
             "colorbar": {
              "outlinewidth": 0,
              "ticks": ""
             }
            },
            "type": "scattergeo"
           }
          ],
          "scattergl": [
           {
            "marker": {
             "colorbar": {
              "outlinewidth": 0,
              "ticks": ""
             }
            },
            "type": "scattergl"
           }
          ],
          "scattermapbox": [
           {
            "marker": {
             "colorbar": {
              "outlinewidth": 0,
              "ticks": ""
             }
            },
            "type": "scattermapbox"
           }
          ],
          "scatterpolar": [
           {
            "marker": {
             "colorbar": {
              "outlinewidth": 0,
              "ticks": ""
             }
            },
            "type": "scatterpolar"
           }
          ],
          "scatterpolargl": [
           {
            "marker": {
             "colorbar": {
              "outlinewidth": 0,
              "ticks": ""
             }
            },
            "type": "scatterpolargl"
           }
          ],
          "scatterternary": [
           {
            "marker": {
             "colorbar": {
              "outlinewidth": 0,
              "ticks": ""
             }
            },
            "type": "scatterternary"
           }
          ],
          "surface": [
           {
            "colorbar": {
             "outlinewidth": 0,
             "ticks": ""
            },
            "colorscale": [
             [
              0,
              "#0d0887"
             ],
             [
              0.1111111111111111,
              "#46039f"
             ],
             [
              0.2222222222222222,
              "#7201a8"
             ],
             [
              0.3333333333333333,
              "#9c179e"
             ],
             [
              0.4444444444444444,
              "#bd3786"
             ],
             [
              0.5555555555555556,
              "#d8576b"
             ],
             [
              0.6666666666666666,
              "#ed7953"
             ],
             [
              0.7777777777777778,
              "#fb9f3a"
             ],
             [
              0.8888888888888888,
              "#fdca26"
             ],
             [
              1,
              "#f0f921"
             ]
            ],
            "type": "surface"
           }
          ],
          "table": [
           {
            "cells": {
             "fill": {
              "color": "#EBF0F8"
             },
             "line": {
              "color": "white"
             }
            },
            "header": {
             "fill": {
              "color": "#C8D4E3"
             },
             "line": {
              "color": "white"
             }
            },
            "type": "table"
           }
          ]
         },
         "layout": {
          "annotationdefaults": {
           "arrowcolor": "#2a3f5f",
           "arrowhead": 0,
           "arrowwidth": 1
          },
          "colorscale": {
           "diverging": [
            [
             0,
             "#8e0152"
            ],
            [
             0.1,
             "#c51b7d"
            ],
            [
             0.2,
             "#de77ae"
            ],
            [
             0.3,
             "#f1b6da"
            ],
            [
             0.4,
             "#fde0ef"
            ],
            [
             0.5,
             "#f7f7f7"
            ],
            [
             0.6,
             "#e6f5d0"
            ],
            [
             0.7,
             "#b8e186"
            ],
            [
             0.8,
             "#7fbc41"
            ],
            [
             0.9,
             "#4d9221"
            ],
            [
             1,
             "#276419"
            ]
           ],
           "sequential": [
            [
             0,
             "#0d0887"
            ],
            [
             0.1111111111111111,
             "#46039f"
            ],
            [
             0.2222222222222222,
             "#7201a8"
            ],
            [
             0.3333333333333333,
             "#9c179e"
            ],
            [
             0.4444444444444444,
             "#bd3786"
            ],
            [
             0.5555555555555556,
             "#d8576b"
            ],
            [
             0.6666666666666666,
             "#ed7953"
            ],
            [
             0.7777777777777778,
             "#fb9f3a"
            ],
            [
             0.8888888888888888,
             "#fdca26"
            ],
            [
             1,
             "#f0f921"
            ]
           ],
           "sequentialminus": [
            [
             0,
             "#0d0887"
            ],
            [
             0.1111111111111111,
             "#46039f"
            ],
            [
             0.2222222222222222,
             "#7201a8"
            ],
            [
             0.3333333333333333,
             "#9c179e"
            ],
            [
             0.4444444444444444,
             "#bd3786"
            ],
            [
             0.5555555555555556,
             "#d8576b"
            ],
            [
             0.6666666666666666,
             "#ed7953"
            ],
            [
             0.7777777777777778,
             "#fb9f3a"
            ],
            [
             0.8888888888888888,
             "#fdca26"
            ],
            [
             1,
             "#f0f921"
            ]
           ]
          },
          "colorway": [
           "#636efa",
           "#EF553B",
           "#00cc96",
           "#ab63fa",
           "#FFA15A",
           "#19d3f3",
           "#FF6692",
           "#B6E880",
           "#FF97FF",
           "#FECB52"
          ],
          "font": {
           "color": "#2a3f5f"
          },
          "geo": {
           "bgcolor": "white",
           "lakecolor": "white",
           "landcolor": "#E5ECF6",
           "showlakes": true,
           "showland": true,
           "subunitcolor": "white"
          },
          "hoverlabel": {
           "align": "left"
          },
          "hovermode": "closest",
          "mapbox": {
           "style": "light"
          },
          "paper_bgcolor": "white",
          "plot_bgcolor": "#E5ECF6",
          "polar": {
           "angularaxis": {
            "gridcolor": "white",
            "linecolor": "white",
            "ticks": ""
           },
           "bgcolor": "#E5ECF6",
           "radialaxis": {
            "gridcolor": "white",
            "linecolor": "white",
            "ticks": ""
           }
          },
          "scene": {
           "xaxis": {
            "backgroundcolor": "#E5ECF6",
            "gridcolor": "white",
            "gridwidth": 2,
            "linecolor": "white",
            "showbackground": true,
            "ticks": "",
            "zerolinecolor": "white"
           },
           "yaxis": {
            "backgroundcolor": "#E5ECF6",
            "gridcolor": "white",
            "gridwidth": 2,
            "linecolor": "white",
            "showbackground": true,
            "ticks": "",
            "zerolinecolor": "white"
           },
           "zaxis": {
            "backgroundcolor": "#E5ECF6",
            "gridcolor": "white",
            "gridwidth": 2,
            "linecolor": "white",
            "showbackground": true,
            "ticks": "",
            "zerolinecolor": "white"
           }
          },
          "shapedefaults": {
           "line": {
            "color": "#2a3f5f"
           }
          },
          "ternary": {
           "aaxis": {
            "gridcolor": "white",
            "linecolor": "white",
            "ticks": ""
           },
           "baxis": {
            "gridcolor": "white",
            "linecolor": "white",
            "ticks": ""
           },
           "bgcolor": "#E5ECF6",
           "caxis": {
            "gridcolor": "white",
            "linecolor": "white",
            "ticks": ""
           }
          },
          "title": {
           "x": 0.05
          },
          "xaxis": {
           "automargin": true,
           "gridcolor": "white",
           "linecolor": "white",
           "ticks": "",
           "zerolinecolor": "white",
           "zerolinewidth": 2
          },
          "yaxis": {
           "automargin": true,
           "gridcolor": "white",
           "linecolor": "white",
           "ticks": "",
           "zerolinecolor": "white",
           "zerolinewidth": 2
          }
         }
        }
       }
      },
      "text/html": [
       "<div>\n",
       "        \n",
       "        \n",
       "            <div id=\"b6e8343f-0c2a-4ff1-84f8-9f7806777b60\" class=\"plotly-graph-div\" style=\"height:525px; width:100%;\"></div>\n",
       "            <script type=\"text/javascript\">\n",
       "                require([\"plotly\"], function(Plotly) {\n",
       "                    window.PLOTLYENV=window.PLOTLYENV || {};\n",
       "                    \n",
       "                if (document.getElementById(\"b6e8343f-0c2a-4ff1-84f8-9f7806777b60\")) {\n",
       "                    Plotly.newPlot(\n",
       "                        'b6e8343f-0c2a-4ff1-84f8-9f7806777b60',\n",
       "                        [{\"type\": \"scatter\", \"x\": [1, 2, 3, 4, 5], \"y\": [1, 5, 6, 7, 9]}],\n",
       "                        {\"template\": {\"data\": {\"bar\": [{\"error_x\": {\"color\": \"#2a3f5f\"}, \"error_y\": {\"color\": \"#2a3f5f\"}, \"marker\": {\"line\": {\"color\": \"#E5ECF6\", \"width\": 0.5}}, \"type\": \"bar\"}], \"barpolar\": [{\"marker\": {\"line\": {\"color\": \"#E5ECF6\", \"width\": 0.5}}, \"type\": \"barpolar\"}], \"carpet\": [{\"aaxis\": {\"endlinecolor\": \"#2a3f5f\", \"gridcolor\": \"white\", \"linecolor\": \"white\", \"minorgridcolor\": \"white\", \"startlinecolor\": \"#2a3f5f\"}, \"baxis\": {\"endlinecolor\": \"#2a3f5f\", \"gridcolor\": \"white\", \"linecolor\": \"white\", \"minorgridcolor\": \"white\", \"startlinecolor\": \"#2a3f5f\"}, \"type\": \"carpet\"}], \"choropleth\": [{\"colorbar\": {\"outlinewidth\": 0, \"ticks\": \"\"}, \"type\": \"choropleth\"}], \"contour\": [{\"colorbar\": {\"outlinewidth\": 0, \"ticks\": \"\"}, \"colorscale\": [[0.0, \"#0d0887\"], [0.1111111111111111, \"#46039f\"], [0.2222222222222222, \"#7201a8\"], [0.3333333333333333, \"#9c179e\"], [0.4444444444444444, \"#bd3786\"], [0.5555555555555556, \"#d8576b\"], [0.6666666666666666, \"#ed7953\"], [0.7777777777777778, \"#fb9f3a\"], [0.8888888888888888, \"#fdca26\"], [1.0, \"#f0f921\"]], \"type\": \"contour\"}], \"contourcarpet\": [{\"colorbar\": {\"outlinewidth\": 0, \"ticks\": \"\"}, \"type\": \"contourcarpet\"}], \"heatmap\": [{\"colorbar\": {\"outlinewidth\": 0, \"ticks\": \"\"}, \"colorscale\": [[0.0, \"#0d0887\"], [0.1111111111111111, \"#46039f\"], [0.2222222222222222, \"#7201a8\"], [0.3333333333333333, \"#9c179e\"], [0.4444444444444444, \"#bd3786\"], [0.5555555555555556, \"#d8576b\"], [0.6666666666666666, \"#ed7953\"], [0.7777777777777778, \"#fb9f3a\"], [0.8888888888888888, \"#fdca26\"], [1.0, \"#f0f921\"]], \"type\": \"heatmap\"}], \"heatmapgl\": [{\"colorbar\": {\"outlinewidth\": 0, \"ticks\": \"\"}, \"colorscale\": [[0.0, \"#0d0887\"], [0.1111111111111111, \"#46039f\"], [0.2222222222222222, \"#7201a8\"], [0.3333333333333333, \"#9c179e\"], [0.4444444444444444, \"#bd3786\"], [0.5555555555555556, \"#d8576b\"], [0.6666666666666666, \"#ed7953\"], [0.7777777777777778, \"#fb9f3a\"], [0.8888888888888888, \"#fdca26\"], [1.0, \"#f0f921\"]], \"type\": \"heatmapgl\"}], \"histogram\": [{\"marker\": {\"colorbar\": {\"outlinewidth\": 0, \"ticks\": \"\"}}, \"type\": \"histogram\"}], \"histogram2d\": [{\"colorbar\": {\"outlinewidth\": 0, \"ticks\": \"\"}, \"colorscale\": [[0.0, \"#0d0887\"], [0.1111111111111111, \"#46039f\"], [0.2222222222222222, \"#7201a8\"], [0.3333333333333333, \"#9c179e\"], [0.4444444444444444, \"#bd3786\"], [0.5555555555555556, \"#d8576b\"], [0.6666666666666666, \"#ed7953\"], [0.7777777777777778, \"#fb9f3a\"], [0.8888888888888888, \"#fdca26\"], [1.0, \"#f0f921\"]], \"type\": \"histogram2d\"}], \"histogram2dcontour\": [{\"colorbar\": {\"outlinewidth\": 0, \"ticks\": \"\"}, \"colorscale\": [[0.0, \"#0d0887\"], [0.1111111111111111, \"#46039f\"], [0.2222222222222222, \"#7201a8\"], [0.3333333333333333, \"#9c179e\"], [0.4444444444444444, \"#bd3786\"], [0.5555555555555556, \"#d8576b\"], [0.6666666666666666, \"#ed7953\"], [0.7777777777777778, \"#fb9f3a\"], [0.8888888888888888, \"#fdca26\"], [1.0, \"#f0f921\"]], \"type\": \"histogram2dcontour\"}], \"mesh3d\": [{\"colorbar\": {\"outlinewidth\": 0, \"ticks\": \"\"}, \"type\": \"mesh3d\"}], \"parcoords\": [{\"line\": {\"colorbar\": {\"outlinewidth\": 0, \"ticks\": \"\"}}, \"type\": \"parcoords\"}], \"scatter\": [{\"marker\": {\"colorbar\": {\"outlinewidth\": 0, \"ticks\": \"\"}}, \"type\": \"scatter\"}], \"scatter3d\": [{\"line\": {\"colorbar\": {\"outlinewidth\": 0, \"ticks\": \"\"}}, \"marker\": {\"colorbar\": {\"outlinewidth\": 0, \"ticks\": \"\"}}, \"type\": \"scatter3d\"}], \"scattercarpet\": [{\"marker\": {\"colorbar\": {\"outlinewidth\": 0, \"ticks\": \"\"}}, \"type\": \"scattercarpet\"}], \"scattergeo\": [{\"marker\": {\"colorbar\": {\"outlinewidth\": 0, \"ticks\": \"\"}}, \"type\": \"scattergeo\"}], \"scattergl\": [{\"marker\": {\"colorbar\": {\"outlinewidth\": 0, \"ticks\": \"\"}}, \"type\": \"scattergl\"}], \"scattermapbox\": [{\"marker\": {\"colorbar\": {\"outlinewidth\": 0, \"ticks\": \"\"}}, \"type\": \"scattermapbox\"}], \"scatterpolar\": [{\"marker\": {\"colorbar\": {\"outlinewidth\": 0, \"ticks\": \"\"}}, \"type\": \"scatterpolar\"}], \"scatterpolargl\": [{\"marker\": {\"colorbar\": {\"outlinewidth\": 0, \"ticks\": \"\"}}, \"type\": \"scatterpolargl\"}], \"scatterternary\": [{\"marker\": {\"colorbar\": {\"outlinewidth\": 0, \"ticks\": \"\"}}, \"type\": \"scatterternary\"}], \"surface\": [{\"colorbar\": {\"outlinewidth\": 0, \"ticks\": \"\"}, \"colorscale\": [[0.0, \"#0d0887\"], [0.1111111111111111, \"#46039f\"], [0.2222222222222222, \"#7201a8\"], [0.3333333333333333, \"#9c179e\"], [0.4444444444444444, \"#bd3786\"], [0.5555555555555556, \"#d8576b\"], [0.6666666666666666, \"#ed7953\"], [0.7777777777777778, \"#fb9f3a\"], [0.8888888888888888, \"#fdca26\"], [1.0, \"#f0f921\"]], \"type\": \"surface\"}], \"table\": [{\"cells\": {\"fill\": {\"color\": \"#EBF0F8\"}, \"line\": {\"color\": \"white\"}}, \"header\": {\"fill\": {\"color\": \"#C8D4E3\"}, \"line\": {\"color\": \"white\"}}, \"type\": \"table\"}]}, \"layout\": {\"annotationdefaults\": {\"arrowcolor\": \"#2a3f5f\", \"arrowhead\": 0, \"arrowwidth\": 1}, \"colorscale\": {\"diverging\": [[0, \"#8e0152\"], [0.1, \"#c51b7d\"], [0.2, \"#de77ae\"], [0.3, \"#f1b6da\"], [0.4, \"#fde0ef\"], [0.5, \"#f7f7f7\"], [0.6, \"#e6f5d0\"], [0.7, \"#b8e186\"], [0.8, \"#7fbc41\"], [0.9, \"#4d9221\"], [1, \"#276419\"]], \"sequential\": [[0.0, \"#0d0887\"], [0.1111111111111111, \"#46039f\"], [0.2222222222222222, \"#7201a8\"], [0.3333333333333333, \"#9c179e\"], [0.4444444444444444, \"#bd3786\"], [0.5555555555555556, \"#d8576b\"], [0.6666666666666666, \"#ed7953\"], [0.7777777777777778, \"#fb9f3a\"], [0.8888888888888888, \"#fdca26\"], [1.0, \"#f0f921\"]], \"sequentialminus\": [[0.0, \"#0d0887\"], [0.1111111111111111, \"#46039f\"], [0.2222222222222222, \"#7201a8\"], [0.3333333333333333, \"#9c179e\"], [0.4444444444444444, \"#bd3786\"], [0.5555555555555556, \"#d8576b\"], [0.6666666666666666, \"#ed7953\"], [0.7777777777777778, \"#fb9f3a\"], [0.8888888888888888, \"#fdca26\"], [1.0, \"#f0f921\"]]}, \"colorway\": [\"#636efa\", \"#EF553B\", \"#00cc96\", \"#ab63fa\", \"#FFA15A\", \"#19d3f3\", \"#FF6692\", \"#B6E880\", \"#FF97FF\", \"#FECB52\"], \"font\": {\"color\": \"#2a3f5f\"}, \"geo\": {\"bgcolor\": \"white\", \"lakecolor\": \"white\", \"landcolor\": \"#E5ECF6\", \"showlakes\": true, \"showland\": true, \"subunitcolor\": \"white\"}, \"hoverlabel\": {\"align\": \"left\"}, \"hovermode\": \"closest\", \"mapbox\": {\"style\": \"light\"}, \"paper_bgcolor\": \"white\", \"plot_bgcolor\": \"#E5ECF6\", \"polar\": {\"angularaxis\": {\"gridcolor\": \"white\", \"linecolor\": \"white\", \"ticks\": \"\"}, \"bgcolor\": \"#E5ECF6\", \"radialaxis\": {\"gridcolor\": \"white\", \"linecolor\": \"white\", \"ticks\": \"\"}}, \"scene\": {\"xaxis\": {\"backgroundcolor\": \"#E5ECF6\", \"gridcolor\": \"white\", \"gridwidth\": 2, \"linecolor\": \"white\", \"showbackground\": true, \"ticks\": \"\", \"zerolinecolor\": \"white\"}, \"yaxis\": {\"backgroundcolor\": \"#E5ECF6\", \"gridcolor\": \"white\", \"gridwidth\": 2, \"linecolor\": \"white\", \"showbackground\": true, \"ticks\": \"\", \"zerolinecolor\": \"white\"}, \"zaxis\": {\"backgroundcolor\": \"#E5ECF6\", \"gridcolor\": \"white\", \"gridwidth\": 2, \"linecolor\": \"white\", \"showbackground\": true, \"ticks\": \"\", \"zerolinecolor\": \"white\"}}, \"shapedefaults\": {\"line\": {\"color\": \"#2a3f5f\"}}, \"ternary\": {\"aaxis\": {\"gridcolor\": \"white\", \"linecolor\": \"white\", \"ticks\": \"\"}, \"baxis\": {\"gridcolor\": \"white\", \"linecolor\": \"white\", \"ticks\": \"\"}, \"bgcolor\": \"#E5ECF6\", \"caxis\": {\"gridcolor\": \"white\", \"linecolor\": \"white\", \"ticks\": \"\"}}, \"title\": {\"x\": 0.05}, \"xaxis\": {\"automargin\": true, \"gridcolor\": \"white\", \"linecolor\": \"white\", \"ticks\": \"\", \"zerolinecolor\": \"white\", \"zerolinewidth\": 2}, \"yaxis\": {\"automargin\": true, \"gridcolor\": \"white\", \"linecolor\": \"white\", \"ticks\": \"\", \"zerolinecolor\": \"white\", \"zerolinewidth\": 2}}}},\n",
       "                        {\"responsive\": true}\n",
       "                    ).then(function(){\n",
       "                            \n",
       "var gd = document.getElementById('b6e8343f-0c2a-4ff1-84f8-9f7806777b60');\n",
       "var x = new MutationObserver(function (mutations, observer) {{\n",
       "        var display = window.getComputedStyle(gd).display;\n",
       "        if (!display || display === 'none') {{\n",
       "            console.log([gd, 'removed!']);\n",
       "            Plotly.purge(gd);\n",
       "            observer.disconnect();\n",
       "        }}\n",
       "}});\n",
       "\n",
       "// Listen for the removal of the full notebook cells\n",
       "var notebookContainer = gd.closest('#notebook-container');\n",
       "if (notebookContainer) {{\n",
       "    x.observe(notebookContainer, {childList: true});\n",
       "}}\n",
       "\n",
       "// Listen for the clearing of the current output cell\n",
       "var outputEl = gd.closest('.output');\n",
       "if (outputEl) {{\n",
       "    x.observe(outputEl, {childList: true});\n",
       "}}\n",
       "\n",
       "                        })\n",
       "                };\n",
       "                });\n",
       "            </script>\n",
       "        </div>"
      ]
     },
     "metadata": {},
     "output_type": "display_data"
    }
   ],
   "source": [
    "iplot([{\"x\":[1,2,3,4,5],\"y\":[1,5,6,7,9]}])"
   ]
  },
  {
   "cell_type": "code",
   "execution_count": 4,
   "metadata": {},
   "outputs": [
    {
     "data": {
      "application/vnd.plotly.v1+json": {
       "config": {
        "linkText": "Export to plot.ly",
        "plotlyServerURL": "https://plot.ly",
        "showLink": false
       },
       "data": [
        {
         "contours": {
          "coloring": "heatmap"
         },
         "type": "histogram2dcontour",
         "x": [
          0.11796596163915125,
          -0.03729438084484837,
          1.9697688332881218,
          0.9623629973316924,
          2.1622729420271654,
          -0.1945456787096435,
          -0.5145236226249987,
          -0.28955244329960733,
          -1.3961549783474574,
          1.483226780056886,
          1.8963048310972066,
          -0.954479001325951,
          -0.8330829625105858,
          1.1730856289861218,
          0.31951125945728137,
          -0.3005338057358785,
          -0.038517960061301565,
          -0.3915138376954742,
          0.6225528285053035,
          0.6708921909490111,
          -1.5885715252989558,
          -0.033018800922139484,
          -1.683641111505458,
          -0.6105228403722006,
          -0.8256650241432993,
          0.1733962965981961,
          1.237574261847339,
          -0.6171075723401452,
          -0.35758829150824684,
          -1.423078192527623,
          0.3549395461348626,
          -1.2499834502546,
          0.49944059008306735,
          0.03718538187387632,
          -1.2260999943717266,
          -1.0524393049832776,
          -0.4324445633117029,
          0.624399989811651,
          1.4826566875139944,
          -0.6201860681137117,
          -1.4781284549347025,
          -1.9578852737451236,
          -2.873226889835741,
          -0.49922518971981067,
          0.3009624062989251,
          0.06728170624193754,
          -1.134746533798179,
          -0.634629694543389,
          -0.3736902390841027,
          -1.1862120417639819,
          0.13261538805217046,
          -0.055749113738214374,
          -0.2992382991017917,
          -0.24780091061556359,
          1.1180372843231414,
          -0.388456224335799,
          -1.28437320097059,
          -0.1190078181025989,
          1.7916328177498517,
          -1.3463553046280543,
          0.40901192517353613,
          -1.7767305141623884,
          -0.04420875593329815,
          0.7103803345319581,
          0.033612618869735524,
          -0.10870315392545266,
          0.7486093144445012,
          -0.24746265984222296,
          0.8610652709240308,
          -0.4914810857049297,
          1.0980105753933722,
          -0.0916700890065396,
          1.4839149062470345,
          -2.2119913486424587,
          -0.2026025013186104,
          0.476564696431019,
          0.4749225508234633,
          -0.23413052075846155,
          -0.7971196807823614,
          1.005272501268198,
          1.6034082760264536,
          0.30689834829742063,
          1.8272125776297277,
          -1.6976945286249951,
          -1.6593018883907824,
          0.10390563803471053,
          1.0056143684088574,
          -0.20674956669103975,
          0.6565793742729574,
          0.18068217464082054,
          -0.5330782453177664,
          0.9382545181913893,
          1.7548151535639436,
          -0.0897422005014646,
          1.0590167801700514,
          -0.5977745352085087,
          0.7403926152205428,
          -1.0497646841531532,
          0.5645029605309861,
          -0.2534731859477061,
          0.660503149539406,
          0.03319964470732169,
          1.30041759508781,
          1.771060424774995,
          -0.07937485773652668,
          0.3466123173095934,
          0.28645487164911193,
          -0.21833876803341198,
          1.573346120316863,
          0.6691388519539768,
          -1.204172927766231,
          -1.3392141580072419,
          -0.04277253494160739,
          0.06697403416807346,
          -0.25056386878071735,
          -1.4730944322756323,
          1.384812416137885,
          1.4668445063863613,
          0.2952998656963753,
          -2.4541252267017035,
          -1.07765723322938,
          -1.0897867709575482,
          0.6202883607314598,
          -0.4698909680425767,
          2.1381098031821715,
          -0.35367289219929726,
          -0.25881758763049123,
          -0.2615478750397305,
          0.18458366863074202,
          -0.8070248910259574,
          -0.4378142917990882,
          -0.49915215791240575,
          1.2723389904670133,
          -0.7314867128623646,
          0.5986091164576747,
          -0.3841931855355711,
          0.18371217443910084,
          -1.9997320058795165,
          -2.3195682613678517,
          1.429009332735875,
          -2.3325517850970563,
          0.22885890951931992,
          -2.727638252206333,
          0.5000753933586127,
          0.7983785104709388,
          1.0170804143537742,
          1.070233379337703,
          -0.7738048879633764,
          -2.4974488982560232,
          -0.41728182151901727,
          -1.9244959279194214,
          -0.11984554379428877,
          -1.1856904036402802,
          0.6074094410828753,
          0.6379075026957562,
          -0.9960870664981847,
          -0.6387981639369107,
          0.9928189855889122,
          -0.9591177748867997,
          -1.1520890115935094,
          -0.6307970353615137,
          1.5477055821923456,
          0.5746367898878444,
          -0.6971490333284438,
          -0.88456638599202,
          -0.49059306184646584,
          -0.5183324385239051,
          0.635043934479165,
          0.39606375636641267,
          -0.6287291275791058,
          0.07674792179938923,
          -0.5791624829750406,
          0.505009039536752,
          -0.7159244652308646,
          0.8613309923449269,
          0.5264339999362335,
          0.9094640165744676,
          -0.46568274672699894,
          2.2880131692453767,
          1.224039956723661,
          0.6090113947110424,
          -0.5866293186851478,
          -0.5442984603057824,
          1.1115201455175554,
          0.2640541439268569,
          0.08614010451418733,
          -0.4544541820370414,
          0.5236868469406594,
          1.1719124632106277,
          -0.04011860835827215,
          0.11067814640899298,
          -0.10710751777530964,
          -1.3241960222650102,
          0.03555302506798918,
          0.5010508615583861,
          0.8280962416566883,
          0.4652005874496748,
          -1.5147556299756917,
          0.16507224143694474,
          0.26197933534182566,
          0.3499053528984825,
          0.60125211991606,
          0.04181463753968667,
          -0.2482044150280674,
          -0.860572799395675,
          -2.2316614290376617,
          -2.4797400187509187,
          1.2346908603789617,
          -0.3424781961056568,
          0.4478775890393968,
          -1.2506558952681666,
          0.38109475367487283,
          0.5397532706162268,
          -0.5471837369583031,
          -0.3963991608994301,
          0.948462207590686,
          0.43046356865414637,
          0.30448590805359865,
          -0.7839150011172479,
          -1.9651697408536293,
          0.06728779501168672,
          0.46629892930288963,
          -0.8666122629781758,
          -1.0490457986916255,
          0.36939444185923503,
          1.574172456534364,
          -1.4852124798244384,
          -1.7966795057944254,
          -0.5230558975813887,
          0.5362880815257659,
          0.7216767122296367,
          0.9580723418409092,
          -2.7529516226382937,
          -0.44275158006706883,
          0.15955019784393626,
          -0.30186308243615817,
          2.1635380393742376,
          1.8159763798235709,
          -1.1956120547107212,
          0.4513856293203744,
          0.6307800588604286,
          0.18656131258084285,
          -0.5185445339942616,
          1.8130964752221053,
          0.27721871317743185,
          1.0234066355248232,
          0.9838160040136071,
          0.43784662666587887,
          -0.9880695890504146,
          -2.594512945281614,
          0.05482044169201528,
          -0.07021572710370651,
          0.10028050950255832,
          -0.44011868333756066,
          0.6094707826472235,
          0.7074097687085761,
          0.08368519383206417,
          0.6972060725892858,
          -0.9299110599856648,
          -0.7474365144977735,
          1.2765440534192787,
          -0.8476205502534141,
          0.2466243318126696,
          0.4440411572873939,
          0.07218900249245101,
          -0.8195140801742626,
          0.7409731116889001,
          0.9939866748198677,
          0.7599993670270768,
          1.1994069876529463,
          0.5783753246366785,
          -0.8189413410119054,
          0.42411976722008093,
          -1.9133750331923223,
          -0.304463810760194,
          0.20199835758190074,
          -0.10295995583159698,
          -0.32367970905420007,
          -1.2728556745740938,
          0.4711662279352239,
          0.9118204520447151,
          1.2880433700680431,
          -0.9588100144435239,
          -1.0592797600272639,
          0.5854989916657407,
          -1.1471394662067431,
          2.1959424785778405,
          -0.8680282986230282,
          -0.5121623949639588,
          1.2190931119049584,
          0.2683956355129712,
          0.6711914570891476,
          -0.3283377734835319,
          0.19924720212739372,
          0.2510291138862483,
          2.022166017225702,
          0.3987699369906165,
          0.9855726607605333,
          0.7260059651823688,
          -0.8426480637411462,
          2.4235964984405127,
          3.1331852472332136,
          -0.005998021891247817,
          -0.6486357162674834,
          -0.4409835007147678,
          0.5047867966949384,
          0.11633209188600384,
          -0.20358002797825814,
          0.5564052120060161,
          1.0774623467728126,
          -0.2524597093105383,
          -0.9660273920899044,
          -0.662323156532729,
          1.4904637829777017,
          -0.9716904803675429,
          0.6582194785720555,
          0.025338810200488848,
          -0.02771146721177639,
          -0.7795066245356376,
          0.28244866325771883,
          0.8879776658817841,
          0.6327249300755324,
          0.023063403451523322,
          -0.22610819088026982,
          -0.5961446099322895,
          -0.5892975274548051,
          -1.2406802250282671,
          0.6236227914913065,
          -1.007334837247481,
          1.7158271084093633,
          0.6339686703015072,
          -1.7639839938269495,
          0.07189219237672145,
          0.9676880682133698,
          0.6060320140221379,
          0.19772713742674117,
          -0.0890251786899509,
          -0.8172645182972393,
          -0.9817767082778768,
          -0.803929311550076,
          0.2230476688859419,
          1.2771627288272869,
          0.19429043752967803,
          -1.671496104160501,
          -1.0100092970414425,
          1.6490192448246288,
          -1.2443076966941378,
          -1.7697842565417294,
          0.34964564948274396,
          -0.9206328855829412,
          -0.7827018741614096,
          0.10030944209688362,
          0.6321379819254604,
          0.4885581117949597,
          -0.9484048738499484,
          -0.7830640123367514,
          0.9990228046702253,
          0.23941383284305917,
          0.5483772251313745,
          1.1612396181398854,
          -1.5803466073464403,
          -0.6893170950720229,
          -1.7322356726755699,
          0.5745289343153615,
          0.4342495296810862,
          0.6778190646667633,
          0.9240098013890854,
          2.8849522912316523,
          -0.01075479429738632,
          0.3045058078749057,
          -0.985422115825181,
          -0.7407625964618785,
          -0.608017755238357,
          -0.29728901615695635,
          -0.10789042785481183,
          -0.6576412797516568,
          0.7847128134366173,
          -0.6238729050165639,
          -2.4184792116742395,
          1.1343810133846937,
          -1.8294760647484383,
          -0.5234023334758504,
          0.7771449272471118,
          0.1892966612668378,
          -0.299792334598,
          -0.982457337126069,
          0.3677074823618547,
          1.265188648640417,
          -1.524989332561466,
          -1.5427007967185988,
          -0.9358470157116168,
          1.8062290283608775,
          -2.227093586320812,
          0.14085700272821222,
          0.058374012983151494,
          0.3687932340036706,
          -0.9566080389394341,
          1.4028745873662591,
          1.5325092539077814,
          -0.09347264136708267,
          0.31579580922418216,
          0.48209202948739666,
          -0.6607563004441208,
          0.02374604758941871,
          0.5747530181916314,
          0.6899102802728252,
          1.0441010052200717,
          0.6841022966321003,
          -1.1704319399151772,
          1.8759547252445017,
          1.7158443871096356,
          -0.7098303052944355,
          0.2010143207003511,
          1.1618185870596212,
          0.8552467795373115,
          -1.188869757338816,
          -1.2063469430764429,
          -0.6338875978211675,
          -0.45838684908462274,
          -1.986550088183256,
          -0.9974644928644338,
          0.7877744730079785,
          1.9100536437297606,
          -0.09343080473642619,
          -1.3105036487205157,
          -1.5942553380099767,
          -0.6711780634789585,
          1.3617283426765778,
          -1.9226573336137724,
          0.787544909150986,
          0.8753295516488091,
          0.9533674284675027,
          0.8624292858620135,
          -0.7988020956493349,
          0.19359341846598288,
          1.2227412719563981,
          -0.337506937925842,
          1.1176714449433662,
          0.4564323685298452,
          -0.8282647999862267,
          0.8750936840674104,
          -1.6382158366378243,
          -0.5909111927784267,
          -0.036766066483045035,
          0.41895263599614074,
          -1.26124871738888,
          1.6693887671552996,
          -0.04922323508367407,
          0.43664206762924984,
          -1.6551959561486336,
          -1.6675084357258607,
          0.13487146537849973,
          -0.984793295731513,
          -0.670047277567013,
          -1.261882828943181,
          -2.8474412900699013,
          -2.1176411974708294,
          0.047899637602367304,
          -0.08762245130163257,
          0.08350697719265084,
          -1.5965732923633171,
          2.0652404829023863,
          -0.8589959346611756,
          0.6024254172476048,
          -0.8367003462343475,
          1.2233556901688263,
          0.10574213464529951,
          1.6560738756429911,
          0.8491347806763693,
          -0.5875901065021647,
          1.1949075723580487,
          -1.1682844948117574,
          -0.08158587596483063,
          0.8706188285059071,
          1.1994906248398014,
          0.7189642111623906,
          -1.217470169084428,
          1.0780607326703484,
          -0.1524449357856124,
          -1.417986091291347,
          -1.6821890991046324,
          1.2191699196471053,
          0.800550148173396,
          1.1087723093965454,
          1.9812041052425877,
          0.9314015109325215,
          -1.240209673037645,
          -1.521744800449234,
          3.131143623395054,
          0.10568957503062985,
          1.0564740665017376,
          1.1743306015662556,
          -1.038678273928269,
          -0.9332470610073382,
          -0.8571987246695247,
          -0.6010056360698144,
          1.6869917385098487,
          -0.570251335911403,
          0.35877006007412965,
          -0.5581603744517878,
          -0.3799452718332368,
          -0.2518305970057005,
          -0.05992222098678368,
          -0.9120440198241969,
          -0.43722798609840535,
          0.8597262378169483,
          -3.484932165720314,
          -0.4058170539254558,
          0.2775945472976472,
          0.6543351587422473,
          -1.7613812427470614,
          0.38064512766279185,
          0.12382504367673924,
          -0.24557227291745118,
          -0.06079605546370114,
          -0.822494984768575,
          0.6572589591775386,
          0.47818435714429136,
          0.08337736223778508,
          -0.2895578954990764,
          -0.519505442278625,
          0.6465377308412051,
          1.6916951827464348,
          0.2533512248111022,
          -1.7630275536841777,
          0.5926794922727642,
          -0.6213270580570298,
          1.1715261828071066,
          -2.0656619213253244,
          -1.059999492717805,
          0.48817717455727383,
          -0.9038090183033697,
          1.50492869661926,
          -1.4363048222097656,
          1.1906870093727613,
          -1.120762545772503,
          -0.5702040567575558,
          -2.059488704726739,
          0.20915386719661144,
          -0.14629065601178723,
          0.24590938166479578,
          -1.2300909004563625,
          -0.5759011299913435,
          -0.3501466648953667,
          0.5551667085987905,
          0.8575619930860495,
          -1.0751767300017445,
          0.8234614142682128,
          -0.3737684870542691,
          -0.9610771933934952,
          -1.1531808092116502,
          -0.16511623231194184,
          1.470392486294089,
          -0.8805964562918203,
          -0.9195110228605878,
          -1.1667205635370437,
          -1.9731595344721413,
          2.4272401626454374,
          0.7255180513967245,
          0.23625357298740365,
          0.21601224932278865,
          1.3216001392329757,
          -0.019626845486522146,
          -1.1967297475934873,
          0.6452099675981118,
          -1.1705336962668236,
          -0.9601941532049356,
          0.7391306642352802,
          0.7829602446023606,
          -0.7558464902674397,
          0.11225549995768369,
          -1.5286566231134433,
          -0.503448299755166,
          0.7296271550000335,
          0.28178352893696235,
          1.3115288665095197,
          -0.05849616297269592,
          0.7089509240006954,
          -0.5375040584559903,
          -1.4599860853176605,
          0.4508389444245924,
          0.06090606160544984,
          -0.15859231503842383,
          2.0072301665730965,
          0.6355852413106395,
          0.26419554378344495,
          1.9728426608582506,
          -1.0442594190952306,
          -1.0798007324220391,
          -0.3008690176862406,
          -0.17522878382962606,
          0.7927963463619068,
          0.6902727229389269,
          -0.9653769282917166,
          -1.1074727477938122,
          1.9307734221932893,
          1.7069406040250725,
          -1.0803918069614578,
          0.6937914796340858,
          0.049785351349110024,
          -0.47370139894063185,
          -1.5218979331145674,
          -1.1599928382717695,
          0.5747972867724868,
          0.8896224553727458,
          -1.357666020284893,
          0.5278483704728721,
          -0.33492797542066566,
          -0.866768366872458,
          -1.7711936853359624,
          -0.6404539238971912,
          -0.4291752822143739,
          -0.5979917196434059,
          -0.44507789308349344,
          0.4658445193526784,
          1.1545941795787293,
          0.846810599457497,
          -0.9245301561901129,
          1.9249548937917107,
          0.08198505348170777,
          0.2506574732099643,
          -1.0791334761051643,
          -0.029855778116025383,
          1.3504377720206646,
          -0.9719990540649047,
          -1.2504551002724391,
          0.6862535878431951,
          -0.2604062137597725,
          0.9163315098616973,
          -0.04971848854776287,
          -1.947745268605493,
          -0.6058200430800215,
          0.338758984707268,
          -0.2134950612648702,
          -0.2631925468601323,
          -2.169201253831055,
          0.8874785719947489,
          -0.09071196437762236,
          1.0017425130083526,
          0.7168345627131678,
          -0.18027762632171596,
          1.2377116742788001,
          -0.8755914586951806,
          0.35250481599574707,
          -1.0332036014461727,
          0.6114093264314197,
          0.5136562235708887,
          -1.0207262797566912,
          -0.30865616839990734,
          2.020958707164268,
          0.12161877969254362,
          -0.7177331866111555,
          -0.07497336041682835,
          -2.4315046254295765,
          0.7966657130497843,
          1.0115867178976214,
          0.28200937337587134,
          -0.8690374311448751,
          0.006051391588444457,
          -0.08948901194603187,
          1.098343903186597,
          -0.1252971631140798,
          0.2653294761376855,
          2.0303644264304808,
          -0.32938165874296177,
          0.7598332413786845,
          0.8300318290454405,
          -0.2409874306141017,
          0.07546526265501217,
          2.1957050501543502,
          -0.4826581892874204,
          1.004553719993826,
          0.4096598894440915,
          0.6429326608577662,
          0.6474652275746602,
          0.8057710777166555,
          0.8246075818852784,
          -3.162531095544319,
          -1.0072864621020547,
          -1.2897467135763374,
          0.12012053506902716,
          -0.5255147621232142,
          0.5249828238887876,
          0.013943267732244623,
          0.6924530616708063,
          0.876463624132941,
          -1.5740528062185328,
          0.29214287074230283,
          -1.1107398765256538,
          0.4786113285325036,
          0.9651726032257316,
          0.33490629179366393,
          1.5280149222372041,
          -0.38728277086597784,
          1.3257055007122427,
          0.08586506442442746,
          0.8820961895368785,
          0.3237081335651008,
          -0.2641953917665047,
          -0.05277466328724661,
          -0.006782610696936768,
          1.3856276003698094,
          1.7061981430700568,
          0.8264841012398179,
          -0.20608121847941915,
          0.8512860654725117,
          -0.5819887090034042,
          1.1563163297114316,
          -0.48712425058548225,
          -0.8919613159381831,
          -1.8968572755795108,
          -0.508098208297329,
          -0.34296497771914497,
          0.8218666819220782,
          1.7046034169548452,
          -1.5024367649693584,
          -1.4883986857884486,
          -0.7275311053870586,
          1.3841032874431731,
          -0.9919841241424331,
          1.1303781442182843,
          -2.2505475682081038,
          -0.5776382502708002,
          -0.9007155932804717,
          0.5467512421385088,
          1.0158135719945611,
          -0.49761769881527335,
          -0.5667600657368399,
          -1.3133774599672514,
          -0.9005103633407517,
          -1.123724352096482,
          -0.9531359081544369,
          -0.20981710572101514,
          0.6094428282904752,
          0.07347752510648246,
          1.4006804912577444,
          -0.31447428307899955,
          -0.5427480035070735,
          -0.1830107112266948,
          -0.9500780547827604,
          0.6029647331952871,
          0.23282739799250013,
          0.24954486744351073,
          -0.01833213222074582,
          -0.457956688339718,
          1.4679349591336623,
          -0.34597451496467574,
          -0.07016335938495318,
          0.6276684040632767,
          1.8395510254303211,
          1.018252145611874,
          2.154355881601975,
          -0.5654074575451674,
          1.0421273879511508,
          -0.7760052777661028,
          0.5001348273083499,
          0.24975698167364585,
          -1.3905070303603095,
          -1.0495579284512877,
          -0.48186208382712864,
          0.5751501648201267,
          0.5187588562976392,
          0.9103651817802698,
          0.8855682370817991,
          -1.1391139610053234,
          -0.5876037992683992,
          -0.303832242018217,
          0.8926552294362023,
          0.18705081519395733,
          0.33375389043493475,
          -0.6365442674830241,
          1.070681732572542,
          -0.6696133287673456,
          1.372443722198453,
          1.925546245486533,
          0.012020092171536337,
          -0.3684207044043438,
          0.45866916522908247,
          0.6517393860778249,
          -0.2420399813978791,
          -1.282497197809937,
          -0.5147679439391986,
          -1.0820703378074885,
          -1.5049858481676626,
          -0.9984263352114134,
          1.791581508902787,
          -0.6760770722344385,
          -0.2765455008763214,
          -0.19665193262031153,
          -0.09603895970178938,
          0.8586874402794173,
          1.4520913924781071,
          -1.1629909777631753,
          -0.028279019990097475,
          1.2681998887118193,
          -2.3486216760286496,
          1.786098401507711,
          0.3740675277177829,
          0.39405281538816983,
          1.5327660225619486,
          -1.6094254858073351,
          0.4414926632592164,
          1.5991908843882758,
          0.2688470425901928,
          0.013256273836224911,
          0.19679445129940623,
          -0.387542044596395,
          0.1156020209967459,
          0.2861820335873344,
          -0.4124892921455597,
          -1.606056586771395,
          0.8394296921542859,
          -1.3180586209505483,
          0.3857013639262828,
          2.6223854824304587,
          1.4797792101230365,
          -0.4139369287343448,
          -0.3108980657109201,
          -0.15462185124605277,
          2.1309374359146096,
          -1.8854237164609016,
          1.1383703685888475,
          0.6613330274981067,
          0.289166954847182,
          0.9212561346635723,
          -0.18711952469000973,
          0.13324435473780027,
          -1.0663462922378293,
          -1.182624142242485,
          1.1913719096750524,
          -0.43284625806263227,
          1.3365468803467817,
          0.6117099905142588,
          -1.0049352501374336,
          0.3592995634932071,
          -0.7891840267766901,
          0.9442373605252102,
          1.214171705707552,
          1.4765385257566557,
          3.4405938130214855,
          -0.9009275460271504,
          0.6047012975131941,
          -1.01652562960171,
          0.9957475716517598,
          0.24430627070748445,
          -1.4665410743522822,
          0.8174024364513643,
          0.4176476582582071,
          1.1170904136100779,
          1.6847145898809153,
          -0.8368400119844773,
          -0.08309087020214834,
          -0.5306441064451982,
          1.6053148599967288,
          0.09996445845328446,
          0.556477214048473,
          0.04736637337446689,
          1.6872586985221185,
          -0.04470566873158181,
          2.2234931103323587,
          1.1374441786468958,
          -0.3414436646170233,
          0.708354181245332,
          1.0783027687682598,
          1.149866872408469,
          -0.50455889789761,
          -1.207789358930523,
          -1.2707628957554713,
          -0.021250717615116797,
          -1.0527230401522631,
          -0.6668720413600803,
          -0.11929092037334894,
          1.8324644150648137,
          -0.21259988867786364,
          0.7803081224953881,
          0.9362665495504127,
          -1.0025326343504832,
          -0.41003437947360144,
          -0.5708398094609528,
          0.5438679166131132,
          0.4879439642926584,
          -1.13729530215127,
          1.5449507383478709,
          0.8927331168324654,
          -1.3576459341221105,
          -1.225793894777044,
          -1.5851050942009133,
          -1.2448468906196484,
          -0.3243289564388876,
          0.9132410853804387,
          -0.6753228865140937,
          0.8158310203305879,
          -1.4415208094829988,
          1.1121496495083918,
          -0.04166940231632844,
          1.3297984312380795,
          -0.18920487339076725,
          -1.2951163029155313,
          -0.8985217374618034,
          -0.5091061473434144,
          1.1109002772442964,
          -1.1844204793053206,
          -0.9813254736540871,
          -0.9108423570007993,
          1.426927203025412,
          0.04065502823575305,
          -0.16232923872855884,
          0.2420745565292103,
          0.16701589040125817,
          0.22707562190032346,
          -2.1273575138844576,
          0.3679699440689879,
          0.49375578245400364,
          0.689524498072444,
          -0.693048269909802,
          0.5108809571597258,
          -0.541314732617583,
          0.9726130573114873,
          -0.8937164741925104,
          -0.38490189946986464,
          -0.7543137830409843,
          -0.18939301782948667,
          0.05716156794013457,
          -1.459813490931532,
          -1.7248271545578153,
          -0.23031832311290706,
          -0.7014405087256009,
          0.013440438824963635,
          1.4931326944934398,
          0.149069377032207,
          -0.5511664340792305,
          1.2984409540083124,
          -0.6081554083524003,
          -0.18041929769390969,
          -0.08730271001077049,
          -1.2905945918535517,
          -0.19745330589407634,
          -0.7785824407859108,
          -1.3602287581947963,
          -0.44400264936485456,
          0.811662797629734,
          1.3588284433063305,
          -0.2422334568686896,
          -0.13469688965503365,
          -0.781894327869927,
          -1.2382236508512294,
          -0.37213151287190455,
          -0.2294660512737999,
          -0.495529237232853,
          -0.4888488117212474,
          -1.1647964442012393,
          -0.6775895995839727,
          0.6154737685809166,
          0.003977713945175205,
          1.068652848441371,
          2.2450734890739965,
          0.6229174837041903,
          -0.5903925861687122,
          1.1503878681913036,
          -1.3068709511069516,
          -0.5947361204217845,
          0.1461584148083312,
          -0.4417443719020223,
          -0.8448307463859995,
          0.2627640986717446,
          -1.0353337381545,
          -0.2092947067713094,
          0.8262113960831567,
          0.08739475846944685,
          -0.44640248207438904,
          -0.5960316339720694,
          0.6781387233230406,
          1.061329622096445,
          1.6101168161763086,
          -1.2606363353538956,
          -0.011431944298016762,
          -0.5847282904095066,
          0.7169065078440126,
          -0.011006643567219369,
          -1.4156611344789145,
          -0.38717557292417537,
          0.9550629924223442,
          -0.2334021840445157,
          1.1685799246690347,
          -2.2197920734288035,
          -2.4684710211504095,
          0.01555055944394588,
          -0.06258366470461915,
          0.8237066442764246,
          0.16645169874905685,
          -0.9565961445946126,
          0.989888629871973,
          0.31714915109088937,
          -1.7501336007048094,
          -0.39590701098536535,
          0.14251122296107607,
          0.6228451356548499,
          -1.221818362430403,
          0.20525252021338178,
          0.08835232633273218,
          0.20444250647231033,
          0.26587236845054246,
          -0.7317342417214737,
          -0.675384361138828,
          -1.3288347345850258,
          -0.5552682289365384,
          -1.0394782102747813,
          -0.3035390905760636,
          0.26153801001151333,
          -0.03845706135748655,
          1.45354076622316,
          -1.4871148396654266,
          -0.4234954564397153,
          -0.435433779926493,
          -0.05586557745353104,
          -0.4977719385857734,
          2.120663332538196,
          0.0530247917100818,
          -2.8978426484745867,
          0.518737146244201,
          1.5820553406974434,
          1.4677199089752861,
          -0.1322805576936348,
          1.5427635528988926,
          0.687563795523172,
          -2.946433058999572,
          -0.4034878478878113,
          -1.421890148480623,
          -0.9687454298027582,
          -1.2430715836971822,
          -0.5428139852830066,
          1.309612899850895,
          -2.1397222856948255,
          -0.04811746511396392,
          -1.3043753227396213,
          1.0506510538439753,
          0.47624711763390065,
          -0.9025851980329057,
          1.514874929242849,
          -0.31486553948494667,
          -0.05736957013725823,
          0.08008607574587215,
          0.46302642131205424,
          0.4626800691573585,
          -0.41238067865593053,
          1.1336339890254368,
          0.9478457308140567,
          -0.07108131465314094,
          -0.32842169574612,
          0.5779453823846211,
          1.076590490225367,
          -1.0779727500216922,
          1.3076665596101618,
          0.40609049171444217,
          0.30796731285147727,
          -0.5549314028223358,
          -0.2999834807312977,
          -0.07542348872748154,
          -0.6076141114368502,
          0.5830991326191449,
          0.4328374016451444,
          -0.1977276368215539,
          0.1654481325395615,
          -1.1538554559201841,
          0.7948790217641916,
          0.8943040352564492,
          -0.748510567152498,
          0.4608334807133483,
          -1.6726255414381614,
          -0.8172036581392272,
          -0.15530646285454724,
          1.754998290160854,
          0.34274002161719014,
          -0.9592024418394797,
          -0.08765350086893758,
          -0.9480509420300525,
          -1.4427878603364277,
          -0.5115466969316362,
          0.9935556597087679,
          -0.1988025354538036,
          -0.8814614374356212,
          0.4484828186550076,
          0.29334229465532324,
          1.343063807285299,
          0.30422490227459353,
          -0.4500461098481865,
          -0.6161459365281132,
          -0.5114946001936358,
          -0.037372700900407396,
          -2.608833835798035,
          0.34143987394055064,
          1.2312500440339527,
          0.44759338957471007,
          0.060032576779737376,
          -2.1650034053677403,
          0.05675453833136843,
          -0.429048363397258,
          0.23846911304844257,
          0.8977940646647514,
          -0.23916988405198034,
          0.71913420925605,
          0.03193868162438048,
          0.0061497008932970935,
          0.45915600482713825,
          0.9053481418177008,
          1.1562761404216502,
          -0.174861851058802,
          -2.9700401170949897,
          -0.39578059325379344,
          -0.8440840419245388,
          -1.7997592021393631,
          -1.6839402156038004,
          1.3117590832276103,
          -0.37987350058335273,
          -0.6947176678256008,
          0.527695660903154,
          0.5845949978492082,
          0.6796332458878984,
          -2.9562280477946192,
          0.32753076432746825,
          0.46087054375488823,
          -0.4553151098374806,
          0.7326664059800772,
          1.4910223475410167,
          -0.22382662560757455,
          -0.09689188994257748,
          0.13516565393152113,
          -1.233849764374964,
          1.1011473432489234,
          2.0841193033278227,
          1.5719004533253678,
          1.321101167923732,
          1.3008659194345373,
          0.03950231014763362,
          0.9568074368306171,
          0.08969923363617328,
          0.1081874269090038,
          -1.2475492861406587,
          -0.027951692958323466,
          0.4051972181375504,
          -1.3027745031597202,
          -1.5921175478334513,
          -1.462219373151866,
          0.13353102110067136,
          -0.06557435645044019,
          0.42483008966893193,
          1.9961420421038916,
          1.8750625273068844,
          2.082432264208339,
          0.7341464772437211,
          -1.4293066617910473,
          0.09593647318761549,
          -0.3693972595828253,
          1.3636757463675593,
          -0.8466450381390557,
          -0.9612403587441509,
          -1.537022763116978,
          -1.690739880049566,
          0.26186094221731565,
          -1.7004096803375928,
          0.23511381504975915,
          -0.3503948507413041,
          0.7745533304792542,
          -1.8050827735423554,
          -1.5133521662266882,
          -0.969561655200495,
          -0.5784024529801953,
          -1.37393043610208,
          -1.0412430603791563,
          1.0002438850193813,
          -0.8963631226428308,
          -0.4692884140516045,
          -2.3077213632207356,
          -1.5287669900518608,
          -1.2539094457145852,
          1.3650295725813058,
          1.4883671732367418,
          -0.15311199499308303,
          -0.820062492466008,
          -0.4451671005631526,
          -1.7146199403140405,
          0.43607345119423485,
          0.3630923586583254,
          -1.2561556214514984,
          1.7415573627146643,
          -0.010238952727111297,
          -0.17148181921194355,
          0.9687779570252649,
          0.31839820139937586,
          0.0010117748882537351,
          1.8439928716650187,
          -1.4843336572147163,
          -1.1130788661299345,
          -0.043721815160437265,
          0.3504322706940456,
          0.7057459798541046,
          1.1897778639254721,
          -1.0761746442597782,
          1.4088897365898945,
          1.4349069360707485,
          -0.40900065521089946,
          -0.1748377173737007,
          0.36973389593611933,
          0.6908709612012968,
          1.1317331284926924,
          -0.6324385149281299,
          -0.6945344272402073,
          1.1374940974916037,
          -1.700334703233863,
          0.8526408520400596,
          -0.9320997574968611,
          0.5277660895912601,
          -0.3256811655282492,
          -0.31639060508156436,
          0.39208662505591996,
          -0.24726666159658564,
          -0.5770903207963252,
          0.6898197033817071,
          0.5448871447620212,
          -1.4464281916525357,
          -0.5953852581426359,
          0.7478131217735334,
          0.34824807295575555,
          1.1172864803099107,
          0.4172476654417187,
          -0.7459496318720786,
          -0.18821103960495292,
          1.0631409690259137,
          -0.8702726880236674,
          -0.09263193906075856,
          -1.0132665400960923,
          -0.958834374990415,
          -0.1532963969194728,
          -0.6182499903090566,
          1.0741889560452837,
          1.622001474570565,
          1.1097114715234013,
          -0.0217442627106227,
          -0.7853391045519778,
          1.167114935814884,
          -0.7974667862946985,
          0.6015805544767036,
          0.03489165261834718,
          1.2925654932625765,
          -0.2549466978416504,
          0.2501475657382631,
          -0.5892307286408973,
          -2.0263792348928793,
          -0.10460559373397464,
          -0.8415944244202738,
          2.0702544678628065,
          -0.02488220819026784,
          -0.27541306485804906,
          -0.8395457913469092,
          -0.2487814909237011,
          0.35309559890662495,
          0.34189508333367213,
          -1.9985267159684292,
          -0.8693925312501015,
          -1.759676762623947,
          -0.06486208194023464,
          -1.4725216716978085,
          1.7647252418804995,
          -1.4555781063454458,
          -0.25842774337848645,
          -0.07980599403193973,
          -1.6184840490664074,
          -0.18551544586095453,
          0.2776121335007666,
          -0.6932459097848332,
          1.4135897884027544,
          -0.5780181913005563,
          -1.5539288679751637,
          -0.5172191327637549,
          0.8474209620180028,
          0.44991093825481754,
          -0.23366753640963872,
          -0.027052338100299958,
          -1.2662381305804433,
          0.19749759220026067,
          1.3627227654445901,
          -1.6969375159864442,
          0.09223781974359654,
          0.31528448600462117,
          -0.17814586396535292,
          0.5535060113640552,
          0.8689213492225242,
          1.0200548909793163,
          -0.07213568012400329,
          0.21616562623606966,
          -1.0437121275024916,
          -0.5138030558303153,
          -0.23203296222251277,
          -0.9635628161695234,
          0.7148367434580745,
          -0.9773992632453011,
          -0.39918437785811095,
          -0.38371021521825016,
          1.0777557367076467,
          -0.03400355826667529,
          -1.2155682285571272,
          1.2284187759829353,
          -0.49508497659036377,
          -0.19819864579351953,
          -0.9392177503176333,
          0.36250933729128076,
          1.742755213833046,
          1.0815721410788743,
          0.27577526078128023,
          -2.8397041009151596,
          0.23591047465288745,
          0.7305589086922539,
          0.3403906002629283,
          0.08240707456197532,
          1.8838509147334843,
          -0.7528072724536147,
          -1.718722513885163,
          -0.10284658466895719,
          0.9499480161721459,
          0.4706230351334385,
          -2.7264213277849003,
          -0.4947024597842726,
          -0.6075502288378344,
          -0.7850884192539767,
          0.16990633515121148,
          1.4091764868537322,
          -1.5702747847771334,
          -0.013451221501098518,
          2.902585196503069,
          0.2212415825563486,
          0.07314157789265092,
          0.7104144239482989,
          -1.192712318348035,
          -0.8049725629610145,
          1.45749705735292,
          0.0052996356937169,
          -1.1650180138176296,
          -0.8844512176931085,
          0.20926884882493543,
          -0.2523508354369917,
          0.5558280699267456,
          0.4697715702229894,
          -0.1549015847682652,
          -0.19889715499114122,
          -0.7774315524928713,
          0.2722085193783634,
          1.7279303739892988,
          -1.3365119831183618,
          0.2656558586368299,
          -0.6508071073039047,
          2.182174890979643,
          -0.25037025900999693,
          0.977424230328369,
          -0.8597666897019868,
          -0.0824046131230656,
          -0.3165653348711286,
          1.934208483463907,
          -0.599024204110897,
          -1.4344005767784271,
          -0.40850863845479185,
          -1.2954047014328913,
          0.8522720553029122,
          -0.42732974088563264,
          -0.6575114843336416,
          1.6939055976638389,
          0.2124914785583274,
          -0.019836301197084585,
          0.7382933983633343,
          0.11117155950752661,
          -0.0632219937505648,
          -2.10408605166082,
          1.117728344817423,
          -0.00493087301227004,
          -0.16932552213878205,
          0.04284645249117863,
          0.42777970232077356,
          -0.7591882807731746,
          0.3734392691086673,
          -0.28540304419379187,
          -0.12463438177237739,
          -0.9726220210926722,
          -0.3340480327274609,
          0.7004259439281656,
          -0.5826300581786035,
          0.5201959340425402,
          0.707901243077144,
          1.4557708573214563,
          0.8392727094962186,
          -0.816730353583634,
          -1.9866775122385818,
          0.7945221299807953,
          1.2658628749651346,
          -0.8231894455915975,
          0.2527627764625214,
          -1.0620852647813532,
          -0.08827891833026374,
          0.8004136023383743,
          -0.755782636039525,
          1.2474205591656533,
          -1.2444505909454544,
          -0.4738319839170345,
          0.9386881076129059,
          -1.6169743480959955,
          0.7181636994793881,
          -0.7166545358881541,
          0.38300388642982486,
          1.9230521406446057,
          0.5178691915850318,
          -0.7489750820809276,
          1.3226701764940492,
          -1.1789054078085368,
          -0.08083488406360038,
          -0.06311241893628299,
          -1.0137201778430043,
          -0.5880508843330075,
          -0.7257263003496557,
          -0.438421617335747,
          1.406303238533004,
          -0.19954104212379378,
          -1.0218107085765478,
          -0.017878896426247615,
          -1.9822270236901922,
          0.3987383435664442,
          0.683863711535549,
          -0.33237102034721283,
          -0.49320630892744793,
          1.1270349343244461,
          1.2144742462985192,
          -0.8458327272763744,
          -1.4440502090863236,
          2.135501187223814,
          -0.43317845345404016,
          0.33608559857226755,
          -0.16082198355713495,
          1.6126342998397132,
          -0.23192094714247702,
          -0.5861574033549101,
          -2.2215969985481894,
          -0.4183304914575964,
          1.1327051831583224,
          -3.0143695536107082,
          -0.19753183002147368,
          -0.203975989540378,
          -0.8549830791246875,
          -0.3874576863229458,
          -1.2562471255315761,
          -0.7803861374190355,
          1.2763509100363761,
          0.915433983183238,
          -0.28823737153223433,
          -0.4999585810151211,
          0.571989631467991,
          0.3669326421565784,
          0.5963823875720529,
          1.3903819037320702,
          1.0093796721536117,
          -1.7778785588137684,
          -0.19811645806001058,
          0.29182522961811624,
          0.10737156611481223,
          1.0940742177065401,
          -1.0957032880909072,
          1.2859203023268277,
          1.9563169598693173,
          0.4383131367388581,
          -0.7436470019574013,
          0.7699963232198955,
          -0.3281991756371519,
          1.3634385008293401,
          -0.5597142124385039,
          -1.664220257432142,
          -0.7895904766119383,
          1.2402901830654873,
          -1.2380931097860264,
          -0.12424429815073924,
          1.0722512453088384,
          -1.088260310170605,
          -0.8689298357601465,
          0.2239799764724841,
          -0.13767597441484208,
          -0.37907395697014307,
          -0.9397641535076592,
          -0.16125134179307904,
          -0.650049998325713,
          -0.4667135247207217,
          0.8633886003065461,
          -0.20774875125588183,
          0.18162653567663312,
          -0.5572536900788241,
          -1.3522200676134872,
          0.5695069354628863,
          -0.44486190276596815,
          -0.7688030379630949,
          0.9434278977083693,
          0.605565428946651,
          0.8533531336686523,
          1.7150746863525206,
          0.7177788005600112,
          -0.9569647028503785,
          2.2151504748694872,
          -0.41307751861577247,
          -0.5747052910438559,
          0.177437278456855,
          -0.5548925286371172,
          -0.6007761915149635,
          -1.4719026566728006,
          1.1551048464985594,
          1.459847277567032,
          1.1875000518998555,
          1.5543308562247913,
          0.7298931223842442,
          -2.4873961802455247,
          0.14728932697495878,
          0.561952095905308,
          -0.02728288622112554,
          1.8734572508445124,
          0.8179435663926397,
          1.2518130459135814,
          -1.0040350951903634,
          1.3534975248850731,
          -0.47489539374620554,
          0.14452383263191254,
          -0.3370066137168794,
          -0.8503227693472708,
          -1.5925813422895956,
          -0.6261224862562226,
          0.9188019325220295,
          0.6370904310314672,
          0.43174999899742367,
          1.6711864498622342,
          0.3096149078711582,
          0.056085195739524675,
          -0.14017191562353545,
          -0.5780886219666287,
          0.166080620910576,
          1.1044351143066105,
          2.0264241137961507,
          -0.44311227574890155,
          1.2185091605828453,
          -0.48865551575489025,
          0.884694869780103,
          -0.34575167259433187,
          1.2544403786657659,
          -0.19807575168111,
          1.608690573416055,
          -0.3583062323948799,
          -0.19149738075455064,
          -1.434954293378422,
          1.3481220497481678,
          1.0010389823447086,
          -0.5223018137006242,
          0.7070047001121845,
          0.09760737441177197,
          -0.5573445714233662,
          1.0065529522216476,
          0.9916960750549318,
          1.3013254331738024,
          1.2902568666619256,
          -0.5564893548969571,
          -0.1640264661787414,
          -0.42244865566407785,
          1.1164893308359543,
          0.6706827003592964,
          1.2752251935569283,
          -0.1609171233117148,
          -0.7781758202141335,
          -0.7444908514698838,
          1.4902404327987113,
          0.5159964736950075,
          -0.545902560757937,
          1.1317116262557247,
          -0.758002814640874,
          -0.7429165874623276,
          -0.7935344214369645,
          -0.029679881751570745,
          0.1388650682631688,
          2.847026006515378,
          -1.232180375579209,
          -0.17577196934245398,
          0.07088389806664347,
          -1.3737391903394789,
          0.5865628658427785,
          0.033480824235679926,
          -1.7724857776814513,
          -0.512124694934411,
          0.8667555192171048,
          0.03365390956449082,
          0.4805319280132639,
          -0.7259978525808006,
          -1.9048209189365697,
          0.4640072123991562,
          -0.5517280119492244,
          0.7680527110026268,
          -1.2808617555247688,
          -0.45018902175436293,
          0.8770859153298572,
          0.2795952191071665,
          0.35872225338663066,
          0.5102933920201909,
          -0.4373924208292965,
          1.2373064605199968,
          0.9636154254293767,
          -0.2953221722996026,
          -1.143804907593571,
          1.5342269225415635,
          0.22249840996351147,
          -1.795114762375854,
          -0.7064599771316957,
          0.43389055769808116,
          -0.8124144289435664,
          0.7253413162990822,
          -1.134494296859827,
          1.764109203340484,
          1.416260685569623,
          -1.1093646558516792,
          0.7789577590915446,
          -0.4047441832723023,
          -0.6056449546952525,
          -1.1159927370469005,
          0.8497095837419086,
          -1.2793292559563554,
          1.5368421759689772,
          0.6534359734891287,
          0.5178018243279732,
          -0.00972435561638195,
          1.5463873492537716,
          0.3931068438993737,
          0.8930943785398554,
          -1.0126218045767008,
          0.015807199178433276,
          0.838605686704357,
          0.7385827172264827,
          -0.2167492237401863,
          2.4456493606172245,
          0.63346203972573,
          -0.20122377591565174,
          -0.33779163999151046,
          2.451370150340274,
          1.8140748757592091,
          0.42462601425891533,
          -1.0408120520372668,
          -1.2971048446001716,
          -2.0852706692014995,
          0.2735759852198828,
          0.5887551490992355,
          -0.7634534608879353,
          -0.0070401510913334206,
          -0.4243883766964281,
          1.4301915532719176,
          -0.25402467132766005,
          0.12649749797154047,
          -1.9896729949388854,
          -0.24149837083360615,
          0.18427010112756223,
          0.15605743434032723,
          1.1082333304104717,
          0.674212691363185,
          -1.6351437138183866,
          1.1458172635084962,
          -0.32636451807660827,
          0.6327203503001241,
          0.6246184842597103,
          0.6074334066639603,
          0.020462221707838898,
          -0.7131235107434811,
          -1.837111684031989,
          -0.28518580127874776,
          -0.6348490624960867,
          0.6986930113078241,
          1.2336815815336502,
          0.027675470711099184,
          0.6721498480954112,
          -0.9920295741130685,
          -0.42633091447699056,
          -0.8466487046882138,
          2.0325419272082668,
          2.0500855153836524,
          0.08357034064217264,
          0.7074435194168996,
          -0.07164304348884866,
          0.5687690924963665,
          -0.512586500069751,
          -1.0380485347753443,
          -1.701644960452711,
          1.87632667032177,
          -0.17047339238563225,
          0.39156903621292266,
          -0.8004463523602765,
          2.267743424903016,
          1.0969285167962715,
          -1.1824310000629532,
          -1.3000800350609747,
          0.20712629598254687,
          -0.7379041946659792,
          0.0254516259281834,
          1.6375906798524391,
          -0.654535562268442,
          -1.926472412924245,
          0.22980919462996044,
          1.0649255697512103,
          0.7856196451039127,
          1.180216325232768,
          -0.6133420568690102,
          0.24682100362243703,
          -0.2990870952656416,
          0.959861227227784,
          -0.014492706536977342,
          0.184403725508862,
          -1.0101600455125042,
          0.5928309359230557,
          -1.2370856016379719,
          0.32122765568255024,
          0.15421975218477352,
          -0.45608086541711285,
          1.0448577067852265,
          1.169045537111371,
          -0.9144673181206061,
          -1.4127818217980432,
          -0.37508164512721315,
          -1.5536728936353696,
          2.064275164162357,
          1.087901323157144,
          -0.7259323231336328,
          0.43783825053247816,
          -0.06400654547667899,
          -0.9367388027058742,
          -0.339952100198618,
          0.09303376971825839,
          0.9975904349030356,
          2.003845350668678,
          -0.7858551890082249,
          0.4620834511122613,
          -1.24947249038211,
          2.0915471209205623,
          0.8491387472835699,
          1.261062904557122,
          -0.16109085548662577,
          0.38545226973262486,
          -0.2909622772606673,
          0.3142641069962312,
          -0.19054855060152995,
          0.05263679074474257,
          0.6535253835575839,
          1.0675644494406358,
          -1.5535875537860808,
          -0.8973155057006722,
          -1.2897897024866707,
          1.3375344872791854,
          -0.2861430757354303,
          -0.2706291387851009,
          0.8082987026798706,
          -0.6724409896654184,
          1.7601430819552155,
          -1.4822941110028762,
          0.41764280799228876,
          -0.6674290943511009,
          2.059456339401971,
          1.29941528006287,
          0.687391462572872,
          -1.1692085033600046,
          1.2732799249574205,
          -0.03376495486599749,
          0.0872861432267691,
          -0.15283146682892138,
          1.6960508012020614,
          -0.3084643571536404,
          1.1659840358941005,
          -0.6401388683200319,
          -1.256735167598027,
          0.398950471267814,
          -0.5139349780359388,
          -0.2428102279032243,
          0.7463739955919341,
          0.5132918682062175,
          -1.5981817509128726,
          -0.9853996004126245,
          -0.9503899190534295,
          0.49070580381520323,
          0.546400120497001,
          0.9576383964173272,
          -1.760520563267457,
          0.7550007252588802,
          -2.449607507151493,
          0.24523033868119068,
          -2.1371014098206382,
          0.30826027798811795,
          0.9221923074039508,
          0.946463010023092,
          0.262478814302626,
          -1.6200283562577382,
          0.35550501981241256,
          0.16987282347376054,
          -0.4748687501093622,
          -0.7471033346750161,
          0.11646740145896456,
          0.15315255269236222,
          -0.13679979263082376,
          0.6595719299373726,
          -0.6990580960742078,
          1.1064966800474993,
          2.2398161652567663,
          0.4004083733108486,
          -1.3503679234497012,
          1.4048356677678513,
          -1.5698740349144948,
          0.0864253384190594,
          -0.21960175783746522,
          0.4774350967358587,
          -0.42809712293970725,
          1.5576709717808979,
          0.23264514198612743,
          -1.165811114666109,
          1.032896732553447,
          -0.7950208649548316,
          -0.5776244052851852,
          0.33581998298098387,
          0.3537041304149854,
          -0.2685832596720015,
          0.8406037809604507,
          0.08919256549948269,
          2.6675781505032736,
          0.5964493164229451,
          -1.2269375883584037,
          0.7188043594157396,
          -0.48826029035572555,
          0.683219124575462,
          0.47731327777937893,
          -0.2789208217756074,
          2.1092225243768157,
          -1.4232978464542478,
          -0.9045660223093709,
          0.5135721058277973,
          1.8695551822333694,
          0.9743521234682668,
          -0.1498929783391005,
          0.9263480003489424,
          0.25968249891104,
          2.083156658805014,
          0.2941709481796536,
          0.15574730423619224,
          -0.2898028105246615,
          0.42063835873631156,
          0.3096103302493417,
          -0.09533692082059801,
          0.3561512922609184,
          -1.0743087976393753,
          -1.7020485664772824,
          -0.7227854042466398,
          0.3631159172068238,
          -1.1102415848431222,
          -0.9984587027529384,
          0.2318314779856399,
          0.5318897944956482,
          0.6933211834725944,
          -2.322474290985347,
          0.22214553464454667,
          0.3381742469508746,
          0.5991719766686769,
          0.11640430323164969,
          -0.041276042788000275,
          0.03575636883912424,
          0.44930272608307104,
          -0.6438381948244225,
          1.0056218777749382,
          -2.3633000709214618,
          -0.48899142213033503,
          1.5224837126119046,
          -0.12550108178850025,
          0.47777911430993736,
          0.1544057821188352,
          -0.9551875746897756,
          -0.7255677434344536,
          0.2596615529482898,
          1.020873599885553,
          0.6491448177045743,
          1.888428517522234,
          -0.397534825703051,
          -0.5949973377642123,
          0.591177925804607,
          -0.3264781574481478,
          1.2172452164824925,
          -0.8851309523497654,
          -1.4469008178851337,
          -0.631366143281096,
          -2.4722155481065995,
          -0.7583773073356374,
          -0.16855159707640277,
          0.31525433468662895,
          -1.1066795803051555,
          -0.5347551292862507,
          -0.717803098413025,
          0.3402939128309359,
          0.25657490830971325,
          1.448989784720569,
          1.070334988076293,
          -0.19591998414896739,
          0.2139249081481458,
          -1.8547408596678157,
          0.16730925107074768,
          0.06781369897668764,
          2.619590214234126,
          0.9037189529517637,
          -0.6019254614173783,
          -0.5817571108784353,
          1.3609453271473948,
          -1.6289193391185415,
          -1.0147017483435175,
          -0.6663323912735738,
          -1.1397510001263653,
          -0.11860229632475007,
          -0.4641571014016596,
          -0.4673376243848152,
          -0.4661566176171998,
          -1.2590287236634505,
          -0.2876111808313361,
          0.9252999207220625,
          -0.13959494719349155,
          0.44926399035089004,
          -1.723398058533404,
          1.6979925970930443,
          0.4599781042264549,
          -0.25987299724546364,
          -0.6859446779851645,
          -0.45466433147268176,
          -2.5140502198177637,
          0.5951616997294876,
          2.2821991061298084,
          1.4195448946410378,
          0.6322316944584878,
          -0.7060015283175278,
          0.383101147815851,
          0.6837096254290146,
          0.5908253105803087,
          0.5590373308024903,
          -0.645669536603717,
          0.41462548952694733,
          -0.12575654746377488,
          0.5915221558189322,
          -0.25513729203570806,
          0.6808014520052325,
          -0.6724608416767683,
          2.3961833678504836,
          -1.278574063207171,
          0.6621300952855168,
          0.6624978696825612,
          -0.1740907176645709,
          -0.22663767619158495,
          -0.9280325391454136,
          -1.5386533794593533,
          0.5364966709057659,
          0.878949962810955,
          0.4841425388496737,
          0.9783344559887789,
          -0.47646237665966756,
          -0.7485524158824671,
          0.6851101819051321,
          0.5180607676151892,
          0.9572784452357656,
          0.2881172549299647,
          0.20687638100420688,
          0.2507677235720571,
          -2.172507232674998,
          -0.19311572545731737,
          -0.013277399989952844,
          -1.7047222463032272,
          -0.37704235343190956,
          -0.46922650316883313,
          -0.5011133682406579,
          -1.03798113564965,
          -0.021602847479107314,
          -0.8411989407046719,
          1.2165519616129963,
          0.6207102505916324,
          0.8120003305146081,
          -1.5906246230286538,
          -0.5809317668286471,
          -0.6203878075225261,
          -0.09959006665293184,
          -0.8191879561013157,
          -0.10193868340678805,
          1.0824992560400455,
          -2.130372773347528,
          -1.0152281902012066,
          -0.9670735913482282,
          -0.8756890682491455,
          -1.1232773490855956,
          -1.3246632592048262,
          0.006109547834998642,
          0.32964179271477173,
          0.24272393116145857,
          -0.7224417733826147,
          0.13966064593838967,
          0.32570764971709737,
          -1.5405872983649755,
          -0.667177918638842,
          0.7823527481819479,
          1.5145719835214226,
          -0.07705307719280363,
          -0.3116461137789649,
          -1.5354787160236867
         ],
         "y": [
          0.25895269287044564,
          0.5812205339311485,
          -0.15348408034755182,
          0.27283909210458335,
          0.08913841316475794,
          -0.06130726901219158,
          -1.358341568064127,
          -0.0244474126651847,
          0.16187018579673734,
          -0.01559919050685335,
          3.4746818913141198,
          1.0016858799325634,
          1.2687256538118237,
          -0.21864877528808577,
          1.8279986203838354,
          -1.6113633014779687,
          0.6056601314278479,
          -1.1190020498149085,
          -2.342625864951943,
          0.29189977901911396,
          0.49759783900847243,
          -1.5986437462112697,
          -1.6920800022954956,
          -0.17989481439460117,
          0.555259670957578,
          -1.192927943169298,
          0.5974266137543145,
          -0.001396342607150352,
          0.6096561997874816,
          1.915707468927555,
          -0.4641468150798157,
          0.4261240962491461,
          0.25913700289942854,
          -0.5981661463541106,
          0.6401958967471091,
          1.9625819106850695,
          -1.2081881026323111,
          -0.4784072306355306,
          -1.8169497513149917,
          -1.015589276659879,
          0.5494304648859473,
          0.699395220160126,
          0.06348697643858837,
          -0.5694555775671457,
          1.0932953444630447,
          -0.7382574588162061,
          0.2825140272559023,
          -1.7505365526838632,
          -0.7335758727341543,
          -0.23548872062094886,
          0.578291023983789,
          -1.0459984867829386,
          0.81329738209666,
          -0.9461194144494431,
          -1.9301477969695717,
          0.2988425240074377,
          -0.331053596846838,
          0.09569572203156917,
          -0.7451569299084301,
          0.20736745916198623,
          -0.06543051037840215,
          2.2851566720491894,
          -1.2287830579448076,
          0.9755192502370201,
          0.14351334261158744,
          1.2537270278493127,
          0.6469695113202155,
          0.12317195913668917,
          -0.11600471587681627,
          1.0379342861687664,
          -2.0837807991301323,
          0.41589114081148787,
          -1.178682420660582,
          0.008217034304047651,
          -0.4762251477507544,
          -2.355030286774131,
          -0.9273929964100075,
          0.46389143634868685,
          0.7094649948589978,
          -0.24673320956529254,
          0.6480582126755061,
          -0.608478761367235,
          1.657927392571974,
          1.807001509564951,
          2.4919038632060353,
          1.3057226100986372,
          0.30208170961312014,
          -1.851860374818285,
          1.2819790825850828,
          1.3083308323171405,
          0.47873395980136574,
          1.1915940364132556,
          -0.7923792639897893,
          0.7973258292586874,
          0.15754551964127778,
          -0.8225052076424564,
          1.0360312696090601,
          0.6377275741880115,
          -0.8745215410889191,
          0.8158477649743734,
          -0.22383432951159501,
          0.08964004243895483,
          -0.5440270392246787,
          0.15400365411626976,
          1.4450397851456922,
          -0.5078721538082621,
          1.139166158708435,
          -0.8887361812437101,
          0.9720482042534234,
          0.88140631636806,
          -0.3548053192806189,
          -0.08964166267376647,
          -0.6698091004683872,
          -1.1513372074112926,
          1.2785067461714983,
          0.15713313534970244,
          1.0956989388543747,
          0.7243307196383011,
          -1.2835864177237029,
          0.9717078387209391,
          0.7968924037058688,
          -1.1760041624661937,
          0.8510093095664791,
          0.20257806576587248,
          -0.4699854128200981,
          0.8857953078878305,
          0.3802488287400424,
          -0.34244346053472347,
          -0.48468910829261713,
          0.16582534714845817,
          -0.7444889061784975,
          -1.4074342647825304,
          2.123857026993892,
          0.49734392669639316,
          0.058831023242552884,
          -0.26550690474484956,
          0.4500775440576587,
          -1.835967241197181,
          -0.1125191327459631,
          0.127015575128376,
          -0.6431905151632645,
          0.11964340580539112,
          1.3504305525674765,
          -0.6165776995517985,
          -0.1290501494158772,
          0.6885059682944599,
          0.35244630566960716,
          0.9332185178006625,
          -0.35277089902694597,
          -1.2141728300313335,
          -1.0337285113530703,
          1.9254177910872181,
          1.4041956889673068,
          0.9015731963324091,
          -0.737577618145374,
          1.4853662808355796,
          -1.8319468785338822,
          0.835503421818077,
          0.9575791079414788,
          -0.9587666070894477,
          -0.06620219085035041,
          0.3412424538631172,
          -0.3120477775352076,
          1.2917621557613017,
          1.1924402417858757,
          1.3107335447281532,
          0.6101527101216502,
          -0.8279025828692934,
          -0.09946727774171983,
          0.12690531558080706,
          -1.16054084936999,
          -0.028120811759683527,
          -0.6662144205675052,
          2.2660721242781943,
          0.42648881703441344,
          -1.993018332907304,
          -0.7341706470105803,
          1.5881333521680316,
          1.364188279939235,
          -0.799104418282956,
          0.6979326350316623,
          0.5043740950103669,
          0.23472763019761841,
          1.6051080970790872,
          -1.090816623148652,
          -1.0938960488642286,
          -0.5476239841685574,
          0.7087381996950347,
          1.7111406619354868,
          -0.3983819814799904,
          1.8357928878201675,
          -0.6090280034172509,
          0.5118013318050332,
          -1.3946929280218023,
          0.6373554865790454,
          -0.6610941034950967,
          -0.8490708893704008,
          1.4776851313183537,
          1.135358599983282,
          -0.14649534865578787,
          0.4821612938679019,
          2.062538317071954,
          1.7977671553563848,
          0.06539167730761557,
          0.6628737052004368,
          -0.8842006229610422,
          1.1792658779023835,
          -0.7764539948708845,
          0.6106824804761255,
          1.1054082414704338,
          0.9789129958246484,
          0.2056220814581928,
          1.185428347564819,
          -2.3686413743461316,
          -0.7629949446216125,
          1.6419978511452857,
          1.218863723380387,
          -2.047735140766134,
          0.3299579850893941,
          0.7275512716150635,
          1.3865582111987766,
          -0.8652508363468876,
          -0.42967354599528396,
          -1.0474884292365563,
          -0.5850350248037441,
          0.8615040850975704,
          -0.21964474938137638,
          -2.069354727504869,
          -0.5156325204632217,
          0.8706791916659219,
          0.5040651895688487,
          -0.46106156985569124,
          -0.5056286049643379,
          -0.2707948107732169,
          -0.9590245710101459,
          -0.9302348894360385,
          -1.1580846069078243,
          1.088484511069171,
          -1.4250347205351344,
          0.5328091613420805,
          -1.2043646192737818,
          2.4553049068724095,
          -0.8690569226937271,
          0.5965112305813837,
          0.8257030283603543,
          -2.30112606998822,
          -0.3468746938642999,
          -0.8941038011680279,
          0.009577652167580514,
          0.1110220439439443,
          -1.4166213335314706,
          0.6408433189417011,
          0.6359541831876963,
          0.036325525172074456,
          0.1401846047063933,
          0.6444154876487082,
          1.017454837677221,
          -0.12374696767974479,
          0.14704175682293966,
          0.5275947274985251,
          0.8287755347838938,
          -0.885300337472925,
          0.34844565520088,
          -2.0504177751889854,
          1.0050788862550244,
          0.19503575161921505,
          0.34677726952307275,
          -0.9109609670491998,
          0.17060138605297967,
          -0.1578167416517618,
          -0.181643109839729,
          0.9802564819423397,
          1.8385020204931724,
          1.01070622709963,
          -0.13943478787011718,
          0.20711376169232382,
          0.5838786017775824,
          -1.1072006364074547,
          0.5893206706409757,
          1.134606262866522,
          -0.006099911991802678,
          -1.4846306977787025,
          -0.9144907766026644,
          0.8927774077452859,
          -0.20394271228075697,
          -0.1978389578929014,
          -0.4164114752411088,
          -0.987162216753761,
          0.3128763621532059,
          -2.221042530032479,
          -1.4698932984360054,
          -1.5595051790211707,
          0.1404992492944146,
          -1.0207586461019047,
          1.0928921994877558,
          0.05094499779644053,
          -1.9183428221013346,
          2.4464774946282417,
          0.22599282692845454,
          1.1723597414579234,
          0.9926874536054157,
          -1.0675547173706632,
          0.3355530324347604,
          1.072877675803959,
          -1.5117881344315338,
          1.9733399750595566,
          0.6880005523249757,
          -0.47601575954510816,
          -1.388015244202664,
          -1.8036910824244983,
          -0.13121435616322272,
          -0.38277852157987774,
          -0.7170989101515535,
          1.5428706451512992,
          1.022818722575843,
          -0.6947580740970007,
          1.836098417795754,
          0.7090973595138875,
          0.31105486919383096,
          0.805286217833478,
          2.2250574313787466,
          -0.8477870493515891,
          0.7369159563921766,
          0.08896640645957388,
          1.0488747063886277,
          -0.5692014926814545,
          -0.6294520262505818,
          -0.08665470722912513,
          2.1598650140491737,
          1.555459926538754,
          -1.2586558604759006,
          -0.22332107135615908,
          -0.040847265073273194,
          -0.11985518489680898,
          1.1592834197576825,
          0.03835385022059563,
          0.5618000871795553,
          1.0174906925881193,
          0.3804333094861358,
          0.9620821500048744,
          0.1985130013849655,
          2.2491404687152885,
          1.352537350978178,
          -0.9830399218536755,
          0.4959632924452114,
          0.5114699411283948,
          0.9114886636862186,
          -0.6635761015258036,
          0.6253359748501253,
          -0.4172120240027858,
          -1.4270246665370039,
          -0.19893487144531127,
          -0.2526770393714712,
          -0.47052916985252324,
          0.9379001635510933,
          1.812644946765576,
          1.5437611792427948,
          -0.25553784900114623,
          -0.16058654039776327,
          -0.08299398493723413,
          -0.40954736787352963,
          -2.140574206092477,
          -0.0961222671734126,
          2.108334418645596,
          1.5014332323121253,
          0.5403407102161439,
          -1.4907361117089024,
          2.2396813570890792,
          1.4779418604174472,
          -0.24345170623332002,
          -0.01010056094386493,
          -0.5536136223359762,
          1.4994662667973975,
          -0.8049372041090347,
          0.05541228960799507,
          -0.3579690538759641,
          -1.7300070137598211,
          -1.211991527251878,
          0.029576974032724947,
          0.9703287501715354,
          0.49447970233723854,
          1.0347309519977208,
          1.3173632540356692,
          -0.15048773314361974,
          -0.19914541941882438,
          -0.13314374129067025,
          1.5670188151397637,
          0.014749249516307898,
          1.6350920965764322,
          -1.8948084369279687,
          1.487496091851001,
          0.1124799538580456,
          -0.03521643513271332,
          0.45990094338609644,
          -0.4119168267550103,
          0.5480497662123187,
          -0.41113167608483175,
          -0.772895084808031,
          2.005925085744571,
          -0.3062975148066433,
          1.1835981387867005,
          1.4331242856458355,
          1.083522390770767,
          -1.5062789301084383,
          -0.6153185294216315,
          -1.6930758105166557,
          -0.48477794232492766,
          -1.4902748607702456,
          0.47249304246996376,
          2.1814360003959687,
          -1.8044115352775458,
          0.28820080738404885,
          -0.04846863243214667,
          0.823618236630929,
          1.4056716446802848,
          0.413076889334248,
          -0.5777280268500938,
          -1.2057023732171823,
          -0.3620477545713978,
          -0.3071065079151233,
          -0.23115151471087847,
          2.3099135850273993,
          0.4686305842257631,
          0.7934229791433284,
          -1.1483800868392484,
          -1.2240617367898126,
          0.47763540492857437,
          -0.9747283386311659,
          -2.0005816374726546,
          0.11395229329087024,
          -1.3962288650671681,
          -0.271163063439674,
          0.34789662949631894,
          -0.1184227659618588,
          0.4114075500578389,
          0.22942732803697888,
          -1.364175220722337,
          0.2773552071990519,
          0.7046465474812189,
          -0.2648358661393529,
          0.3194584830191339,
          -0.5411686221998697,
          -1.3839450355245284,
          1.7481121425302446,
          0.3968183459298479,
          -0.20723871056356652,
          -1.895492550697493,
          -1.625445215550586,
          -0.015142369697808043,
          0.23812367692314165,
          0.024447217738988374,
          0.4696554515560268,
          1.022572194295422,
          1.6579200304202286,
          2.104702039758354,
          -0.28572020384295277,
          -0.35258169009691714,
          0.8240945492549603,
          -0.33924632600183585,
          -1.1604822966010846,
          -1.3600675990507223,
          -0.04889596907310514,
          2.479351249549031,
          0.7634116088207465,
          0.19011275141441278,
          -1.1389605753744159,
          -0.3076730369161492,
          1.5505680200630207,
          1.6684833318078485,
          0.49330137937377744,
          -0.7355252236323824,
          -0.12760262833475794,
          -1.5023114170819236,
          0.3370419759838716,
          -1.9881797685936784,
          -2.255934250351268,
          0.35948430855375196,
          -0.27098552905014966,
          -1.1807622444737194,
          -0.8291182322311522,
          1.6258413072060136,
          0.838900383732381,
          0.22534121135379584,
          -0.539561435460327,
          -0.24673033707423847,
          -0.5169727656211667,
          0.12071362647982391,
          -0.10117012092146946,
          -1.2541809594821522,
          1.6461514677274602,
          -1.6171754882267417,
          0.27456345216069644,
          -0.7790189461364013,
          1.375853792519557,
          -0.9182993488029992,
          1.1437675912665148,
          -1.3565684363814878,
          0.9494851098323739,
          -0.5853363020327824,
          0.2693195430366816,
          -0.28945237750560454,
          -0.48110535989108627,
          -0.7384778036376879,
          0.6570546242855163,
          0.6997165453637688,
          -0.10597807979229541,
          1.1034163432820434,
          -1.897478725866446,
          -1.1864245795622281,
          0.6716991512492971,
          -2.5109587721766604,
          -0.6688165467774312,
          0.3605733029261544,
          0.9679847946923581,
          -0.038877849170086076,
          0.6116498966225149,
          0.5722980313311957,
          0.680179647963384,
          -0.08484543756799481,
          0.8255133370940675,
          -0.7366572955838088,
          0.05855568306112321,
          0.6698166731665278,
          1.2563039445978224,
          1.1499380403163357,
          0.31393821586072285,
          -1.0070140323642207,
          -0.6355554420296307,
          -1.1507789803058261,
          -1.3493207517013992,
          -1.8753135805486096,
          1.603206184279015,
          0.2558736563661992,
          -2.0610766017034057,
          1.7514487987782668,
          1.0709473570367924,
          0.17086339277415172,
          0.03166061072270591,
          -0.0011870955762976032,
          -2.2261993903399455,
          -0.1937505841856762,
          -0.2294737344821426,
          0.6456785925037474,
          0.7098803254685595,
          -1.1523577757353132,
          0.220092780532208,
          2.574169455337368,
          -0.9968919862049648,
          -1.6840339780681801,
          1.7851843438109922,
          -0.14078472680418197,
          -0.27236508870471143,
          -0.7953643432318284,
          0.7906488642701042,
          1.2381705118869162,
          0.0827844857620104,
          -0.7633276193245255,
          -0.004955646524848617,
          0.27132681235491274,
          0.20874561797790897,
          -0.602445101287848,
          -1.1089705316701828,
          1.7527262692660484,
          -1.5196998055353284,
          -1.1684428856967235,
          -0.7232401765237445,
          0.4129140481200962,
          -0.5734583557011449,
          0.5623183248296033,
          0.3781766841748795,
          0.2798241604936102,
          -0.15123861675903974,
          -0.5417216519648677,
          0.9408932044279374,
          0.7242524432135169,
          1.2975229693132178,
          -0.13520370249529565,
          -0.6516189506934168,
          0.07051392157965612,
          -0.10433475964409648,
          0.48087898448097743,
          0.2844532826780097,
          -0.9456708731892715,
          -0.4981102238118219,
          -0.2817817744472552,
          -0.9466421650622502,
          -2.2450649697488716,
          0.008065361777192937,
          0.010122535073309962,
          1.3103124303569695,
          -0.9617982038086771,
          -0.8632713306032486,
          -0.6005614279788969,
          0.8258915016137429,
          -0.4048515449163248,
          0.870505797497477,
          1.1345925275326931,
          -0.7589621208363976,
          1.0204229528304687,
          0.22298659944799368,
          0.1538623589818334,
          1.5942234572887966,
          0.9257565316411248,
          0.4119906838221127,
          1.3638263464008105,
          -0.3829026860641826,
          -0.531152916299969,
          0.6579897554670363,
          -0.7952402096620002,
          0.4201647990093108,
          -0.4192794757836303,
          -0.56500200756255,
          -0.12881041912063138,
          -0.06323176973697284,
          0.45653704266239226,
          1.8414506209712187,
          0.8343314034842008,
          0.503604269044257,
          0.9571152317313831,
          2.9033602876584976,
          -0.5666024071731484,
          1.0293047727189273,
          0.29452682821486104,
          -0.6587581248288871,
          -0.027952340201397193,
          1.4297626242134456,
          0.899841010937727,
          -0.3335143743599104,
          -0.17446437910194473,
          -0.4573167824094444,
          0.40310963689515555,
          -0.33468013166238,
          -0.5718728492195297,
          0.7678970399989866,
          2.232254647823898,
          0.5579637117680154,
          -0.06738156267692645,
          -1.0717474607275141,
          0.6139150537281114,
          -0.9630168503540504,
          -0.02939870228731485,
          -1.3847964995202855,
          -0.4327282659455912,
          -0.9139019934176213,
          0.676383934692763,
          -0.03195052302435424,
          -0.7591597725732081,
          0.041743574321295045,
          -1.0191346114598294,
          1.7003112710377652,
          -0.44944509451403564,
          0.6486928948826103,
          0.40842114098579524,
          -0.9464296266363479,
          1.3852594126953386,
          1.476366335115929,
          0.6475649359878775,
          -1.382141974288368,
          0.013048023002649125,
          -0.40752433054783765,
          -3.61929373642685,
          -1.9029514821695652,
          -1.3579223850718591,
          0.8702969732284842,
          -0.2208726773821118,
          1.1828322364374921,
          0.0057056043386372515,
          -0.7849065935917179,
          1.023713482506054,
          -0.8478294714316111,
          2.465068721215976,
          -0.1148901972085925,
          0.31309453199088483,
          -0.5786863368314011,
          -1.3374747769088673,
          0.7045912520774132,
          2.762761375343802,
          -1.7288284684337336,
          0.6049348967082487,
          -1.7054899158537686,
          -0.13439132832095077,
          0.23525927610999425,
          0.42075954552459555,
          0.027281530763151738,
          0.16708761754967755,
          -0.12511999051355854,
          0.2941841705261437,
          -0.07062170109727678,
          -0.03293894706755199,
          -0.3191120069993329,
          -0.4504505966222748,
          0.04542623816307675,
          -1.5139110494533177,
          -0.552268288200243,
          0.9410486550239638,
          1.6930966672221273,
          1.652987614121942,
          -0.013628270733854168,
          -2.1927470857985947,
          -0.15073822102525056,
          -0.7829105107281896,
          -0.30239596009929653,
          0.06159343549375721,
          1.5363809579909167,
          1.2916641093339878,
          -0.3498410371119057,
          -0.880176864198332,
          0.29766432793669856,
          0.5546610848568277,
          0.48287792060305945,
          0.020991346181636582,
          0.7821045997846966,
          0.03821228124879116,
          0.5899462736867617,
          1.737963146099032,
          -1.271788984100902,
          -0.5322476229391914,
          -2.428835848863898,
          0.5847686220510014,
          0.9005602940745395,
          -1.6462799485591715,
          -0.09188416944439083,
          -1.271005534467248,
          -1.1175003818444635,
          0.5827420324557581,
          1.439256672980486,
          0.16594493270264063,
          1.4716468352592667,
          0.7281927148697632,
          -0.6759769876161114,
          1.6120682531410524,
          -0.8264639890346616,
          0.2320324293995883,
          0.7904146313992257,
          0.39362095937445735,
          -0.5938681466645221,
          -0.2154767350917504,
          0.3035520274432873,
          0.7734936076454171,
          0.8672507268961822,
          0.12113245215298568,
          -0.6448272602253187,
          -0.5667018634832885,
          -0.8808831990232352,
          -1.7381104672361944,
          -1.1702990747257598,
          0.5893652992278376,
          -0.10184753702842969,
          -1.0205482642345034,
          0.7816490429567072,
          1.7555388470527162,
          -0.2538809933229555,
          -1.4502640959218802,
          1.0381601850741997,
          -1.3482663797298406,
          1.5437718966939475,
          -0.9576552151290373,
          0.5525103234913441,
          0.5250018729174034,
          2.0193589380772896,
          -0.5930845927924887,
          0.6601913974525156,
          0.4869539421201939,
          -0.10288587555715503,
          -0.47552275130332156,
          -0.2728586375016777,
          -0.8960869919797865,
          -0.7352537600688797,
          -2.0364107739019492,
          0.07589970749521839,
          0.5590347475329263,
          -0.7147220207228789,
          -0.5049184285032075,
          -0.20635287573625258,
          -0.1858214328235075,
          -0.7207507219449313,
          0.23400019115456636,
          -0.6813894743084629,
          -0.7312100531211981,
          -0.872809272608838,
          0.12810128082681851,
          0.212888327375068,
          -1.0680614302717029,
          1.0800283518594451,
          -0.6180329768725007,
          1.1266617589389933,
          0.40200019506710144,
          0.3616478749110332,
          -1.3885705680807245,
          -0.45675257188736074,
          0.5135541947234572,
          -0.11401403553306289,
          -0.011879222429322182,
          0.37791046995421984,
          -0.023447727991715763,
          -0.9036488949380386,
          0.3353431692879386,
          0.9469915807924821,
          -0.3533441615526748,
          0.3989571751892893,
          2.118840508489202,
          -0.5182529286492876,
          0.09198909133959614,
          -1.5837855740366866,
          -0.5590570556904488,
          1.5062510712395234,
          -2.0498484975707045,
          -0.10991454477550405,
          0.19297412037503248,
          0.9739791935774,
          -1.5461241082964867,
          1.0539294142688558,
          -0.007693677067626202,
          0.6192676147315213,
          -0.16565983352606553,
          -0.2360508709043674,
          -0.5544197712521144,
          -0.373675541030452,
          1.2993004727063886,
          -1.4268217643973027,
          0.3758672131171336,
          -0.22761263127133533,
          0.8939051017423867,
          -0.025588236519921113,
          0.07136982920941103,
          0.8121822253995556,
          0.7279064229751453,
          0.08898743777680934,
          0.3928108909512378,
          0.525764124225484,
          -0.3823287078496034,
          0.05062908468222347,
          -1.1417150277460688,
          1.9274182676945932,
          -1.7780466159580492,
          0.854894275486764,
          0.42824546773215943,
          -0.2780992384042175,
          -0.5837965955016127,
          0.8418292960995458,
          -0.31891554742522354,
          0.0011676547474009555,
          0.7362921953534782,
          -0.1503294436500871,
          -0.39780939223566464,
          -1.3775721185245373,
          -0.4113659726346565,
          -0.9617351596834381,
          0.6989331164639253,
          0.03994265753283209,
          0.9535318296306005,
          -1.1823901977262004,
          1.2363682547587456,
          -1.9078803830925122,
          -1.025845127467202,
          -0.17038031021418773,
          -0.2912452766706327,
          -0.2725174793581057,
          0.554812332210362,
          0.34029370325688335,
          1.8031102460719357,
          0.8829693941357787,
          1.0310785247333447,
          -0.26563565021788244,
          0.3044504888380534,
          -1.4273035408978128,
          0.32174429939918814,
          -1.7076628358008077,
          0.2046779267508477,
          0.4644954212076825,
          2.389571613171378,
          0.6006456117928421,
          -1.3864694905875343,
          0.6006986701838105,
          -0.3614451314263861,
          0.7686803871032117,
          -2.182360968045921,
          0.5530207017942466,
          -0.05305369577399308,
          -0.19567139224247512,
          0.5556176200726838,
          -0.27022099446104525,
          -0.2970251945683288,
          0.8557276114994017,
          -0.8528052256789054,
          -1.1080815827413026,
          -0.39049266723774206,
          0.17669893501621525,
          -0.3352015871688911,
          -2.619955742755124,
          -0.10449066351420415,
          -0.9832219223713633,
          0.3790223623761519,
          -0.4602824837677899,
          1.266424942840101,
          -1.6150676710419463,
          -0.13390903596641857,
          -0.955467997688502,
          -2.1110227947384907,
          0.3838811134791746,
          -0.8093271929731941,
          -0.9138103437792277,
          0.23500612399608067,
          0.22262671738257994,
          0.712372644883896,
          -0.9422734895572287,
          -0.8426329700676839,
          2.395953488108135,
          0.9358664798580402,
          -0.18904103045058784,
          -0.9697478504040479,
          1.1498297347528752,
          0.46961011689262366,
          -0.6113826817550619,
          -0.7178541819807954,
          0.44037992417635224,
          -0.08787571383056722,
          0.9436520252658116,
          2.7138379110733997,
          0.2741242970649651,
          0.017888651419219942,
          0.5562972964443395,
          -0.6562540552891243,
          1.7385870362981937,
          -1.3733423732923655,
          -0.2349065411087463,
          0.26486407489432623,
          -1.2359545359892843,
          0.31559021277916316,
          0.25899744372279476,
          -1.1786079156763727,
          1.1929834688997556,
          0.46663475319076564,
          -0.9019400549569969,
          1.0231703859538417,
          2.119616569561514,
          0.7077760750636436,
          -0.4334806115920548,
          -1.0411329662397122,
          0.055948151782597884,
          2.084043471508685,
          0.25371920784705376,
          -0.6162709536877268,
          0.7222215188768792,
          -1.6880334026754296,
          1.2505758783418994,
          -0.9040159400019782,
          -0.7687889755672895,
          1.1162266512865144,
          0.8171947144076644,
          0.3421979690985216,
          2.282933212213798,
          -1.1284874880424982,
          -0.8458654661858181,
          -0.14046777980746786,
          0.13932584718769414,
          0.7621403050387138,
          -0.9954659495938176,
          -0.9029074232923284,
          -1.601287552542129,
          -1.113831208717632,
          -0.33766665153636716,
          -0.7155669901090835,
          -1.2464974702048692,
          -0.6225603241723233,
          -0.3560477949280349,
          0.8309958280403242,
          -0.8744767040226807,
          1.1929888505895945,
          0.6646921097723574,
          -0.5628181933697224,
          -1.7914597218358093,
          0.830681726824732,
          -0.3737184743909007,
          -0.06401527742131378,
          -0.8541351266597028,
          -1.1450141570967627,
          0.575973899315991,
          -0.7156813126963303,
          -0.3787148340233212,
          -0.811020900715864,
          -0.6661522647133363,
          0.7396886439400886,
          1.3248557833100425,
          0.5881936732750801,
          -0.973707143414489,
          -0.23023387859908068,
          -0.6356195651110165,
          0.5136590739047509,
          0.49850215502782835,
          -0.35785629959247517,
          -0.376421182189696,
          0.41296832680315687,
          0.5958963847055032,
          -1.215691470293326,
          3.0088597474617296,
          0.24277312725137856,
          -0.971706431325199,
          0.3133048452777483,
          1.4816744354789435,
          1.2934596128753333,
          -0.7454085219659855,
          1.0348257066271616,
          0.6888412925054225,
          -0.9126351943341369,
          0.2215130591447454,
          0.15014915629407688,
          1.6936809289028352,
          -0.5160216983860554,
          0.9690551665621823,
          0.6098417370941284,
          -0.36324232466263573,
          -0.6318806987352691,
          0.961319142102849,
          -0.04905949342611906,
          -0.37003762683564584,
          -1.8548203280989137,
          1.241580977203219,
          0.9695222778878552,
          -1.2580543196362513,
          -0.2778043544325551,
          -0.024900292897384133,
          0.5331589649231017,
          -0.2571366890236119,
          0.501131835556351,
          -1.6333693151694118,
          -0.6531558129459079,
          -0.5613916931145777,
          0.23335137756003416,
          -0.3053349601268253,
          0.3866103734641609,
          -0.1013220950595596,
          -0.09818144569871236,
          0.894112207374607,
          -0.02551146062428864,
          -1.1630849109194503,
          -1.1850002974800502,
          -0.07127364282545406,
          -0.22589302444574377,
          -1.202942124820417,
          -0.8827029326342856,
          -1.425462736922034,
          -1.043818754201821,
          -1.002616278957907,
          1.562623090011332,
          1.2524851995946216,
          0.7954741456351591,
          -0.4468273659873353,
          -0.3881152072572166,
          -0.7748975699132142,
          -0.07821075631276177,
          -0.8403353339323931,
          -1.4429197719027376,
          1.000901541065202,
          -0.33050169370551535,
          -0.013943028048199508,
          0.7953338905567443,
          -0.3048316333690557,
          1.4698464064853263,
          0.8346536390918918,
          2.0616969277304764,
          0.4474728813936005,
          1.8197631316094058,
          0.14101122675810832,
          0.49388462645919357,
          -2.2841638811601004,
          -0.08417722348790203,
          -1.3921101660665995,
          0.8827206026771853,
          -1.2448723241470907,
          1.0853117275815098,
          -0.04736764556718823,
          0.3849378392381082,
          0.889321659383226,
          0.7186058383859558,
          -0.689505626938272,
          2.2787458428649643,
          -0.8141183192719474,
          -1.4094203756520851,
          0.9723187652964226,
          -0.5174740151544551,
          -1.1337228213488457,
          -0.6596774315297109,
          0.8719688741926668,
          0.2886480009375546,
          -0.5992551965745981,
          -1.6480987774919487,
          0.8879410158263753,
          -0.0779722330524118,
          0.7695742424042147,
          2.0812899127570197,
          0.6903907466098467,
          1.6355487605206507,
          -1.1623027326296789,
          -0.10944927250516243,
          0.3020695221415434,
          -1.0773573076224525,
          -0.2910955541004155,
          1.3919574532008108,
          -0.029313184650240465,
          -0.4660072850161786,
          -0.08479673669471594,
          2.7060811892467243,
          0.5304189301149285,
          -1.0504571595533252,
          0.07134656219888388,
          0.6259195435188528,
          -0.855331957623909,
          -1.5053097739153904,
          -0.463055898776417,
          1.3731118151165866,
          -0.282269954755254,
          -0.32439286811011886,
          1.6743479913361154,
          -0.2152924739879522,
          0.8662150601812496,
          2.202986899625532,
          0.7504087043494644,
          0.11337123479974544,
          1.798707673431114,
          -0.9773638299612484,
          0.3227168557788372,
          0.2080384710025075,
          0.41632005468449856,
          1.3099986295022448,
          -0.8619837003626023,
          0.2117327831671286,
          2.5016015209796,
          1.5671039792515011,
          0.09887852091962307,
          0.34855870259160837,
          1.6503801591078766,
          -1.0381182588237121,
          1.0690862302251547,
          -0.30320844059494156,
          -0.36814650300829393,
          0.5411326996453047,
          -0.6907071201398665,
          -1.3084080489556424,
          -0.12009654212182518,
          -0.8645192666695136,
          0.9981079613274427,
          -0.8290281299886852,
          -0.6589598318734636,
          -0.457174308116433,
          -0.2889497246413633,
          -0.4700475115229863,
          0.20117720624139168,
          -0.012481424529981485,
          0.7774060915724873,
          2.5504254244804003,
          -1.5987740385313636,
          -0.18820831221968715,
          -1.4252348420932055,
          0.3191849711826877,
          -0.2513648641986184,
          0.42409425277399365,
          -0.6055679020718563,
          -0.5657419046564929,
          1.1750263511682193,
          -0.06690403494691603,
          -1.3107831129461636,
          0.27714859483060045,
          1.0832417897720388,
          -0.19903573391869728,
          -2.256556164580058,
          0.07142713265544659,
          0.9955251445414264,
          0.20810481878323703,
          0.11869751107903188,
          -0.5975209348037833,
          -0.11287716468636648,
          -2.45555760059863,
          0.46969497025981416,
          0.91915013178246,
          0.5948607746016182,
          -0.07621847759407094,
          -1.925934782644378,
          -0.46085722992350664,
          -0.5622424061582705,
          1.3231821854200134,
          -2.3908960383655145,
          0.12036652480687854,
          -0.8922408382426633,
          0.6528354605820966,
          1.3116636073666754,
          -0.4615874952054909,
          0.29246324130355167,
          0.4499269559946741,
          -0.379749567647174,
          1.1180326579239706,
          0.5093398516469521,
          0.47711113218969736,
          -1.2219223684832174,
          1.9730553386356262,
          1.10760611984275,
          -0.7874083137701565,
          -0.33950376835411583,
          -0.3764764892941866,
          1.0935066268896891,
          -2.3091826958412507,
          0.6614512897967861,
          0.6765102936345551,
          0.8217135374307255,
          -0.2910061941590321,
          -1.0172808545956262,
          1.4398502479542992,
          1.0790518908556352,
          0.34596399011906787,
          0.2916338652934067,
          -0.09155618849898149,
          -2.9737612984298893,
          0.9570955016351733,
          0.26333787136360504,
          0.6980934010624377,
          1.0887135519178726,
          0.46999861128302,
          0.6197576573934654,
          0.5018237842957429,
          -0.8265090610978676,
          -0.7723311429220712,
          -0.7984714184134427,
          0.24617807012282408,
          -1.3590286779430008,
          -1.0152967502755907,
          -0.5360443908962627,
          0.015906299911218162,
          0.26764888064626946,
          -0.1999391102867646,
          -0.36075643166223104,
          0.7136953722194326,
          0.5802092429538399,
          -1.1075424214004976,
          -0.40211282548081145,
          -0.2243268427625873,
          0.9091637443316058,
          0.23145678637600003,
          1.2737963284307825,
          -0.10554376831606167,
          1.7906752714335628,
          0.27264060050672784,
          0.5768225081297439,
          0.1165203204354917,
          0.7623154688112875,
          0.7882182994347549,
          -1.106465214959533,
          -0.30289146000066397,
          0.163684743069219,
          -0.7807138441081858,
          0.1975773188654068,
          -0.3801673394172174,
          -0.7055557914964593,
          0.7741214333876861,
          0.21662830278268477,
          0.27634532117686494,
          0.6171305382440814,
          -0.04678235302683413,
          0.5033542326867484,
          -0.2593966841072175,
          0.18140749835971187,
          1.6323573066688446,
          -0.33140018297002305,
          -0.23391646562981688,
          1.3676212639556011,
          -1.3169432496067337,
          1.9776847039034597,
          -0.49949223758273487,
          -1.1212202091387242,
          0.9655364753704035,
          -0.05323052008952479,
          -2.736620407323672,
          0.44178327287750707,
          1.650109926081626,
          0.4153070757453906,
          0.5565245312590235,
          -1.1283840800046883,
          -0.6381275716842225,
          0.8794729350488892,
          0.8882106465790195,
          -0.07430514086217131,
          -0.2647473656355644,
          0.31727723405723474,
          0.6666502346347226,
          -1.008713705835833,
          -0.8519878400127232,
          0.0499362022261604,
          0.12461197901651776,
          0.8243651205461732,
          0.3951569477516467,
          0.20160472332161924,
          -0.4855635591688543,
          -0.4246025540721636,
          -0.7411193264152168,
          -0.09805243819285578,
          0.10013289210914503,
          -0.6373727941366558,
          1.1942613336072965,
          0.5687330478394382,
          -0.4780092981310268,
          -0.9124655223782461,
          -1.8754198685986,
          -0.5617635860142459,
          -1.161211473794668,
          0.9389669587754894,
          -0.8758801791475308,
          0.015197335334095199,
          0.3771630461778983,
          -0.5752783261274815,
          -0.7333066373665953,
          0.36147856038530785,
          0.7064803873317467,
          -0.5206992500082276,
          -0.1645934909538898,
          1.8083300426697262,
          1.4999803679723678,
          -0.6076137460860777,
          0.45774805339363256,
          0.5926741219373508,
          0.04989531637333502,
          -0.7777466950779057,
          -1.82513669316961,
          -0.30879142713149,
          0.2890505979169689,
          -0.5318459284246024,
          0.7505131303969821,
          -0.8024281847691191,
          0.5188035485522458,
          -0.8860214200543224,
          0.21994033288263126,
          0.7417572700726129,
          -1.4193917532295162,
          1.3155736042794912,
          -1.2615820621084652,
          -0.3497102751507965,
          0.2389638527054295,
          -1.0366551397588841,
          0.6561025488117269,
          2.425317880009083,
          -0.07154260146749687,
          0.7996873513891263,
          -0.4780581672324148,
          -0.3797132939408402,
          -0.4530383782287245,
          0.5666873683862793,
          0.027035618488941714,
          -0.7242400166117107,
          -1.1537532831074289,
          -2.1934037540955402,
          1.0943051956845964,
          -0.08351507336046206,
          -0.41526093522787677,
          -0.4272461722059642,
          0.6296899520381766,
          0.540097414486598,
          -1.021886429306092,
          1.5279243303060952,
          1.3392343492457854,
          -0.17320946753143526,
          1.003173036613549,
          -0.3090338354539524,
          -1.9419087162711997,
          -0.10128681501816415,
          0.6186114605875895,
          1.2559762231063767,
          1.0092104697139386,
          0.06055553373502893,
          0.5693184620447338,
          0.6046694572851015,
          -0.6684717065924045,
          1.4233300377631792,
          -0.19666015186788433,
          0.18711484246040977,
          -0.7324717709076111,
          1.653863229356181,
          0.6596616281283914,
          2.3724871929131295,
          -0.4510892279931928,
          0.48409680763618634,
          -1.3311496257007744,
          1.2921673906659177,
          -0.5667476785870708,
          0.48685394840587215,
          0.0076816730751226485,
          1.142534109128849,
          0.9087300799826858,
          -0.19880833405489012,
          -0.7150438280919731,
          0.5076123826130927,
          0.6941424304148889,
          0.8797427316090729,
          -0.6291506520556469,
          0.20335034155134987,
          -1.7352887703017268,
          1.1712820694990962,
          -1.7686633876881577,
          0.6223396676009575,
          0.46512885937622345,
          1.6879250702679165,
          0.4303253072142224,
          -1.6144809631523196,
          -0.5406306272838356,
          0.03921939017545267,
          -0.6231451542982434,
          -0.9177576458013124,
          -0.6182010739952635,
          -0.0663679032919053,
          -1.1125017063608322,
          -0.9593546131731476,
          -0.09290822100846133,
          0.3240975476441513,
          0.8411515231068016,
          -0.6721900059274769,
          -1.1637484662694721,
          -0.06224411183149558,
          -0.7985321033750173,
          0.6101468542988028,
          -0.4857054067253779,
          -0.38349412242818515,
          -0.650463321641253,
          -1.4920601025656222,
          1.0432210004362124,
          -1.1078433610107075,
          1.1031805413143472,
          -0.0720209422385812,
          -0.6675390971554305,
          -1.445952814346146,
          0.8726307008351787,
          0.016838377640785884,
          0.29705271536042344,
          0.2447610980206667,
          -1.3992038454730664,
          -0.8926919724169559,
          0.813737547971762,
          1.6883745916691946,
          -1.2571568681543634,
          0.03671762268182246,
          0.05841127107522684,
          0.36680281574756496,
          1.1253177719018173,
          0.30825166498532325,
          -0.6535628807215174,
          0.8118517052863042,
          0.06028665126041884,
          -1.2930416119368637,
          -1.2258187042711257,
          -1.1577262790326222,
          -0.8254646771882811,
          -0.3020979232955071,
          -0.7184671454056301,
          0.403330500084435,
          -1.0010344407300915,
          0.07845088042314924,
          -0.07399161048452825,
          -1.256135197169535,
          -0.4783252971380331,
          -0.2125393817833896,
          -0.8425798019150639,
          1.3020125700763243,
          -0.07776835067159145,
          0.27602975380637323,
          -1.648065409888974,
          -0.53592008754995,
          2.0841062342782943,
          1.605188104456061,
          -0.3273212386421819,
          0.05598411793674916,
          -0.20033208243134581,
          -0.13403046068771202,
          0.8261983518696379,
          -0.3563840113347411,
          0.904412671526077,
          -0.3001353340233346,
          -0.27071654561188685,
          -0.9577540225574851,
          -0.7953246718586225,
          -0.22938890242506188,
          -0.001358483503068319,
          0.9848543909455649,
          0.570051157592364,
          0.6243240461826833,
          1.0713880588690317,
          -0.06033745349606635,
          0.7619793708716687,
          1.5290997368452874,
          1.8521137660762985,
          0.1582169246736874,
          0.5829525923026336,
          0.1555859085970491,
          -0.369953331294912,
          0.1654948480580207,
          0.798605307642438,
          1.0770338979178338,
          -0.8357876964869747,
          -1.0359944570552002,
          1.164777639092528,
          0.33141445787673424,
          1.0985199006520039,
          -1.0277445766427504,
          -0.29587435746214885,
          -0.16839358706441218,
          1.1080870999293133,
          -0.011929103206299429,
          -0.25166313551895064,
          1.5267616588384638,
          -0.6532311492535046,
          0.8575086936039383,
          0.4042670599708394,
          -0.056591193117109286,
          0.15588558943326727,
          -0.294289598336257,
          0.7509055819899709,
          1.7779704642658065,
          0.67513444542959,
          0.49103795596913,
          1.571777832739829,
          -0.5267816835107868,
          -0.6013577180116284,
          -0.7273859510649329,
          0.8312330413350001,
          -0.18248353269237122,
          -0.39163050244291664,
          -0.6890642225847022,
          -0.46749975554873135,
          0.07512583793327426,
          -0.05042939829041792,
          0.6414932813729759,
          0.8668888288931468,
          1.7272222570616709,
          -0.19856248740500362,
          -0.5632060776229861,
          -0.30899968026251073,
          0.9029395601114132,
          -0.783445532891624,
          -1.3058292375264955,
          -0.6942425606089814,
          -0.7425307751988784,
          1.1644421083589518,
          -1.1574851456839899,
          -0.5431588076006786,
          2.592774711631148,
          -0.2201635177734268,
          0.27050579497099947,
          -1.3924787761441506,
          -0.10148944144902143,
          -0.1424446628031529,
          0.3159251147008662,
          0.44786623209043047,
          -1.0739823113852711,
          -1.393104585600274,
          -0.8552546225446618,
          0.6418953254800542,
          1.2768218773059312,
          -1.0945259137273486,
          -0.18433207209797278,
          1.058922073582595,
          -0.3187637788725864,
          -0.7377182181928101,
          0.2958406122860769,
          0.75081301144595,
          0.7987241470047366,
          0.08945314094575811,
          0.6357529049602588,
          0.6269982861603071,
          -0.14423953702736628,
          2.964225475372427,
          -0.8069074567025979,
          1.4592308115229198,
          -0.34530251513416294,
          -0.8383793261596899,
          0.5867823701984384,
          -0.8447532162929366,
          0.0917683840993265,
          -1.2485281528163958,
          0.09346141708734042,
          -0.44125855158149807,
          -0.2212204483564036,
          -0.35065568662976626,
          0.0007470775868581524,
          0.04340769748970289,
          -0.29667899648176693,
          -1.692708792305199,
          1.4354902450710953,
          -0.6493856214870773,
          -0.08599006297193612,
          0.0676717887475617,
          0.05333673736065794,
          -1.8422831472271792,
          0.02911608066765954,
          -1.0794253888757648,
          0.5148723927603068,
          1.640515315335578,
          -0.3415749716293763,
          0.8231023491158692,
          1.493966805595762,
          -0.29380218035732253,
          0.0012973364070417517,
          -0.7269283835086937,
          -0.7473618055010358,
          -0.3641518862944902,
          -1.3851700146036545,
          -1.0436467306820623,
          1.1452296503812822,
          -0.7956367335272068,
          0.18818411888912442,
          0.7295013029552007,
          0.7075436969845531,
          -1.506675635561223,
          1.3296861835410754,
          0.8037236862584387,
          -0.15483404496207673,
          -0.37688648802175106,
          -0.0893631635005528,
          -1.726445997649762,
          0.5658445773339826,
          0.27061721526249793,
          -1.1633351201399458,
          -1.445887509347687,
          0.6626507988427469,
          -0.6942422181854078,
          0.34717250215910456,
          -2.020878623188553,
          0.8976860947704064,
          0.9664748927898328,
          0.661980972530657,
          -1.1448891290449388,
          0.21947322068978875,
          -1.5360247363104695,
          -0.08808047825588959,
          -1.5618813265548626,
          -1.067640801313717,
          0.40447829065312507,
          -0.5773022416929507,
          -1.414906065629015,
          2.137963379578184,
          -0.662253886061952,
          0.5821014407421737,
          -1.0787350150079833,
          0.9108268359970109,
          -1.8384373878900993,
          -1.4957719793889337,
          0.6693863311107345,
          -1.5964747271274415,
          -0.22472896140380222,
          -0.13615415200696981,
          1.2647809637636824,
          0.14158534005777784,
          -1.0136214700128132,
          -0.472723550572239,
          -0.18584379216161587,
          -0.12505548322546609,
          -0.8087754441421612,
          -0.07377645844832632,
          -2.9925217509923026,
          -0.543799784716643,
          0.25096799444521206,
          0.7942610185839578,
          -2.141309151576011,
          0.05763577237989899,
          0.4853434898768164,
          1.799171586925284,
          -0.0014773250205623281,
          1.4655730365907913,
          0.14901599353092854,
          -1.6592108729973503,
          0.5981454740142631,
          -1.1641729516794992,
          -1.313416457677928,
          -0.7170866645617505,
          1.245053267045489,
          -1.339211099307672,
          0.2626257203614569,
          -0.5805972390815918,
          -0.6832770492171473,
          -0.46222258217782347,
          0.2851260491439169,
          -0.6128821455465993,
          1.3301449045108775,
          0.6661988369709437,
          -1.113911764546147,
          -0.33913295683448225,
          1.3597499366712198,
          1.9813454262641823,
          -0.5757750982645312,
          0.48112772303621537,
          -0.4988346407444025,
          -1.248507156221654,
          -0.4918171244738918,
          0.9009939627042345,
          1.545776848741756,
          -0.7135235536721949,
          -0.808365813237641,
          0.30076440675393157,
          0.831326837669148,
          0.08887211760331419,
          0.322498698313574,
          2.4631293233397336,
          0.8609292649576673,
          0.4950408927355608,
          1.6093494230813628,
          -0.17034139108596943,
          -0.855479865099203,
          -0.19657030610815965,
          -0.036104812395649395,
          0.4241658297378606,
          0.31376725058880384,
          0.5142848706430239,
          2.0707658609930255,
          -0.10700593277107903,
          0.7859474885537889,
          0.19461512026643904,
          -0.48074087710649016,
          -1.401190517440701,
          1.2640665268132392,
          0.010511554201732474,
          2.61256203213255,
          -0.06649826235635294,
          -0.21953778867508342,
          -0.5598410278790363,
          -1.0391498754623174,
          -1.5296063791106305,
          0.5005392838990163,
          -0.8680506575827143,
          -0.10452275420111237,
          0.9519639326858127,
          -0.6572650641919763,
          1.1342281872164877,
          -1.2679617778191716,
          0.03963334576221716,
          2.326254098270857,
          0.8011608508238872,
          -0.14807560365471242,
          0.31996456108635163,
          -0.014124743767362958,
          1.1571029331771747,
          -0.12578516227772854,
          0.17504860937496097,
          0.2144900210091769,
          1.5752323294114774,
          1.8246989079354672,
          0.1309611137956106,
          -0.6757843017454854,
          -0.2117530490652891,
          0.949184218589263,
          1.4677497473794616,
          1.0945746447762041,
          0.43415230544051747,
          -1.7870657536781436,
          -0.4501877565322022,
          -0.9535620345795551,
          0.7535589031415431,
          0.2562937609570394,
          2.011326953368684,
          -0.6597708540760969,
          -0.9547846998440388,
          0.17481546886463473,
          1.3641948271545958,
          1.378453838819299,
          -1.9715550023463573,
          -0.3578052471892819,
          -2.3035229263485446,
          -0.8255017009199421,
          -1.315916170946626,
          1.2056926659038467,
          -0.8422017077324722,
          0.07311310402546559,
          -1.016202317439971,
          1.8726079348883873,
          -0.8607599232537259,
          -0.17796446324752382,
          -1.6934344676539466,
          1.289087609096196,
          1.747289650612585,
          2.7639560107311647,
          -1.6512829017973065,
          1.6205101748963777,
          0.8194243632693784,
          -0.5814903123208954,
          -0.6990464497679778,
          -0.15878062270888693,
          -0.19256902923259114,
          1.9646014964018617,
          -1.9221153666097053,
          -0.11104217518668368,
          0.9991625294526492,
          1.2966853235769582,
          -0.7688695660120158,
          -0.9667351708231018,
          2.0004105211515295,
          -0.37163887480846647,
          -0.05261859998687409,
          0.023841157768726834,
          0.4287717074259177,
          -0.5241122435996922,
          0.8601258113876703,
          1.6857647216964577,
          -1.4616092230940638,
          0.4444576430954128,
          -0.8688984819260501,
          0.43293005921522765,
          -1.250773513716424,
          -0.1584708957786072,
          -0.531450250909861,
          0.4346688727190713,
          0.3058371341474531,
          -0.13375628486148408,
          -0.29637287906696314,
          0.9641246265196018,
          -0.4076640352155521,
          -0.7894254687503622,
          -0.6473271969115607,
          -0.0005728795310815858,
          -0.3748105436975825,
          -1.6128516213430817,
          0.4883934800366658,
          -0.6978833604698951,
          -0.057452896732476354,
          1.8082206978650448,
          -0.9638675140509728,
          1.0790493562009023,
          -1.3209548704428542,
          1.1534610594355037,
          1.5145523313729392,
          1.1593345295936341,
          -1.658455465429712,
          2.2165964774770384,
          0.9391490148944827,
          0.3665521137303055,
          -0.39747997695919496,
          0.8407984799098788,
          -1.2857172471464022,
          -1.0714117391368547,
          0.9887724538544179,
          -0.40289813359061344,
          -2.545862286086248,
          -0.3755783556289682,
          0.5805162637715404,
          -0.31489603887001816,
          -1.3106748386168356,
          0.06506050600984645,
          0.9086322548796404,
          0.8572119286148585,
          0.07498346928893214,
          -1.2347537229117616,
          -1.8663935348730774,
          -1.5442516992183144,
          -0.1993772483167179,
          -0.5111445822453946,
          1.2244393788766166,
          -0.9628413567167847,
          -1.3076223187183327,
          1.8870908404209663,
          0.09578942363081318,
          -0.6495976250584372,
          0.42545209409073104,
          0.5850611171092331,
          -0.3302328936546411,
          -1.986257089066722,
          -1.3561677810347934,
          -2.0651480173086596,
          1.8172843787150956,
          -0.06658091272881916,
          -0.2013238420836077,
          -0.3801896804778596,
          -1.1187282116603194,
          -1.0424836256824743,
          -0.9541548476470518,
          -0.767740128074741,
          0.3339312410599053,
          -0.6755625753253186,
          0.9369654189330122,
          -0.21599025444743436,
          -1.4501177081567111,
          0.1595680622392685,
          -0.2100652795261813,
          1.0304433299345102,
          0.42526937387674374,
          2.2071542991479847,
          0.9650205134006667,
          -1.1738370173776078,
          -0.664315020941951,
          -2.1207024512939276,
          2.102172054408683,
          1.9351662165068402,
          0.5469853959212132,
          1.76161058622051,
          0.3031461861421765,
          -0.26517787853926755,
          -0.060945378070659965,
          0.13219498902876592,
          -1.0175696618131418,
          0.8211868337555057,
          -0.2754121595029774,
          0.837713208836695,
          0.47747232382590726,
          -0.025154770629646026,
          0.7404571214314025,
          0.7288078007555462,
          -0.12790906237292135,
          -0.18343429006545095,
          -0.7274770610267501,
          -0.3012285057357105,
          1.1113118565399238,
          0.1691767857151511,
          0.6839762061848613,
          1.3168230966905559,
          0.19881549293719974,
          0.6864300225188392,
          -1.6941335187679887,
          0.287769565779034,
          0.46422068315517884,
          -0.6280434222955306,
          0.3804994038181858,
          -1.1287325524920109,
          -0.33300206014462364,
          0.08877333854401351,
          0.26854919946526634,
          -0.6550617733560679,
          1.4256803629215178,
          -0.7968953764239889,
          -0.7293766584677153,
          -1.1450009377993602,
          -1.1307374531420915,
          -0.15686244569731828,
          -1.3337696262679954,
          -0.45884546631074674,
          0.49700515766103637,
          -1.3122192744566952,
          0.7733626970199162,
          -0.9578895362314711,
          -2.066277745395777,
          -0.2851525189426774,
          2.3245064861560603,
          0.6768300176644921,
          1.5797029331324832,
          -0.578196409420862,
          -1.8604583405496469,
          -0.8064264469979253,
          0.48576772062700274,
          -0.5637542879368195,
          -1.1375730578534342,
          -1.8312334787004005,
          0.1752917561000956,
          -0.686485477607451,
          1.9782628488636385,
          -0.8883147481633199,
          -2.192261620372481,
          0.5461686003878126,
          0.1061385979653285,
          2.0445600439238723,
          -0.3655443985289486,
          0.8323857526828216,
          0.26005116402151124,
          0.485735477699686,
          1.3047464819865635,
          0.17758414143111886,
          0.43975306291143995,
          1.0782920886840477,
          -0.425361116934097,
          -0.839646207035077,
          -0.7231629831804107,
          1.6208741401167392,
          -0.4320179789994998,
          -0.2976914679647249,
          2.087523018870449,
          -0.08019517972061695,
          -1.8130091294930093,
          0.03434299047865633,
          1.5215469200623328,
          0.12789770929867278,
          0.5430662492609012,
          0.9112465656581393,
          0.6740287114979534,
          -1.8646127163401547,
          -0.6655326852898295,
          0.7346883744060526,
          0.1432015897444746,
          0.30063069220110444,
          -0.5290872736701677,
          -3.2933411916045494,
          -0.3758396524498813,
          1.4644287451987328,
          0.7218473582705479,
          1.373189633261211,
          0.628684654798293,
          -1.9922464066344097,
          1.1078556028466684,
          0.038700487704821825,
          1.6933605907386984,
          -1.0690987277208026,
          -0.31733869296019884,
          0.8457322393919079,
          0.06522179459209035,
          -0.7609100043454021,
          -0.0652464515175564,
          -0.344622439220483,
          -0.42228470909689964,
          -0.5090064024019236,
          -0.6769564897434693,
          0.16019583388782457,
          -1.1994634875320833
         ]
        },
        {
         "marker": {
          "color": "white",
          "opacity": 0.3,
          "size": 3
         },
         "mode": "markers",
         "type": "scatter",
         "x": [
          0.11796596163915125,
          -0.03729438084484837,
          1.9697688332881218,
          0.9623629973316924,
          2.1622729420271654,
          -0.1945456787096435,
          -0.5145236226249987,
          -0.28955244329960733,
          -1.3961549783474574,
          1.483226780056886,
          1.8963048310972066,
          -0.954479001325951,
          -0.8330829625105858,
          1.1730856289861218,
          0.31951125945728137,
          -0.3005338057358785,
          -0.038517960061301565,
          -0.3915138376954742,
          0.6225528285053035,
          0.6708921909490111,
          -1.5885715252989558,
          -0.033018800922139484,
          -1.683641111505458,
          -0.6105228403722006,
          -0.8256650241432993,
          0.1733962965981961,
          1.237574261847339,
          -0.6171075723401452,
          -0.35758829150824684,
          -1.423078192527623,
          0.3549395461348626,
          -1.2499834502546,
          0.49944059008306735,
          0.03718538187387632,
          -1.2260999943717266,
          -1.0524393049832776,
          -0.4324445633117029,
          0.624399989811651,
          1.4826566875139944,
          -0.6201860681137117,
          -1.4781284549347025,
          -1.9578852737451236,
          -2.873226889835741,
          -0.49922518971981067,
          0.3009624062989251,
          0.06728170624193754,
          -1.134746533798179,
          -0.634629694543389,
          -0.3736902390841027,
          -1.1862120417639819,
          0.13261538805217046,
          -0.055749113738214374,
          -0.2992382991017917,
          -0.24780091061556359,
          1.1180372843231414,
          -0.388456224335799,
          -1.28437320097059,
          -0.1190078181025989,
          1.7916328177498517,
          -1.3463553046280543,
          0.40901192517353613,
          -1.7767305141623884,
          -0.04420875593329815,
          0.7103803345319581,
          0.033612618869735524,
          -0.10870315392545266,
          0.7486093144445012,
          -0.24746265984222296,
          0.8610652709240308,
          -0.4914810857049297,
          1.0980105753933722,
          -0.0916700890065396,
          1.4839149062470345,
          -2.2119913486424587,
          -0.2026025013186104,
          0.476564696431019,
          0.4749225508234633,
          -0.23413052075846155,
          -0.7971196807823614,
          1.005272501268198,
          1.6034082760264536,
          0.30689834829742063,
          1.8272125776297277,
          -1.6976945286249951,
          -1.6593018883907824,
          0.10390563803471053,
          1.0056143684088574,
          -0.20674956669103975,
          0.6565793742729574,
          0.18068217464082054,
          -0.5330782453177664,
          0.9382545181913893,
          1.7548151535639436,
          -0.0897422005014646,
          1.0590167801700514,
          -0.5977745352085087,
          0.7403926152205428,
          -1.0497646841531532,
          0.5645029605309861,
          -0.2534731859477061,
          0.660503149539406,
          0.03319964470732169,
          1.30041759508781,
          1.771060424774995,
          -0.07937485773652668,
          0.3466123173095934,
          0.28645487164911193,
          -0.21833876803341198,
          1.573346120316863,
          0.6691388519539768,
          -1.204172927766231,
          -1.3392141580072419,
          -0.04277253494160739,
          0.06697403416807346,
          -0.25056386878071735,
          -1.4730944322756323,
          1.384812416137885,
          1.4668445063863613,
          0.2952998656963753,
          -2.4541252267017035,
          -1.07765723322938,
          -1.0897867709575482,
          0.6202883607314598,
          -0.4698909680425767,
          2.1381098031821715,
          -0.35367289219929726,
          -0.25881758763049123,
          -0.2615478750397305,
          0.18458366863074202,
          -0.8070248910259574,
          -0.4378142917990882,
          -0.49915215791240575,
          1.2723389904670133,
          -0.7314867128623646,
          0.5986091164576747,
          -0.3841931855355711,
          0.18371217443910084,
          -1.9997320058795165,
          -2.3195682613678517,
          1.429009332735875,
          -2.3325517850970563,
          0.22885890951931992,
          -2.727638252206333,
          0.5000753933586127,
          0.7983785104709388,
          1.0170804143537742,
          1.070233379337703,
          -0.7738048879633764,
          -2.4974488982560232,
          -0.41728182151901727,
          -1.9244959279194214,
          -0.11984554379428877,
          -1.1856904036402802,
          0.6074094410828753,
          0.6379075026957562,
          -0.9960870664981847,
          -0.6387981639369107,
          0.9928189855889122,
          -0.9591177748867997,
          -1.1520890115935094,
          -0.6307970353615137,
          1.5477055821923456,
          0.5746367898878444,
          -0.6971490333284438,
          -0.88456638599202,
          -0.49059306184646584,
          -0.5183324385239051,
          0.635043934479165,
          0.39606375636641267,
          -0.6287291275791058,
          0.07674792179938923,
          -0.5791624829750406,
          0.505009039536752,
          -0.7159244652308646,
          0.8613309923449269,
          0.5264339999362335,
          0.9094640165744676,
          -0.46568274672699894,
          2.2880131692453767,
          1.224039956723661,
          0.6090113947110424,
          -0.5866293186851478,
          -0.5442984603057824,
          1.1115201455175554,
          0.2640541439268569,
          0.08614010451418733,
          -0.4544541820370414,
          0.5236868469406594,
          1.1719124632106277,
          -0.04011860835827215,
          0.11067814640899298,
          -0.10710751777530964,
          -1.3241960222650102,
          0.03555302506798918,
          0.5010508615583861,
          0.8280962416566883,
          0.4652005874496748,
          -1.5147556299756917,
          0.16507224143694474,
          0.26197933534182566,
          0.3499053528984825,
          0.60125211991606,
          0.04181463753968667,
          -0.2482044150280674,
          -0.860572799395675,
          -2.2316614290376617,
          -2.4797400187509187,
          1.2346908603789617,
          -0.3424781961056568,
          0.4478775890393968,
          -1.2506558952681666,
          0.38109475367487283,
          0.5397532706162268,
          -0.5471837369583031,
          -0.3963991608994301,
          0.948462207590686,
          0.43046356865414637,
          0.30448590805359865,
          -0.7839150011172479,
          -1.9651697408536293,
          0.06728779501168672,
          0.46629892930288963,
          -0.8666122629781758,
          -1.0490457986916255,
          0.36939444185923503,
          1.574172456534364,
          -1.4852124798244384,
          -1.7966795057944254,
          -0.5230558975813887,
          0.5362880815257659,
          0.7216767122296367,
          0.9580723418409092,
          -2.7529516226382937,
          -0.44275158006706883,
          0.15955019784393626,
          -0.30186308243615817,
          2.1635380393742376,
          1.8159763798235709,
          -1.1956120547107212,
          0.4513856293203744,
          0.6307800588604286,
          0.18656131258084285,
          -0.5185445339942616,
          1.8130964752221053,
          0.27721871317743185,
          1.0234066355248232,
          0.9838160040136071,
          0.43784662666587887,
          -0.9880695890504146,
          -2.594512945281614,
          0.05482044169201528,
          -0.07021572710370651,
          0.10028050950255832,
          -0.44011868333756066,
          0.6094707826472235,
          0.7074097687085761,
          0.08368519383206417,
          0.6972060725892858,
          -0.9299110599856648,
          -0.7474365144977735,
          1.2765440534192787,
          -0.8476205502534141,
          0.2466243318126696,
          0.4440411572873939,
          0.07218900249245101,
          -0.8195140801742626,
          0.7409731116889001,
          0.9939866748198677,
          0.7599993670270768,
          1.1994069876529463,
          0.5783753246366785,
          -0.8189413410119054,
          0.42411976722008093,
          -1.9133750331923223,
          -0.304463810760194,
          0.20199835758190074,
          -0.10295995583159698,
          -0.32367970905420007,
          -1.2728556745740938,
          0.4711662279352239,
          0.9118204520447151,
          1.2880433700680431,
          -0.9588100144435239,
          -1.0592797600272639,
          0.5854989916657407,
          -1.1471394662067431,
          2.1959424785778405,
          -0.8680282986230282,
          -0.5121623949639588,
          1.2190931119049584,
          0.2683956355129712,
          0.6711914570891476,
          -0.3283377734835319,
          0.19924720212739372,
          0.2510291138862483,
          2.022166017225702,
          0.3987699369906165,
          0.9855726607605333,
          0.7260059651823688,
          -0.8426480637411462,
          2.4235964984405127,
          3.1331852472332136,
          -0.005998021891247817,
          -0.6486357162674834,
          -0.4409835007147678,
          0.5047867966949384,
          0.11633209188600384,
          -0.20358002797825814,
          0.5564052120060161,
          1.0774623467728126,
          -0.2524597093105383,
          -0.9660273920899044,
          -0.662323156532729,
          1.4904637829777017,
          -0.9716904803675429,
          0.6582194785720555,
          0.025338810200488848,
          -0.02771146721177639,
          -0.7795066245356376,
          0.28244866325771883,
          0.8879776658817841,
          0.6327249300755324,
          0.023063403451523322,
          -0.22610819088026982,
          -0.5961446099322895,
          -0.5892975274548051,
          -1.2406802250282671,
          0.6236227914913065,
          -1.007334837247481,
          1.7158271084093633,
          0.6339686703015072,
          -1.7639839938269495,
          0.07189219237672145,
          0.9676880682133698,
          0.6060320140221379,
          0.19772713742674117,
          -0.0890251786899509,
          -0.8172645182972393,
          -0.9817767082778768,
          -0.803929311550076,
          0.2230476688859419,
          1.2771627288272869,
          0.19429043752967803,
          -1.671496104160501,
          -1.0100092970414425,
          1.6490192448246288,
          -1.2443076966941378,
          -1.7697842565417294,
          0.34964564948274396,
          -0.9206328855829412,
          -0.7827018741614096,
          0.10030944209688362,
          0.6321379819254604,
          0.4885581117949597,
          -0.9484048738499484,
          -0.7830640123367514,
          0.9990228046702253,
          0.23941383284305917,
          0.5483772251313745,
          1.1612396181398854,
          -1.5803466073464403,
          -0.6893170950720229,
          -1.7322356726755699,
          0.5745289343153615,
          0.4342495296810862,
          0.6778190646667633,
          0.9240098013890854,
          2.8849522912316523,
          -0.01075479429738632,
          0.3045058078749057,
          -0.985422115825181,
          -0.7407625964618785,
          -0.608017755238357,
          -0.29728901615695635,
          -0.10789042785481183,
          -0.6576412797516568,
          0.7847128134366173,
          -0.6238729050165639,
          -2.4184792116742395,
          1.1343810133846937,
          -1.8294760647484383,
          -0.5234023334758504,
          0.7771449272471118,
          0.1892966612668378,
          -0.299792334598,
          -0.982457337126069,
          0.3677074823618547,
          1.265188648640417,
          -1.524989332561466,
          -1.5427007967185988,
          -0.9358470157116168,
          1.8062290283608775,
          -2.227093586320812,
          0.14085700272821222,
          0.058374012983151494,
          0.3687932340036706,
          -0.9566080389394341,
          1.4028745873662591,
          1.5325092539077814,
          -0.09347264136708267,
          0.31579580922418216,
          0.48209202948739666,
          -0.6607563004441208,
          0.02374604758941871,
          0.5747530181916314,
          0.6899102802728252,
          1.0441010052200717,
          0.6841022966321003,
          -1.1704319399151772,
          1.8759547252445017,
          1.7158443871096356,
          -0.7098303052944355,
          0.2010143207003511,
          1.1618185870596212,
          0.8552467795373115,
          -1.188869757338816,
          -1.2063469430764429,
          -0.6338875978211675,
          -0.45838684908462274,
          -1.986550088183256,
          -0.9974644928644338,
          0.7877744730079785,
          1.9100536437297606,
          -0.09343080473642619,
          -1.3105036487205157,
          -1.5942553380099767,
          -0.6711780634789585,
          1.3617283426765778,
          -1.9226573336137724,
          0.787544909150986,
          0.8753295516488091,
          0.9533674284675027,
          0.8624292858620135,
          -0.7988020956493349,
          0.19359341846598288,
          1.2227412719563981,
          -0.337506937925842,
          1.1176714449433662,
          0.4564323685298452,
          -0.8282647999862267,
          0.8750936840674104,
          -1.6382158366378243,
          -0.5909111927784267,
          -0.036766066483045035,
          0.41895263599614074,
          -1.26124871738888,
          1.6693887671552996,
          -0.04922323508367407,
          0.43664206762924984,
          -1.6551959561486336,
          -1.6675084357258607,
          0.13487146537849973,
          -0.984793295731513,
          -0.670047277567013,
          -1.261882828943181,
          -2.8474412900699013,
          -2.1176411974708294,
          0.047899637602367304,
          -0.08762245130163257,
          0.08350697719265084,
          -1.5965732923633171,
          2.0652404829023863,
          -0.8589959346611756,
          0.6024254172476048,
          -0.8367003462343475,
          1.2233556901688263,
          0.10574213464529951,
          1.6560738756429911,
          0.8491347806763693,
          -0.5875901065021647,
          1.1949075723580487,
          -1.1682844948117574,
          -0.08158587596483063,
          0.8706188285059071,
          1.1994906248398014,
          0.7189642111623906,
          -1.217470169084428,
          1.0780607326703484,
          -0.1524449357856124,
          -1.417986091291347,
          -1.6821890991046324,
          1.2191699196471053,
          0.800550148173396,
          1.1087723093965454,
          1.9812041052425877,
          0.9314015109325215,
          -1.240209673037645,
          -1.521744800449234,
          3.131143623395054,
          0.10568957503062985,
          1.0564740665017376,
          1.1743306015662556,
          -1.038678273928269,
          -0.9332470610073382,
          -0.8571987246695247,
          -0.6010056360698144,
          1.6869917385098487,
          -0.570251335911403,
          0.35877006007412965,
          -0.5581603744517878,
          -0.3799452718332368,
          -0.2518305970057005,
          -0.05992222098678368,
          -0.9120440198241969,
          -0.43722798609840535,
          0.8597262378169483,
          -3.484932165720314,
          -0.4058170539254558,
          0.2775945472976472,
          0.6543351587422473,
          -1.7613812427470614,
          0.38064512766279185,
          0.12382504367673924,
          -0.24557227291745118,
          -0.06079605546370114,
          -0.822494984768575,
          0.6572589591775386,
          0.47818435714429136,
          0.08337736223778508,
          -0.2895578954990764,
          -0.519505442278625,
          0.6465377308412051,
          1.6916951827464348,
          0.2533512248111022,
          -1.7630275536841777,
          0.5926794922727642,
          -0.6213270580570298,
          1.1715261828071066,
          -2.0656619213253244,
          -1.059999492717805,
          0.48817717455727383,
          -0.9038090183033697,
          1.50492869661926,
          -1.4363048222097656,
          1.1906870093727613,
          -1.120762545772503,
          -0.5702040567575558,
          -2.059488704726739,
          0.20915386719661144,
          -0.14629065601178723,
          0.24590938166479578,
          -1.2300909004563625,
          -0.5759011299913435,
          -0.3501466648953667,
          0.5551667085987905,
          0.8575619930860495,
          -1.0751767300017445,
          0.8234614142682128,
          -0.3737684870542691,
          -0.9610771933934952,
          -1.1531808092116502,
          -0.16511623231194184,
          1.470392486294089,
          -0.8805964562918203,
          -0.9195110228605878,
          -1.1667205635370437,
          -1.9731595344721413,
          2.4272401626454374,
          0.7255180513967245,
          0.23625357298740365,
          0.21601224932278865,
          1.3216001392329757,
          -0.019626845486522146,
          -1.1967297475934873,
          0.6452099675981118,
          -1.1705336962668236,
          -0.9601941532049356,
          0.7391306642352802,
          0.7829602446023606,
          -0.7558464902674397,
          0.11225549995768369,
          -1.5286566231134433,
          -0.503448299755166,
          0.7296271550000335,
          0.28178352893696235,
          1.3115288665095197,
          -0.05849616297269592,
          0.7089509240006954,
          -0.5375040584559903,
          -1.4599860853176605,
          0.4508389444245924,
          0.06090606160544984,
          -0.15859231503842383,
          2.0072301665730965,
          0.6355852413106395,
          0.26419554378344495,
          1.9728426608582506,
          -1.0442594190952306,
          -1.0798007324220391,
          -0.3008690176862406,
          -0.17522878382962606,
          0.7927963463619068,
          0.6902727229389269,
          -0.9653769282917166,
          -1.1074727477938122,
          1.9307734221932893,
          1.7069406040250725,
          -1.0803918069614578,
          0.6937914796340858,
          0.049785351349110024,
          -0.47370139894063185,
          -1.5218979331145674,
          -1.1599928382717695,
          0.5747972867724868,
          0.8896224553727458,
          -1.357666020284893,
          0.5278483704728721,
          -0.33492797542066566,
          -0.866768366872458,
          -1.7711936853359624,
          -0.6404539238971912,
          -0.4291752822143739,
          -0.5979917196434059,
          -0.44507789308349344,
          0.4658445193526784,
          1.1545941795787293,
          0.846810599457497,
          -0.9245301561901129,
          1.9249548937917107,
          0.08198505348170777,
          0.2506574732099643,
          -1.0791334761051643,
          -0.029855778116025383,
          1.3504377720206646,
          -0.9719990540649047,
          -1.2504551002724391,
          0.6862535878431951,
          -0.2604062137597725,
          0.9163315098616973,
          -0.04971848854776287,
          -1.947745268605493,
          -0.6058200430800215,
          0.338758984707268,
          -0.2134950612648702,
          -0.2631925468601323,
          -2.169201253831055,
          0.8874785719947489,
          -0.09071196437762236,
          1.0017425130083526,
          0.7168345627131678,
          -0.18027762632171596,
          1.2377116742788001,
          -0.8755914586951806,
          0.35250481599574707,
          -1.0332036014461727,
          0.6114093264314197,
          0.5136562235708887,
          -1.0207262797566912,
          -0.30865616839990734,
          2.020958707164268,
          0.12161877969254362,
          -0.7177331866111555,
          -0.07497336041682835,
          -2.4315046254295765,
          0.7966657130497843,
          1.0115867178976214,
          0.28200937337587134,
          -0.8690374311448751,
          0.006051391588444457,
          -0.08948901194603187,
          1.098343903186597,
          -0.1252971631140798,
          0.2653294761376855,
          2.0303644264304808,
          -0.32938165874296177,
          0.7598332413786845,
          0.8300318290454405,
          -0.2409874306141017,
          0.07546526265501217,
          2.1957050501543502,
          -0.4826581892874204,
          1.004553719993826,
          0.4096598894440915,
          0.6429326608577662,
          0.6474652275746602,
          0.8057710777166555,
          0.8246075818852784,
          -3.162531095544319,
          -1.0072864621020547,
          -1.2897467135763374,
          0.12012053506902716,
          -0.5255147621232142,
          0.5249828238887876,
          0.013943267732244623,
          0.6924530616708063,
          0.876463624132941,
          -1.5740528062185328,
          0.29214287074230283,
          -1.1107398765256538,
          0.4786113285325036,
          0.9651726032257316,
          0.33490629179366393,
          1.5280149222372041,
          -0.38728277086597784,
          1.3257055007122427,
          0.08586506442442746,
          0.8820961895368785,
          0.3237081335651008,
          -0.2641953917665047,
          -0.05277466328724661,
          -0.006782610696936768,
          1.3856276003698094,
          1.7061981430700568,
          0.8264841012398179,
          -0.20608121847941915,
          0.8512860654725117,
          -0.5819887090034042,
          1.1563163297114316,
          -0.48712425058548225,
          -0.8919613159381831,
          -1.8968572755795108,
          -0.508098208297329,
          -0.34296497771914497,
          0.8218666819220782,
          1.7046034169548452,
          -1.5024367649693584,
          -1.4883986857884486,
          -0.7275311053870586,
          1.3841032874431731,
          -0.9919841241424331,
          1.1303781442182843,
          -2.2505475682081038,
          -0.5776382502708002,
          -0.9007155932804717,
          0.5467512421385088,
          1.0158135719945611,
          -0.49761769881527335,
          -0.5667600657368399,
          -1.3133774599672514,
          -0.9005103633407517,
          -1.123724352096482,
          -0.9531359081544369,
          -0.20981710572101514,
          0.6094428282904752,
          0.07347752510648246,
          1.4006804912577444,
          -0.31447428307899955,
          -0.5427480035070735,
          -0.1830107112266948,
          -0.9500780547827604,
          0.6029647331952871,
          0.23282739799250013,
          0.24954486744351073,
          -0.01833213222074582,
          -0.457956688339718,
          1.4679349591336623,
          -0.34597451496467574,
          -0.07016335938495318,
          0.6276684040632767,
          1.8395510254303211,
          1.018252145611874,
          2.154355881601975,
          -0.5654074575451674,
          1.0421273879511508,
          -0.7760052777661028,
          0.5001348273083499,
          0.24975698167364585,
          -1.3905070303603095,
          -1.0495579284512877,
          -0.48186208382712864,
          0.5751501648201267,
          0.5187588562976392,
          0.9103651817802698,
          0.8855682370817991,
          -1.1391139610053234,
          -0.5876037992683992,
          -0.303832242018217,
          0.8926552294362023,
          0.18705081519395733,
          0.33375389043493475,
          -0.6365442674830241,
          1.070681732572542,
          -0.6696133287673456,
          1.372443722198453,
          1.925546245486533,
          0.012020092171536337,
          -0.3684207044043438,
          0.45866916522908247,
          0.6517393860778249,
          -0.2420399813978791,
          -1.282497197809937,
          -0.5147679439391986,
          -1.0820703378074885,
          -1.5049858481676626,
          -0.9984263352114134,
          1.791581508902787,
          -0.6760770722344385,
          -0.2765455008763214,
          -0.19665193262031153,
          -0.09603895970178938,
          0.8586874402794173,
          1.4520913924781071,
          -1.1629909777631753,
          -0.028279019990097475,
          1.2681998887118193,
          -2.3486216760286496,
          1.786098401507711,
          0.3740675277177829,
          0.39405281538816983,
          1.5327660225619486,
          -1.6094254858073351,
          0.4414926632592164,
          1.5991908843882758,
          0.2688470425901928,
          0.013256273836224911,
          0.19679445129940623,
          -0.387542044596395,
          0.1156020209967459,
          0.2861820335873344,
          -0.4124892921455597,
          -1.606056586771395,
          0.8394296921542859,
          -1.3180586209505483,
          0.3857013639262828,
          2.6223854824304587,
          1.4797792101230365,
          -0.4139369287343448,
          -0.3108980657109201,
          -0.15462185124605277,
          2.1309374359146096,
          -1.8854237164609016,
          1.1383703685888475,
          0.6613330274981067,
          0.289166954847182,
          0.9212561346635723,
          -0.18711952469000973,
          0.13324435473780027,
          -1.0663462922378293,
          -1.182624142242485,
          1.1913719096750524,
          -0.43284625806263227,
          1.3365468803467817,
          0.6117099905142588,
          -1.0049352501374336,
          0.3592995634932071,
          -0.7891840267766901,
          0.9442373605252102,
          1.214171705707552,
          1.4765385257566557,
          3.4405938130214855,
          -0.9009275460271504,
          0.6047012975131941,
          -1.01652562960171,
          0.9957475716517598,
          0.24430627070748445,
          -1.4665410743522822,
          0.8174024364513643,
          0.4176476582582071,
          1.1170904136100779,
          1.6847145898809153,
          -0.8368400119844773,
          -0.08309087020214834,
          -0.5306441064451982,
          1.6053148599967288,
          0.09996445845328446,
          0.556477214048473,
          0.04736637337446689,
          1.6872586985221185,
          -0.04470566873158181,
          2.2234931103323587,
          1.1374441786468958,
          -0.3414436646170233,
          0.708354181245332,
          1.0783027687682598,
          1.149866872408469,
          -0.50455889789761,
          -1.207789358930523,
          -1.2707628957554713,
          -0.021250717615116797,
          -1.0527230401522631,
          -0.6668720413600803,
          -0.11929092037334894,
          1.8324644150648137,
          -0.21259988867786364,
          0.7803081224953881,
          0.9362665495504127,
          -1.0025326343504832,
          -0.41003437947360144,
          -0.5708398094609528,
          0.5438679166131132,
          0.4879439642926584,
          -1.13729530215127,
          1.5449507383478709,
          0.8927331168324654,
          -1.3576459341221105,
          -1.225793894777044,
          -1.5851050942009133,
          -1.2448468906196484,
          -0.3243289564388876,
          0.9132410853804387,
          -0.6753228865140937,
          0.8158310203305879,
          -1.4415208094829988,
          1.1121496495083918,
          -0.04166940231632844,
          1.3297984312380795,
          -0.18920487339076725,
          -1.2951163029155313,
          -0.8985217374618034,
          -0.5091061473434144,
          1.1109002772442964,
          -1.1844204793053206,
          -0.9813254736540871,
          -0.9108423570007993,
          1.426927203025412,
          0.04065502823575305,
          -0.16232923872855884,
          0.2420745565292103,
          0.16701589040125817,
          0.22707562190032346,
          -2.1273575138844576,
          0.3679699440689879,
          0.49375578245400364,
          0.689524498072444,
          -0.693048269909802,
          0.5108809571597258,
          -0.541314732617583,
          0.9726130573114873,
          -0.8937164741925104,
          -0.38490189946986464,
          -0.7543137830409843,
          -0.18939301782948667,
          0.05716156794013457,
          -1.459813490931532,
          -1.7248271545578153,
          -0.23031832311290706,
          -0.7014405087256009,
          0.013440438824963635,
          1.4931326944934398,
          0.149069377032207,
          -0.5511664340792305,
          1.2984409540083124,
          -0.6081554083524003,
          -0.18041929769390969,
          -0.08730271001077049,
          -1.2905945918535517,
          -0.19745330589407634,
          -0.7785824407859108,
          -1.3602287581947963,
          -0.44400264936485456,
          0.811662797629734,
          1.3588284433063305,
          -0.2422334568686896,
          -0.13469688965503365,
          -0.781894327869927,
          -1.2382236508512294,
          -0.37213151287190455,
          -0.2294660512737999,
          -0.495529237232853,
          -0.4888488117212474,
          -1.1647964442012393,
          -0.6775895995839727,
          0.6154737685809166,
          0.003977713945175205,
          1.068652848441371,
          2.2450734890739965,
          0.6229174837041903,
          -0.5903925861687122,
          1.1503878681913036,
          -1.3068709511069516,
          -0.5947361204217845,
          0.1461584148083312,
          -0.4417443719020223,
          -0.8448307463859995,
          0.2627640986717446,
          -1.0353337381545,
          -0.2092947067713094,
          0.8262113960831567,
          0.08739475846944685,
          -0.44640248207438904,
          -0.5960316339720694,
          0.6781387233230406,
          1.061329622096445,
          1.6101168161763086,
          -1.2606363353538956,
          -0.011431944298016762,
          -0.5847282904095066,
          0.7169065078440126,
          -0.011006643567219369,
          -1.4156611344789145,
          -0.38717557292417537,
          0.9550629924223442,
          -0.2334021840445157,
          1.1685799246690347,
          -2.2197920734288035,
          -2.4684710211504095,
          0.01555055944394588,
          -0.06258366470461915,
          0.8237066442764246,
          0.16645169874905685,
          -0.9565961445946126,
          0.989888629871973,
          0.31714915109088937,
          -1.7501336007048094,
          -0.39590701098536535,
          0.14251122296107607,
          0.6228451356548499,
          -1.221818362430403,
          0.20525252021338178,
          0.08835232633273218,
          0.20444250647231033,
          0.26587236845054246,
          -0.7317342417214737,
          -0.675384361138828,
          -1.3288347345850258,
          -0.5552682289365384,
          -1.0394782102747813,
          -0.3035390905760636,
          0.26153801001151333,
          -0.03845706135748655,
          1.45354076622316,
          -1.4871148396654266,
          -0.4234954564397153,
          -0.435433779926493,
          -0.05586557745353104,
          -0.4977719385857734,
          2.120663332538196,
          0.0530247917100818,
          -2.8978426484745867,
          0.518737146244201,
          1.5820553406974434,
          1.4677199089752861,
          -0.1322805576936348,
          1.5427635528988926,
          0.687563795523172,
          -2.946433058999572,
          -0.4034878478878113,
          -1.421890148480623,
          -0.9687454298027582,
          -1.2430715836971822,
          -0.5428139852830066,
          1.309612899850895,
          -2.1397222856948255,
          -0.04811746511396392,
          -1.3043753227396213,
          1.0506510538439753,
          0.47624711763390065,
          -0.9025851980329057,
          1.514874929242849,
          -0.31486553948494667,
          -0.05736957013725823,
          0.08008607574587215,
          0.46302642131205424,
          0.4626800691573585,
          -0.41238067865593053,
          1.1336339890254368,
          0.9478457308140567,
          -0.07108131465314094,
          -0.32842169574612,
          0.5779453823846211,
          1.076590490225367,
          -1.0779727500216922,
          1.3076665596101618,
          0.40609049171444217,
          0.30796731285147727,
          -0.5549314028223358,
          -0.2999834807312977,
          -0.07542348872748154,
          -0.6076141114368502,
          0.5830991326191449,
          0.4328374016451444,
          -0.1977276368215539,
          0.1654481325395615,
          -1.1538554559201841,
          0.7948790217641916,
          0.8943040352564492,
          -0.748510567152498,
          0.4608334807133483,
          -1.6726255414381614,
          -0.8172036581392272,
          -0.15530646285454724,
          1.754998290160854,
          0.34274002161719014,
          -0.9592024418394797,
          -0.08765350086893758,
          -0.9480509420300525,
          -1.4427878603364277,
          -0.5115466969316362,
          0.9935556597087679,
          -0.1988025354538036,
          -0.8814614374356212,
          0.4484828186550076,
          0.29334229465532324,
          1.343063807285299,
          0.30422490227459353,
          -0.4500461098481865,
          -0.6161459365281132,
          -0.5114946001936358,
          -0.037372700900407396,
          -2.608833835798035,
          0.34143987394055064,
          1.2312500440339527,
          0.44759338957471007,
          0.060032576779737376,
          -2.1650034053677403,
          0.05675453833136843,
          -0.429048363397258,
          0.23846911304844257,
          0.8977940646647514,
          -0.23916988405198034,
          0.71913420925605,
          0.03193868162438048,
          0.0061497008932970935,
          0.45915600482713825,
          0.9053481418177008,
          1.1562761404216502,
          -0.174861851058802,
          -2.9700401170949897,
          -0.39578059325379344,
          -0.8440840419245388,
          -1.7997592021393631,
          -1.6839402156038004,
          1.3117590832276103,
          -0.37987350058335273,
          -0.6947176678256008,
          0.527695660903154,
          0.5845949978492082,
          0.6796332458878984,
          -2.9562280477946192,
          0.32753076432746825,
          0.46087054375488823,
          -0.4553151098374806,
          0.7326664059800772,
          1.4910223475410167,
          -0.22382662560757455,
          -0.09689188994257748,
          0.13516565393152113,
          -1.233849764374964,
          1.1011473432489234,
          2.0841193033278227,
          1.5719004533253678,
          1.321101167923732,
          1.3008659194345373,
          0.03950231014763362,
          0.9568074368306171,
          0.08969923363617328,
          0.1081874269090038,
          -1.2475492861406587,
          -0.027951692958323466,
          0.4051972181375504,
          -1.3027745031597202,
          -1.5921175478334513,
          -1.462219373151866,
          0.13353102110067136,
          -0.06557435645044019,
          0.42483008966893193,
          1.9961420421038916,
          1.8750625273068844,
          2.082432264208339,
          0.7341464772437211,
          -1.4293066617910473,
          0.09593647318761549,
          -0.3693972595828253,
          1.3636757463675593,
          -0.8466450381390557,
          -0.9612403587441509,
          -1.537022763116978,
          -1.690739880049566,
          0.26186094221731565,
          -1.7004096803375928,
          0.23511381504975915,
          -0.3503948507413041,
          0.7745533304792542,
          -1.8050827735423554,
          -1.5133521662266882,
          -0.969561655200495,
          -0.5784024529801953,
          -1.37393043610208,
          -1.0412430603791563,
          1.0002438850193813,
          -0.8963631226428308,
          -0.4692884140516045,
          -2.3077213632207356,
          -1.5287669900518608,
          -1.2539094457145852,
          1.3650295725813058,
          1.4883671732367418,
          -0.15311199499308303,
          -0.820062492466008,
          -0.4451671005631526,
          -1.7146199403140405,
          0.43607345119423485,
          0.3630923586583254,
          -1.2561556214514984,
          1.7415573627146643,
          -0.010238952727111297,
          -0.17148181921194355,
          0.9687779570252649,
          0.31839820139937586,
          0.0010117748882537351,
          1.8439928716650187,
          -1.4843336572147163,
          -1.1130788661299345,
          -0.043721815160437265,
          0.3504322706940456,
          0.7057459798541046,
          1.1897778639254721,
          -1.0761746442597782,
          1.4088897365898945,
          1.4349069360707485,
          -0.40900065521089946,
          -0.1748377173737007,
          0.36973389593611933,
          0.6908709612012968,
          1.1317331284926924,
          -0.6324385149281299,
          -0.6945344272402073,
          1.1374940974916037,
          -1.700334703233863,
          0.8526408520400596,
          -0.9320997574968611,
          0.5277660895912601,
          -0.3256811655282492,
          -0.31639060508156436,
          0.39208662505591996,
          -0.24726666159658564,
          -0.5770903207963252,
          0.6898197033817071,
          0.5448871447620212,
          -1.4464281916525357,
          -0.5953852581426359,
          0.7478131217735334,
          0.34824807295575555,
          1.1172864803099107,
          0.4172476654417187,
          -0.7459496318720786,
          -0.18821103960495292,
          1.0631409690259137,
          -0.8702726880236674,
          -0.09263193906075856,
          -1.0132665400960923,
          -0.958834374990415,
          -0.1532963969194728,
          -0.6182499903090566,
          1.0741889560452837,
          1.622001474570565,
          1.1097114715234013,
          -0.0217442627106227,
          -0.7853391045519778,
          1.167114935814884,
          -0.7974667862946985,
          0.6015805544767036,
          0.03489165261834718,
          1.2925654932625765,
          -0.2549466978416504,
          0.2501475657382631,
          -0.5892307286408973,
          -2.0263792348928793,
          -0.10460559373397464,
          -0.8415944244202738,
          2.0702544678628065,
          -0.02488220819026784,
          -0.27541306485804906,
          -0.8395457913469092,
          -0.2487814909237011,
          0.35309559890662495,
          0.34189508333367213,
          -1.9985267159684292,
          -0.8693925312501015,
          -1.759676762623947,
          -0.06486208194023464,
          -1.4725216716978085,
          1.7647252418804995,
          -1.4555781063454458,
          -0.25842774337848645,
          -0.07980599403193973,
          -1.6184840490664074,
          -0.18551544586095453,
          0.2776121335007666,
          -0.6932459097848332,
          1.4135897884027544,
          -0.5780181913005563,
          -1.5539288679751637,
          -0.5172191327637549,
          0.8474209620180028,
          0.44991093825481754,
          -0.23366753640963872,
          -0.027052338100299958,
          -1.2662381305804433,
          0.19749759220026067,
          1.3627227654445901,
          -1.6969375159864442,
          0.09223781974359654,
          0.31528448600462117,
          -0.17814586396535292,
          0.5535060113640552,
          0.8689213492225242,
          1.0200548909793163,
          -0.07213568012400329,
          0.21616562623606966,
          -1.0437121275024916,
          -0.5138030558303153,
          -0.23203296222251277,
          -0.9635628161695234,
          0.7148367434580745,
          -0.9773992632453011,
          -0.39918437785811095,
          -0.38371021521825016,
          1.0777557367076467,
          -0.03400355826667529,
          -1.2155682285571272,
          1.2284187759829353,
          -0.49508497659036377,
          -0.19819864579351953,
          -0.9392177503176333,
          0.36250933729128076,
          1.742755213833046,
          1.0815721410788743,
          0.27577526078128023,
          -2.8397041009151596,
          0.23591047465288745,
          0.7305589086922539,
          0.3403906002629283,
          0.08240707456197532,
          1.8838509147334843,
          -0.7528072724536147,
          -1.718722513885163,
          -0.10284658466895719,
          0.9499480161721459,
          0.4706230351334385,
          -2.7264213277849003,
          -0.4947024597842726,
          -0.6075502288378344,
          -0.7850884192539767,
          0.16990633515121148,
          1.4091764868537322,
          -1.5702747847771334,
          -0.013451221501098518,
          2.902585196503069,
          0.2212415825563486,
          0.07314157789265092,
          0.7104144239482989,
          -1.192712318348035,
          -0.8049725629610145,
          1.45749705735292,
          0.0052996356937169,
          -1.1650180138176296,
          -0.8844512176931085,
          0.20926884882493543,
          -0.2523508354369917,
          0.5558280699267456,
          0.4697715702229894,
          -0.1549015847682652,
          -0.19889715499114122,
          -0.7774315524928713,
          0.2722085193783634,
          1.7279303739892988,
          -1.3365119831183618,
          0.2656558586368299,
          -0.6508071073039047,
          2.182174890979643,
          -0.25037025900999693,
          0.977424230328369,
          -0.8597666897019868,
          -0.0824046131230656,
          -0.3165653348711286,
          1.934208483463907,
          -0.599024204110897,
          -1.4344005767784271,
          -0.40850863845479185,
          -1.2954047014328913,
          0.8522720553029122,
          -0.42732974088563264,
          -0.6575114843336416,
          1.6939055976638389,
          0.2124914785583274,
          -0.019836301197084585,
          0.7382933983633343,
          0.11117155950752661,
          -0.0632219937505648,
          -2.10408605166082,
          1.117728344817423,
          -0.00493087301227004,
          -0.16932552213878205,
          0.04284645249117863,
          0.42777970232077356,
          -0.7591882807731746,
          0.3734392691086673,
          -0.28540304419379187,
          -0.12463438177237739,
          -0.9726220210926722,
          -0.3340480327274609,
          0.7004259439281656,
          -0.5826300581786035,
          0.5201959340425402,
          0.707901243077144,
          1.4557708573214563,
          0.8392727094962186,
          -0.816730353583634,
          -1.9866775122385818,
          0.7945221299807953,
          1.2658628749651346,
          -0.8231894455915975,
          0.2527627764625214,
          -1.0620852647813532,
          -0.08827891833026374,
          0.8004136023383743,
          -0.755782636039525,
          1.2474205591656533,
          -1.2444505909454544,
          -0.4738319839170345,
          0.9386881076129059,
          -1.6169743480959955,
          0.7181636994793881,
          -0.7166545358881541,
          0.38300388642982486,
          1.9230521406446057,
          0.5178691915850318,
          -0.7489750820809276,
          1.3226701764940492,
          -1.1789054078085368,
          -0.08083488406360038,
          -0.06311241893628299,
          -1.0137201778430043,
          -0.5880508843330075,
          -0.7257263003496557,
          -0.438421617335747,
          1.406303238533004,
          -0.19954104212379378,
          -1.0218107085765478,
          -0.017878896426247615,
          -1.9822270236901922,
          0.3987383435664442,
          0.683863711535549,
          -0.33237102034721283,
          -0.49320630892744793,
          1.1270349343244461,
          1.2144742462985192,
          -0.8458327272763744,
          -1.4440502090863236,
          2.135501187223814,
          -0.43317845345404016,
          0.33608559857226755,
          -0.16082198355713495,
          1.6126342998397132,
          -0.23192094714247702,
          -0.5861574033549101,
          -2.2215969985481894,
          -0.4183304914575964,
          1.1327051831583224,
          -3.0143695536107082,
          -0.19753183002147368,
          -0.203975989540378,
          -0.8549830791246875,
          -0.3874576863229458,
          -1.2562471255315761,
          -0.7803861374190355,
          1.2763509100363761,
          0.915433983183238,
          -0.28823737153223433,
          -0.4999585810151211,
          0.571989631467991,
          0.3669326421565784,
          0.5963823875720529,
          1.3903819037320702,
          1.0093796721536117,
          -1.7778785588137684,
          -0.19811645806001058,
          0.29182522961811624,
          0.10737156611481223,
          1.0940742177065401,
          -1.0957032880909072,
          1.2859203023268277,
          1.9563169598693173,
          0.4383131367388581,
          -0.7436470019574013,
          0.7699963232198955,
          -0.3281991756371519,
          1.3634385008293401,
          -0.5597142124385039,
          -1.664220257432142,
          -0.7895904766119383,
          1.2402901830654873,
          -1.2380931097860264,
          -0.12424429815073924,
          1.0722512453088384,
          -1.088260310170605,
          -0.8689298357601465,
          0.2239799764724841,
          -0.13767597441484208,
          -0.37907395697014307,
          -0.9397641535076592,
          -0.16125134179307904,
          -0.650049998325713,
          -0.4667135247207217,
          0.8633886003065461,
          -0.20774875125588183,
          0.18162653567663312,
          -0.5572536900788241,
          -1.3522200676134872,
          0.5695069354628863,
          -0.44486190276596815,
          -0.7688030379630949,
          0.9434278977083693,
          0.605565428946651,
          0.8533531336686523,
          1.7150746863525206,
          0.7177788005600112,
          -0.9569647028503785,
          2.2151504748694872,
          -0.41307751861577247,
          -0.5747052910438559,
          0.177437278456855,
          -0.5548925286371172,
          -0.6007761915149635,
          -1.4719026566728006,
          1.1551048464985594,
          1.459847277567032,
          1.1875000518998555,
          1.5543308562247913,
          0.7298931223842442,
          -2.4873961802455247,
          0.14728932697495878,
          0.561952095905308,
          -0.02728288622112554,
          1.8734572508445124,
          0.8179435663926397,
          1.2518130459135814,
          -1.0040350951903634,
          1.3534975248850731,
          -0.47489539374620554,
          0.14452383263191254,
          -0.3370066137168794,
          -0.8503227693472708,
          -1.5925813422895956,
          -0.6261224862562226,
          0.9188019325220295,
          0.6370904310314672,
          0.43174999899742367,
          1.6711864498622342,
          0.3096149078711582,
          0.056085195739524675,
          -0.14017191562353545,
          -0.5780886219666287,
          0.166080620910576,
          1.1044351143066105,
          2.0264241137961507,
          -0.44311227574890155,
          1.2185091605828453,
          -0.48865551575489025,
          0.884694869780103,
          -0.34575167259433187,
          1.2544403786657659,
          -0.19807575168111,
          1.608690573416055,
          -0.3583062323948799,
          -0.19149738075455064,
          -1.434954293378422,
          1.3481220497481678,
          1.0010389823447086,
          -0.5223018137006242,
          0.7070047001121845,
          0.09760737441177197,
          -0.5573445714233662,
          1.0065529522216476,
          0.9916960750549318,
          1.3013254331738024,
          1.2902568666619256,
          -0.5564893548969571,
          -0.1640264661787414,
          -0.42244865566407785,
          1.1164893308359543,
          0.6706827003592964,
          1.2752251935569283,
          -0.1609171233117148,
          -0.7781758202141335,
          -0.7444908514698838,
          1.4902404327987113,
          0.5159964736950075,
          -0.545902560757937,
          1.1317116262557247,
          -0.758002814640874,
          -0.7429165874623276,
          -0.7935344214369645,
          -0.029679881751570745,
          0.1388650682631688,
          2.847026006515378,
          -1.232180375579209,
          -0.17577196934245398,
          0.07088389806664347,
          -1.3737391903394789,
          0.5865628658427785,
          0.033480824235679926,
          -1.7724857776814513,
          -0.512124694934411,
          0.8667555192171048,
          0.03365390956449082,
          0.4805319280132639,
          -0.7259978525808006,
          -1.9048209189365697,
          0.4640072123991562,
          -0.5517280119492244,
          0.7680527110026268,
          -1.2808617555247688,
          -0.45018902175436293,
          0.8770859153298572,
          0.2795952191071665,
          0.35872225338663066,
          0.5102933920201909,
          -0.4373924208292965,
          1.2373064605199968,
          0.9636154254293767,
          -0.2953221722996026,
          -1.143804907593571,
          1.5342269225415635,
          0.22249840996351147,
          -1.795114762375854,
          -0.7064599771316957,
          0.43389055769808116,
          -0.8124144289435664,
          0.7253413162990822,
          -1.134494296859827,
          1.764109203340484,
          1.416260685569623,
          -1.1093646558516792,
          0.7789577590915446,
          -0.4047441832723023,
          -0.6056449546952525,
          -1.1159927370469005,
          0.8497095837419086,
          -1.2793292559563554,
          1.5368421759689772,
          0.6534359734891287,
          0.5178018243279732,
          -0.00972435561638195,
          1.5463873492537716,
          0.3931068438993737,
          0.8930943785398554,
          -1.0126218045767008,
          0.015807199178433276,
          0.838605686704357,
          0.7385827172264827,
          -0.2167492237401863,
          2.4456493606172245,
          0.63346203972573,
          -0.20122377591565174,
          -0.33779163999151046,
          2.451370150340274,
          1.8140748757592091,
          0.42462601425891533,
          -1.0408120520372668,
          -1.2971048446001716,
          -2.0852706692014995,
          0.2735759852198828,
          0.5887551490992355,
          -0.7634534608879353,
          -0.0070401510913334206,
          -0.4243883766964281,
          1.4301915532719176,
          -0.25402467132766005,
          0.12649749797154047,
          -1.9896729949388854,
          -0.24149837083360615,
          0.18427010112756223,
          0.15605743434032723,
          1.1082333304104717,
          0.674212691363185,
          -1.6351437138183866,
          1.1458172635084962,
          -0.32636451807660827,
          0.6327203503001241,
          0.6246184842597103,
          0.6074334066639603,
          0.020462221707838898,
          -0.7131235107434811,
          -1.837111684031989,
          -0.28518580127874776,
          -0.6348490624960867,
          0.6986930113078241,
          1.2336815815336502,
          0.027675470711099184,
          0.6721498480954112,
          -0.9920295741130685,
          -0.42633091447699056,
          -0.8466487046882138,
          2.0325419272082668,
          2.0500855153836524,
          0.08357034064217264,
          0.7074435194168996,
          -0.07164304348884866,
          0.5687690924963665,
          -0.512586500069751,
          -1.0380485347753443,
          -1.701644960452711,
          1.87632667032177,
          -0.17047339238563225,
          0.39156903621292266,
          -0.8004463523602765,
          2.267743424903016,
          1.0969285167962715,
          -1.1824310000629532,
          -1.3000800350609747,
          0.20712629598254687,
          -0.7379041946659792,
          0.0254516259281834,
          1.6375906798524391,
          -0.654535562268442,
          -1.926472412924245,
          0.22980919462996044,
          1.0649255697512103,
          0.7856196451039127,
          1.180216325232768,
          -0.6133420568690102,
          0.24682100362243703,
          -0.2990870952656416,
          0.959861227227784,
          -0.014492706536977342,
          0.184403725508862,
          -1.0101600455125042,
          0.5928309359230557,
          -1.2370856016379719,
          0.32122765568255024,
          0.15421975218477352,
          -0.45608086541711285,
          1.0448577067852265,
          1.169045537111371,
          -0.9144673181206061,
          -1.4127818217980432,
          -0.37508164512721315,
          -1.5536728936353696,
          2.064275164162357,
          1.087901323157144,
          -0.7259323231336328,
          0.43783825053247816,
          -0.06400654547667899,
          -0.9367388027058742,
          -0.339952100198618,
          0.09303376971825839,
          0.9975904349030356,
          2.003845350668678,
          -0.7858551890082249,
          0.4620834511122613,
          -1.24947249038211,
          2.0915471209205623,
          0.8491387472835699,
          1.261062904557122,
          -0.16109085548662577,
          0.38545226973262486,
          -0.2909622772606673,
          0.3142641069962312,
          -0.19054855060152995,
          0.05263679074474257,
          0.6535253835575839,
          1.0675644494406358,
          -1.5535875537860808,
          -0.8973155057006722,
          -1.2897897024866707,
          1.3375344872791854,
          -0.2861430757354303,
          -0.2706291387851009,
          0.8082987026798706,
          -0.6724409896654184,
          1.7601430819552155,
          -1.4822941110028762,
          0.41764280799228876,
          -0.6674290943511009,
          2.059456339401971,
          1.29941528006287,
          0.687391462572872,
          -1.1692085033600046,
          1.2732799249574205,
          -0.03376495486599749,
          0.0872861432267691,
          -0.15283146682892138,
          1.6960508012020614,
          -0.3084643571536404,
          1.1659840358941005,
          -0.6401388683200319,
          -1.256735167598027,
          0.398950471267814,
          -0.5139349780359388,
          -0.2428102279032243,
          0.7463739955919341,
          0.5132918682062175,
          -1.5981817509128726,
          -0.9853996004126245,
          -0.9503899190534295,
          0.49070580381520323,
          0.546400120497001,
          0.9576383964173272,
          -1.760520563267457,
          0.7550007252588802,
          -2.449607507151493,
          0.24523033868119068,
          -2.1371014098206382,
          0.30826027798811795,
          0.9221923074039508,
          0.946463010023092,
          0.262478814302626,
          -1.6200283562577382,
          0.35550501981241256,
          0.16987282347376054,
          -0.4748687501093622,
          -0.7471033346750161,
          0.11646740145896456,
          0.15315255269236222,
          -0.13679979263082376,
          0.6595719299373726,
          -0.6990580960742078,
          1.1064966800474993,
          2.2398161652567663,
          0.4004083733108486,
          -1.3503679234497012,
          1.4048356677678513,
          -1.5698740349144948,
          0.0864253384190594,
          -0.21960175783746522,
          0.4774350967358587,
          -0.42809712293970725,
          1.5576709717808979,
          0.23264514198612743,
          -1.165811114666109,
          1.032896732553447,
          -0.7950208649548316,
          -0.5776244052851852,
          0.33581998298098387,
          0.3537041304149854,
          -0.2685832596720015,
          0.8406037809604507,
          0.08919256549948269,
          2.6675781505032736,
          0.5964493164229451,
          -1.2269375883584037,
          0.7188043594157396,
          -0.48826029035572555,
          0.683219124575462,
          0.47731327777937893,
          -0.2789208217756074,
          2.1092225243768157,
          -1.4232978464542478,
          -0.9045660223093709,
          0.5135721058277973,
          1.8695551822333694,
          0.9743521234682668,
          -0.1498929783391005,
          0.9263480003489424,
          0.25968249891104,
          2.083156658805014,
          0.2941709481796536,
          0.15574730423619224,
          -0.2898028105246615,
          0.42063835873631156,
          0.3096103302493417,
          -0.09533692082059801,
          0.3561512922609184,
          -1.0743087976393753,
          -1.7020485664772824,
          -0.7227854042466398,
          0.3631159172068238,
          -1.1102415848431222,
          -0.9984587027529384,
          0.2318314779856399,
          0.5318897944956482,
          0.6933211834725944,
          -2.322474290985347,
          0.22214553464454667,
          0.3381742469508746,
          0.5991719766686769,
          0.11640430323164969,
          -0.041276042788000275,
          0.03575636883912424,
          0.44930272608307104,
          -0.6438381948244225,
          1.0056218777749382,
          -2.3633000709214618,
          -0.48899142213033503,
          1.5224837126119046,
          -0.12550108178850025,
          0.47777911430993736,
          0.1544057821188352,
          -0.9551875746897756,
          -0.7255677434344536,
          0.2596615529482898,
          1.020873599885553,
          0.6491448177045743,
          1.888428517522234,
          -0.397534825703051,
          -0.5949973377642123,
          0.591177925804607,
          -0.3264781574481478,
          1.2172452164824925,
          -0.8851309523497654,
          -1.4469008178851337,
          -0.631366143281096,
          -2.4722155481065995,
          -0.7583773073356374,
          -0.16855159707640277,
          0.31525433468662895,
          -1.1066795803051555,
          -0.5347551292862507,
          -0.717803098413025,
          0.3402939128309359,
          0.25657490830971325,
          1.448989784720569,
          1.070334988076293,
          -0.19591998414896739,
          0.2139249081481458,
          -1.8547408596678157,
          0.16730925107074768,
          0.06781369897668764,
          2.619590214234126,
          0.9037189529517637,
          -0.6019254614173783,
          -0.5817571108784353,
          1.3609453271473948,
          -1.6289193391185415,
          -1.0147017483435175,
          -0.6663323912735738,
          -1.1397510001263653,
          -0.11860229632475007,
          -0.4641571014016596,
          -0.4673376243848152,
          -0.4661566176171998,
          -1.2590287236634505,
          -0.2876111808313361,
          0.9252999207220625,
          -0.13959494719349155,
          0.44926399035089004,
          -1.723398058533404,
          1.6979925970930443,
          0.4599781042264549,
          -0.25987299724546364,
          -0.6859446779851645,
          -0.45466433147268176,
          -2.5140502198177637,
          0.5951616997294876,
          2.2821991061298084,
          1.4195448946410378,
          0.6322316944584878,
          -0.7060015283175278,
          0.383101147815851,
          0.6837096254290146,
          0.5908253105803087,
          0.5590373308024903,
          -0.645669536603717,
          0.41462548952694733,
          -0.12575654746377488,
          0.5915221558189322,
          -0.25513729203570806,
          0.6808014520052325,
          -0.6724608416767683,
          2.3961833678504836,
          -1.278574063207171,
          0.6621300952855168,
          0.6624978696825612,
          -0.1740907176645709,
          -0.22663767619158495,
          -0.9280325391454136,
          -1.5386533794593533,
          0.5364966709057659,
          0.878949962810955,
          0.4841425388496737,
          0.9783344559887789,
          -0.47646237665966756,
          -0.7485524158824671,
          0.6851101819051321,
          0.5180607676151892,
          0.9572784452357656,
          0.2881172549299647,
          0.20687638100420688,
          0.2507677235720571,
          -2.172507232674998,
          -0.19311572545731737,
          -0.013277399989952844,
          -1.7047222463032272,
          -0.37704235343190956,
          -0.46922650316883313,
          -0.5011133682406579,
          -1.03798113564965,
          -0.021602847479107314,
          -0.8411989407046719,
          1.2165519616129963,
          0.6207102505916324,
          0.8120003305146081,
          -1.5906246230286538,
          -0.5809317668286471,
          -0.6203878075225261,
          -0.09959006665293184,
          -0.8191879561013157,
          -0.10193868340678805,
          1.0824992560400455,
          -2.130372773347528,
          -1.0152281902012066,
          -0.9670735913482282,
          -0.8756890682491455,
          -1.1232773490855956,
          -1.3246632592048262,
          0.006109547834998642,
          0.32964179271477173,
          0.24272393116145857,
          -0.7224417733826147,
          0.13966064593838967,
          0.32570764971709737,
          -1.5405872983649755,
          -0.667177918638842,
          0.7823527481819479,
          1.5145719835214226,
          -0.07705307719280363,
          -0.3116461137789649,
          -1.5354787160236867
         ],
         "y": [
          0.25895269287044564,
          0.5812205339311485,
          -0.15348408034755182,
          0.27283909210458335,
          0.08913841316475794,
          -0.06130726901219158,
          -1.358341568064127,
          -0.0244474126651847,
          0.16187018579673734,
          -0.01559919050685335,
          3.4746818913141198,
          1.0016858799325634,
          1.2687256538118237,
          -0.21864877528808577,
          1.8279986203838354,
          -1.6113633014779687,
          0.6056601314278479,
          -1.1190020498149085,
          -2.342625864951943,
          0.29189977901911396,
          0.49759783900847243,
          -1.5986437462112697,
          -1.6920800022954956,
          -0.17989481439460117,
          0.555259670957578,
          -1.192927943169298,
          0.5974266137543145,
          -0.001396342607150352,
          0.6096561997874816,
          1.915707468927555,
          -0.4641468150798157,
          0.4261240962491461,
          0.25913700289942854,
          -0.5981661463541106,
          0.6401958967471091,
          1.9625819106850695,
          -1.2081881026323111,
          -0.4784072306355306,
          -1.8169497513149917,
          -1.015589276659879,
          0.5494304648859473,
          0.699395220160126,
          0.06348697643858837,
          -0.5694555775671457,
          1.0932953444630447,
          -0.7382574588162061,
          0.2825140272559023,
          -1.7505365526838632,
          -0.7335758727341543,
          -0.23548872062094886,
          0.578291023983789,
          -1.0459984867829386,
          0.81329738209666,
          -0.9461194144494431,
          -1.9301477969695717,
          0.2988425240074377,
          -0.331053596846838,
          0.09569572203156917,
          -0.7451569299084301,
          0.20736745916198623,
          -0.06543051037840215,
          2.2851566720491894,
          -1.2287830579448076,
          0.9755192502370201,
          0.14351334261158744,
          1.2537270278493127,
          0.6469695113202155,
          0.12317195913668917,
          -0.11600471587681627,
          1.0379342861687664,
          -2.0837807991301323,
          0.41589114081148787,
          -1.178682420660582,
          0.008217034304047651,
          -0.4762251477507544,
          -2.355030286774131,
          -0.9273929964100075,
          0.46389143634868685,
          0.7094649948589978,
          -0.24673320956529254,
          0.6480582126755061,
          -0.608478761367235,
          1.657927392571974,
          1.807001509564951,
          2.4919038632060353,
          1.3057226100986372,
          0.30208170961312014,
          -1.851860374818285,
          1.2819790825850828,
          1.3083308323171405,
          0.47873395980136574,
          1.1915940364132556,
          -0.7923792639897893,
          0.7973258292586874,
          0.15754551964127778,
          -0.8225052076424564,
          1.0360312696090601,
          0.6377275741880115,
          -0.8745215410889191,
          0.8158477649743734,
          -0.22383432951159501,
          0.08964004243895483,
          -0.5440270392246787,
          0.15400365411626976,
          1.4450397851456922,
          -0.5078721538082621,
          1.139166158708435,
          -0.8887361812437101,
          0.9720482042534234,
          0.88140631636806,
          -0.3548053192806189,
          -0.08964166267376647,
          -0.6698091004683872,
          -1.1513372074112926,
          1.2785067461714983,
          0.15713313534970244,
          1.0956989388543747,
          0.7243307196383011,
          -1.2835864177237029,
          0.9717078387209391,
          0.7968924037058688,
          -1.1760041624661937,
          0.8510093095664791,
          0.20257806576587248,
          -0.4699854128200981,
          0.8857953078878305,
          0.3802488287400424,
          -0.34244346053472347,
          -0.48468910829261713,
          0.16582534714845817,
          -0.7444889061784975,
          -1.4074342647825304,
          2.123857026993892,
          0.49734392669639316,
          0.058831023242552884,
          -0.26550690474484956,
          0.4500775440576587,
          -1.835967241197181,
          -0.1125191327459631,
          0.127015575128376,
          -0.6431905151632645,
          0.11964340580539112,
          1.3504305525674765,
          -0.6165776995517985,
          -0.1290501494158772,
          0.6885059682944599,
          0.35244630566960716,
          0.9332185178006625,
          -0.35277089902694597,
          -1.2141728300313335,
          -1.0337285113530703,
          1.9254177910872181,
          1.4041956889673068,
          0.9015731963324091,
          -0.737577618145374,
          1.4853662808355796,
          -1.8319468785338822,
          0.835503421818077,
          0.9575791079414788,
          -0.9587666070894477,
          -0.06620219085035041,
          0.3412424538631172,
          -0.3120477775352076,
          1.2917621557613017,
          1.1924402417858757,
          1.3107335447281532,
          0.6101527101216502,
          -0.8279025828692934,
          -0.09946727774171983,
          0.12690531558080706,
          -1.16054084936999,
          -0.028120811759683527,
          -0.6662144205675052,
          2.2660721242781943,
          0.42648881703441344,
          -1.993018332907304,
          -0.7341706470105803,
          1.5881333521680316,
          1.364188279939235,
          -0.799104418282956,
          0.6979326350316623,
          0.5043740950103669,
          0.23472763019761841,
          1.6051080970790872,
          -1.090816623148652,
          -1.0938960488642286,
          -0.5476239841685574,
          0.7087381996950347,
          1.7111406619354868,
          -0.3983819814799904,
          1.8357928878201675,
          -0.6090280034172509,
          0.5118013318050332,
          -1.3946929280218023,
          0.6373554865790454,
          -0.6610941034950967,
          -0.8490708893704008,
          1.4776851313183537,
          1.135358599983282,
          -0.14649534865578787,
          0.4821612938679019,
          2.062538317071954,
          1.7977671553563848,
          0.06539167730761557,
          0.6628737052004368,
          -0.8842006229610422,
          1.1792658779023835,
          -0.7764539948708845,
          0.6106824804761255,
          1.1054082414704338,
          0.9789129958246484,
          0.2056220814581928,
          1.185428347564819,
          -2.3686413743461316,
          -0.7629949446216125,
          1.6419978511452857,
          1.218863723380387,
          -2.047735140766134,
          0.3299579850893941,
          0.7275512716150635,
          1.3865582111987766,
          -0.8652508363468876,
          -0.42967354599528396,
          -1.0474884292365563,
          -0.5850350248037441,
          0.8615040850975704,
          -0.21964474938137638,
          -2.069354727504869,
          -0.5156325204632217,
          0.8706791916659219,
          0.5040651895688487,
          -0.46106156985569124,
          -0.5056286049643379,
          -0.2707948107732169,
          -0.9590245710101459,
          -0.9302348894360385,
          -1.1580846069078243,
          1.088484511069171,
          -1.4250347205351344,
          0.5328091613420805,
          -1.2043646192737818,
          2.4553049068724095,
          -0.8690569226937271,
          0.5965112305813837,
          0.8257030283603543,
          -2.30112606998822,
          -0.3468746938642999,
          -0.8941038011680279,
          0.009577652167580514,
          0.1110220439439443,
          -1.4166213335314706,
          0.6408433189417011,
          0.6359541831876963,
          0.036325525172074456,
          0.1401846047063933,
          0.6444154876487082,
          1.017454837677221,
          -0.12374696767974479,
          0.14704175682293966,
          0.5275947274985251,
          0.8287755347838938,
          -0.885300337472925,
          0.34844565520088,
          -2.0504177751889854,
          1.0050788862550244,
          0.19503575161921505,
          0.34677726952307275,
          -0.9109609670491998,
          0.17060138605297967,
          -0.1578167416517618,
          -0.181643109839729,
          0.9802564819423397,
          1.8385020204931724,
          1.01070622709963,
          -0.13943478787011718,
          0.20711376169232382,
          0.5838786017775824,
          -1.1072006364074547,
          0.5893206706409757,
          1.134606262866522,
          -0.006099911991802678,
          -1.4846306977787025,
          -0.9144907766026644,
          0.8927774077452859,
          -0.20394271228075697,
          -0.1978389578929014,
          -0.4164114752411088,
          -0.987162216753761,
          0.3128763621532059,
          -2.221042530032479,
          -1.4698932984360054,
          -1.5595051790211707,
          0.1404992492944146,
          -1.0207586461019047,
          1.0928921994877558,
          0.05094499779644053,
          -1.9183428221013346,
          2.4464774946282417,
          0.22599282692845454,
          1.1723597414579234,
          0.9926874536054157,
          -1.0675547173706632,
          0.3355530324347604,
          1.072877675803959,
          -1.5117881344315338,
          1.9733399750595566,
          0.6880005523249757,
          -0.47601575954510816,
          -1.388015244202664,
          -1.8036910824244983,
          -0.13121435616322272,
          -0.38277852157987774,
          -0.7170989101515535,
          1.5428706451512992,
          1.022818722575843,
          -0.6947580740970007,
          1.836098417795754,
          0.7090973595138875,
          0.31105486919383096,
          0.805286217833478,
          2.2250574313787466,
          -0.8477870493515891,
          0.7369159563921766,
          0.08896640645957388,
          1.0488747063886277,
          -0.5692014926814545,
          -0.6294520262505818,
          -0.08665470722912513,
          2.1598650140491737,
          1.555459926538754,
          -1.2586558604759006,
          -0.22332107135615908,
          -0.040847265073273194,
          -0.11985518489680898,
          1.1592834197576825,
          0.03835385022059563,
          0.5618000871795553,
          1.0174906925881193,
          0.3804333094861358,
          0.9620821500048744,
          0.1985130013849655,
          2.2491404687152885,
          1.352537350978178,
          -0.9830399218536755,
          0.4959632924452114,
          0.5114699411283948,
          0.9114886636862186,
          -0.6635761015258036,
          0.6253359748501253,
          -0.4172120240027858,
          -1.4270246665370039,
          -0.19893487144531127,
          -0.2526770393714712,
          -0.47052916985252324,
          0.9379001635510933,
          1.812644946765576,
          1.5437611792427948,
          -0.25553784900114623,
          -0.16058654039776327,
          -0.08299398493723413,
          -0.40954736787352963,
          -2.140574206092477,
          -0.0961222671734126,
          2.108334418645596,
          1.5014332323121253,
          0.5403407102161439,
          -1.4907361117089024,
          2.2396813570890792,
          1.4779418604174472,
          -0.24345170623332002,
          -0.01010056094386493,
          -0.5536136223359762,
          1.4994662667973975,
          -0.8049372041090347,
          0.05541228960799507,
          -0.3579690538759641,
          -1.7300070137598211,
          -1.211991527251878,
          0.029576974032724947,
          0.9703287501715354,
          0.49447970233723854,
          1.0347309519977208,
          1.3173632540356692,
          -0.15048773314361974,
          -0.19914541941882438,
          -0.13314374129067025,
          1.5670188151397637,
          0.014749249516307898,
          1.6350920965764322,
          -1.8948084369279687,
          1.487496091851001,
          0.1124799538580456,
          -0.03521643513271332,
          0.45990094338609644,
          -0.4119168267550103,
          0.5480497662123187,
          -0.41113167608483175,
          -0.772895084808031,
          2.005925085744571,
          -0.3062975148066433,
          1.1835981387867005,
          1.4331242856458355,
          1.083522390770767,
          -1.5062789301084383,
          -0.6153185294216315,
          -1.6930758105166557,
          -0.48477794232492766,
          -1.4902748607702456,
          0.47249304246996376,
          2.1814360003959687,
          -1.8044115352775458,
          0.28820080738404885,
          -0.04846863243214667,
          0.823618236630929,
          1.4056716446802848,
          0.413076889334248,
          -0.5777280268500938,
          -1.2057023732171823,
          -0.3620477545713978,
          -0.3071065079151233,
          -0.23115151471087847,
          2.3099135850273993,
          0.4686305842257631,
          0.7934229791433284,
          -1.1483800868392484,
          -1.2240617367898126,
          0.47763540492857437,
          -0.9747283386311659,
          -2.0005816374726546,
          0.11395229329087024,
          -1.3962288650671681,
          -0.271163063439674,
          0.34789662949631894,
          -0.1184227659618588,
          0.4114075500578389,
          0.22942732803697888,
          -1.364175220722337,
          0.2773552071990519,
          0.7046465474812189,
          -0.2648358661393529,
          0.3194584830191339,
          -0.5411686221998697,
          -1.3839450355245284,
          1.7481121425302446,
          0.3968183459298479,
          -0.20723871056356652,
          -1.895492550697493,
          -1.625445215550586,
          -0.015142369697808043,
          0.23812367692314165,
          0.024447217738988374,
          0.4696554515560268,
          1.022572194295422,
          1.6579200304202286,
          2.104702039758354,
          -0.28572020384295277,
          -0.35258169009691714,
          0.8240945492549603,
          -0.33924632600183585,
          -1.1604822966010846,
          -1.3600675990507223,
          -0.04889596907310514,
          2.479351249549031,
          0.7634116088207465,
          0.19011275141441278,
          -1.1389605753744159,
          -0.3076730369161492,
          1.5505680200630207,
          1.6684833318078485,
          0.49330137937377744,
          -0.7355252236323824,
          -0.12760262833475794,
          -1.5023114170819236,
          0.3370419759838716,
          -1.9881797685936784,
          -2.255934250351268,
          0.35948430855375196,
          -0.27098552905014966,
          -1.1807622444737194,
          -0.8291182322311522,
          1.6258413072060136,
          0.838900383732381,
          0.22534121135379584,
          -0.539561435460327,
          -0.24673033707423847,
          -0.5169727656211667,
          0.12071362647982391,
          -0.10117012092146946,
          -1.2541809594821522,
          1.6461514677274602,
          -1.6171754882267417,
          0.27456345216069644,
          -0.7790189461364013,
          1.375853792519557,
          -0.9182993488029992,
          1.1437675912665148,
          -1.3565684363814878,
          0.9494851098323739,
          -0.5853363020327824,
          0.2693195430366816,
          -0.28945237750560454,
          -0.48110535989108627,
          -0.7384778036376879,
          0.6570546242855163,
          0.6997165453637688,
          -0.10597807979229541,
          1.1034163432820434,
          -1.897478725866446,
          -1.1864245795622281,
          0.6716991512492971,
          -2.5109587721766604,
          -0.6688165467774312,
          0.3605733029261544,
          0.9679847946923581,
          -0.038877849170086076,
          0.6116498966225149,
          0.5722980313311957,
          0.680179647963384,
          -0.08484543756799481,
          0.8255133370940675,
          -0.7366572955838088,
          0.05855568306112321,
          0.6698166731665278,
          1.2563039445978224,
          1.1499380403163357,
          0.31393821586072285,
          -1.0070140323642207,
          -0.6355554420296307,
          -1.1507789803058261,
          -1.3493207517013992,
          -1.8753135805486096,
          1.603206184279015,
          0.2558736563661992,
          -2.0610766017034057,
          1.7514487987782668,
          1.0709473570367924,
          0.17086339277415172,
          0.03166061072270591,
          -0.0011870955762976032,
          -2.2261993903399455,
          -0.1937505841856762,
          -0.2294737344821426,
          0.6456785925037474,
          0.7098803254685595,
          -1.1523577757353132,
          0.220092780532208,
          2.574169455337368,
          -0.9968919862049648,
          -1.6840339780681801,
          1.7851843438109922,
          -0.14078472680418197,
          -0.27236508870471143,
          -0.7953643432318284,
          0.7906488642701042,
          1.2381705118869162,
          0.0827844857620104,
          -0.7633276193245255,
          -0.004955646524848617,
          0.27132681235491274,
          0.20874561797790897,
          -0.602445101287848,
          -1.1089705316701828,
          1.7527262692660484,
          -1.5196998055353284,
          -1.1684428856967235,
          -0.7232401765237445,
          0.4129140481200962,
          -0.5734583557011449,
          0.5623183248296033,
          0.3781766841748795,
          0.2798241604936102,
          -0.15123861675903974,
          -0.5417216519648677,
          0.9408932044279374,
          0.7242524432135169,
          1.2975229693132178,
          -0.13520370249529565,
          -0.6516189506934168,
          0.07051392157965612,
          -0.10433475964409648,
          0.48087898448097743,
          0.2844532826780097,
          -0.9456708731892715,
          -0.4981102238118219,
          -0.2817817744472552,
          -0.9466421650622502,
          -2.2450649697488716,
          0.008065361777192937,
          0.010122535073309962,
          1.3103124303569695,
          -0.9617982038086771,
          -0.8632713306032486,
          -0.6005614279788969,
          0.8258915016137429,
          -0.4048515449163248,
          0.870505797497477,
          1.1345925275326931,
          -0.7589621208363976,
          1.0204229528304687,
          0.22298659944799368,
          0.1538623589818334,
          1.5942234572887966,
          0.9257565316411248,
          0.4119906838221127,
          1.3638263464008105,
          -0.3829026860641826,
          -0.531152916299969,
          0.6579897554670363,
          -0.7952402096620002,
          0.4201647990093108,
          -0.4192794757836303,
          -0.56500200756255,
          -0.12881041912063138,
          -0.06323176973697284,
          0.45653704266239226,
          1.8414506209712187,
          0.8343314034842008,
          0.503604269044257,
          0.9571152317313831,
          2.9033602876584976,
          -0.5666024071731484,
          1.0293047727189273,
          0.29452682821486104,
          -0.6587581248288871,
          -0.027952340201397193,
          1.4297626242134456,
          0.899841010937727,
          -0.3335143743599104,
          -0.17446437910194473,
          -0.4573167824094444,
          0.40310963689515555,
          -0.33468013166238,
          -0.5718728492195297,
          0.7678970399989866,
          2.232254647823898,
          0.5579637117680154,
          -0.06738156267692645,
          -1.0717474607275141,
          0.6139150537281114,
          -0.9630168503540504,
          -0.02939870228731485,
          -1.3847964995202855,
          -0.4327282659455912,
          -0.9139019934176213,
          0.676383934692763,
          -0.03195052302435424,
          -0.7591597725732081,
          0.041743574321295045,
          -1.0191346114598294,
          1.7003112710377652,
          -0.44944509451403564,
          0.6486928948826103,
          0.40842114098579524,
          -0.9464296266363479,
          1.3852594126953386,
          1.476366335115929,
          0.6475649359878775,
          -1.382141974288368,
          0.013048023002649125,
          -0.40752433054783765,
          -3.61929373642685,
          -1.9029514821695652,
          -1.3579223850718591,
          0.8702969732284842,
          -0.2208726773821118,
          1.1828322364374921,
          0.0057056043386372515,
          -0.7849065935917179,
          1.023713482506054,
          -0.8478294714316111,
          2.465068721215976,
          -0.1148901972085925,
          0.31309453199088483,
          -0.5786863368314011,
          -1.3374747769088673,
          0.7045912520774132,
          2.762761375343802,
          -1.7288284684337336,
          0.6049348967082487,
          -1.7054899158537686,
          -0.13439132832095077,
          0.23525927610999425,
          0.42075954552459555,
          0.027281530763151738,
          0.16708761754967755,
          -0.12511999051355854,
          0.2941841705261437,
          -0.07062170109727678,
          -0.03293894706755199,
          -0.3191120069993329,
          -0.4504505966222748,
          0.04542623816307675,
          -1.5139110494533177,
          -0.552268288200243,
          0.9410486550239638,
          1.6930966672221273,
          1.652987614121942,
          -0.013628270733854168,
          -2.1927470857985947,
          -0.15073822102525056,
          -0.7829105107281896,
          -0.30239596009929653,
          0.06159343549375721,
          1.5363809579909167,
          1.2916641093339878,
          -0.3498410371119057,
          -0.880176864198332,
          0.29766432793669856,
          0.5546610848568277,
          0.48287792060305945,
          0.020991346181636582,
          0.7821045997846966,
          0.03821228124879116,
          0.5899462736867617,
          1.737963146099032,
          -1.271788984100902,
          -0.5322476229391914,
          -2.428835848863898,
          0.5847686220510014,
          0.9005602940745395,
          -1.6462799485591715,
          -0.09188416944439083,
          -1.271005534467248,
          -1.1175003818444635,
          0.5827420324557581,
          1.439256672980486,
          0.16594493270264063,
          1.4716468352592667,
          0.7281927148697632,
          -0.6759769876161114,
          1.6120682531410524,
          -0.8264639890346616,
          0.2320324293995883,
          0.7904146313992257,
          0.39362095937445735,
          -0.5938681466645221,
          -0.2154767350917504,
          0.3035520274432873,
          0.7734936076454171,
          0.8672507268961822,
          0.12113245215298568,
          -0.6448272602253187,
          -0.5667018634832885,
          -0.8808831990232352,
          -1.7381104672361944,
          -1.1702990747257598,
          0.5893652992278376,
          -0.10184753702842969,
          -1.0205482642345034,
          0.7816490429567072,
          1.7555388470527162,
          -0.2538809933229555,
          -1.4502640959218802,
          1.0381601850741997,
          -1.3482663797298406,
          1.5437718966939475,
          -0.9576552151290373,
          0.5525103234913441,
          0.5250018729174034,
          2.0193589380772896,
          -0.5930845927924887,
          0.6601913974525156,
          0.4869539421201939,
          -0.10288587555715503,
          -0.47552275130332156,
          -0.2728586375016777,
          -0.8960869919797865,
          -0.7352537600688797,
          -2.0364107739019492,
          0.07589970749521839,
          0.5590347475329263,
          -0.7147220207228789,
          -0.5049184285032075,
          -0.20635287573625258,
          -0.1858214328235075,
          -0.7207507219449313,
          0.23400019115456636,
          -0.6813894743084629,
          -0.7312100531211981,
          -0.872809272608838,
          0.12810128082681851,
          0.212888327375068,
          -1.0680614302717029,
          1.0800283518594451,
          -0.6180329768725007,
          1.1266617589389933,
          0.40200019506710144,
          0.3616478749110332,
          -1.3885705680807245,
          -0.45675257188736074,
          0.5135541947234572,
          -0.11401403553306289,
          -0.011879222429322182,
          0.37791046995421984,
          -0.023447727991715763,
          -0.9036488949380386,
          0.3353431692879386,
          0.9469915807924821,
          -0.3533441615526748,
          0.3989571751892893,
          2.118840508489202,
          -0.5182529286492876,
          0.09198909133959614,
          -1.5837855740366866,
          -0.5590570556904488,
          1.5062510712395234,
          -2.0498484975707045,
          -0.10991454477550405,
          0.19297412037503248,
          0.9739791935774,
          -1.5461241082964867,
          1.0539294142688558,
          -0.007693677067626202,
          0.6192676147315213,
          -0.16565983352606553,
          -0.2360508709043674,
          -0.5544197712521144,
          -0.373675541030452,
          1.2993004727063886,
          -1.4268217643973027,
          0.3758672131171336,
          -0.22761263127133533,
          0.8939051017423867,
          -0.025588236519921113,
          0.07136982920941103,
          0.8121822253995556,
          0.7279064229751453,
          0.08898743777680934,
          0.3928108909512378,
          0.525764124225484,
          -0.3823287078496034,
          0.05062908468222347,
          -1.1417150277460688,
          1.9274182676945932,
          -1.7780466159580492,
          0.854894275486764,
          0.42824546773215943,
          -0.2780992384042175,
          -0.5837965955016127,
          0.8418292960995458,
          -0.31891554742522354,
          0.0011676547474009555,
          0.7362921953534782,
          -0.1503294436500871,
          -0.39780939223566464,
          -1.3775721185245373,
          -0.4113659726346565,
          -0.9617351596834381,
          0.6989331164639253,
          0.03994265753283209,
          0.9535318296306005,
          -1.1823901977262004,
          1.2363682547587456,
          -1.9078803830925122,
          -1.025845127467202,
          -0.17038031021418773,
          -0.2912452766706327,
          -0.2725174793581057,
          0.554812332210362,
          0.34029370325688335,
          1.8031102460719357,
          0.8829693941357787,
          1.0310785247333447,
          -0.26563565021788244,
          0.3044504888380534,
          -1.4273035408978128,
          0.32174429939918814,
          -1.7076628358008077,
          0.2046779267508477,
          0.4644954212076825,
          2.389571613171378,
          0.6006456117928421,
          -1.3864694905875343,
          0.6006986701838105,
          -0.3614451314263861,
          0.7686803871032117,
          -2.182360968045921,
          0.5530207017942466,
          -0.05305369577399308,
          -0.19567139224247512,
          0.5556176200726838,
          -0.27022099446104525,
          -0.2970251945683288,
          0.8557276114994017,
          -0.8528052256789054,
          -1.1080815827413026,
          -0.39049266723774206,
          0.17669893501621525,
          -0.3352015871688911,
          -2.619955742755124,
          -0.10449066351420415,
          -0.9832219223713633,
          0.3790223623761519,
          -0.4602824837677899,
          1.266424942840101,
          -1.6150676710419463,
          -0.13390903596641857,
          -0.955467997688502,
          -2.1110227947384907,
          0.3838811134791746,
          -0.8093271929731941,
          -0.9138103437792277,
          0.23500612399608067,
          0.22262671738257994,
          0.712372644883896,
          -0.9422734895572287,
          -0.8426329700676839,
          2.395953488108135,
          0.9358664798580402,
          -0.18904103045058784,
          -0.9697478504040479,
          1.1498297347528752,
          0.46961011689262366,
          -0.6113826817550619,
          -0.7178541819807954,
          0.44037992417635224,
          -0.08787571383056722,
          0.9436520252658116,
          2.7138379110733997,
          0.2741242970649651,
          0.017888651419219942,
          0.5562972964443395,
          -0.6562540552891243,
          1.7385870362981937,
          -1.3733423732923655,
          -0.2349065411087463,
          0.26486407489432623,
          -1.2359545359892843,
          0.31559021277916316,
          0.25899744372279476,
          -1.1786079156763727,
          1.1929834688997556,
          0.46663475319076564,
          -0.9019400549569969,
          1.0231703859538417,
          2.119616569561514,
          0.7077760750636436,
          -0.4334806115920548,
          -1.0411329662397122,
          0.055948151782597884,
          2.084043471508685,
          0.25371920784705376,
          -0.6162709536877268,
          0.7222215188768792,
          -1.6880334026754296,
          1.2505758783418994,
          -0.9040159400019782,
          -0.7687889755672895,
          1.1162266512865144,
          0.8171947144076644,
          0.3421979690985216,
          2.282933212213798,
          -1.1284874880424982,
          -0.8458654661858181,
          -0.14046777980746786,
          0.13932584718769414,
          0.7621403050387138,
          -0.9954659495938176,
          -0.9029074232923284,
          -1.601287552542129,
          -1.113831208717632,
          -0.33766665153636716,
          -0.7155669901090835,
          -1.2464974702048692,
          -0.6225603241723233,
          -0.3560477949280349,
          0.8309958280403242,
          -0.8744767040226807,
          1.1929888505895945,
          0.6646921097723574,
          -0.5628181933697224,
          -1.7914597218358093,
          0.830681726824732,
          -0.3737184743909007,
          -0.06401527742131378,
          -0.8541351266597028,
          -1.1450141570967627,
          0.575973899315991,
          -0.7156813126963303,
          -0.3787148340233212,
          -0.811020900715864,
          -0.6661522647133363,
          0.7396886439400886,
          1.3248557833100425,
          0.5881936732750801,
          -0.973707143414489,
          -0.23023387859908068,
          -0.6356195651110165,
          0.5136590739047509,
          0.49850215502782835,
          -0.35785629959247517,
          -0.376421182189696,
          0.41296832680315687,
          0.5958963847055032,
          -1.215691470293326,
          3.0088597474617296,
          0.24277312725137856,
          -0.971706431325199,
          0.3133048452777483,
          1.4816744354789435,
          1.2934596128753333,
          -0.7454085219659855,
          1.0348257066271616,
          0.6888412925054225,
          -0.9126351943341369,
          0.2215130591447454,
          0.15014915629407688,
          1.6936809289028352,
          -0.5160216983860554,
          0.9690551665621823,
          0.6098417370941284,
          -0.36324232466263573,
          -0.6318806987352691,
          0.961319142102849,
          -0.04905949342611906,
          -0.37003762683564584,
          -1.8548203280989137,
          1.241580977203219,
          0.9695222778878552,
          -1.2580543196362513,
          -0.2778043544325551,
          -0.024900292897384133,
          0.5331589649231017,
          -0.2571366890236119,
          0.501131835556351,
          -1.6333693151694118,
          -0.6531558129459079,
          -0.5613916931145777,
          0.23335137756003416,
          -0.3053349601268253,
          0.3866103734641609,
          -0.1013220950595596,
          -0.09818144569871236,
          0.894112207374607,
          -0.02551146062428864,
          -1.1630849109194503,
          -1.1850002974800502,
          -0.07127364282545406,
          -0.22589302444574377,
          -1.202942124820417,
          -0.8827029326342856,
          -1.425462736922034,
          -1.043818754201821,
          -1.002616278957907,
          1.562623090011332,
          1.2524851995946216,
          0.7954741456351591,
          -0.4468273659873353,
          -0.3881152072572166,
          -0.7748975699132142,
          -0.07821075631276177,
          -0.8403353339323931,
          -1.4429197719027376,
          1.000901541065202,
          -0.33050169370551535,
          -0.013943028048199508,
          0.7953338905567443,
          -0.3048316333690557,
          1.4698464064853263,
          0.8346536390918918,
          2.0616969277304764,
          0.4474728813936005,
          1.8197631316094058,
          0.14101122675810832,
          0.49388462645919357,
          -2.2841638811601004,
          -0.08417722348790203,
          -1.3921101660665995,
          0.8827206026771853,
          -1.2448723241470907,
          1.0853117275815098,
          -0.04736764556718823,
          0.3849378392381082,
          0.889321659383226,
          0.7186058383859558,
          -0.689505626938272,
          2.2787458428649643,
          -0.8141183192719474,
          -1.4094203756520851,
          0.9723187652964226,
          -0.5174740151544551,
          -1.1337228213488457,
          -0.6596774315297109,
          0.8719688741926668,
          0.2886480009375546,
          -0.5992551965745981,
          -1.6480987774919487,
          0.8879410158263753,
          -0.0779722330524118,
          0.7695742424042147,
          2.0812899127570197,
          0.6903907466098467,
          1.6355487605206507,
          -1.1623027326296789,
          -0.10944927250516243,
          0.3020695221415434,
          -1.0773573076224525,
          -0.2910955541004155,
          1.3919574532008108,
          -0.029313184650240465,
          -0.4660072850161786,
          -0.08479673669471594,
          2.7060811892467243,
          0.5304189301149285,
          -1.0504571595533252,
          0.07134656219888388,
          0.6259195435188528,
          -0.855331957623909,
          -1.5053097739153904,
          -0.463055898776417,
          1.3731118151165866,
          -0.282269954755254,
          -0.32439286811011886,
          1.6743479913361154,
          -0.2152924739879522,
          0.8662150601812496,
          2.202986899625532,
          0.7504087043494644,
          0.11337123479974544,
          1.798707673431114,
          -0.9773638299612484,
          0.3227168557788372,
          0.2080384710025075,
          0.41632005468449856,
          1.3099986295022448,
          -0.8619837003626023,
          0.2117327831671286,
          2.5016015209796,
          1.5671039792515011,
          0.09887852091962307,
          0.34855870259160837,
          1.6503801591078766,
          -1.0381182588237121,
          1.0690862302251547,
          -0.30320844059494156,
          -0.36814650300829393,
          0.5411326996453047,
          -0.6907071201398665,
          -1.3084080489556424,
          -0.12009654212182518,
          -0.8645192666695136,
          0.9981079613274427,
          -0.8290281299886852,
          -0.6589598318734636,
          -0.457174308116433,
          -0.2889497246413633,
          -0.4700475115229863,
          0.20117720624139168,
          -0.012481424529981485,
          0.7774060915724873,
          2.5504254244804003,
          -1.5987740385313636,
          -0.18820831221968715,
          -1.4252348420932055,
          0.3191849711826877,
          -0.2513648641986184,
          0.42409425277399365,
          -0.6055679020718563,
          -0.5657419046564929,
          1.1750263511682193,
          -0.06690403494691603,
          -1.3107831129461636,
          0.27714859483060045,
          1.0832417897720388,
          -0.19903573391869728,
          -2.256556164580058,
          0.07142713265544659,
          0.9955251445414264,
          0.20810481878323703,
          0.11869751107903188,
          -0.5975209348037833,
          -0.11287716468636648,
          -2.45555760059863,
          0.46969497025981416,
          0.91915013178246,
          0.5948607746016182,
          -0.07621847759407094,
          -1.925934782644378,
          -0.46085722992350664,
          -0.5622424061582705,
          1.3231821854200134,
          -2.3908960383655145,
          0.12036652480687854,
          -0.8922408382426633,
          0.6528354605820966,
          1.3116636073666754,
          -0.4615874952054909,
          0.29246324130355167,
          0.4499269559946741,
          -0.379749567647174,
          1.1180326579239706,
          0.5093398516469521,
          0.47711113218969736,
          -1.2219223684832174,
          1.9730553386356262,
          1.10760611984275,
          -0.7874083137701565,
          -0.33950376835411583,
          -0.3764764892941866,
          1.0935066268896891,
          -2.3091826958412507,
          0.6614512897967861,
          0.6765102936345551,
          0.8217135374307255,
          -0.2910061941590321,
          -1.0172808545956262,
          1.4398502479542992,
          1.0790518908556352,
          0.34596399011906787,
          0.2916338652934067,
          -0.09155618849898149,
          -2.9737612984298893,
          0.9570955016351733,
          0.26333787136360504,
          0.6980934010624377,
          1.0887135519178726,
          0.46999861128302,
          0.6197576573934654,
          0.5018237842957429,
          -0.8265090610978676,
          -0.7723311429220712,
          -0.7984714184134427,
          0.24617807012282408,
          -1.3590286779430008,
          -1.0152967502755907,
          -0.5360443908962627,
          0.015906299911218162,
          0.26764888064626946,
          -0.1999391102867646,
          -0.36075643166223104,
          0.7136953722194326,
          0.5802092429538399,
          -1.1075424214004976,
          -0.40211282548081145,
          -0.2243268427625873,
          0.9091637443316058,
          0.23145678637600003,
          1.2737963284307825,
          -0.10554376831606167,
          1.7906752714335628,
          0.27264060050672784,
          0.5768225081297439,
          0.1165203204354917,
          0.7623154688112875,
          0.7882182994347549,
          -1.106465214959533,
          -0.30289146000066397,
          0.163684743069219,
          -0.7807138441081858,
          0.1975773188654068,
          -0.3801673394172174,
          -0.7055557914964593,
          0.7741214333876861,
          0.21662830278268477,
          0.27634532117686494,
          0.6171305382440814,
          -0.04678235302683413,
          0.5033542326867484,
          -0.2593966841072175,
          0.18140749835971187,
          1.6323573066688446,
          -0.33140018297002305,
          -0.23391646562981688,
          1.3676212639556011,
          -1.3169432496067337,
          1.9776847039034597,
          -0.49949223758273487,
          -1.1212202091387242,
          0.9655364753704035,
          -0.05323052008952479,
          -2.736620407323672,
          0.44178327287750707,
          1.650109926081626,
          0.4153070757453906,
          0.5565245312590235,
          -1.1283840800046883,
          -0.6381275716842225,
          0.8794729350488892,
          0.8882106465790195,
          -0.07430514086217131,
          -0.2647473656355644,
          0.31727723405723474,
          0.6666502346347226,
          -1.008713705835833,
          -0.8519878400127232,
          0.0499362022261604,
          0.12461197901651776,
          0.8243651205461732,
          0.3951569477516467,
          0.20160472332161924,
          -0.4855635591688543,
          -0.4246025540721636,
          -0.7411193264152168,
          -0.09805243819285578,
          0.10013289210914503,
          -0.6373727941366558,
          1.1942613336072965,
          0.5687330478394382,
          -0.4780092981310268,
          -0.9124655223782461,
          -1.8754198685986,
          -0.5617635860142459,
          -1.161211473794668,
          0.9389669587754894,
          -0.8758801791475308,
          0.015197335334095199,
          0.3771630461778983,
          -0.5752783261274815,
          -0.7333066373665953,
          0.36147856038530785,
          0.7064803873317467,
          -0.5206992500082276,
          -0.1645934909538898,
          1.8083300426697262,
          1.4999803679723678,
          -0.6076137460860777,
          0.45774805339363256,
          0.5926741219373508,
          0.04989531637333502,
          -0.7777466950779057,
          -1.82513669316961,
          -0.30879142713149,
          0.2890505979169689,
          -0.5318459284246024,
          0.7505131303969821,
          -0.8024281847691191,
          0.5188035485522458,
          -0.8860214200543224,
          0.21994033288263126,
          0.7417572700726129,
          -1.4193917532295162,
          1.3155736042794912,
          -1.2615820621084652,
          -0.3497102751507965,
          0.2389638527054295,
          -1.0366551397588841,
          0.6561025488117269,
          2.425317880009083,
          -0.07154260146749687,
          0.7996873513891263,
          -0.4780581672324148,
          -0.3797132939408402,
          -0.4530383782287245,
          0.5666873683862793,
          0.027035618488941714,
          -0.7242400166117107,
          -1.1537532831074289,
          -2.1934037540955402,
          1.0943051956845964,
          -0.08351507336046206,
          -0.41526093522787677,
          -0.4272461722059642,
          0.6296899520381766,
          0.540097414486598,
          -1.021886429306092,
          1.5279243303060952,
          1.3392343492457854,
          -0.17320946753143526,
          1.003173036613549,
          -0.3090338354539524,
          -1.9419087162711997,
          -0.10128681501816415,
          0.6186114605875895,
          1.2559762231063767,
          1.0092104697139386,
          0.06055553373502893,
          0.5693184620447338,
          0.6046694572851015,
          -0.6684717065924045,
          1.4233300377631792,
          -0.19666015186788433,
          0.18711484246040977,
          -0.7324717709076111,
          1.653863229356181,
          0.6596616281283914,
          2.3724871929131295,
          -0.4510892279931928,
          0.48409680763618634,
          -1.3311496257007744,
          1.2921673906659177,
          -0.5667476785870708,
          0.48685394840587215,
          0.0076816730751226485,
          1.142534109128849,
          0.9087300799826858,
          -0.19880833405489012,
          -0.7150438280919731,
          0.5076123826130927,
          0.6941424304148889,
          0.8797427316090729,
          -0.6291506520556469,
          0.20335034155134987,
          -1.7352887703017268,
          1.1712820694990962,
          -1.7686633876881577,
          0.6223396676009575,
          0.46512885937622345,
          1.6879250702679165,
          0.4303253072142224,
          -1.6144809631523196,
          -0.5406306272838356,
          0.03921939017545267,
          -0.6231451542982434,
          -0.9177576458013124,
          -0.6182010739952635,
          -0.0663679032919053,
          -1.1125017063608322,
          -0.9593546131731476,
          -0.09290822100846133,
          0.3240975476441513,
          0.8411515231068016,
          -0.6721900059274769,
          -1.1637484662694721,
          -0.06224411183149558,
          -0.7985321033750173,
          0.6101468542988028,
          -0.4857054067253779,
          -0.38349412242818515,
          -0.650463321641253,
          -1.4920601025656222,
          1.0432210004362124,
          -1.1078433610107075,
          1.1031805413143472,
          -0.0720209422385812,
          -0.6675390971554305,
          -1.445952814346146,
          0.8726307008351787,
          0.016838377640785884,
          0.29705271536042344,
          0.2447610980206667,
          -1.3992038454730664,
          -0.8926919724169559,
          0.813737547971762,
          1.6883745916691946,
          -1.2571568681543634,
          0.03671762268182246,
          0.05841127107522684,
          0.36680281574756496,
          1.1253177719018173,
          0.30825166498532325,
          -0.6535628807215174,
          0.8118517052863042,
          0.06028665126041884,
          -1.2930416119368637,
          -1.2258187042711257,
          -1.1577262790326222,
          -0.8254646771882811,
          -0.3020979232955071,
          -0.7184671454056301,
          0.403330500084435,
          -1.0010344407300915,
          0.07845088042314924,
          -0.07399161048452825,
          -1.256135197169535,
          -0.4783252971380331,
          -0.2125393817833896,
          -0.8425798019150639,
          1.3020125700763243,
          -0.07776835067159145,
          0.27602975380637323,
          -1.648065409888974,
          -0.53592008754995,
          2.0841062342782943,
          1.605188104456061,
          -0.3273212386421819,
          0.05598411793674916,
          -0.20033208243134581,
          -0.13403046068771202,
          0.8261983518696379,
          -0.3563840113347411,
          0.904412671526077,
          -0.3001353340233346,
          -0.27071654561188685,
          -0.9577540225574851,
          -0.7953246718586225,
          -0.22938890242506188,
          -0.001358483503068319,
          0.9848543909455649,
          0.570051157592364,
          0.6243240461826833,
          1.0713880588690317,
          -0.06033745349606635,
          0.7619793708716687,
          1.5290997368452874,
          1.8521137660762985,
          0.1582169246736874,
          0.5829525923026336,
          0.1555859085970491,
          -0.369953331294912,
          0.1654948480580207,
          0.798605307642438,
          1.0770338979178338,
          -0.8357876964869747,
          -1.0359944570552002,
          1.164777639092528,
          0.33141445787673424,
          1.0985199006520039,
          -1.0277445766427504,
          -0.29587435746214885,
          -0.16839358706441218,
          1.1080870999293133,
          -0.011929103206299429,
          -0.25166313551895064,
          1.5267616588384638,
          -0.6532311492535046,
          0.8575086936039383,
          0.4042670599708394,
          -0.056591193117109286,
          0.15588558943326727,
          -0.294289598336257,
          0.7509055819899709,
          1.7779704642658065,
          0.67513444542959,
          0.49103795596913,
          1.571777832739829,
          -0.5267816835107868,
          -0.6013577180116284,
          -0.7273859510649329,
          0.8312330413350001,
          -0.18248353269237122,
          -0.39163050244291664,
          -0.6890642225847022,
          -0.46749975554873135,
          0.07512583793327426,
          -0.05042939829041792,
          0.6414932813729759,
          0.8668888288931468,
          1.7272222570616709,
          -0.19856248740500362,
          -0.5632060776229861,
          -0.30899968026251073,
          0.9029395601114132,
          -0.783445532891624,
          -1.3058292375264955,
          -0.6942425606089814,
          -0.7425307751988784,
          1.1644421083589518,
          -1.1574851456839899,
          -0.5431588076006786,
          2.592774711631148,
          -0.2201635177734268,
          0.27050579497099947,
          -1.3924787761441506,
          -0.10148944144902143,
          -0.1424446628031529,
          0.3159251147008662,
          0.44786623209043047,
          -1.0739823113852711,
          -1.393104585600274,
          -0.8552546225446618,
          0.6418953254800542,
          1.2768218773059312,
          -1.0945259137273486,
          -0.18433207209797278,
          1.058922073582595,
          -0.3187637788725864,
          -0.7377182181928101,
          0.2958406122860769,
          0.75081301144595,
          0.7987241470047366,
          0.08945314094575811,
          0.6357529049602588,
          0.6269982861603071,
          -0.14423953702736628,
          2.964225475372427,
          -0.8069074567025979,
          1.4592308115229198,
          -0.34530251513416294,
          -0.8383793261596899,
          0.5867823701984384,
          -0.8447532162929366,
          0.0917683840993265,
          -1.2485281528163958,
          0.09346141708734042,
          -0.44125855158149807,
          -0.2212204483564036,
          -0.35065568662976626,
          0.0007470775868581524,
          0.04340769748970289,
          -0.29667899648176693,
          -1.692708792305199,
          1.4354902450710953,
          -0.6493856214870773,
          -0.08599006297193612,
          0.0676717887475617,
          0.05333673736065794,
          -1.8422831472271792,
          0.02911608066765954,
          -1.0794253888757648,
          0.5148723927603068,
          1.640515315335578,
          -0.3415749716293763,
          0.8231023491158692,
          1.493966805595762,
          -0.29380218035732253,
          0.0012973364070417517,
          -0.7269283835086937,
          -0.7473618055010358,
          -0.3641518862944902,
          -1.3851700146036545,
          -1.0436467306820623,
          1.1452296503812822,
          -0.7956367335272068,
          0.18818411888912442,
          0.7295013029552007,
          0.7075436969845531,
          -1.506675635561223,
          1.3296861835410754,
          0.8037236862584387,
          -0.15483404496207673,
          -0.37688648802175106,
          -0.0893631635005528,
          -1.726445997649762,
          0.5658445773339826,
          0.27061721526249793,
          -1.1633351201399458,
          -1.445887509347687,
          0.6626507988427469,
          -0.6942422181854078,
          0.34717250215910456,
          -2.020878623188553,
          0.8976860947704064,
          0.9664748927898328,
          0.661980972530657,
          -1.1448891290449388,
          0.21947322068978875,
          -1.5360247363104695,
          -0.08808047825588959,
          -1.5618813265548626,
          -1.067640801313717,
          0.40447829065312507,
          -0.5773022416929507,
          -1.414906065629015,
          2.137963379578184,
          -0.662253886061952,
          0.5821014407421737,
          -1.0787350150079833,
          0.9108268359970109,
          -1.8384373878900993,
          -1.4957719793889337,
          0.6693863311107345,
          -1.5964747271274415,
          -0.22472896140380222,
          -0.13615415200696981,
          1.2647809637636824,
          0.14158534005777784,
          -1.0136214700128132,
          -0.472723550572239,
          -0.18584379216161587,
          -0.12505548322546609,
          -0.8087754441421612,
          -0.07377645844832632,
          -2.9925217509923026,
          -0.543799784716643,
          0.25096799444521206,
          0.7942610185839578,
          -2.141309151576011,
          0.05763577237989899,
          0.4853434898768164,
          1.799171586925284,
          -0.0014773250205623281,
          1.4655730365907913,
          0.14901599353092854,
          -1.6592108729973503,
          0.5981454740142631,
          -1.1641729516794992,
          -1.313416457677928,
          -0.7170866645617505,
          1.245053267045489,
          -1.339211099307672,
          0.2626257203614569,
          -0.5805972390815918,
          -0.6832770492171473,
          -0.46222258217782347,
          0.2851260491439169,
          -0.6128821455465993,
          1.3301449045108775,
          0.6661988369709437,
          -1.113911764546147,
          -0.33913295683448225,
          1.3597499366712198,
          1.9813454262641823,
          -0.5757750982645312,
          0.48112772303621537,
          -0.4988346407444025,
          -1.248507156221654,
          -0.4918171244738918,
          0.9009939627042345,
          1.545776848741756,
          -0.7135235536721949,
          -0.808365813237641,
          0.30076440675393157,
          0.831326837669148,
          0.08887211760331419,
          0.322498698313574,
          2.4631293233397336,
          0.8609292649576673,
          0.4950408927355608,
          1.6093494230813628,
          -0.17034139108596943,
          -0.855479865099203,
          -0.19657030610815965,
          -0.036104812395649395,
          0.4241658297378606,
          0.31376725058880384,
          0.5142848706430239,
          2.0707658609930255,
          -0.10700593277107903,
          0.7859474885537889,
          0.19461512026643904,
          -0.48074087710649016,
          -1.401190517440701,
          1.2640665268132392,
          0.010511554201732474,
          2.61256203213255,
          -0.06649826235635294,
          -0.21953778867508342,
          -0.5598410278790363,
          -1.0391498754623174,
          -1.5296063791106305,
          0.5005392838990163,
          -0.8680506575827143,
          -0.10452275420111237,
          0.9519639326858127,
          -0.6572650641919763,
          1.1342281872164877,
          -1.2679617778191716,
          0.03963334576221716,
          2.326254098270857,
          0.8011608508238872,
          -0.14807560365471242,
          0.31996456108635163,
          -0.014124743767362958,
          1.1571029331771747,
          -0.12578516227772854,
          0.17504860937496097,
          0.2144900210091769,
          1.5752323294114774,
          1.8246989079354672,
          0.1309611137956106,
          -0.6757843017454854,
          -0.2117530490652891,
          0.949184218589263,
          1.4677497473794616,
          1.0945746447762041,
          0.43415230544051747,
          -1.7870657536781436,
          -0.4501877565322022,
          -0.9535620345795551,
          0.7535589031415431,
          0.2562937609570394,
          2.011326953368684,
          -0.6597708540760969,
          -0.9547846998440388,
          0.17481546886463473,
          1.3641948271545958,
          1.378453838819299,
          -1.9715550023463573,
          -0.3578052471892819,
          -2.3035229263485446,
          -0.8255017009199421,
          -1.315916170946626,
          1.2056926659038467,
          -0.8422017077324722,
          0.07311310402546559,
          -1.016202317439971,
          1.8726079348883873,
          -0.8607599232537259,
          -0.17796446324752382,
          -1.6934344676539466,
          1.289087609096196,
          1.747289650612585,
          2.7639560107311647,
          -1.6512829017973065,
          1.6205101748963777,
          0.8194243632693784,
          -0.5814903123208954,
          -0.6990464497679778,
          -0.15878062270888693,
          -0.19256902923259114,
          1.9646014964018617,
          -1.9221153666097053,
          -0.11104217518668368,
          0.9991625294526492,
          1.2966853235769582,
          -0.7688695660120158,
          -0.9667351708231018,
          2.0004105211515295,
          -0.37163887480846647,
          -0.05261859998687409,
          0.023841157768726834,
          0.4287717074259177,
          -0.5241122435996922,
          0.8601258113876703,
          1.6857647216964577,
          -1.4616092230940638,
          0.4444576430954128,
          -0.8688984819260501,
          0.43293005921522765,
          -1.250773513716424,
          -0.1584708957786072,
          -0.531450250909861,
          0.4346688727190713,
          0.3058371341474531,
          -0.13375628486148408,
          -0.29637287906696314,
          0.9641246265196018,
          -0.4076640352155521,
          -0.7894254687503622,
          -0.6473271969115607,
          -0.0005728795310815858,
          -0.3748105436975825,
          -1.6128516213430817,
          0.4883934800366658,
          -0.6978833604698951,
          -0.057452896732476354,
          1.8082206978650448,
          -0.9638675140509728,
          1.0790493562009023,
          -1.3209548704428542,
          1.1534610594355037,
          1.5145523313729392,
          1.1593345295936341,
          -1.658455465429712,
          2.2165964774770384,
          0.9391490148944827,
          0.3665521137303055,
          -0.39747997695919496,
          0.8407984799098788,
          -1.2857172471464022,
          -1.0714117391368547,
          0.9887724538544179,
          -0.40289813359061344,
          -2.545862286086248,
          -0.3755783556289682,
          0.5805162637715404,
          -0.31489603887001816,
          -1.3106748386168356,
          0.06506050600984645,
          0.9086322548796404,
          0.8572119286148585,
          0.07498346928893214,
          -1.2347537229117616,
          -1.8663935348730774,
          -1.5442516992183144,
          -0.1993772483167179,
          -0.5111445822453946,
          1.2244393788766166,
          -0.9628413567167847,
          -1.3076223187183327,
          1.8870908404209663,
          0.09578942363081318,
          -0.6495976250584372,
          0.42545209409073104,
          0.5850611171092331,
          -0.3302328936546411,
          -1.986257089066722,
          -1.3561677810347934,
          -2.0651480173086596,
          1.8172843787150956,
          -0.06658091272881916,
          -0.2013238420836077,
          -0.3801896804778596,
          -1.1187282116603194,
          -1.0424836256824743,
          -0.9541548476470518,
          -0.767740128074741,
          0.3339312410599053,
          -0.6755625753253186,
          0.9369654189330122,
          -0.21599025444743436,
          -1.4501177081567111,
          0.1595680622392685,
          -0.2100652795261813,
          1.0304433299345102,
          0.42526937387674374,
          2.2071542991479847,
          0.9650205134006667,
          -1.1738370173776078,
          -0.664315020941951,
          -2.1207024512939276,
          2.102172054408683,
          1.9351662165068402,
          0.5469853959212132,
          1.76161058622051,
          0.3031461861421765,
          -0.26517787853926755,
          -0.060945378070659965,
          0.13219498902876592,
          -1.0175696618131418,
          0.8211868337555057,
          -0.2754121595029774,
          0.837713208836695,
          0.47747232382590726,
          -0.025154770629646026,
          0.7404571214314025,
          0.7288078007555462,
          -0.12790906237292135,
          -0.18343429006545095,
          -0.7274770610267501,
          -0.3012285057357105,
          1.1113118565399238,
          0.1691767857151511,
          0.6839762061848613,
          1.3168230966905559,
          0.19881549293719974,
          0.6864300225188392,
          -1.6941335187679887,
          0.287769565779034,
          0.46422068315517884,
          -0.6280434222955306,
          0.3804994038181858,
          -1.1287325524920109,
          -0.33300206014462364,
          0.08877333854401351,
          0.26854919946526634,
          -0.6550617733560679,
          1.4256803629215178,
          -0.7968953764239889,
          -0.7293766584677153,
          -1.1450009377993602,
          -1.1307374531420915,
          -0.15686244569731828,
          -1.3337696262679954,
          -0.45884546631074674,
          0.49700515766103637,
          -1.3122192744566952,
          0.7733626970199162,
          -0.9578895362314711,
          -2.066277745395777,
          -0.2851525189426774,
          2.3245064861560603,
          0.6768300176644921,
          1.5797029331324832,
          -0.578196409420862,
          -1.8604583405496469,
          -0.8064264469979253,
          0.48576772062700274,
          -0.5637542879368195,
          -1.1375730578534342,
          -1.8312334787004005,
          0.1752917561000956,
          -0.686485477607451,
          1.9782628488636385,
          -0.8883147481633199,
          -2.192261620372481,
          0.5461686003878126,
          0.1061385979653285,
          2.0445600439238723,
          -0.3655443985289486,
          0.8323857526828216,
          0.26005116402151124,
          0.485735477699686,
          1.3047464819865635,
          0.17758414143111886,
          0.43975306291143995,
          1.0782920886840477,
          -0.425361116934097,
          -0.839646207035077,
          -0.7231629831804107,
          1.6208741401167392,
          -0.4320179789994998,
          -0.2976914679647249,
          2.087523018870449,
          -0.08019517972061695,
          -1.8130091294930093,
          0.03434299047865633,
          1.5215469200623328,
          0.12789770929867278,
          0.5430662492609012,
          0.9112465656581393,
          0.6740287114979534,
          -1.8646127163401547,
          -0.6655326852898295,
          0.7346883744060526,
          0.1432015897444746,
          0.30063069220110444,
          -0.5290872736701677,
          -3.2933411916045494,
          -0.3758396524498813,
          1.4644287451987328,
          0.7218473582705479,
          1.373189633261211,
          0.628684654798293,
          -1.9922464066344097,
          1.1078556028466684,
          0.038700487704821825,
          1.6933605907386984,
          -1.0690987277208026,
          -0.31733869296019884,
          0.8457322393919079,
          0.06522179459209035,
          -0.7609100043454021,
          -0.0652464515175564,
          -0.344622439220483,
          -0.42228470909689964,
          -0.5090064024019236,
          -0.6769564897434693,
          0.16019583388782457,
          -1.1994634875320833
         ]
        }
       ],
       "layout": {
        "template": {
         "data": {
          "bar": [
           {
            "error_x": {
             "color": "#2a3f5f"
            },
            "error_y": {
             "color": "#2a3f5f"
            },
            "marker": {
             "line": {
              "color": "#E5ECF6",
              "width": 0.5
             }
            },
            "type": "bar"
           }
          ],
          "barpolar": [
           {
            "marker": {
             "line": {
              "color": "#E5ECF6",
              "width": 0.5
             }
            },
            "type": "barpolar"
           }
          ],
          "carpet": [
           {
            "aaxis": {
             "endlinecolor": "#2a3f5f",
             "gridcolor": "white",
             "linecolor": "white",
             "minorgridcolor": "white",
             "startlinecolor": "#2a3f5f"
            },
            "baxis": {
             "endlinecolor": "#2a3f5f",
             "gridcolor": "white",
             "linecolor": "white",
             "minorgridcolor": "white",
             "startlinecolor": "#2a3f5f"
            },
            "type": "carpet"
           }
          ],
          "choropleth": [
           {
            "colorbar": {
             "outlinewidth": 0,
             "ticks": ""
            },
            "type": "choropleth"
           }
          ],
          "contour": [
           {
            "colorbar": {
             "outlinewidth": 0,
             "ticks": ""
            },
            "colorscale": [
             [
              0,
              "#0d0887"
             ],
             [
              0.1111111111111111,
              "#46039f"
             ],
             [
              0.2222222222222222,
              "#7201a8"
             ],
             [
              0.3333333333333333,
              "#9c179e"
             ],
             [
              0.4444444444444444,
              "#bd3786"
             ],
             [
              0.5555555555555556,
              "#d8576b"
             ],
             [
              0.6666666666666666,
              "#ed7953"
             ],
             [
              0.7777777777777778,
              "#fb9f3a"
             ],
             [
              0.8888888888888888,
              "#fdca26"
             ],
             [
              1,
              "#f0f921"
             ]
            ],
            "type": "contour"
           }
          ],
          "contourcarpet": [
           {
            "colorbar": {
             "outlinewidth": 0,
             "ticks": ""
            },
            "type": "contourcarpet"
           }
          ],
          "heatmap": [
           {
            "colorbar": {
             "outlinewidth": 0,
             "ticks": ""
            },
            "colorscale": [
             [
              0,
              "#0d0887"
             ],
             [
              0.1111111111111111,
              "#46039f"
             ],
             [
              0.2222222222222222,
              "#7201a8"
             ],
             [
              0.3333333333333333,
              "#9c179e"
             ],
             [
              0.4444444444444444,
              "#bd3786"
             ],
             [
              0.5555555555555556,
              "#d8576b"
             ],
             [
              0.6666666666666666,
              "#ed7953"
             ],
             [
              0.7777777777777778,
              "#fb9f3a"
             ],
             [
              0.8888888888888888,
              "#fdca26"
             ],
             [
              1,
              "#f0f921"
             ]
            ],
            "type": "heatmap"
           }
          ],
          "heatmapgl": [
           {
            "colorbar": {
             "outlinewidth": 0,
             "ticks": ""
            },
            "colorscale": [
             [
              0,
              "#0d0887"
             ],
             [
              0.1111111111111111,
              "#46039f"
             ],
             [
              0.2222222222222222,
              "#7201a8"
             ],
             [
              0.3333333333333333,
              "#9c179e"
             ],
             [
              0.4444444444444444,
              "#bd3786"
             ],
             [
              0.5555555555555556,
              "#d8576b"
             ],
             [
              0.6666666666666666,
              "#ed7953"
             ],
             [
              0.7777777777777778,
              "#fb9f3a"
             ],
             [
              0.8888888888888888,
              "#fdca26"
             ],
             [
              1,
              "#f0f921"
             ]
            ],
            "type": "heatmapgl"
           }
          ],
          "histogram": [
           {
            "marker": {
             "colorbar": {
              "outlinewidth": 0,
              "ticks": ""
             }
            },
            "type": "histogram"
           }
          ],
          "histogram2d": [
           {
            "colorbar": {
             "outlinewidth": 0,
             "ticks": ""
            },
            "colorscale": [
             [
              0,
              "#0d0887"
             ],
             [
              0.1111111111111111,
              "#46039f"
             ],
             [
              0.2222222222222222,
              "#7201a8"
             ],
             [
              0.3333333333333333,
              "#9c179e"
             ],
             [
              0.4444444444444444,
              "#bd3786"
             ],
             [
              0.5555555555555556,
              "#d8576b"
             ],
             [
              0.6666666666666666,
              "#ed7953"
             ],
             [
              0.7777777777777778,
              "#fb9f3a"
             ],
             [
              0.8888888888888888,
              "#fdca26"
             ],
             [
              1,
              "#f0f921"
             ]
            ],
            "type": "histogram2d"
           }
          ],
          "histogram2dcontour": [
           {
            "colorbar": {
             "outlinewidth": 0,
             "ticks": ""
            },
            "colorscale": [
             [
              0,
              "#0d0887"
             ],
             [
              0.1111111111111111,
              "#46039f"
             ],
             [
              0.2222222222222222,
              "#7201a8"
             ],
             [
              0.3333333333333333,
              "#9c179e"
             ],
             [
              0.4444444444444444,
              "#bd3786"
             ],
             [
              0.5555555555555556,
              "#d8576b"
             ],
             [
              0.6666666666666666,
              "#ed7953"
             ],
             [
              0.7777777777777778,
              "#fb9f3a"
             ],
             [
              0.8888888888888888,
              "#fdca26"
             ],
             [
              1,
              "#f0f921"
             ]
            ],
            "type": "histogram2dcontour"
           }
          ],
          "mesh3d": [
           {
            "colorbar": {
             "outlinewidth": 0,
             "ticks": ""
            },
            "type": "mesh3d"
           }
          ],
          "parcoords": [
           {
            "line": {
             "colorbar": {
              "outlinewidth": 0,
              "ticks": ""
             }
            },
            "type": "parcoords"
           }
          ],
          "scatter": [
           {
            "marker": {
             "colorbar": {
              "outlinewidth": 0,
              "ticks": ""
             }
            },
            "type": "scatter"
           }
          ],
          "scatter3d": [
           {
            "line": {
             "colorbar": {
              "outlinewidth": 0,
              "ticks": ""
             }
            },
            "marker": {
             "colorbar": {
              "outlinewidth": 0,
              "ticks": ""
             }
            },
            "type": "scatter3d"
           }
          ],
          "scattercarpet": [
           {
            "marker": {
             "colorbar": {
              "outlinewidth": 0,
              "ticks": ""
             }
            },
            "type": "scattercarpet"
           }
          ],
          "scattergeo": [
           {
            "marker": {
             "colorbar": {
              "outlinewidth": 0,
              "ticks": ""
             }
            },
            "type": "scattergeo"
           }
          ],
          "scattergl": [
           {
            "marker": {
             "colorbar": {
              "outlinewidth": 0,
              "ticks": ""
             }
            },
            "type": "scattergl"
           }
          ],
          "scattermapbox": [
           {
            "marker": {
             "colorbar": {
              "outlinewidth": 0,
              "ticks": ""
             }
            },
            "type": "scattermapbox"
           }
          ],
          "scatterpolar": [
           {
            "marker": {
             "colorbar": {
              "outlinewidth": 0,
              "ticks": ""
             }
            },
            "type": "scatterpolar"
           }
          ],
          "scatterpolargl": [
           {
            "marker": {
             "colorbar": {
              "outlinewidth": 0,
              "ticks": ""
             }
            },
            "type": "scatterpolargl"
           }
          ],
          "scatterternary": [
           {
            "marker": {
             "colorbar": {
              "outlinewidth": 0,
              "ticks": ""
             }
            },
            "type": "scatterternary"
           }
          ],
          "surface": [
           {
            "colorbar": {
             "outlinewidth": 0,
             "ticks": ""
            },
            "colorscale": [
             [
              0,
              "#0d0887"
             ],
             [
              0.1111111111111111,
              "#46039f"
             ],
             [
              0.2222222222222222,
              "#7201a8"
             ],
             [
              0.3333333333333333,
              "#9c179e"
             ],
             [
              0.4444444444444444,
              "#bd3786"
             ],
             [
              0.5555555555555556,
              "#d8576b"
             ],
             [
              0.6666666666666666,
              "#ed7953"
             ],
             [
              0.7777777777777778,
              "#fb9f3a"
             ],
             [
              0.8888888888888888,
              "#fdca26"
             ],
             [
              1,
              "#f0f921"
             ]
            ],
            "type": "surface"
           }
          ],
          "table": [
           {
            "cells": {
             "fill": {
              "color": "#EBF0F8"
             },
             "line": {
              "color": "white"
             }
            },
            "header": {
             "fill": {
              "color": "#C8D4E3"
             },
             "line": {
              "color": "white"
             }
            },
            "type": "table"
           }
          ]
         },
         "layout": {
          "annotationdefaults": {
           "arrowcolor": "#2a3f5f",
           "arrowhead": 0,
           "arrowwidth": 1
          },
          "colorscale": {
           "diverging": [
            [
             0,
             "#8e0152"
            ],
            [
             0.1,
             "#c51b7d"
            ],
            [
             0.2,
             "#de77ae"
            ],
            [
             0.3,
             "#f1b6da"
            ],
            [
             0.4,
             "#fde0ef"
            ],
            [
             0.5,
             "#f7f7f7"
            ],
            [
             0.6,
             "#e6f5d0"
            ],
            [
             0.7,
             "#b8e186"
            ],
            [
             0.8,
             "#7fbc41"
            ],
            [
             0.9,
             "#4d9221"
            ],
            [
             1,
             "#276419"
            ]
           ],
           "sequential": [
            [
             0,
             "#0d0887"
            ],
            [
             0.1111111111111111,
             "#46039f"
            ],
            [
             0.2222222222222222,
             "#7201a8"
            ],
            [
             0.3333333333333333,
             "#9c179e"
            ],
            [
             0.4444444444444444,
             "#bd3786"
            ],
            [
             0.5555555555555556,
             "#d8576b"
            ],
            [
             0.6666666666666666,
             "#ed7953"
            ],
            [
             0.7777777777777778,
             "#fb9f3a"
            ],
            [
             0.8888888888888888,
             "#fdca26"
            ],
            [
             1,
             "#f0f921"
            ]
           ],
           "sequentialminus": [
            [
             0,
             "#0d0887"
            ],
            [
             0.1111111111111111,
             "#46039f"
            ],
            [
             0.2222222222222222,
             "#7201a8"
            ],
            [
             0.3333333333333333,
             "#9c179e"
            ],
            [
             0.4444444444444444,
             "#bd3786"
            ],
            [
             0.5555555555555556,
             "#d8576b"
            ],
            [
             0.6666666666666666,
             "#ed7953"
            ],
            [
             0.7777777777777778,
             "#fb9f3a"
            ],
            [
             0.8888888888888888,
             "#fdca26"
            ],
            [
             1,
             "#f0f921"
            ]
           ]
          },
          "colorway": [
           "#636efa",
           "#EF553B",
           "#00cc96",
           "#ab63fa",
           "#FFA15A",
           "#19d3f3",
           "#FF6692",
           "#B6E880",
           "#FF97FF",
           "#FECB52"
          ],
          "font": {
           "color": "#2a3f5f"
          },
          "geo": {
           "bgcolor": "white",
           "lakecolor": "white",
           "landcolor": "#E5ECF6",
           "showlakes": true,
           "showland": true,
           "subunitcolor": "white"
          },
          "hoverlabel": {
           "align": "left"
          },
          "hovermode": "closest",
          "mapbox": {
           "style": "light"
          },
          "paper_bgcolor": "white",
          "plot_bgcolor": "#E5ECF6",
          "polar": {
           "angularaxis": {
            "gridcolor": "white",
            "linecolor": "white",
            "ticks": ""
           },
           "bgcolor": "#E5ECF6",
           "radialaxis": {
            "gridcolor": "white",
            "linecolor": "white",
            "ticks": ""
           }
          },
          "scene": {
           "xaxis": {
            "backgroundcolor": "#E5ECF6",
            "gridcolor": "white",
            "gridwidth": 2,
            "linecolor": "white",
            "showbackground": true,
            "ticks": "",
            "zerolinecolor": "white"
           },
           "yaxis": {
            "backgroundcolor": "#E5ECF6",
            "gridcolor": "white",
            "gridwidth": 2,
            "linecolor": "white",
            "showbackground": true,
            "ticks": "",
            "zerolinecolor": "white"
           },
           "zaxis": {
            "backgroundcolor": "#E5ECF6",
            "gridcolor": "white",
            "gridwidth": 2,
            "linecolor": "white",
            "showbackground": true,
            "ticks": "",
            "zerolinecolor": "white"
           }
          },
          "shapedefaults": {
           "line": {
            "color": "#2a3f5f"
           }
          },
          "ternary": {
           "aaxis": {
            "gridcolor": "white",
            "linecolor": "white",
            "ticks": ""
           },
           "baxis": {
            "gridcolor": "white",
            "linecolor": "white",
            "ticks": ""
           },
           "bgcolor": "#E5ECF6",
           "caxis": {
            "gridcolor": "white",
            "linecolor": "white",
            "ticks": ""
           }
          },
          "title": {
           "x": 0.05
          },
          "xaxis": {
           "automargin": true,
           "gridcolor": "white",
           "linecolor": "white",
           "ticks": "",
           "zerolinecolor": "white",
           "zerolinewidth": 2
          },
          "yaxis": {
           "automargin": true,
           "gridcolor": "white",
           "linecolor": "white",
           "ticks": "",
           "zerolinecolor": "white",
           "zerolinewidth": 2
          }
         }
        }
       }
      },
      "text/html": [
       "<div>\n",
       "        \n",
       "        \n",
       "            <div id=\"1f76a8bd-1073-4fe7-a4c7-e0f6280b50b9\" class=\"plotly-graph-div\" style=\"height:525px; width:100%;\"></div>\n",
       "            <script type=\"text/javascript\">\n",
       "                require([\"plotly\"], function(Plotly) {\n",
       "                    window.PLOTLYENV=window.PLOTLYENV || {};\n",
       "                    \n",
       "                if (document.getElementById(\"1f76a8bd-1073-4fe7-a4c7-e0f6280b50b9\")) {\n",
       "                    Plotly.newPlot(\n",
       "                        '1f76a8bd-1073-4fe7-a4c7-e0f6280b50b9',\n",
       "                        [{\"contours\": {\"coloring\": \"heatmap\"}, \"type\": \"histogram2dcontour\", \"x\": [0.11796596163915125, -0.03729438084484837, 1.9697688332881218, 0.9623629973316924, 2.1622729420271654, -0.1945456787096435, -0.5145236226249987, -0.28955244329960733, -1.3961549783474574, 1.483226780056886, 1.8963048310972066, -0.954479001325951, -0.8330829625105858, 1.1730856289861218, 0.31951125945728137, -0.3005338057358785, -0.038517960061301565, -0.3915138376954742, 0.6225528285053035, 0.6708921909490111, -1.5885715252989558, -0.033018800922139484, -1.683641111505458, -0.6105228403722006, -0.8256650241432993, 0.1733962965981961, 1.237574261847339, -0.6171075723401452, -0.35758829150824684, -1.423078192527623, 0.3549395461348626, -1.2499834502546, 0.49944059008306735, 0.03718538187387632, -1.2260999943717266, -1.0524393049832776, -0.4324445633117029, 0.624399989811651, 1.4826566875139944, -0.6201860681137117, -1.4781284549347025, -1.9578852737451236, -2.873226889835741, -0.49922518971981067, 0.3009624062989251, 0.06728170624193754, -1.134746533798179, -0.634629694543389, -0.3736902390841027, -1.1862120417639819, 0.13261538805217046, -0.055749113738214374, -0.2992382991017917, -0.24780091061556359, 1.1180372843231414, -0.388456224335799, -1.28437320097059, -0.1190078181025989, 1.7916328177498517, -1.3463553046280543, 0.40901192517353613, -1.7767305141623884, -0.04420875593329815, 0.7103803345319581, 0.033612618869735524, -0.10870315392545266, 0.7486093144445012, -0.24746265984222296, 0.8610652709240308, -0.4914810857049297, 1.0980105753933722, -0.0916700890065396, 1.4839149062470345, -2.2119913486424587, -0.2026025013186104, 0.476564696431019, 0.4749225508234633, -0.23413052075846155, -0.7971196807823614, 1.005272501268198, 1.6034082760264536, 0.30689834829742063, 1.8272125776297277, -1.6976945286249951, -1.6593018883907824, 0.10390563803471053, 1.0056143684088574, -0.20674956669103975, 0.6565793742729574, 0.18068217464082054, -0.5330782453177664, 0.9382545181913893, 1.7548151535639436, -0.0897422005014646, 1.0590167801700514, -0.5977745352085087, 0.7403926152205428, -1.0497646841531532, 0.5645029605309861, -0.2534731859477061, 0.660503149539406, 0.03319964470732169, 1.30041759508781, 1.771060424774995, -0.07937485773652668, 0.3466123173095934, 0.28645487164911193, -0.21833876803341198, 1.573346120316863, 0.6691388519539768, -1.204172927766231, -1.3392141580072419, -0.04277253494160739, 0.06697403416807346, -0.25056386878071735, -1.4730944322756323, 1.384812416137885, 1.4668445063863613, 0.2952998656963753, -2.4541252267017035, -1.07765723322938, -1.0897867709575482, 0.6202883607314598, -0.4698909680425767, 2.1381098031821715, -0.35367289219929726, -0.25881758763049123, -0.2615478750397305, 0.18458366863074202, -0.8070248910259574, -0.4378142917990882, -0.49915215791240575, 1.2723389904670133, -0.7314867128623646, 0.5986091164576747, -0.3841931855355711, 0.18371217443910084, -1.9997320058795165, -2.3195682613678517, 1.429009332735875, -2.3325517850970563, 0.22885890951931992, -2.727638252206333, 0.5000753933586127, 0.7983785104709388, 1.0170804143537742, 1.070233379337703, -0.7738048879633764, -2.4974488982560232, -0.41728182151901727, -1.9244959279194214, -0.11984554379428877, -1.1856904036402802, 0.6074094410828753, 0.6379075026957562, -0.9960870664981847, -0.6387981639369107, 0.9928189855889122, -0.9591177748867997, -1.1520890115935094, -0.6307970353615137, 1.5477055821923456, 0.5746367898878444, -0.6971490333284438, -0.88456638599202, -0.49059306184646584, -0.5183324385239051, 0.635043934479165, 0.39606375636641267, -0.6287291275791058, 0.07674792179938923, -0.5791624829750406, 0.505009039536752, -0.7159244652308646, 0.8613309923449269, 0.5264339999362335, 0.9094640165744676, -0.46568274672699894, 2.2880131692453767, 1.224039956723661, 0.6090113947110424, -0.5866293186851478, -0.5442984603057824, 1.1115201455175554, 0.2640541439268569, 0.08614010451418733, -0.4544541820370414, 0.5236868469406594, 1.1719124632106277, -0.04011860835827215, 0.11067814640899298, -0.10710751777530964, -1.3241960222650102, 0.03555302506798918, 0.5010508615583861, 0.8280962416566883, 0.4652005874496748, -1.5147556299756917, 0.16507224143694474, 0.26197933534182566, 0.3499053528984825, 0.60125211991606, 0.04181463753968667, -0.2482044150280674, -0.860572799395675, -2.2316614290376617, -2.4797400187509187, 1.2346908603789617, -0.3424781961056568, 0.4478775890393968, -1.2506558952681666, 0.38109475367487283, 0.5397532706162268, -0.5471837369583031, -0.3963991608994301, 0.948462207590686, 0.43046356865414637, 0.30448590805359865, -0.7839150011172479, -1.9651697408536293, 0.06728779501168672, 0.46629892930288963, -0.8666122629781758, -1.0490457986916255, 0.36939444185923503, 1.574172456534364, -1.4852124798244384, -1.7966795057944254, -0.5230558975813887, 0.5362880815257659, 0.7216767122296367, 0.9580723418409092, -2.7529516226382937, -0.44275158006706883, 0.15955019784393626, -0.30186308243615817, 2.1635380393742376, 1.8159763798235709, -1.1956120547107212, 0.4513856293203744, 0.6307800588604286, 0.18656131258084285, -0.5185445339942616, 1.8130964752221053, 0.27721871317743185, 1.0234066355248232, 0.9838160040136071, 0.43784662666587887, -0.9880695890504146, -2.594512945281614, 0.05482044169201528, -0.07021572710370651, 0.10028050950255832, -0.44011868333756066, 0.6094707826472235, 0.7074097687085761, 0.08368519383206417, 0.6972060725892858, -0.9299110599856648, -0.7474365144977735, 1.2765440534192787, -0.8476205502534141, 0.2466243318126696, 0.4440411572873939, 0.07218900249245101, -0.8195140801742626, 0.7409731116889001, 0.9939866748198677, 0.7599993670270768, 1.1994069876529463, 0.5783753246366785, -0.8189413410119054, 0.42411976722008093, -1.9133750331923223, -0.304463810760194, 0.20199835758190074, -0.10295995583159698, -0.32367970905420007, -1.2728556745740938, 0.4711662279352239, 0.9118204520447151, 1.2880433700680431, -0.9588100144435239, -1.0592797600272639, 0.5854989916657407, -1.1471394662067431, 2.1959424785778405, -0.8680282986230282, -0.5121623949639588, 1.2190931119049584, 0.2683956355129712, 0.6711914570891476, -0.3283377734835319, 0.19924720212739372, 0.2510291138862483, 2.022166017225702, 0.3987699369906165, 0.9855726607605333, 0.7260059651823688, -0.8426480637411462, 2.4235964984405127, 3.1331852472332136, -0.005998021891247817, -0.6486357162674834, -0.4409835007147678, 0.5047867966949384, 0.11633209188600384, -0.20358002797825814, 0.5564052120060161, 1.0774623467728126, -0.2524597093105383, -0.9660273920899044, -0.662323156532729, 1.4904637829777017, -0.9716904803675429, 0.6582194785720555, 0.025338810200488848, -0.02771146721177639, -0.7795066245356376, 0.28244866325771883, 0.8879776658817841, 0.6327249300755324, 0.023063403451523322, -0.22610819088026982, -0.5961446099322895, -0.5892975274548051, -1.2406802250282671, 0.6236227914913065, -1.007334837247481, 1.7158271084093633, 0.6339686703015072, -1.7639839938269495, 0.07189219237672145, 0.9676880682133698, 0.6060320140221379, 0.19772713742674117, -0.0890251786899509, -0.8172645182972393, -0.9817767082778768, -0.803929311550076, 0.2230476688859419, 1.2771627288272869, 0.19429043752967803, -1.671496104160501, -1.0100092970414425, 1.6490192448246288, -1.2443076966941378, -1.7697842565417294, 0.34964564948274396, -0.9206328855829412, -0.7827018741614096, 0.10030944209688362, 0.6321379819254604, 0.4885581117949597, -0.9484048738499484, -0.7830640123367514, 0.9990228046702253, 0.23941383284305917, 0.5483772251313745, 1.1612396181398854, -1.5803466073464403, -0.6893170950720229, -1.7322356726755699, 0.5745289343153615, 0.4342495296810862, 0.6778190646667633, 0.9240098013890854, 2.8849522912316523, -0.01075479429738632, 0.3045058078749057, -0.985422115825181, -0.7407625964618785, -0.608017755238357, -0.29728901615695635, -0.10789042785481183, -0.6576412797516568, 0.7847128134366173, -0.6238729050165639, -2.4184792116742395, 1.1343810133846937, -1.8294760647484383, -0.5234023334758504, 0.7771449272471118, 0.1892966612668378, -0.299792334598, -0.982457337126069, 0.3677074823618547, 1.265188648640417, -1.524989332561466, -1.5427007967185988, -0.9358470157116168, 1.8062290283608775, -2.227093586320812, 0.14085700272821222, 0.058374012983151494, 0.3687932340036706, -0.9566080389394341, 1.4028745873662591, 1.5325092539077814, -0.09347264136708267, 0.31579580922418216, 0.48209202948739666, -0.6607563004441208, 0.02374604758941871, 0.5747530181916314, 0.6899102802728252, 1.0441010052200717, 0.6841022966321003, -1.1704319399151772, 1.8759547252445017, 1.7158443871096356, -0.7098303052944355, 0.2010143207003511, 1.1618185870596212, 0.8552467795373115, -1.188869757338816, -1.2063469430764429, -0.6338875978211675, -0.45838684908462274, -1.986550088183256, -0.9974644928644338, 0.7877744730079785, 1.9100536437297606, -0.09343080473642619, -1.3105036487205157, -1.5942553380099767, -0.6711780634789585, 1.3617283426765778, -1.9226573336137724, 0.787544909150986, 0.8753295516488091, 0.9533674284675027, 0.8624292858620135, -0.7988020956493349, 0.19359341846598288, 1.2227412719563981, -0.337506937925842, 1.1176714449433662, 0.4564323685298452, -0.8282647999862267, 0.8750936840674104, -1.6382158366378243, -0.5909111927784267, -0.036766066483045035, 0.41895263599614074, -1.26124871738888, 1.6693887671552996, -0.04922323508367407, 0.43664206762924984, -1.6551959561486336, -1.6675084357258607, 0.13487146537849973, -0.984793295731513, -0.670047277567013, -1.261882828943181, -2.8474412900699013, -2.1176411974708294, 0.047899637602367304, -0.08762245130163257, 0.08350697719265084, -1.5965732923633171, 2.0652404829023863, -0.8589959346611756, 0.6024254172476048, -0.8367003462343475, 1.2233556901688263, 0.10574213464529951, 1.6560738756429911, 0.8491347806763693, -0.5875901065021647, 1.1949075723580487, -1.1682844948117574, -0.08158587596483063, 0.8706188285059071, 1.1994906248398014, 0.7189642111623906, -1.217470169084428, 1.0780607326703484, -0.1524449357856124, -1.417986091291347, -1.6821890991046324, 1.2191699196471053, 0.800550148173396, 1.1087723093965454, 1.9812041052425877, 0.9314015109325215, -1.240209673037645, -1.521744800449234, 3.131143623395054, 0.10568957503062985, 1.0564740665017376, 1.1743306015662556, -1.038678273928269, -0.9332470610073382, -0.8571987246695247, -0.6010056360698144, 1.6869917385098487, -0.570251335911403, 0.35877006007412965, -0.5581603744517878, -0.3799452718332368, -0.2518305970057005, -0.05992222098678368, -0.9120440198241969, -0.43722798609840535, 0.8597262378169483, -3.484932165720314, -0.4058170539254558, 0.2775945472976472, 0.6543351587422473, -1.7613812427470614, 0.38064512766279185, 0.12382504367673924, -0.24557227291745118, -0.06079605546370114, -0.822494984768575, 0.6572589591775386, 0.47818435714429136, 0.08337736223778508, -0.2895578954990764, -0.519505442278625, 0.6465377308412051, 1.6916951827464348, 0.2533512248111022, -1.7630275536841777, 0.5926794922727642, -0.6213270580570298, 1.1715261828071066, -2.0656619213253244, -1.059999492717805, 0.48817717455727383, -0.9038090183033697, 1.50492869661926, -1.4363048222097656, 1.1906870093727613, -1.120762545772503, -0.5702040567575558, -2.059488704726739, 0.20915386719661144, -0.14629065601178723, 0.24590938166479578, -1.2300909004563625, -0.5759011299913435, -0.3501466648953667, 0.5551667085987905, 0.8575619930860495, -1.0751767300017445, 0.8234614142682128, -0.3737684870542691, -0.9610771933934952, -1.1531808092116502, -0.16511623231194184, 1.470392486294089, -0.8805964562918203, -0.9195110228605878, -1.1667205635370437, -1.9731595344721413, 2.4272401626454374, 0.7255180513967245, 0.23625357298740365, 0.21601224932278865, 1.3216001392329757, -0.019626845486522146, -1.1967297475934873, 0.6452099675981118, -1.1705336962668236, -0.9601941532049356, 0.7391306642352802, 0.7829602446023606, -0.7558464902674397, 0.11225549995768369, -1.5286566231134433, -0.503448299755166, 0.7296271550000335, 0.28178352893696235, 1.3115288665095197, -0.05849616297269592, 0.7089509240006954, -0.5375040584559903, -1.4599860853176605, 0.4508389444245924, 0.06090606160544984, -0.15859231503842383, 2.0072301665730965, 0.6355852413106395, 0.26419554378344495, 1.9728426608582506, -1.0442594190952306, -1.0798007324220391, -0.3008690176862406, -0.17522878382962606, 0.7927963463619068, 0.6902727229389269, -0.9653769282917166, -1.1074727477938122, 1.9307734221932893, 1.7069406040250725, -1.0803918069614578, 0.6937914796340858, 0.049785351349110024, -0.47370139894063185, -1.5218979331145674, -1.1599928382717695, 0.5747972867724868, 0.8896224553727458, -1.357666020284893, 0.5278483704728721, -0.33492797542066566, -0.866768366872458, -1.7711936853359624, -0.6404539238971912, -0.4291752822143739, -0.5979917196434059, -0.44507789308349344, 0.4658445193526784, 1.1545941795787293, 0.846810599457497, -0.9245301561901129, 1.9249548937917107, 0.08198505348170777, 0.2506574732099643, -1.0791334761051643, -0.029855778116025383, 1.3504377720206646, -0.9719990540649047, -1.2504551002724391, 0.6862535878431951, -0.2604062137597725, 0.9163315098616973, -0.04971848854776287, -1.947745268605493, -0.6058200430800215, 0.338758984707268, -0.2134950612648702, -0.2631925468601323, -2.169201253831055, 0.8874785719947489, -0.09071196437762236, 1.0017425130083526, 0.7168345627131678, -0.18027762632171596, 1.2377116742788001, -0.8755914586951806, 0.35250481599574707, -1.0332036014461727, 0.6114093264314197, 0.5136562235708887, -1.0207262797566912, -0.30865616839990734, 2.020958707164268, 0.12161877969254362, -0.7177331866111555, -0.07497336041682835, -2.4315046254295765, 0.7966657130497843, 1.0115867178976214, 0.28200937337587134, -0.8690374311448751, 0.006051391588444457, -0.08948901194603187, 1.098343903186597, -0.1252971631140798, 0.2653294761376855, 2.0303644264304808, -0.32938165874296177, 0.7598332413786845, 0.8300318290454405, -0.2409874306141017, 0.07546526265501217, 2.1957050501543502, -0.4826581892874204, 1.004553719993826, 0.4096598894440915, 0.6429326608577662, 0.6474652275746602, 0.8057710777166555, 0.8246075818852784, -3.162531095544319, -1.0072864621020547, -1.2897467135763374, 0.12012053506902716, -0.5255147621232142, 0.5249828238887876, 0.013943267732244623, 0.6924530616708063, 0.876463624132941, -1.5740528062185328, 0.29214287074230283, -1.1107398765256538, 0.4786113285325036, 0.9651726032257316, 0.33490629179366393, 1.5280149222372041, -0.38728277086597784, 1.3257055007122427, 0.08586506442442746, 0.8820961895368785, 0.3237081335651008, -0.2641953917665047, -0.05277466328724661, -0.006782610696936768, 1.3856276003698094, 1.7061981430700568, 0.8264841012398179, -0.20608121847941915, 0.8512860654725117, -0.5819887090034042, 1.1563163297114316, -0.48712425058548225, -0.8919613159381831, -1.8968572755795108, -0.508098208297329, -0.34296497771914497, 0.8218666819220782, 1.7046034169548452, -1.5024367649693584, -1.4883986857884486, -0.7275311053870586, 1.3841032874431731, -0.9919841241424331, 1.1303781442182843, -2.2505475682081038, -0.5776382502708002, -0.9007155932804717, 0.5467512421385088, 1.0158135719945611, -0.49761769881527335, -0.5667600657368399, -1.3133774599672514, -0.9005103633407517, -1.123724352096482, -0.9531359081544369, -0.20981710572101514, 0.6094428282904752, 0.07347752510648246, 1.4006804912577444, -0.31447428307899955, -0.5427480035070735, -0.1830107112266948, -0.9500780547827604, 0.6029647331952871, 0.23282739799250013, 0.24954486744351073, -0.01833213222074582, -0.457956688339718, 1.4679349591336623, -0.34597451496467574, -0.07016335938495318, 0.6276684040632767, 1.8395510254303211, 1.018252145611874, 2.154355881601975, -0.5654074575451674, 1.0421273879511508, -0.7760052777661028, 0.5001348273083499, 0.24975698167364585, -1.3905070303603095, -1.0495579284512877, -0.48186208382712864, 0.5751501648201267, 0.5187588562976392, 0.9103651817802698, 0.8855682370817991, -1.1391139610053234, -0.5876037992683992, -0.303832242018217, 0.8926552294362023, 0.18705081519395733, 0.33375389043493475, -0.6365442674830241, 1.070681732572542, -0.6696133287673456, 1.372443722198453, 1.925546245486533, 0.012020092171536337, -0.3684207044043438, 0.45866916522908247, 0.6517393860778249, -0.2420399813978791, -1.282497197809937, -0.5147679439391986, -1.0820703378074885, -1.5049858481676626, -0.9984263352114134, 1.791581508902787, -0.6760770722344385, -0.2765455008763214, -0.19665193262031153, -0.09603895970178938, 0.8586874402794173, 1.4520913924781071, -1.1629909777631753, -0.028279019990097475, 1.2681998887118193, -2.3486216760286496, 1.786098401507711, 0.3740675277177829, 0.39405281538816983, 1.5327660225619486, -1.6094254858073351, 0.4414926632592164, 1.5991908843882758, 0.2688470425901928, 0.013256273836224911, 0.19679445129940623, -0.387542044596395, 0.1156020209967459, 0.2861820335873344, -0.4124892921455597, -1.606056586771395, 0.8394296921542859, -1.3180586209505483, 0.3857013639262828, 2.6223854824304587, 1.4797792101230365, -0.4139369287343448, -0.3108980657109201, -0.15462185124605277, 2.1309374359146096, -1.8854237164609016, 1.1383703685888475, 0.6613330274981067, 0.289166954847182, 0.9212561346635723, -0.18711952469000973, 0.13324435473780027, -1.0663462922378293, -1.182624142242485, 1.1913719096750524, -0.43284625806263227, 1.3365468803467817, 0.6117099905142588, -1.0049352501374336, 0.3592995634932071, -0.7891840267766901, 0.9442373605252102, 1.214171705707552, 1.4765385257566557, 3.4405938130214855, -0.9009275460271504, 0.6047012975131941, -1.01652562960171, 0.9957475716517598, 0.24430627070748445, -1.4665410743522822, 0.8174024364513643, 0.4176476582582071, 1.1170904136100779, 1.6847145898809153, -0.8368400119844773, -0.08309087020214834, -0.5306441064451982, 1.6053148599967288, 0.09996445845328446, 0.556477214048473, 0.04736637337446689, 1.6872586985221185, -0.04470566873158181, 2.2234931103323587, 1.1374441786468958, -0.3414436646170233, 0.708354181245332, 1.0783027687682598, 1.149866872408469, -0.50455889789761, -1.207789358930523, -1.2707628957554713, -0.021250717615116797, -1.0527230401522631, -0.6668720413600803, -0.11929092037334894, 1.8324644150648137, -0.21259988867786364, 0.7803081224953881, 0.9362665495504127, -1.0025326343504832, -0.41003437947360144, -0.5708398094609528, 0.5438679166131132, 0.4879439642926584, -1.13729530215127, 1.5449507383478709, 0.8927331168324654, -1.3576459341221105, -1.225793894777044, -1.5851050942009133, -1.2448468906196484, -0.3243289564388876, 0.9132410853804387, -0.6753228865140937, 0.8158310203305879, -1.4415208094829988, 1.1121496495083918, -0.04166940231632844, 1.3297984312380795, -0.18920487339076725, -1.2951163029155313, -0.8985217374618034, -0.5091061473434144, 1.1109002772442964, -1.1844204793053206, -0.9813254736540871, -0.9108423570007993, 1.426927203025412, 0.04065502823575305, -0.16232923872855884, 0.2420745565292103, 0.16701589040125817, 0.22707562190032346, -2.1273575138844576, 0.3679699440689879, 0.49375578245400364, 0.689524498072444, -0.693048269909802, 0.5108809571597258, -0.541314732617583, 0.9726130573114873, -0.8937164741925104, -0.38490189946986464, -0.7543137830409843, -0.18939301782948667, 0.05716156794013457, -1.459813490931532, -1.7248271545578153, -0.23031832311290706, -0.7014405087256009, 0.013440438824963635, 1.4931326944934398, 0.149069377032207, -0.5511664340792305, 1.2984409540083124, -0.6081554083524003, -0.18041929769390969, -0.08730271001077049, -1.2905945918535517, -0.19745330589407634, -0.7785824407859108, -1.3602287581947963, -0.44400264936485456, 0.811662797629734, 1.3588284433063305, -0.2422334568686896, -0.13469688965503365, -0.781894327869927, -1.2382236508512294, -0.37213151287190455, -0.2294660512737999, -0.495529237232853, -0.4888488117212474, -1.1647964442012393, -0.6775895995839727, 0.6154737685809166, 0.003977713945175205, 1.068652848441371, 2.2450734890739965, 0.6229174837041903, -0.5903925861687122, 1.1503878681913036, -1.3068709511069516, -0.5947361204217845, 0.1461584148083312, -0.4417443719020223, -0.8448307463859995, 0.2627640986717446, -1.0353337381545, -0.2092947067713094, 0.8262113960831567, 0.08739475846944685, -0.44640248207438904, -0.5960316339720694, 0.6781387233230406, 1.061329622096445, 1.6101168161763086, -1.2606363353538956, -0.011431944298016762, -0.5847282904095066, 0.7169065078440126, -0.011006643567219369, -1.4156611344789145, -0.38717557292417537, 0.9550629924223442, -0.2334021840445157, 1.1685799246690347, -2.2197920734288035, -2.4684710211504095, 0.01555055944394588, -0.06258366470461915, 0.8237066442764246, 0.16645169874905685, -0.9565961445946126, 0.989888629871973, 0.31714915109088937, -1.7501336007048094, -0.39590701098536535, 0.14251122296107607, 0.6228451356548499, -1.221818362430403, 0.20525252021338178, 0.08835232633273218, 0.20444250647231033, 0.26587236845054246, -0.7317342417214737, -0.675384361138828, -1.3288347345850258, -0.5552682289365384, -1.0394782102747813, -0.3035390905760636, 0.26153801001151333, -0.03845706135748655, 1.45354076622316, -1.4871148396654266, -0.4234954564397153, -0.435433779926493, -0.05586557745353104, -0.4977719385857734, 2.120663332538196, 0.0530247917100818, -2.8978426484745867, 0.518737146244201, 1.5820553406974434, 1.4677199089752861, -0.1322805576936348, 1.5427635528988926, 0.687563795523172, -2.946433058999572, -0.4034878478878113, -1.421890148480623, -0.9687454298027582, -1.2430715836971822, -0.5428139852830066, 1.309612899850895, -2.1397222856948255, -0.04811746511396392, -1.3043753227396213, 1.0506510538439753, 0.47624711763390065, -0.9025851980329057, 1.514874929242849, -0.31486553948494667, -0.05736957013725823, 0.08008607574587215, 0.46302642131205424, 0.4626800691573585, -0.41238067865593053, 1.1336339890254368, 0.9478457308140567, -0.07108131465314094, -0.32842169574612, 0.5779453823846211, 1.076590490225367, -1.0779727500216922, 1.3076665596101618, 0.40609049171444217, 0.30796731285147727, -0.5549314028223358, -0.2999834807312977, -0.07542348872748154, -0.6076141114368502, 0.5830991326191449, 0.4328374016451444, -0.1977276368215539, 0.1654481325395615, -1.1538554559201841, 0.7948790217641916, 0.8943040352564492, -0.748510567152498, 0.4608334807133483, -1.6726255414381614, -0.8172036581392272, -0.15530646285454724, 1.754998290160854, 0.34274002161719014, -0.9592024418394797, -0.08765350086893758, -0.9480509420300525, -1.4427878603364277, -0.5115466969316362, 0.9935556597087679, -0.1988025354538036, -0.8814614374356212, 0.4484828186550076, 0.29334229465532324, 1.343063807285299, 0.30422490227459353, -0.4500461098481865, -0.6161459365281132, -0.5114946001936358, -0.037372700900407396, -2.608833835798035, 0.34143987394055064, 1.2312500440339527, 0.44759338957471007, 0.060032576779737376, -2.1650034053677403, 0.05675453833136843, -0.429048363397258, 0.23846911304844257, 0.8977940646647514, -0.23916988405198034, 0.71913420925605, 0.03193868162438048, 0.0061497008932970935, 0.45915600482713825, 0.9053481418177008, 1.1562761404216502, -0.174861851058802, -2.9700401170949897, -0.39578059325379344, -0.8440840419245388, -1.7997592021393631, -1.6839402156038004, 1.3117590832276103, -0.37987350058335273, -0.6947176678256008, 0.527695660903154, 0.5845949978492082, 0.6796332458878984, -2.9562280477946192, 0.32753076432746825, 0.46087054375488823, -0.4553151098374806, 0.7326664059800772, 1.4910223475410167, -0.22382662560757455, -0.09689188994257748, 0.13516565393152113, -1.233849764374964, 1.1011473432489234, 2.0841193033278227, 1.5719004533253678, 1.321101167923732, 1.3008659194345373, 0.03950231014763362, 0.9568074368306171, 0.08969923363617328, 0.1081874269090038, -1.2475492861406587, -0.027951692958323466, 0.4051972181375504, -1.3027745031597202, -1.5921175478334513, -1.462219373151866, 0.13353102110067136, -0.06557435645044019, 0.42483008966893193, 1.9961420421038916, 1.8750625273068844, 2.082432264208339, 0.7341464772437211, -1.4293066617910473, 0.09593647318761549, -0.3693972595828253, 1.3636757463675593, -0.8466450381390557, -0.9612403587441509, -1.537022763116978, -1.690739880049566, 0.26186094221731565, -1.7004096803375928, 0.23511381504975915, -0.3503948507413041, 0.7745533304792542, -1.8050827735423554, -1.5133521662266882, -0.969561655200495, -0.5784024529801953, -1.37393043610208, -1.0412430603791563, 1.0002438850193813, -0.8963631226428308, -0.4692884140516045, -2.3077213632207356, -1.5287669900518608, -1.2539094457145852, 1.3650295725813058, 1.4883671732367418, -0.15311199499308303, -0.820062492466008, -0.4451671005631526, -1.7146199403140405, 0.43607345119423485, 0.3630923586583254, -1.2561556214514984, 1.7415573627146643, -0.010238952727111297, -0.17148181921194355, 0.9687779570252649, 0.31839820139937586, 0.0010117748882537351, 1.8439928716650187, -1.4843336572147163, -1.1130788661299345, -0.043721815160437265, 0.3504322706940456, 0.7057459798541046, 1.1897778639254721, -1.0761746442597782, 1.4088897365898945, 1.4349069360707485, -0.40900065521089946, -0.1748377173737007, 0.36973389593611933, 0.6908709612012968, 1.1317331284926924, -0.6324385149281299, -0.6945344272402073, 1.1374940974916037, -1.700334703233863, 0.8526408520400596, -0.9320997574968611, 0.5277660895912601, -0.3256811655282492, -0.31639060508156436, 0.39208662505591996, -0.24726666159658564, -0.5770903207963252, 0.6898197033817071, 0.5448871447620212, -1.4464281916525357, -0.5953852581426359, 0.7478131217735334, 0.34824807295575555, 1.1172864803099107, 0.4172476654417187, -0.7459496318720786, -0.18821103960495292, 1.0631409690259137, -0.8702726880236674, -0.09263193906075856, -1.0132665400960923, -0.958834374990415, -0.1532963969194728, -0.6182499903090566, 1.0741889560452837, 1.622001474570565, 1.1097114715234013, -0.0217442627106227, -0.7853391045519778, 1.167114935814884, -0.7974667862946985, 0.6015805544767036, 0.03489165261834718, 1.2925654932625765, -0.2549466978416504, 0.2501475657382631, -0.5892307286408973, -2.0263792348928793, -0.10460559373397464, -0.8415944244202738, 2.0702544678628065, -0.02488220819026784, -0.27541306485804906, -0.8395457913469092, -0.2487814909237011, 0.35309559890662495, 0.34189508333367213, -1.9985267159684292, -0.8693925312501015, -1.759676762623947, -0.06486208194023464, -1.4725216716978085, 1.7647252418804995, -1.4555781063454458, -0.25842774337848645, -0.07980599403193973, -1.6184840490664074, -0.18551544586095453, 0.2776121335007666, -0.6932459097848332, 1.4135897884027544, -0.5780181913005563, -1.5539288679751637, -0.5172191327637549, 0.8474209620180028, 0.44991093825481754, -0.23366753640963872, -0.027052338100299958, -1.2662381305804433, 0.19749759220026067, 1.3627227654445901, -1.6969375159864442, 0.09223781974359654, 0.31528448600462117, -0.17814586396535292, 0.5535060113640552, 0.8689213492225242, 1.0200548909793163, -0.07213568012400329, 0.21616562623606966, -1.0437121275024916, -0.5138030558303153, -0.23203296222251277, -0.9635628161695234, 0.7148367434580745, -0.9773992632453011, -0.39918437785811095, -0.38371021521825016, 1.0777557367076467, -0.03400355826667529, -1.2155682285571272, 1.2284187759829353, -0.49508497659036377, -0.19819864579351953, -0.9392177503176333, 0.36250933729128076, 1.742755213833046, 1.0815721410788743, 0.27577526078128023, -2.8397041009151596, 0.23591047465288745, 0.7305589086922539, 0.3403906002629283, 0.08240707456197532, 1.8838509147334843, -0.7528072724536147, -1.718722513885163, -0.10284658466895719, 0.9499480161721459, 0.4706230351334385, -2.7264213277849003, -0.4947024597842726, -0.6075502288378344, -0.7850884192539767, 0.16990633515121148, 1.4091764868537322, -1.5702747847771334, -0.013451221501098518, 2.902585196503069, 0.2212415825563486, 0.07314157789265092, 0.7104144239482989, -1.192712318348035, -0.8049725629610145, 1.45749705735292, 0.0052996356937169, -1.1650180138176296, -0.8844512176931085, 0.20926884882493543, -0.2523508354369917, 0.5558280699267456, 0.4697715702229894, -0.1549015847682652, -0.19889715499114122, -0.7774315524928713, 0.2722085193783634, 1.7279303739892988, -1.3365119831183618, 0.2656558586368299, -0.6508071073039047, 2.182174890979643, -0.25037025900999693, 0.977424230328369, -0.8597666897019868, -0.0824046131230656, -0.3165653348711286, 1.934208483463907, -0.599024204110897, -1.4344005767784271, -0.40850863845479185, -1.2954047014328913, 0.8522720553029122, -0.42732974088563264, -0.6575114843336416, 1.6939055976638389, 0.2124914785583274, -0.019836301197084585, 0.7382933983633343, 0.11117155950752661, -0.0632219937505648, -2.10408605166082, 1.117728344817423, -0.00493087301227004, -0.16932552213878205, 0.04284645249117863, 0.42777970232077356, -0.7591882807731746, 0.3734392691086673, -0.28540304419379187, -0.12463438177237739, -0.9726220210926722, -0.3340480327274609, 0.7004259439281656, -0.5826300581786035, 0.5201959340425402, 0.707901243077144, 1.4557708573214563, 0.8392727094962186, -0.816730353583634, -1.9866775122385818, 0.7945221299807953, 1.2658628749651346, -0.8231894455915975, 0.2527627764625214, -1.0620852647813532, -0.08827891833026374, 0.8004136023383743, -0.755782636039525, 1.2474205591656533, -1.2444505909454544, -0.4738319839170345, 0.9386881076129059, -1.6169743480959955, 0.7181636994793881, -0.7166545358881541, 0.38300388642982486, 1.9230521406446057, 0.5178691915850318, -0.7489750820809276, 1.3226701764940492, -1.1789054078085368, -0.08083488406360038, -0.06311241893628299, -1.0137201778430043, -0.5880508843330075, -0.7257263003496557, -0.438421617335747, 1.406303238533004, -0.19954104212379378, -1.0218107085765478, -0.017878896426247615, -1.9822270236901922, 0.3987383435664442, 0.683863711535549, -0.33237102034721283, -0.49320630892744793, 1.1270349343244461, 1.2144742462985192, -0.8458327272763744, -1.4440502090863236, 2.135501187223814, -0.43317845345404016, 0.33608559857226755, -0.16082198355713495, 1.6126342998397132, -0.23192094714247702, -0.5861574033549101, -2.2215969985481894, -0.4183304914575964, 1.1327051831583224, -3.0143695536107082, -0.19753183002147368, -0.203975989540378, -0.8549830791246875, -0.3874576863229458, -1.2562471255315761, -0.7803861374190355, 1.2763509100363761, 0.915433983183238, -0.28823737153223433, -0.4999585810151211, 0.571989631467991, 0.3669326421565784, 0.5963823875720529, 1.3903819037320702, 1.0093796721536117, -1.7778785588137684, -0.19811645806001058, 0.29182522961811624, 0.10737156611481223, 1.0940742177065401, -1.0957032880909072, 1.2859203023268277, 1.9563169598693173, 0.4383131367388581, -0.7436470019574013, 0.7699963232198955, -0.3281991756371519, 1.3634385008293401, -0.5597142124385039, -1.664220257432142, -0.7895904766119383, 1.2402901830654873, -1.2380931097860264, -0.12424429815073924, 1.0722512453088384, -1.088260310170605, -0.8689298357601465, 0.2239799764724841, -0.13767597441484208, -0.37907395697014307, -0.9397641535076592, -0.16125134179307904, -0.650049998325713, -0.4667135247207217, 0.8633886003065461, -0.20774875125588183, 0.18162653567663312, -0.5572536900788241, -1.3522200676134872, 0.5695069354628863, -0.44486190276596815, -0.7688030379630949, 0.9434278977083693, 0.605565428946651, 0.8533531336686523, 1.7150746863525206, 0.7177788005600112, -0.9569647028503785, 2.2151504748694872, -0.41307751861577247, -0.5747052910438559, 0.177437278456855, -0.5548925286371172, -0.6007761915149635, -1.4719026566728006, 1.1551048464985594, 1.459847277567032, 1.1875000518998555, 1.5543308562247913, 0.7298931223842442, -2.4873961802455247, 0.14728932697495878, 0.561952095905308, -0.02728288622112554, 1.8734572508445124, 0.8179435663926397, 1.2518130459135814, -1.0040350951903634, 1.3534975248850731, -0.47489539374620554, 0.14452383263191254, -0.3370066137168794, -0.8503227693472708, -1.5925813422895956, -0.6261224862562226, 0.9188019325220295, 0.6370904310314672, 0.43174999899742367, 1.6711864498622342, 0.3096149078711582, 0.056085195739524675, -0.14017191562353545, -0.5780886219666287, 0.166080620910576, 1.1044351143066105, 2.0264241137961507, -0.44311227574890155, 1.2185091605828453, -0.48865551575489025, 0.884694869780103, -0.34575167259433187, 1.2544403786657659, -0.19807575168111, 1.608690573416055, -0.3583062323948799, -0.19149738075455064, -1.434954293378422, 1.3481220497481678, 1.0010389823447086, -0.5223018137006242, 0.7070047001121845, 0.09760737441177197, -0.5573445714233662, 1.0065529522216476, 0.9916960750549318, 1.3013254331738024, 1.2902568666619256, -0.5564893548969571, -0.1640264661787414, -0.42244865566407785, 1.1164893308359543, 0.6706827003592964, 1.2752251935569283, -0.1609171233117148, -0.7781758202141335, -0.7444908514698838, 1.4902404327987113, 0.5159964736950075, -0.545902560757937, 1.1317116262557247, -0.758002814640874, -0.7429165874623276, -0.7935344214369645, -0.029679881751570745, 0.1388650682631688, 2.847026006515378, -1.232180375579209, -0.17577196934245398, 0.07088389806664347, -1.3737391903394789, 0.5865628658427785, 0.033480824235679926, -1.7724857776814513, -0.512124694934411, 0.8667555192171048, 0.03365390956449082, 0.4805319280132639, -0.7259978525808006, -1.9048209189365697, 0.4640072123991562, -0.5517280119492244, 0.7680527110026268, -1.2808617555247688, -0.45018902175436293, 0.8770859153298572, 0.2795952191071665, 0.35872225338663066, 0.5102933920201909, -0.4373924208292965, 1.2373064605199968, 0.9636154254293767, -0.2953221722996026, -1.143804907593571, 1.5342269225415635, 0.22249840996351147, -1.795114762375854, -0.7064599771316957, 0.43389055769808116, -0.8124144289435664, 0.7253413162990822, -1.134494296859827, 1.764109203340484, 1.416260685569623, -1.1093646558516792, 0.7789577590915446, -0.4047441832723023, -0.6056449546952525, -1.1159927370469005, 0.8497095837419086, -1.2793292559563554, 1.5368421759689772, 0.6534359734891287, 0.5178018243279732, -0.00972435561638195, 1.5463873492537716, 0.3931068438993737, 0.8930943785398554, -1.0126218045767008, 0.015807199178433276, 0.838605686704357, 0.7385827172264827, -0.2167492237401863, 2.4456493606172245, 0.63346203972573, -0.20122377591565174, -0.33779163999151046, 2.451370150340274, 1.8140748757592091, 0.42462601425891533, -1.0408120520372668, -1.2971048446001716, -2.0852706692014995, 0.2735759852198828, 0.5887551490992355, -0.7634534608879353, -0.0070401510913334206, -0.4243883766964281, 1.4301915532719176, -0.25402467132766005, 0.12649749797154047, -1.9896729949388854, -0.24149837083360615, 0.18427010112756223, 0.15605743434032723, 1.1082333304104717, 0.674212691363185, -1.6351437138183866, 1.1458172635084962, -0.32636451807660827, 0.6327203503001241, 0.6246184842597103, 0.6074334066639603, 0.020462221707838898, -0.7131235107434811, -1.837111684031989, -0.28518580127874776, -0.6348490624960867, 0.6986930113078241, 1.2336815815336502, 0.027675470711099184, 0.6721498480954112, -0.9920295741130685, -0.42633091447699056, -0.8466487046882138, 2.0325419272082668, 2.0500855153836524, 0.08357034064217264, 0.7074435194168996, -0.07164304348884866, 0.5687690924963665, -0.512586500069751, -1.0380485347753443, -1.701644960452711, 1.87632667032177, -0.17047339238563225, 0.39156903621292266, -0.8004463523602765, 2.267743424903016, 1.0969285167962715, -1.1824310000629532, -1.3000800350609747, 0.20712629598254687, -0.7379041946659792, 0.0254516259281834, 1.6375906798524391, -0.654535562268442, -1.926472412924245, 0.22980919462996044, 1.0649255697512103, 0.7856196451039127, 1.180216325232768, -0.6133420568690102, 0.24682100362243703, -0.2990870952656416, 0.959861227227784, -0.014492706536977342, 0.184403725508862, -1.0101600455125042, 0.5928309359230557, -1.2370856016379719, 0.32122765568255024, 0.15421975218477352, -0.45608086541711285, 1.0448577067852265, 1.169045537111371, -0.9144673181206061, -1.4127818217980432, -0.37508164512721315, -1.5536728936353696, 2.064275164162357, 1.087901323157144, -0.7259323231336328, 0.43783825053247816, -0.06400654547667899, -0.9367388027058742, -0.339952100198618, 0.09303376971825839, 0.9975904349030356, 2.003845350668678, -0.7858551890082249, 0.4620834511122613, -1.24947249038211, 2.0915471209205623, 0.8491387472835699, 1.261062904557122, -0.16109085548662577, 0.38545226973262486, -0.2909622772606673, 0.3142641069962312, -0.19054855060152995, 0.05263679074474257, 0.6535253835575839, 1.0675644494406358, -1.5535875537860808, -0.8973155057006722, -1.2897897024866707, 1.3375344872791854, -0.2861430757354303, -0.2706291387851009, 0.8082987026798706, -0.6724409896654184, 1.7601430819552155, -1.4822941110028762, 0.41764280799228876, -0.6674290943511009, 2.059456339401971, 1.29941528006287, 0.687391462572872, -1.1692085033600046, 1.2732799249574205, -0.03376495486599749, 0.0872861432267691, -0.15283146682892138, 1.6960508012020614, -0.3084643571536404, 1.1659840358941005, -0.6401388683200319, -1.256735167598027, 0.398950471267814, -0.5139349780359388, -0.2428102279032243, 0.7463739955919341, 0.5132918682062175, -1.5981817509128726, -0.9853996004126245, -0.9503899190534295, 0.49070580381520323, 0.546400120497001, 0.9576383964173272, -1.760520563267457, 0.7550007252588802, -2.449607507151493, 0.24523033868119068, -2.1371014098206382, 0.30826027798811795, 0.9221923074039508, 0.946463010023092, 0.262478814302626, -1.6200283562577382, 0.35550501981241256, 0.16987282347376054, -0.4748687501093622, -0.7471033346750161, 0.11646740145896456, 0.15315255269236222, -0.13679979263082376, 0.6595719299373726, -0.6990580960742078, 1.1064966800474993, 2.2398161652567663, 0.4004083733108486, -1.3503679234497012, 1.4048356677678513, -1.5698740349144948, 0.0864253384190594, -0.21960175783746522, 0.4774350967358587, -0.42809712293970725, 1.5576709717808979, 0.23264514198612743, -1.165811114666109, 1.032896732553447, -0.7950208649548316, -0.5776244052851852, 0.33581998298098387, 0.3537041304149854, -0.2685832596720015, 0.8406037809604507, 0.08919256549948269, 2.6675781505032736, 0.5964493164229451, -1.2269375883584037, 0.7188043594157396, -0.48826029035572555, 0.683219124575462, 0.47731327777937893, -0.2789208217756074, 2.1092225243768157, -1.4232978464542478, -0.9045660223093709, 0.5135721058277973, 1.8695551822333694, 0.9743521234682668, -0.1498929783391005, 0.9263480003489424, 0.25968249891104, 2.083156658805014, 0.2941709481796536, 0.15574730423619224, -0.2898028105246615, 0.42063835873631156, 0.3096103302493417, -0.09533692082059801, 0.3561512922609184, -1.0743087976393753, -1.7020485664772824, -0.7227854042466398, 0.3631159172068238, -1.1102415848431222, -0.9984587027529384, 0.2318314779856399, 0.5318897944956482, 0.6933211834725944, -2.322474290985347, 0.22214553464454667, 0.3381742469508746, 0.5991719766686769, 0.11640430323164969, -0.041276042788000275, 0.03575636883912424, 0.44930272608307104, -0.6438381948244225, 1.0056218777749382, -2.3633000709214618, -0.48899142213033503, 1.5224837126119046, -0.12550108178850025, 0.47777911430993736, 0.1544057821188352, -0.9551875746897756, -0.7255677434344536, 0.2596615529482898, 1.020873599885553, 0.6491448177045743, 1.888428517522234, -0.397534825703051, -0.5949973377642123, 0.591177925804607, -0.3264781574481478, 1.2172452164824925, -0.8851309523497654, -1.4469008178851337, -0.631366143281096, -2.4722155481065995, -0.7583773073356374, -0.16855159707640277, 0.31525433468662895, -1.1066795803051555, -0.5347551292862507, -0.717803098413025, 0.3402939128309359, 0.25657490830971325, 1.448989784720569, 1.070334988076293, -0.19591998414896739, 0.2139249081481458, -1.8547408596678157, 0.16730925107074768, 0.06781369897668764, 2.619590214234126, 0.9037189529517637, -0.6019254614173783, -0.5817571108784353, 1.3609453271473948, -1.6289193391185415, -1.0147017483435175, -0.6663323912735738, -1.1397510001263653, -0.11860229632475007, -0.4641571014016596, -0.4673376243848152, -0.4661566176171998, -1.2590287236634505, -0.2876111808313361, 0.9252999207220625, -0.13959494719349155, 0.44926399035089004, -1.723398058533404, 1.6979925970930443, 0.4599781042264549, -0.25987299724546364, -0.6859446779851645, -0.45466433147268176, -2.5140502198177637, 0.5951616997294876, 2.2821991061298084, 1.4195448946410378, 0.6322316944584878, -0.7060015283175278, 0.383101147815851, 0.6837096254290146, 0.5908253105803087, 0.5590373308024903, -0.645669536603717, 0.41462548952694733, -0.12575654746377488, 0.5915221558189322, -0.25513729203570806, 0.6808014520052325, -0.6724608416767683, 2.3961833678504836, -1.278574063207171, 0.6621300952855168, 0.6624978696825612, -0.1740907176645709, -0.22663767619158495, -0.9280325391454136, -1.5386533794593533, 0.5364966709057659, 0.878949962810955, 0.4841425388496737, 0.9783344559887789, -0.47646237665966756, -0.7485524158824671, 0.6851101819051321, 0.5180607676151892, 0.9572784452357656, 0.2881172549299647, 0.20687638100420688, 0.2507677235720571, -2.172507232674998, -0.19311572545731737, -0.013277399989952844, -1.7047222463032272, -0.37704235343190956, -0.46922650316883313, -0.5011133682406579, -1.03798113564965, -0.021602847479107314, -0.8411989407046719, 1.2165519616129963, 0.6207102505916324, 0.8120003305146081, -1.5906246230286538, -0.5809317668286471, -0.6203878075225261, -0.09959006665293184, -0.8191879561013157, -0.10193868340678805, 1.0824992560400455, -2.130372773347528, -1.0152281902012066, -0.9670735913482282, -0.8756890682491455, -1.1232773490855956, -1.3246632592048262, 0.006109547834998642, 0.32964179271477173, 0.24272393116145857, -0.7224417733826147, 0.13966064593838967, 0.32570764971709737, -1.5405872983649755, -0.667177918638842, 0.7823527481819479, 1.5145719835214226, -0.07705307719280363, -0.3116461137789649, -1.5354787160236867], \"y\": [0.25895269287044564, 0.5812205339311485, -0.15348408034755182, 0.27283909210458335, 0.08913841316475794, -0.06130726901219158, -1.358341568064127, -0.0244474126651847, 0.16187018579673734, -0.01559919050685335, 3.4746818913141198, 1.0016858799325634, 1.2687256538118237, -0.21864877528808577, 1.8279986203838354, -1.6113633014779687, 0.6056601314278479, -1.1190020498149085, -2.342625864951943, 0.29189977901911396, 0.49759783900847243, -1.5986437462112697, -1.6920800022954956, -0.17989481439460117, 0.555259670957578, -1.192927943169298, 0.5974266137543145, -0.001396342607150352, 0.6096561997874816, 1.915707468927555, -0.4641468150798157, 0.4261240962491461, 0.25913700289942854, -0.5981661463541106, 0.6401958967471091, 1.9625819106850695, -1.2081881026323111, -0.4784072306355306, -1.8169497513149917, -1.015589276659879, 0.5494304648859473, 0.699395220160126, 0.06348697643858837, -0.5694555775671457, 1.0932953444630447, -0.7382574588162061, 0.2825140272559023, -1.7505365526838632, -0.7335758727341543, -0.23548872062094886, 0.578291023983789, -1.0459984867829386, 0.81329738209666, -0.9461194144494431, -1.9301477969695717, 0.2988425240074377, -0.331053596846838, 0.09569572203156917, -0.7451569299084301, 0.20736745916198623, -0.06543051037840215, 2.2851566720491894, -1.2287830579448076, 0.9755192502370201, 0.14351334261158744, 1.2537270278493127, 0.6469695113202155, 0.12317195913668917, -0.11600471587681627, 1.0379342861687664, -2.0837807991301323, 0.41589114081148787, -1.178682420660582, 0.008217034304047651, -0.4762251477507544, -2.355030286774131, -0.9273929964100075, 0.46389143634868685, 0.7094649948589978, -0.24673320956529254, 0.6480582126755061, -0.608478761367235, 1.657927392571974, 1.807001509564951, 2.4919038632060353, 1.3057226100986372, 0.30208170961312014, -1.851860374818285, 1.2819790825850828, 1.3083308323171405, 0.47873395980136574, 1.1915940364132556, -0.7923792639897893, 0.7973258292586874, 0.15754551964127778, -0.8225052076424564, 1.0360312696090601, 0.6377275741880115, -0.8745215410889191, 0.8158477649743734, -0.22383432951159501, 0.08964004243895483, -0.5440270392246787, 0.15400365411626976, 1.4450397851456922, -0.5078721538082621, 1.139166158708435, -0.8887361812437101, 0.9720482042534234, 0.88140631636806, -0.3548053192806189, -0.08964166267376647, -0.6698091004683872, -1.1513372074112926, 1.2785067461714983, 0.15713313534970244, 1.0956989388543747, 0.7243307196383011, -1.2835864177237029, 0.9717078387209391, 0.7968924037058688, -1.1760041624661937, 0.8510093095664791, 0.20257806576587248, -0.4699854128200981, 0.8857953078878305, 0.3802488287400424, -0.34244346053472347, -0.48468910829261713, 0.16582534714845817, -0.7444889061784975, -1.4074342647825304, 2.123857026993892, 0.49734392669639316, 0.058831023242552884, -0.26550690474484956, 0.4500775440576587, -1.835967241197181, -0.1125191327459631, 0.127015575128376, -0.6431905151632645, 0.11964340580539112, 1.3504305525674765, -0.6165776995517985, -0.1290501494158772, 0.6885059682944599, 0.35244630566960716, 0.9332185178006625, -0.35277089902694597, -1.2141728300313335, -1.0337285113530703, 1.9254177910872181, 1.4041956889673068, 0.9015731963324091, -0.737577618145374, 1.4853662808355796, -1.8319468785338822, 0.835503421818077, 0.9575791079414788, -0.9587666070894477, -0.06620219085035041, 0.3412424538631172, -0.3120477775352076, 1.2917621557613017, 1.1924402417858757, 1.3107335447281532, 0.6101527101216502, -0.8279025828692934, -0.09946727774171983, 0.12690531558080706, -1.16054084936999, -0.028120811759683527, -0.6662144205675052, 2.2660721242781943, 0.42648881703441344, -1.993018332907304, -0.7341706470105803, 1.5881333521680316, 1.364188279939235, -0.799104418282956, 0.6979326350316623, 0.5043740950103669, 0.23472763019761841, 1.6051080970790872, -1.090816623148652, -1.0938960488642286, -0.5476239841685574, 0.7087381996950347, 1.7111406619354868, -0.3983819814799904, 1.8357928878201675, -0.6090280034172509, 0.5118013318050332, -1.3946929280218023, 0.6373554865790454, -0.6610941034950967, -0.8490708893704008, 1.4776851313183537, 1.135358599983282, -0.14649534865578787, 0.4821612938679019, 2.062538317071954, 1.7977671553563848, 0.06539167730761557, 0.6628737052004368, -0.8842006229610422, 1.1792658779023835, -0.7764539948708845, 0.6106824804761255, 1.1054082414704338, 0.9789129958246484, 0.2056220814581928, 1.185428347564819, -2.3686413743461316, -0.7629949446216125, 1.6419978511452857, 1.218863723380387, -2.047735140766134, 0.3299579850893941, 0.7275512716150635, 1.3865582111987766, -0.8652508363468876, -0.42967354599528396, -1.0474884292365563, -0.5850350248037441, 0.8615040850975704, -0.21964474938137638, -2.069354727504869, -0.5156325204632217, 0.8706791916659219, 0.5040651895688487, -0.46106156985569124, -0.5056286049643379, -0.2707948107732169, -0.9590245710101459, -0.9302348894360385, -1.1580846069078243, 1.088484511069171, -1.4250347205351344, 0.5328091613420805, -1.2043646192737818, 2.4553049068724095, -0.8690569226937271, 0.5965112305813837, 0.8257030283603543, -2.30112606998822, -0.3468746938642999, -0.8941038011680279, 0.009577652167580514, 0.1110220439439443, -1.4166213335314706, 0.6408433189417011, 0.6359541831876963, 0.036325525172074456, 0.1401846047063933, 0.6444154876487082, 1.017454837677221, -0.12374696767974479, 0.14704175682293966, 0.5275947274985251, 0.8287755347838938, -0.885300337472925, 0.34844565520088, -2.0504177751889854, 1.0050788862550244, 0.19503575161921505, 0.34677726952307275, -0.9109609670491998, 0.17060138605297967, -0.1578167416517618, -0.181643109839729, 0.9802564819423397, 1.8385020204931724, 1.01070622709963, -0.13943478787011718, 0.20711376169232382, 0.5838786017775824, -1.1072006364074547, 0.5893206706409757, 1.134606262866522, -0.006099911991802678, -1.4846306977787025, -0.9144907766026644, 0.8927774077452859, -0.20394271228075697, -0.1978389578929014, -0.4164114752411088, -0.987162216753761, 0.3128763621532059, -2.221042530032479, -1.4698932984360054, -1.5595051790211707, 0.1404992492944146, -1.0207586461019047, 1.0928921994877558, 0.05094499779644053, -1.9183428221013346, 2.4464774946282417, 0.22599282692845454, 1.1723597414579234, 0.9926874536054157, -1.0675547173706632, 0.3355530324347604, 1.072877675803959, -1.5117881344315338, 1.9733399750595566, 0.6880005523249757, -0.47601575954510816, -1.388015244202664, -1.8036910824244983, -0.13121435616322272, -0.38277852157987774, -0.7170989101515535, 1.5428706451512992, 1.022818722575843, -0.6947580740970007, 1.836098417795754, 0.7090973595138875, 0.31105486919383096, 0.805286217833478, 2.2250574313787466, -0.8477870493515891, 0.7369159563921766, 0.08896640645957388, 1.0488747063886277, -0.5692014926814545, -0.6294520262505818, -0.08665470722912513, 2.1598650140491737, 1.555459926538754, -1.2586558604759006, -0.22332107135615908, -0.040847265073273194, -0.11985518489680898, 1.1592834197576825, 0.03835385022059563, 0.5618000871795553, 1.0174906925881193, 0.3804333094861358, 0.9620821500048744, 0.1985130013849655, 2.2491404687152885, 1.352537350978178, -0.9830399218536755, 0.4959632924452114, 0.5114699411283948, 0.9114886636862186, -0.6635761015258036, 0.6253359748501253, -0.4172120240027858, -1.4270246665370039, -0.19893487144531127, -0.2526770393714712, -0.47052916985252324, 0.9379001635510933, 1.812644946765576, 1.5437611792427948, -0.25553784900114623, -0.16058654039776327, -0.08299398493723413, -0.40954736787352963, -2.140574206092477, -0.0961222671734126, 2.108334418645596, 1.5014332323121253, 0.5403407102161439, -1.4907361117089024, 2.2396813570890792, 1.4779418604174472, -0.24345170623332002, -0.01010056094386493, -0.5536136223359762, 1.4994662667973975, -0.8049372041090347, 0.05541228960799507, -0.3579690538759641, -1.7300070137598211, -1.211991527251878, 0.029576974032724947, 0.9703287501715354, 0.49447970233723854, 1.0347309519977208, 1.3173632540356692, -0.15048773314361974, -0.19914541941882438, -0.13314374129067025, 1.5670188151397637, 0.014749249516307898, 1.6350920965764322, -1.8948084369279687, 1.487496091851001, 0.1124799538580456, -0.03521643513271332, 0.45990094338609644, -0.4119168267550103, 0.5480497662123187, -0.41113167608483175, -0.772895084808031, 2.005925085744571, -0.3062975148066433, 1.1835981387867005, 1.4331242856458355, 1.083522390770767, -1.5062789301084383, -0.6153185294216315, -1.6930758105166557, -0.48477794232492766, -1.4902748607702456, 0.47249304246996376, 2.1814360003959687, -1.8044115352775458, 0.28820080738404885, -0.04846863243214667, 0.823618236630929, 1.4056716446802848, 0.413076889334248, -0.5777280268500938, -1.2057023732171823, -0.3620477545713978, -0.3071065079151233, -0.23115151471087847, 2.3099135850273993, 0.4686305842257631, 0.7934229791433284, -1.1483800868392484, -1.2240617367898126, 0.47763540492857437, -0.9747283386311659, -2.0005816374726546, 0.11395229329087024, -1.3962288650671681, -0.271163063439674, 0.34789662949631894, -0.1184227659618588, 0.4114075500578389, 0.22942732803697888, -1.364175220722337, 0.2773552071990519, 0.7046465474812189, -0.2648358661393529, 0.3194584830191339, -0.5411686221998697, -1.3839450355245284, 1.7481121425302446, 0.3968183459298479, -0.20723871056356652, -1.895492550697493, -1.625445215550586, -0.015142369697808043, 0.23812367692314165, 0.024447217738988374, 0.4696554515560268, 1.022572194295422, 1.6579200304202286, 2.104702039758354, -0.28572020384295277, -0.35258169009691714, 0.8240945492549603, -0.33924632600183585, -1.1604822966010846, -1.3600675990507223, -0.04889596907310514, 2.479351249549031, 0.7634116088207465, 0.19011275141441278, -1.1389605753744159, -0.3076730369161492, 1.5505680200630207, 1.6684833318078485, 0.49330137937377744, -0.7355252236323824, -0.12760262833475794, -1.5023114170819236, 0.3370419759838716, -1.9881797685936784, -2.255934250351268, 0.35948430855375196, -0.27098552905014966, -1.1807622444737194, -0.8291182322311522, 1.6258413072060136, 0.838900383732381, 0.22534121135379584, -0.539561435460327, -0.24673033707423847, -0.5169727656211667, 0.12071362647982391, -0.10117012092146946, -1.2541809594821522, 1.6461514677274602, -1.6171754882267417, 0.27456345216069644, -0.7790189461364013, 1.375853792519557, -0.9182993488029992, 1.1437675912665148, -1.3565684363814878, 0.9494851098323739, -0.5853363020327824, 0.2693195430366816, -0.28945237750560454, -0.48110535989108627, -0.7384778036376879, 0.6570546242855163, 0.6997165453637688, -0.10597807979229541, 1.1034163432820434, -1.897478725866446, -1.1864245795622281, 0.6716991512492971, -2.5109587721766604, -0.6688165467774312, 0.3605733029261544, 0.9679847946923581, -0.038877849170086076, 0.6116498966225149, 0.5722980313311957, 0.680179647963384, -0.08484543756799481, 0.8255133370940675, -0.7366572955838088, 0.05855568306112321, 0.6698166731665278, 1.2563039445978224, 1.1499380403163357, 0.31393821586072285, -1.0070140323642207, -0.6355554420296307, -1.1507789803058261, -1.3493207517013992, -1.8753135805486096, 1.603206184279015, 0.2558736563661992, -2.0610766017034057, 1.7514487987782668, 1.0709473570367924, 0.17086339277415172, 0.03166061072270591, -0.0011870955762976032, -2.2261993903399455, -0.1937505841856762, -0.2294737344821426, 0.6456785925037474, 0.7098803254685595, -1.1523577757353132, 0.220092780532208, 2.574169455337368, -0.9968919862049648, -1.6840339780681801, 1.7851843438109922, -0.14078472680418197, -0.27236508870471143, -0.7953643432318284, 0.7906488642701042, 1.2381705118869162, 0.0827844857620104, -0.7633276193245255, -0.004955646524848617, 0.27132681235491274, 0.20874561797790897, -0.602445101287848, -1.1089705316701828, 1.7527262692660484, -1.5196998055353284, -1.1684428856967235, -0.7232401765237445, 0.4129140481200962, -0.5734583557011449, 0.5623183248296033, 0.3781766841748795, 0.2798241604936102, -0.15123861675903974, -0.5417216519648677, 0.9408932044279374, 0.7242524432135169, 1.2975229693132178, -0.13520370249529565, -0.6516189506934168, 0.07051392157965612, -0.10433475964409648, 0.48087898448097743, 0.2844532826780097, -0.9456708731892715, -0.4981102238118219, -0.2817817744472552, -0.9466421650622502, -2.2450649697488716, 0.008065361777192937, 0.010122535073309962, 1.3103124303569695, -0.9617982038086771, -0.8632713306032486, -0.6005614279788969, 0.8258915016137429, -0.4048515449163248, 0.870505797497477, 1.1345925275326931, -0.7589621208363976, 1.0204229528304687, 0.22298659944799368, 0.1538623589818334, 1.5942234572887966, 0.9257565316411248, 0.4119906838221127, 1.3638263464008105, -0.3829026860641826, -0.531152916299969, 0.6579897554670363, -0.7952402096620002, 0.4201647990093108, -0.4192794757836303, -0.56500200756255, -0.12881041912063138, -0.06323176973697284, 0.45653704266239226, 1.8414506209712187, 0.8343314034842008, 0.503604269044257, 0.9571152317313831, 2.9033602876584976, -0.5666024071731484, 1.0293047727189273, 0.29452682821486104, -0.6587581248288871, -0.027952340201397193, 1.4297626242134456, 0.899841010937727, -0.3335143743599104, -0.17446437910194473, -0.4573167824094444, 0.40310963689515555, -0.33468013166238, -0.5718728492195297, 0.7678970399989866, 2.232254647823898, 0.5579637117680154, -0.06738156267692645, -1.0717474607275141, 0.6139150537281114, -0.9630168503540504, -0.02939870228731485, -1.3847964995202855, -0.4327282659455912, -0.9139019934176213, 0.676383934692763, -0.03195052302435424, -0.7591597725732081, 0.041743574321295045, -1.0191346114598294, 1.7003112710377652, -0.44944509451403564, 0.6486928948826103, 0.40842114098579524, -0.9464296266363479, 1.3852594126953386, 1.476366335115929, 0.6475649359878775, -1.382141974288368, 0.013048023002649125, -0.40752433054783765, -3.61929373642685, -1.9029514821695652, -1.3579223850718591, 0.8702969732284842, -0.2208726773821118, 1.1828322364374921, 0.0057056043386372515, -0.7849065935917179, 1.023713482506054, -0.8478294714316111, 2.465068721215976, -0.1148901972085925, 0.31309453199088483, -0.5786863368314011, -1.3374747769088673, 0.7045912520774132, 2.762761375343802, -1.7288284684337336, 0.6049348967082487, -1.7054899158537686, -0.13439132832095077, 0.23525927610999425, 0.42075954552459555, 0.027281530763151738, 0.16708761754967755, -0.12511999051355854, 0.2941841705261437, -0.07062170109727678, -0.03293894706755199, -0.3191120069993329, -0.4504505966222748, 0.04542623816307675, -1.5139110494533177, -0.552268288200243, 0.9410486550239638, 1.6930966672221273, 1.652987614121942, -0.013628270733854168, -2.1927470857985947, -0.15073822102525056, -0.7829105107281896, -0.30239596009929653, 0.06159343549375721, 1.5363809579909167, 1.2916641093339878, -0.3498410371119057, -0.880176864198332, 0.29766432793669856, 0.5546610848568277, 0.48287792060305945, 0.020991346181636582, 0.7821045997846966, 0.03821228124879116, 0.5899462736867617, 1.737963146099032, -1.271788984100902, -0.5322476229391914, -2.428835848863898, 0.5847686220510014, 0.9005602940745395, -1.6462799485591715, -0.09188416944439083, -1.271005534467248, -1.1175003818444635, 0.5827420324557581, 1.439256672980486, 0.16594493270264063, 1.4716468352592667, 0.7281927148697632, -0.6759769876161114, 1.6120682531410524, -0.8264639890346616, 0.2320324293995883, 0.7904146313992257, 0.39362095937445735, -0.5938681466645221, -0.2154767350917504, 0.3035520274432873, 0.7734936076454171, 0.8672507268961822, 0.12113245215298568, -0.6448272602253187, -0.5667018634832885, -0.8808831990232352, -1.7381104672361944, -1.1702990747257598, 0.5893652992278376, -0.10184753702842969, -1.0205482642345034, 0.7816490429567072, 1.7555388470527162, -0.2538809933229555, -1.4502640959218802, 1.0381601850741997, -1.3482663797298406, 1.5437718966939475, -0.9576552151290373, 0.5525103234913441, 0.5250018729174034, 2.0193589380772896, -0.5930845927924887, 0.6601913974525156, 0.4869539421201939, -0.10288587555715503, -0.47552275130332156, -0.2728586375016777, -0.8960869919797865, -0.7352537600688797, -2.0364107739019492, 0.07589970749521839, 0.5590347475329263, -0.7147220207228789, -0.5049184285032075, -0.20635287573625258, -0.1858214328235075, -0.7207507219449313, 0.23400019115456636, -0.6813894743084629, -0.7312100531211981, -0.872809272608838, 0.12810128082681851, 0.212888327375068, -1.0680614302717029, 1.0800283518594451, -0.6180329768725007, 1.1266617589389933, 0.40200019506710144, 0.3616478749110332, -1.3885705680807245, -0.45675257188736074, 0.5135541947234572, -0.11401403553306289, -0.011879222429322182, 0.37791046995421984, -0.023447727991715763, -0.9036488949380386, 0.3353431692879386, 0.9469915807924821, -0.3533441615526748, 0.3989571751892893, 2.118840508489202, -0.5182529286492876, 0.09198909133959614, -1.5837855740366866, -0.5590570556904488, 1.5062510712395234, -2.0498484975707045, -0.10991454477550405, 0.19297412037503248, 0.9739791935774, -1.5461241082964867, 1.0539294142688558, -0.007693677067626202, 0.6192676147315213, -0.16565983352606553, -0.2360508709043674, -0.5544197712521144, -0.373675541030452, 1.2993004727063886, -1.4268217643973027, 0.3758672131171336, -0.22761263127133533, 0.8939051017423867, -0.025588236519921113, 0.07136982920941103, 0.8121822253995556, 0.7279064229751453, 0.08898743777680934, 0.3928108909512378, 0.525764124225484, -0.3823287078496034, 0.05062908468222347, -1.1417150277460688, 1.9274182676945932, -1.7780466159580492, 0.854894275486764, 0.42824546773215943, -0.2780992384042175, -0.5837965955016127, 0.8418292960995458, -0.31891554742522354, 0.0011676547474009555, 0.7362921953534782, -0.1503294436500871, -0.39780939223566464, -1.3775721185245373, -0.4113659726346565, -0.9617351596834381, 0.6989331164639253, 0.03994265753283209, 0.9535318296306005, -1.1823901977262004, 1.2363682547587456, -1.9078803830925122, -1.025845127467202, -0.17038031021418773, -0.2912452766706327, -0.2725174793581057, 0.554812332210362, 0.34029370325688335, 1.8031102460719357, 0.8829693941357787, 1.0310785247333447, -0.26563565021788244, 0.3044504888380534, -1.4273035408978128, 0.32174429939918814, -1.7076628358008077, 0.2046779267508477, 0.4644954212076825, 2.389571613171378, 0.6006456117928421, -1.3864694905875343, 0.6006986701838105, -0.3614451314263861, 0.7686803871032117, -2.182360968045921, 0.5530207017942466, -0.05305369577399308, -0.19567139224247512, 0.5556176200726838, -0.27022099446104525, -0.2970251945683288, 0.8557276114994017, -0.8528052256789054, -1.1080815827413026, -0.39049266723774206, 0.17669893501621525, -0.3352015871688911, -2.619955742755124, -0.10449066351420415, -0.9832219223713633, 0.3790223623761519, -0.4602824837677899, 1.266424942840101, -1.6150676710419463, -0.13390903596641857, -0.955467997688502, -2.1110227947384907, 0.3838811134791746, -0.8093271929731941, -0.9138103437792277, 0.23500612399608067, 0.22262671738257994, 0.712372644883896, -0.9422734895572287, -0.8426329700676839, 2.395953488108135, 0.9358664798580402, -0.18904103045058784, -0.9697478504040479, 1.1498297347528752, 0.46961011689262366, -0.6113826817550619, -0.7178541819807954, 0.44037992417635224, -0.08787571383056722, 0.9436520252658116, 2.7138379110733997, 0.2741242970649651, 0.017888651419219942, 0.5562972964443395, -0.6562540552891243, 1.7385870362981937, -1.3733423732923655, -0.2349065411087463, 0.26486407489432623, -1.2359545359892843, 0.31559021277916316, 0.25899744372279476, -1.1786079156763727, 1.1929834688997556, 0.46663475319076564, -0.9019400549569969, 1.0231703859538417, 2.119616569561514, 0.7077760750636436, -0.4334806115920548, -1.0411329662397122, 0.055948151782597884, 2.084043471508685, 0.25371920784705376, -0.6162709536877268, 0.7222215188768792, -1.6880334026754296, 1.2505758783418994, -0.9040159400019782, -0.7687889755672895, 1.1162266512865144, 0.8171947144076644, 0.3421979690985216, 2.282933212213798, -1.1284874880424982, -0.8458654661858181, -0.14046777980746786, 0.13932584718769414, 0.7621403050387138, -0.9954659495938176, -0.9029074232923284, -1.601287552542129, -1.113831208717632, -0.33766665153636716, -0.7155669901090835, -1.2464974702048692, -0.6225603241723233, -0.3560477949280349, 0.8309958280403242, -0.8744767040226807, 1.1929888505895945, 0.6646921097723574, -0.5628181933697224, -1.7914597218358093, 0.830681726824732, -0.3737184743909007, -0.06401527742131378, -0.8541351266597028, -1.1450141570967627, 0.575973899315991, -0.7156813126963303, -0.3787148340233212, -0.811020900715864, -0.6661522647133363, 0.7396886439400886, 1.3248557833100425, 0.5881936732750801, -0.973707143414489, -0.23023387859908068, -0.6356195651110165, 0.5136590739047509, 0.49850215502782835, -0.35785629959247517, -0.376421182189696, 0.41296832680315687, 0.5958963847055032, -1.215691470293326, 3.0088597474617296, 0.24277312725137856, -0.971706431325199, 0.3133048452777483, 1.4816744354789435, 1.2934596128753333, -0.7454085219659855, 1.0348257066271616, 0.6888412925054225, -0.9126351943341369, 0.2215130591447454, 0.15014915629407688, 1.6936809289028352, -0.5160216983860554, 0.9690551665621823, 0.6098417370941284, -0.36324232466263573, -0.6318806987352691, 0.961319142102849, -0.04905949342611906, -0.37003762683564584, -1.8548203280989137, 1.241580977203219, 0.9695222778878552, -1.2580543196362513, -0.2778043544325551, -0.024900292897384133, 0.5331589649231017, -0.2571366890236119, 0.501131835556351, -1.6333693151694118, -0.6531558129459079, -0.5613916931145777, 0.23335137756003416, -0.3053349601268253, 0.3866103734641609, -0.1013220950595596, -0.09818144569871236, 0.894112207374607, -0.02551146062428864, -1.1630849109194503, -1.1850002974800502, -0.07127364282545406, -0.22589302444574377, -1.202942124820417, -0.8827029326342856, -1.425462736922034, -1.043818754201821, -1.002616278957907, 1.562623090011332, 1.2524851995946216, 0.7954741456351591, -0.4468273659873353, -0.3881152072572166, -0.7748975699132142, -0.07821075631276177, -0.8403353339323931, -1.4429197719027376, 1.000901541065202, -0.33050169370551535, -0.013943028048199508, 0.7953338905567443, -0.3048316333690557, 1.4698464064853263, 0.8346536390918918, 2.0616969277304764, 0.4474728813936005, 1.8197631316094058, 0.14101122675810832, 0.49388462645919357, -2.2841638811601004, -0.08417722348790203, -1.3921101660665995, 0.8827206026771853, -1.2448723241470907, 1.0853117275815098, -0.04736764556718823, 0.3849378392381082, 0.889321659383226, 0.7186058383859558, -0.689505626938272, 2.2787458428649643, -0.8141183192719474, -1.4094203756520851, 0.9723187652964226, -0.5174740151544551, -1.1337228213488457, -0.6596774315297109, 0.8719688741926668, 0.2886480009375546, -0.5992551965745981, -1.6480987774919487, 0.8879410158263753, -0.0779722330524118, 0.7695742424042147, 2.0812899127570197, 0.6903907466098467, 1.6355487605206507, -1.1623027326296789, -0.10944927250516243, 0.3020695221415434, -1.0773573076224525, -0.2910955541004155, 1.3919574532008108, -0.029313184650240465, -0.4660072850161786, -0.08479673669471594, 2.7060811892467243, 0.5304189301149285, -1.0504571595533252, 0.07134656219888388, 0.6259195435188528, -0.855331957623909, -1.5053097739153904, -0.463055898776417, 1.3731118151165866, -0.282269954755254, -0.32439286811011886, 1.6743479913361154, -0.2152924739879522, 0.8662150601812496, 2.202986899625532, 0.7504087043494644, 0.11337123479974544, 1.798707673431114, -0.9773638299612484, 0.3227168557788372, 0.2080384710025075, 0.41632005468449856, 1.3099986295022448, -0.8619837003626023, 0.2117327831671286, 2.5016015209796, 1.5671039792515011, 0.09887852091962307, 0.34855870259160837, 1.6503801591078766, -1.0381182588237121, 1.0690862302251547, -0.30320844059494156, -0.36814650300829393, 0.5411326996453047, -0.6907071201398665, -1.3084080489556424, -0.12009654212182518, -0.8645192666695136, 0.9981079613274427, -0.8290281299886852, -0.6589598318734636, -0.457174308116433, -0.2889497246413633, -0.4700475115229863, 0.20117720624139168, -0.012481424529981485, 0.7774060915724873, 2.5504254244804003, -1.5987740385313636, -0.18820831221968715, -1.4252348420932055, 0.3191849711826877, -0.2513648641986184, 0.42409425277399365, -0.6055679020718563, -0.5657419046564929, 1.1750263511682193, -0.06690403494691603, -1.3107831129461636, 0.27714859483060045, 1.0832417897720388, -0.19903573391869728, -2.256556164580058, 0.07142713265544659, 0.9955251445414264, 0.20810481878323703, 0.11869751107903188, -0.5975209348037833, -0.11287716468636648, -2.45555760059863, 0.46969497025981416, 0.91915013178246, 0.5948607746016182, -0.07621847759407094, -1.925934782644378, -0.46085722992350664, -0.5622424061582705, 1.3231821854200134, -2.3908960383655145, 0.12036652480687854, -0.8922408382426633, 0.6528354605820966, 1.3116636073666754, -0.4615874952054909, 0.29246324130355167, 0.4499269559946741, -0.379749567647174, 1.1180326579239706, 0.5093398516469521, 0.47711113218969736, -1.2219223684832174, 1.9730553386356262, 1.10760611984275, -0.7874083137701565, -0.33950376835411583, -0.3764764892941866, 1.0935066268896891, -2.3091826958412507, 0.6614512897967861, 0.6765102936345551, 0.8217135374307255, -0.2910061941590321, -1.0172808545956262, 1.4398502479542992, 1.0790518908556352, 0.34596399011906787, 0.2916338652934067, -0.09155618849898149, -2.9737612984298893, 0.9570955016351733, 0.26333787136360504, 0.6980934010624377, 1.0887135519178726, 0.46999861128302, 0.6197576573934654, 0.5018237842957429, -0.8265090610978676, -0.7723311429220712, -0.7984714184134427, 0.24617807012282408, -1.3590286779430008, -1.0152967502755907, -0.5360443908962627, 0.015906299911218162, 0.26764888064626946, -0.1999391102867646, -0.36075643166223104, 0.7136953722194326, 0.5802092429538399, -1.1075424214004976, -0.40211282548081145, -0.2243268427625873, 0.9091637443316058, 0.23145678637600003, 1.2737963284307825, -0.10554376831606167, 1.7906752714335628, 0.27264060050672784, 0.5768225081297439, 0.1165203204354917, 0.7623154688112875, 0.7882182994347549, -1.106465214959533, -0.30289146000066397, 0.163684743069219, -0.7807138441081858, 0.1975773188654068, -0.3801673394172174, -0.7055557914964593, 0.7741214333876861, 0.21662830278268477, 0.27634532117686494, 0.6171305382440814, -0.04678235302683413, 0.5033542326867484, -0.2593966841072175, 0.18140749835971187, 1.6323573066688446, -0.33140018297002305, -0.23391646562981688, 1.3676212639556011, -1.3169432496067337, 1.9776847039034597, -0.49949223758273487, -1.1212202091387242, 0.9655364753704035, -0.05323052008952479, -2.736620407323672, 0.44178327287750707, 1.650109926081626, 0.4153070757453906, 0.5565245312590235, -1.1283840800046883, -0.6381275716842225, 0.8794729350488892, 0.8882106465790195, -0.07430514086217131, -0.2647473656355644, 0.31727723405723474, 0.6666502346347226, -1.008713705835833, -0.8519878400127232, 0.0499362022261604, 0.12461197901651776, 0.8243651205461732, 0.3951569477516467, 0.20160472332161924, -0.4855635591688543, -0.4246025540721636, -0.7411193264152168, -0.09805243819285578, 0.10013289210914503, -0.6373727941366558, 1.1942613336072965, 0.5687330478394382, -0.4780092981310268, -0.9124655223782461, -1.8754198685986, -0.5617635860142459, -1.161211473794668, 0.9389669587754894, -0.8758801791475308, 0.015197335334095199, 0.3771630461778983, -0.5752783261274815, -0.7333066373665953, 0.36147856038530785, 0.7064803873317467, -0.5206992500082276, -0.1645934909538898, 1.8083300426697262, 1.4999803679723678, -0.6076137460860777, 0.45774805339363256, 0.5926741219373508, 0.04989531637333502, -0.7777466950779057, -1.82513669316961, -0.30879142713149, 0.2890505979169689, -0.5318459284246024, 0.7505131303969821, -0.8024281847691191, 0.5188035485522458, -0.8860214200543224, 0.21994033288263126, 0.7417572700726129, -1.4193917532295162, 1.3155736042794912, -1.2615820621084652, -0.3497102751507965, 0.2389638527054295, -1.0366551397588841, 0.6561025488117269, 2.425317880009083, -0.07154260146749687, 0.7996873513891263, -0.4780581672324148, -0.3797132939408402, -0.4530383782287245, 0.5666873683862793, 0.027035618488941714, -0.7242400166117107, -1.1537532831074289, -2.1934037540955402, 1.0943051956845964, -0.08351507336046206, -0.41526093522787677, -0.4272461722059642, 0.6296899520381766, 0.540097414486598, -1.021886429306092, 1.5279243303060952, 1.3392343492457854, -0.17320946753143526, 1.003173036613549, -0.3090338354539524, -1.9419087162711997, -0.10128681501816415, 0.6186114605875895, 1.2559762231063767, 1.0092104697139386, 0.06055553373502893, 0.5693184620447338, 0.6046694572851015, -0.6684717065924045, 1.4233300377631792, -0.19666015186788433, 0.18711484246040977, -0.7324717709076111, 1.653863229356181, 0.6596616281283914, 2.3724871929131295, -0.4510892279931928, 0.48409680763618634, -1.3311496257007744, 1.2921673906659177, -0.5667476785870708, 0.48685394840587215, 0.0076816730751226485, 1.142534109128849, 0.9087300799826858, -0.19880833405489012, -0.7150438280919731, 0.5076123826130927, 0.6941424304148889, 0.8797427316090729, -0.6291506520556469, 0.20335034155134987, -1.7352887703017268, 1.1712820694990962, -1.7686633876881577, 0.6223396676009575, 0.46512885937622345, 1.6879250702679165, 0.4303253072142224, -1.6144809631523196, -0.5406306272838356, 0.03921939017545267, -0.6231451542982434, -0.9177576458013124, -0.6182010739952635, -0.0663679032919053, -1.1125017063608322, -0.9593546131731476, -0.09290822100846133, 0.3240975476441513, 0.8411515231068016, -0.6721900059274769, -1.1637484662694721, -0.06224411183149558, -0.7985321033750173, 0.6101468542988028, -0.4857054067253779, -0.38349412242818515, -0.650463321641253, -1.4920601025656222, 1.0432210004362124, -1.1078433610107075, 1.1031805413143472, -0.0720209422385812, -0.6675390971554305, -1.445952814346146, 0.8726307008351787, 0.016838377640785884, 0.29705271536042344, 0.2447610980206667, -1.3992038454730664, -0.8926919724169559, 0.813737547971762, 1.6883745916691946, -1.2571568681543634, 0.03671762268182246, 0.05841127107522684, 0.36680281574756496, 1.1253177719018173, 0.30825166498532325, -0.6535628807215174, 0.8118517052863042, 0.06028665126041884, -1.2930416119368637, -1.2258187042711257, -1.1577262790326222, -0.8254646771882811, -0.3020979232955071, -0.7184671454056301, 0.403330500084435, -1.0010344407300915, 0.07845088042314924, -0.07399161048452825, -1.256135197169535, -0.4783252971380331, -0.2125393817833896, -0.8425798019150639, 1.3020125700763243, -0.07776835067159145, 0.27602975380637323, -1.648065409888974, -0.53592008754995, 2.0841062342782943, 1.605188104456061, -0.3273212386421819, 0.05598411793674916, -0.20033208243134581, -0.13403046068771202, 0.8261983518696379, -0.3563840113347411, 0.904412671526077, -0.3001353340233346, -0.27071654561188685, -0.9577540225574851, -0.7953246718586225, -0.22938890242506188, -0.001358483503068319, 0.9848543909455649, 0.570051157592364, 0.6243240461826833, 1.0713880588690317, -0.06033745349606635, 0.7619793708716687, 1.5290997368452874, 1.8521137660762985, 0.1582169246736874, 0.5829525923026336, 0.1555859085970491, -0.369953331294912, 0.1654948480580207, 0.798605307642438, 1.0770338979178338, -0.8357876964869747, -1.0359944570552002, 1.164777639092528, 0.33141445787673424, 1.0985199006520039, -1.0277445766427504, -0.29587435746214885, -0.16839358706441218, 1.1080870999293133, -0.011929103206299429, -0.25166313551895064, 1.5267616588384638, -0.6532311492535046, 0.8575086936039383, 0.4042670599708394, -0.056591193117109286, 0.15588558943326727, -0.294289598336257, 0.7509055819899709, 1.7779704642658065, 0.67513444542959, 0.49103795596913, 1.571777832739829, -0.5267816835107868, -0.6013577180116284, -0.7273859510649329, 0.8312330413350001, -0.18248353269237122, -0.39163050244291664, -0.6890642225847022, -0.46749975554873135, 0.07512583793327426, -0.05042939829041792, 0.6414932813729759, 0.8668888288931468, 1.7272222570616709, -0.19856248740500362, -0.5632060776229861, -0.30899968026251073, 0.9029395601114132, -0.783445532891624, -1.3058292375264955, -0.6942425606089814, -0.7425307751988784, 1.1644421083589518, -1.1574851456839899, -0.5431588076006786, 2.592774711631148, -0.2201635177734268, 0.27050579497099947, -1.3924787761441506, -0.10148944144902143, -0.1424446628031529, 0.3159251147008662, 0.44786623209043047, -1.0739823113852711, -1.393104585600274, -0.8552546225446618, 0.6418953254800542, 1.2768218773059312, -1.0945259137273486, -0.18433207209797278, 1.058922073582595, -0.3187637788725864, -0.7377182181928101, 0.2958406122860769, 0.75081301144595, 0.7987241470047366, 0.08945314094575811, 0.6357529049602588, 0.6269982861603071, -0.14423953702736628, 2.964225475372427, -0.8069074567025979, 1.4592308115229198, -0.34530251513416294, -0.8383793261596899, 0.5867823701984384, -0.8447532162929366, 0.0917683840993265, -1.2485281528163958, 0.09346141708734042, -0.44125855158149807, -0.2212204483564036, -0.35065568662976626, 0.0007470775868581524, 0.04340769748970289, -0.29667899648176693, -1.692708792305199, 1.4354902450710953, -0.6493856214870773, -0.08599006297193612, 0.0676717887475617, 0.05333673736065794, -1.8422831472271792, 0.02911608066765954, -1.0794253888757648, 0.5148723927603068, 1.640515315335578, -0.3415749716293763, 0.8231023491158692, 1.493966805595762, -0.29380218035732253, 0.0012973364070417517, -0.7269283835086937, -0.7473618055010358, -0.3641518862944902, -1.3851700146036545, -1.0436467306820623, 1.1452296503812822, -0.7956367335272068, 0.18818411888912442, 0.7295013029552007, 0.7075436969845531, -1.506675635561223, 1.3296861835410754, 0.8037236862584387, -0.15483404496207673, -0.37688648802175106, -0.0893631635005528, -1.726445997649762, 0.5658445773339826, 0.27061721526249793, -1.1633351201399458, -1.445887509347687, 0.6626507988427469, -0.6942422181854078, 0.34717250215910456, -2.020878623188553, 0.8976860947704064, 0.9664748927898328, 0.661980972530657, -1.1448891290449388, 0.21947322068978875, -1.5360247363104695, -0.08808047825588959, -1.5618813265548626, -1.067640801313717, 0.40447829065312507, -0.5773022416929507, -1.414906065629015, 2.137963379578184, -0.662253886061952, 0.5821014407421737, -1.0787350150079833, 0.9108268359970109, -1.8384373878900993, -1.4957719793889337, 0.6693863311107345, -1.5964747271274415, -0.22472896140380222, -0.13615415200696981, 1.2647809637636824, 0.14158534005777784, -1.0136214700128132, -0.472723550572239, -0.18584379216161587, -0.12505548322546609, -0.8087754441421612, -0.07377645844832632, -2.9925217509923026, -0.543799784716643, 0.25096799444521206, 0.7942610185839578, -2.141309151576011, 0.05763577237989899, 0.4853434898768164, 1.799171586925284, -0.0014773250205623281, 1.4655730365907913, 0.14901599353092854, -1.6592108729973503, 0.5981454740142631, -1.1641729516794992, -1.313416457677928, -0.7170866645617505, 1.245053267045489, -1.339211099307672, 0.2626257203614569, -0.5805972390815918, -0.6832770492171473, -0.46222258217782347, 0.2851260491439169, -0.6128821455465993, 1.3301449045108775, 0.6661988369709437, -1.113911764546147, -0.33913295683448225, 1.3597499366712198, 1.9813454262641823, -0.5757750982645312, 0.48112772303621537, -0.4988346407444025, -1.248507156221654, -0.4918171244738918, 0.9009939627042345, 1.545776848741756, -0.7135235536721949, -0.808365813237641, 0.30076440675393157, 0.831326837669148, 0.08887211760331419, 0.322498698313574, 2.4631293233397336, 0.8609292649576673, 0.4950408927355608, 1.6093494230813628, -0.17034139108596943, -0.855479865099203, -0.19657030610815965, -0.036104812395649395, 0.4241658297378606, 0.31376725058880384, 0.5142848706430239, 2.0707658609930255, -0.10700593277107903, 0.7859474885537889, 0.19461512026643904, -0.48074087710649016, -1.401190517440701, 1.2640665268132392, 0.010511554201732474, 2.61256203213255, -0.06649826235635294, -0.21953778867508342, -0.5598410278790363, -1.0391498754623174, -1.5296063791106305, 0.5005392838990163, -0.8680506575827143, -0.10452275420111237, 0.9519639326858127, -0.6572650641919763, 1.1342281872164877, -1.2679617778191716, 0.03963334576221716, 2.326254098270857, 0.8011608508238872, -0.14807560365471242, 0.31996456108635163, -0.014124743767362958, 1.1571029331771747, -0.12578516227772854, 0.17504860937496097, 0.2144900210091769, 1.5752323294114774, 1.8246989079354672, 0.1309611137956106, -0.6757843017454854, -0.2117530490652891, 0.949184218589263, 1.4677497473794616, 1.0945746447762041, 0.43415230544051747, -1.7870657536781436, -0.4501877565322022, -0.9535620345795551, 0.7535589031415431, 0.2562937609570394, 2.011326953368684, -0.6597708540760969, -0.9547846998440388, 0.17481546886463473, 1.3641948271545958, 1.378453838819299, -1.9715550023463573, -0.3578052471892819, -2.3035229263485446, -0.8255017009199421, -1.315916170946626, 1.2056926659038467, -0.8422017077324722, 0.07311310402546559, -1.016202317439971, 1.8726079348883873, -0.8607599232537259, -0.17796446324752382, -1.6934344676539466, 1.289087609096196, 1.747289650612585, 2.7639560107311647, -1.6512829017973065, 1.6205101748963777, 0.8194243632693784, -0.5814903123208954, -0.6990464497679778, -0.15878062270888693, -0.19256902923259114, 1.9646014964018617, -1.9221153666097053, -0.11104217518668368, 0.9991625294526492, 1.2966853235769582, -0.7688695660120158, -0.9667351708231018, 2.0004105211515295, -0.37163887480846647, -0.05261859998687409, 0.023841157768726834, 0.4287717074259177, -0.5241122435996922, 0.8601258113876703, 1.6857647216964577, -1.4616092230940638, 0.4444576430954128, -0.8688984819260501, 0.43293005921522765, -1.250773513716424, -0.1584708957786072, -0.531450250909861, 0.4346688727190713, 0.3058371341474531, -0.13375628486148408, -0.29637287906696314, 0.9641246265196018, -0.4076640352155521, -0.7894254687503622, -0.6473271969115607, -0.0005728795310815858, -0.3748105436975825, -1.6128516213430817, 0.4883934800366658, -0.6978833604698951, -0.057452896732476354, 1.8082206978650448, -0.9638675140509728, 1.0790493562009023, -1.3209548704428542, 1.1534610594355037, 1.5145523313729392, 1.1593345295936341, -1.658455465429712, 2.2165964774770384, 0.9391490148944827, 0.3665521137303055, -0.39747997695919496, 0.8407984799098788, -1.2857172471464022, -1.0714117391368547, 0.9887724538544179, -0.40289813359061344, -2.545862286086248, -0.3755783556289682, 0.5805162637715404, -0.31489603887001816, -1.3106748386168356, 0.06506050600984645, 0.9086322548796404, 0.8572119286148585, 0.07498346928893214, -1.2347537229117616, -1.8663935348730774, -1.5442516992183144, -0.1993772483167179, -0.5111445822453946, 1.2244393788766166, -0.9628413567167847, -1.3076223187183327, 1.8870908404209663, 0.09578942363081318, -0.6495976250584372, 0.42545209409073104, 0.5850611171092331, -0.3302328936546411, -1.986257089066722, -1.3561677810347934, -2.0651480173086596, 1.8172843787150956, -0.06658091272881916, -0.2013238420836077, -0.3801896804778596, -1.1187282116603194, -1.0424836256824743, -0.9541548476470518, -0.767740128074741, 0.3339312410599053, -0.6755625753253186, 0.9369654189330122, -0.21599025444743436, -1.4501177081567111, 0.1595680622392685, -0.2100652795261813, 1.0304433299345102, 0.42526937387674374, 2.2071542991479847, 0.9650205134006667, -1.1738370173776078, -0.664315020941951, -2.1207024512939276, 2.102172054408683, 1.9351662165068402, 0.5469853959212132, 1.76161058622051, 0.3031461861421765, -0.26517787853926755, -0.060945378070659965, 0.13219498902876592, -1.0175696618131418, 0.8211868337555057, -0.2754121595029774, 0.837713208836695, 0.47747232382590726, -0.025154770629646026, 0.7404571214314025, 0.7288078007555462, -0.12790906237292135, -0.18343429006545095, -0.7274770610267501, -0.3012285057357105, 1.1113118565399238, 0.1691767857151511, 0.6839762061848613, 1.3168230966905559, 0.19881549293719974, 0.6864300225188392, -1.6941335187679887, 0.287769565779034, 0.46422068315517884, -0.6280434222955306, 0.3804994038181858, -1.1287325524920109, -0.33300206014462364, 0.08877333854401351, 0.26854919946526634, -0.6550617733560679, 1.4256803629215178, -0.7968953764239889, -0.7293766584677153, -1.1450009377993602, -1.1307374531420915, -0.15686244569731828, -1.3337696262679954, -0.45884546631074674, 0.49700515766103637, -1.3122192744566952, 0.7733626970199162, -0.9578895362314711, -2.066277745395777, -0.2851525189426774, 2.3245064861560603, 0.6768300176644921, 1.5797029331324832, -0.578196409420862, -1.8604583405496469, -0.8064264469979253, 0.48576772062700274, -0.5637542879368195, -1.1375730578534342, -1.8312334787004005, 0.1752917561000956, -0.686485477607451, 1.9782628488636385, -0.8883147481633199, -2.192261620372481, 0.5461686003878126, 0.1061385979653285, 2.0445600439238723, -0.3655443985289486, 0.8323857526828216, 0.26005116402151124, 0.485735477699686, 1.3047464819865635, 0.17758414143111886, 0.43975306291143995, 1.0782920886840477, -0.425361116934097, -0.839646207035077, -0.7231629831804107, 1.6208741401167392, -0.4320179789994998, -0.2976914679647249, 2.087523018870449, -0.08019517972061695, -1.8130091294930093, 0.03434299047865633, 1.5215469200623328, 0.12789770929867278, 0.5430662492609012, 0.9112465656581393, 0.6740287114979534, -1.8646127163401547, -0.6655326852898295, 0.7346883744060526, 0.1432015897444746, 0.30063069220110444, -0.5290872736701677, -3.2933411916045494, -0.3758396524498813, 1.4644287451987328, 0.7218473582705479, 1.373189633261211, 0.628684654798293, -1.9922464066344097, 1.1078556028466684, 0.038700487704821825, 1.6933605907386984, -1.0690987277208026, -0.31733869296019884, 0.8457322393919079, 0.06522179459209035, -0.7609100043454021, -0.0652464515175564, -0.344622439220483, -0.42228470909689964, -0.5090064024019236, -0.6769564897434693, 0.16019583388782457, -1.1994634875320833]}, {\"marker\": {\"color\": \"white\", \"opacity\": 0.3, \"size\": 3}, \"mode\": \"markers\", \"type\": \"scatter\", \"x\": [0.11796596163915125, -0.03729438084484837, 1.9697688332881218, 0.9623629973316924, 2.1622729420271654, -0.1945456787096435, -0.5145236226249987, -0.28955244329960733, -1.3961549783474574, 1.483226780056886, 1.8963048310972066, -0.954479001325951, -0.8330829625105858, 1.1730856289861218, 0.31951125945728137, -0.3005338057358785, -0.038517960061301565, -0.3915138376954742, 0.6225528285053035, 0.6708921909490111, -1.5885715252989558, -0.033018800922139484, -1.683641111505458, -0.6105228403722006, -0.8256650241432993, 0.1733962965981961, 1.237574261847339, -0.6171075723401452, -0.35758829150824684, -1.423078192527623, 0.3549395461348626, -1.2499834502546, 0.49944059008306735, 0.03718538187387632, -1.2260999943717266, -1.0524393049832776, -0.4324445633117029, 0.624399989811651, 1.4826566875139944, -0.6201860681137117, -1.4781284549347025, -1.9578852737451236, -2.873226889835741, -0.49922518971981067, 0.3009624062989251, 0.06728170624193754, -1.134746533798179, -0.634629694543389, -0.3736902390841027, -1.1862120417639819, 0.13261538805217046, -0.055749113738214374, -0.2992382991017917, -0.24780091061556359, 1.1180372843231414, -0.388456224335799, -1.28437320097059, -0.1190078181025989, 1.7916328177498517, -1.3463553046280543, 0.40901192517353613, -1.7767305141623884, -0.04420875593329815, 0.7103803345319581, 0.033612618869735524, -0.10870315392545266, 0.7486093144445012, -0.24746265984222296, 0.8610652709240308, -0.4914810857049297, 1.0980105753933722, -0.0916700890065396, 1.4839149062470345, -2.2119913486424587, -0.2026025013186104, 0.476564696431019, 0.4749225508234633, -0.23413052075846155, -0.7971196807823614, 1.005272501268198, 1.6034082760264536, 0.30689834829742063, 1.8272125776297277, -1.6976945286249951, -1.6593018883907824, 0.10390563803471053, 1.0056143684088574, -0.20674956669103975, 0.6565793742729574, 0.18068217464082054, -0.5330782453177664, 0.9382545181913893, 1.7548151535639436, -0.0897422005014646, 1.0590167801700514, -0.5977745352085087, 0.7403926152205428, -1.0497646841531532, 0.5645029605309861, -0.2534731859477061, 0.660503149539406, 0.03319964470732169, 1.30041759508781, 1.771060424774995, -0.07937485773652668, 0.3466123173095934, 0.28645487164911193, -0.21833876803341198, 1.573346120316863, 0.6691388519539768, -1.204172927766231, -1.3392141580072419, -0.04277253494160739, 0.06697403416807346, -0.25056386878071735, -1.4730944322756323, 1.384812416137885, 1.4668445063863613, 0.2952998656963753, -2.4541252267017035, -1.07765723322938, -1.0897867709575482, 0.6202883607314598, -0.4698909680425767, 2.1381098031821715, -0.35367289219929726, -0.25881758763049123, -0.2615478750397305, 0.18458366863074202, -0.8070248910259574, -0.4378142917990882, -0.49915215791240575, 1.2723389904670133, -0.7314867128623646, 0.5986091164576747, -0.3841931855355711, 0.18371217443910084, -1.9997320058795165, -2.3195682613678517, 1.429009332735875, -2.3325517850970563, 0.22885890951931992, -2.727638252206333, 0.5000753933586127, 0.7983785104709388, 1.0170804143537742, 1.070233379337703, -0.7738048879633764, -2.4974488982560232, -0.41728182151901727, -1.9244959279194214, -0.11984554379428877, -1.1856904036402802, 0.6074094410828753, 0.6379075026957562, -0.9960870664981847, -0.6387981639369107, 0.9928189855889122, -0.9591177748867997, -1.1520890115935094, -0.6307970353615137, 1.5477055821923456, 0.5746367898878444, -0.6971490333284438, -0.88456638599202, -0.49059306184646584, -0.5183324385239051, 0.635043934479165, 0.39606375636641267, -0.6287291275791058, 0.07674792179938923, -0.5791624829750406, 0.505009039536752, -0.7159244652308646, 0.8613309923449269, 0.5264339999362335, 0.9094640165744676, -0.46568274672699894, 2.2880131692453767, 1.224039956723661, 0.6090113947110424, -0.5866293186851478, -0.5442984603057824, 1.1115201455175554, 0.2640541439268569, 0.08614010451418733, -0.4544541820370414, 0.5236868469406594, 1.1719124632106277, -0.04011860835827215, 0.11067814640899298, -0.10710751777530964, -1.3241960222650102, 0.03555302506798918, 0.5010508615583861, 0.8280962416566883, 0.4652005874496748, -1.5147556299756917, 0.16507224143694474, 0.26197933534182566, 0.3499053528984825, 0.60125211991606, 0.04181463753968667, -0.2482044150280674, -0.860572799395675, -2.2316614290376617, -2.4797400187509187, 1.2346908603789617, -0.3424781961056568, 0.4478775890393968, -1.2506558952681666, 0.38109475367487283, 0.5397532706162268, -0.5471837369583031, -0.3963991608994301, 0.948462207590686, 0.43046356865414637, 0.30448590805359865, -0.7839150011172479, -1.9651697408536293, 0.06728779501168672, 0.46629892930288963, -0.8666122629781758, -1.0490457986916255, 0.36939444185923503, 1.574172456534364, -1.4852124798244384, -1.7966795057944254, -0.5230558975813887, 0.5362880815257659, 0.7216767122296367, 0.9580723418409092, -2.7529516226382937, -0.44275158006706883, 0.15955019784393626, -0.30186308243615817, 2.1635380393742376, 1.8159763798235709, -1.1956120547107212, 0.4513856293203744, 0.6307800588604286, 0.18656131258084285, -0.5185445339942616, 1.8130964752221053, 0.27721871317743185, 1.0234066355248232, 0.9838160040136071, 0.43784662666587887, -0.9880695890504146, -2.594512945281614, 0.05482044169201528, -0.07021572710370651, 0.10028050950255832, -0.44011868333756066, 0.6094707826472235, 0.7074097687085761, 0.08368519383206417, 0.6972060725892858, -0.9299110599856648, -0.7474365144977735, 1.2765440534192787, -0.8476205502534141, 0.2466243318126696, 0.4440411572873939, 0.07218900249245101, -0.8195140801742626, 0.7409731116889001, 0.9939866748198677, 0.7599993670270768, 1.1994069876529463, 0.5783753246366785, -0.8189413410119054, 0.42411976722008093, -1.9133750331923223, -0.304463810760194, 0.20199835758190074, -0.10295995583159698, -0.32367970905420007, -1.2728556745740938, 0.4711662279352239, 0.9118204520447151, 1.2880433700680431, -0.9588100144435239, -1.0592797600272639, 0.5854989916657407, -1.1471394662067431, 2.1959424785778405, -0.8680282986230282, -0.5121623949639588, 1.2190931119049584, 0.2683956355129712, 0.6711914570891476, -0.3283377734835319, 0.19924720212739372, 0.2510291138862483, 2.022166017225702, 0.3987699369906165, 0.9855726607605333, 0.7260059651823688, -0.8426480637411462, 2.4235964984405127, 3.1331852472332136, -0.005998021891247817, -0.6486357162674834, -0.4409835007147678, 0.5047867966949384, 0.11633209188600384, -0.20358002797825814, 0.5564052120060161, 1.0774623467728126, -0.2524597093105383, -0.9660273920899044, -0.662323156532729, 1.4904637829777017, -0.9716904803675429, 0.6582194785720555, 0.025338810200488848, -0.02771146721177639, -0.7795066245356376, 0.28244866325771883, 0.8879776658817841, 0.6327249300755324, 0.023063403451523322, -0.22610819088026982, -0.5961446099322895, -0.5892975274548051, -1.2406802250282671, 0.6236227914913065, -1.007334837247481, 1.7158271084093633, 0.6339686703015072, -1.7639839938269495, 0.07189219237672145, 0.9676880682133698, 0.6060320140221379, 0.19772713742674117, -0.0890251786899509, -0.8172645182972393, -0.9817767082778768, -0.803929311550076, 0.2230476688859419, 1.2771627288272869, 0.19429043752967803, -1.671496104160501, -1.0100092970414425, 1.6490192448246288, -1.2443076966941378, -1.7697842565417294, 0.34964564948274396, -0.9206328855829412, -0.7827018741614096, 0.10030944209688362, 0.6321379819254604, 0.4885581117949597, -0.9484048738499484, -0.7830640123367514, 0.9990228046702253, 0.23941383284305917, 0.5483772251313745, 1.1612396181398854, -1.5803466073464403, -0.6893170950720229, -1.7322356726755699, 0.5745289343153615, 0.4342495296810862, 0.6778190646667633, 0.9240098013890854, 2.8849522912316523, -0.01075479429738632, 0.3045058078749057, -0.985422115825181, -0.7407625964618785, -0.608017755238357, -0.29728901615695635, -0.10789042785481183, -0.6576412797516568, 0.7847128134366173, -0.6238729050165639, -2.4184792116742395, 1.1343810133846937, -1.8294760647484383, -0.5234023334758504, 0.7771449272471118, 0.1892966612668378, -0.299792334598, -0.982457337126069, 0.3677074823618547, 1.265188648640417, -1.524989332561466, -1.5427007967185988, -0.9358470157116168, 1.8062290283608775, -2.227093586320812, 0.14085700272821222, 0.058374012983151494, 0.3687932340036706, -0.9566080389394341, 1.4028745873662591, 1.5325092539077814, -0.09347264136708267, 0.31579580922418216, 0.48209202948739666, -0.6607563004441208, 0.02374604758941871, 0.5747530181916314, 0.6899102802728252, 1.0441010052200717, 0.6841022966321003, -1.1704319399151772, 1.8759547252445017, 1.7158443871096356, -0.7098303052944355, 0.2010143207003511, 1.1618185870596212, 0.8552467795373115, -1.188869757338816, -1.2063469430764429, -0.6338875978211675, -0.45838684908462274, -1.986550088183256, -0.9974644928644338, 0.7877744730079785, 1.9100536437297606, -0.09343080473642619, -1.3105036487205157, -1.5942553380099767, -0.6711780634789585, 1.3617283426765778, -1.9226573336137724, 0.787544909150986, 0.8753295516488091, 0.9533674284675027, 0.8624292858620135, -0.7988020956493349, 0.19359341846598288, 1.2227412719563981, -0.337506937925842, 1.1176714449433662, 0.4564323685298452, -0.8282647999862267, 0.8750936840674104, -1.6382158366378243, -0.5909111927784267, -0.036766066483045035, 0.41895263599614074, -1.26124871738888, 1.6693887671552996, -0.04922323508367407, 0.43664206762924984, -1.6551959561486336, -1.6675084357258607, 0.13487146537849973, -0.984793295731513, -0.670047277567013, -1.261882828943181, -2.8474412900699013, -2.1176411974708294, 0.047899637602367304, -0.08762245130163257, 0.08350697719265084, -1.5965732923633171, 2.0652404829023863, -0.8589959346611756, 0.6024254172476048, -0.8367003462343475, 1.2233556901688263, 0.10574213464529951, 1.6560738756429911, 0.8491347806763693, -0.5875901065021647, 1.1949075723580487, -1.1682844948117574, -0.08158587596483063, 0.8706188285059071, 1.1994906248398014, 0.7189642111623906, -1.217470169084428, 1.0780607326703484, -0.1524449357856124, -1.417986091291347, -1.6821890991046324, 1.2191699196471053, 0.800550148173396, 1.1087723093965454, 1.9812041052425877, 0.9314015109325215, -1.240209673037645, -1.521744800449234, 3.131143623395054, 0.10568957503062985, 1.0564740665017376, 1.1743306015662556, -1.038678273928269, -0.9332470610073382, -0.8571987246695247, -0.6010056360698144, 1.6869917385098487, -0.570251335911403, 0.35877006007412965, -0.5581603744517878, -0.3799452718332368, -0.2518305970057005, -0.05992222098678368, -0.9120440198241969, -0.43722798609840535, 0.8597262378169483, -3.484932165720314, -0.4058170539254558, 0.2775945472976472, 0.6543351587422473, -1.7613812427470614, 0.38064512766279185, 0.12382504367673924, -0.24557227291745118, -0.06079605546370114, -0.822494984768575, 0.6572589591775386, 0.47818435714429136, 0.08337736223778508, -0.2895578954990764, -0.519505442278625, 0.6465377308412051, 1.6916951827464348, 0.2533512248111022, -1.7630275536841777, 0.5926794922727642, -0.6213270580570298, 1.1715261828071066, -2.0656619213253244, -1.059999492717805, 0.48817717455727383, -0.9038090183033697, 1.50492869661926, -1.4363048222097656, 1.1906870093727613, -1.120762545772503, -0.5702040567575558, -2.059488704726739, 0.20915386719661144, -0.14629065601178723, 0.24590938166479578, -1.2300909004563625, -0.5759011299913435, -0.3501466648953667, 0.5551667085987905, 0.8575619930860495, -1.0751767300017445, 0.8234614142682128, -0.3737684870542691, -0.9610771933934952, -1.1531808092116502, -0.16511623231194184, 1.470392486294089, -0.8805964562918203, -0.9195110228605878, -1.1667205635370437, -1.9731595344721413, 2.4272401626454374, 0.7255180513967245, 0.23625357298740365, 0.21601224932278865, 1.3216001392329757, -0.019626845486522146, -1.1967297475934873, 0.6452099675981118, -1.1705336962668236, -0.9601941532049356, 0.7391306642352802, 0.7829602446023606, -0.7558464902674397, 0.11225549995768369, -1.5286566231134433, -0.503448299755166, 0.7296271550000335, 0.28178352893696235, 1.3115288665095197, -0.05849616297269592, 0.7089509240006954, -0.5375040584559903, -1.4599860853176605, 0.4508389444245924, 0.06090606160544984, -0.15859231503842383, 2.0072301665730965, 0.6355852413106395, 0.26419554378344495, 1.9728426608582506, -1.0442594190952306, -1.0798007324220391, -0.3008690176862406, -0.17522878382962606, 0.7927963463619068, 0.6902727229389269, -0.9653769282917166, -1.1074727477938122, 1.9307734221932893, 1.7069406040250725, -1.0803918069614578, 0.6937914796340858, 0.049785351349110024, -0.47370139894063185, -1.5218979331145674, -1.1599928382717695, 0.5747972867724868, 0.8896224553727458, -1.357666020284893, 0.5278483704728721, -0.33492797542066566, -0.866768366872458, -1.7711936853359624, -0.6404539238971912, -0.4291752822143739, -0.5979917196434059, -0.44507789308349344, 0.4658445193526784, 1.1545941795787293, 0.846810599457497, -0.9245301561901129, 1.9249548937917107, 0.08198505348170777, 0.2506574732099643, -1.0791334761051643, -0.029855778116025383, 1.3504377720206646, -0.9719990540649047, -1.2504551002724391, 0.6862535878431951, -0.2604062137597725, 0.9163315098616973, -0.04971848854776287, -1.947745268605493, -0.6058200430800215, 0.338758984707268, -0.2134950612648702, -0.2631925468601323, -2.169201253831055, 0.8874785719947489, -0.09071196437762236, 1.0017425130083526, 0.7168345627131678, -0.18027762632171596, 1.2377116742788001, -0.8755914586951806, 0.35250481599574707, -1.0332036014461727, 0.6114093264314197, 0.5136562235708887, -1.0207262797566912, -0.30865616839990734, 2.020958707164268, 0.12161877969254362, -0.7177331866111555, -0.07497336041682835, -2.4315046254295765, 0.7966657130497843, 1.0115867178976214, 0.28200937337587134, -0.8690374311448751, 0.006051391588444457, -0.08948901194603187, 1.098343903186597, -0.1252971631140798, 0.2653294761376855, 2.0303644264304808, -0.32938165874296177, 0.7598332413786845, 0.8300318290454405, -0.2409874306141017, 0.07546526265501217, 2.1957050501543502, -0.4826581892874204, 1.004553719993826, 0.4096598894440915, 0.6429326608577662, 0.6474652275746602, 0.8057710777166555, 0.8246075818852784, -3.162531095544319, -1.0072864621020547, -1.2897467135763374, 0.12012053506902716, -0.5255147621232142, 0.5249828238887876, 0.013943267732244623, 0.6924530616708063, 0.876463624132941, -1.5740528062185328, 0.29214287074230283, -1.1107398765256538, 0.4786113285325036, 0.9651726032257316, 0.33490629179366393, 1.5280149222372041, -0.38728277086597784, 1.3257055007122427, 0.08586506442442746, 0.8820961895368785, 0.3237081335651008, -0.2641953917665047, -0.05277466328724661, -0.006782610696936768, 1.3856276003698094, 1.7061981430700568, 0.8264841012398179, -0.20608121847941915, 0.8512860654725117, -0.5819887090034042, 1.1563163297114316, -0.48712425058548225, -0.8919613159381831, -1.8968572755795108, -0.508098208297329, -0.34296497771914497, 0.8218666819220782, 1.7046034169548452, -1.5024367649693584, -1.4883986857884486, -0.7275311053870586, 1.3841032874431731, -0.9919841241424331, 1.1303781442182843, -2.2505475682081038, -0.5776382502708002, -0.9007155932804717, 0.5467512421385088, 1.0158135719945611, -0.49761769881527335, -0.5667600657368399, -1.3133774599672514, -0.9005103633407517, -1.123724352096482, -0.9531359081544369, -0.20981710572101514, 0.6094428282904752, 0.07347752510648246, 1.4006804912577444, -0.31447428307899955, -0.5427480035070735, -0.1830107112266948, -0.9500780547827604, 0.6029647331952871, 0.23282739799250013, 0.24954486744351073, -0.01833213222074582, -0.457956688339718, 1.4679349591336623, -0.34597451496467574, -0.07016335938495318, 0.6276684040632767, 1.8395510254303211, 1.018252145611874, 2.154355881601975, -0.5654074575451674, 1.0421273879511508, -0.7760052777661028, 0.5001348273083499, 0.24975698167364585, -1.3905070303603095, -1.0495579284512877, -0.48186208382712864, 0.5751501648201267, 0.5187588562976392, 0.9103651817802698, 0.8855682370817991, -1.1391139610053234, -0.5876037992683992, -0.303832242018217, 0.8926552294362023, 0.18705081519395733, 0.33375389043493475, -0.6365442674830241, 1.070681732572542, -0.6696133287673456, 1.372443722198453, 1.925546245486533, 0.012020092171536337, -0.3684207044043438, 0.45866916522908247, 0.6517393860778249, -0.2420399813978791, -1.282497197809937, -0.5147679439391986, -1.0820703378074885, -1.5049858481676626, -0.9984263352114134, 1.791581508902787, -0.6760770722344385, -0.2765455008763214, -0.19665193262031153, -0.09603895970178938, 0.8586874402794173, 1.4520913924781071, -1.1629909777631753, -0.028279019990097475, 1.2681998887118193, -2.3486216760286496, 1.786098401507711, 0.3740675277177829, 0.39405281538816983, 1.5327660225619486, -1.6094254858073351, 0.4414926632592164, 1.5991908843882758, 0.2688470425901928, 0.013256273836224911, 0.19679445129940623, -0.387542044596395, 0.1156020209967459, 0.2861820335873344, -0.4124892921455597, -1.606056586771395, 0.8394296921542859, -1.3180586209505483, 0.3857013639262828, 2.6223854824304587, 1.4797792101230365, -0.4139369287343448, -0.3108980657109201, -0.15462185124605277, 2.1309374359146096, -1.8854237164609016, 1.1383703685888475, 0.6613330274981067, 0.289166954847182, 0.9212561346635723, -0.18711952469000973, 0.13324435473780027, -1.0663462922378293, -1.182624142242485, 1.1913719096750524, -0.43284625806263227, 1.3365468803467817, 0.6117099905142588, -1.0049352501374336, 0.3592995634932071, -0.7891840267766901, 0.9442373605252102, 1.214171705707552, 1.4765385257566557, 3.4405938130214855, -0.9009275460271504, 0.6047012975131941, -1.01652562960171, 0.9957475716517598, 0.24430627070748445, -1.4665410743522822, 0.8174024364513643, 0.4176476582582071, 1.1170904136100779, 1.6847145898809153, -0.8368400119844773, -0.08309087020214834, -0.5306441064451982, 1.6053148599967288, 0.09996445845328446, 0.556477214048473, 0.04736637337446689, 1.6872586985221185, -0.04470566873158181, 2.2234931103323587, 1.1374441786468958, -0.3414436646170233, 0.708354181245332, 1.0783027687682598, 1.149866872408469, -0.50455889789761, -1.207789358930523, -1.2707628957554713, -0.021250717615116797, -1.0527230401522631, -0.6668720413600803, -0.11929092037334894, 1.8324644150648137, -0.21259988867786364, 0.7803081224953881, 0.9362665495504127, -1.0025326343504832, -0.41003437947360144, -0.5708398094609528, 0.5438679166131132, 0.4879439642926584, -1.13729530215127, 1.5449507383478709, 0.8927331168324654, -1.3576459341221105, -1.225793894777044, -1.5851050942009133, -1.2448468906196484, -0.3243289564388876, 0.9132410853804387, -0.6753228865140937, 0.8158310203305879, -1.4415208094829988, 1.1121496495083918, -0.04166940231632844, 1.3297984312380795, -0.18920487339076725, -1.2951163029155313, -0.8985217374618034, -0.5091061473434144, 1.1109002772442964, -1.1844204793053206, -0.9813254736540871, -0.9108423570007993, 1.426927203025412, 0.04065502823575305, -0.16232923872855884, 0.2420745565292103, 0.16701589040125817, 0.22707562190032346, -2.1273575138844576, 0.3679699440689879, 0.49375578245400364, 0.689524498072444, -0.693048269909802, 0.5108809571597258, -0.541314732617583, 0.9726130573114873, -0.8937164741925104, -0.38490189946986464, -0.7543137830409843, -0.18939301782948667, 0.05716156794013457, -1.459813490931532, -1.7248271545578153, -0.23031832311290706, -0.7014405087256009, 0.013440438824963635, 1.4931326944934398, 0.149069377032207, -0.5511664340792305, 1.2984409540083124, -0.6081554083524003, -0.18041929769390969, -0.08730271001077049, -1.2905945918535517, -0.19745330589407634, -0.7785824407859108, -1.3602287581947963, -0.44400264936485456, 0.811662797629734, 1.3588284433063305, -0.2422334568686896, -0.13469688965503365, -0.781894327869927, -1.2382236508512294, -0.37213151287190455, -0.2294660512737999, -0.495529237232853, -0.4888488117212474, -1.1647964442012393, -0.6775895995839727, 0.6154737685809166, 0.003977713945175205, 1.068652848441371, 2.2450734890739965, 0.6229174837041903, -0.5903925861687122, 1.1503878681913036, -1.3068709511069516, -0.5947361204217845, 0.1461584148083312, -0.4417443719020223, -0.8448307463859995, 0.2627640986717446, -1.0353337381545, -0.2092947067713094, 0.8262113960831567, 0.08739475846944685, -0.44640248207438904, -0.5960316339720694, 0.6781387233230406, 1.061329622096445, 1.6101168161763086, -1.2606363353538956, -0.011431944298016762, -0.5847282904095066, 0.7169065078440126, -0.011006643567219369, -1.4156611344789145, -0.38717557292417537, 0.9550629924223442, -0.2334021840445157, 1.1685799246690347, -2.2197920734288035, -2.4684710211504095, 0.01555055944394588, -0.06258366470461915, 0.8237066442764246, 0.16645169874905685, -0.9565961445946126, 0.989888629871973, 0.31714915109088937, -1.7501336007048094, -0.39590701098536535, 0.14251122296107607, 0.6228451356548499, -1.221818362430403, 0.20525252021338178, 0.08835232633273218, 0.20444250647231033, 0.26587236845054246, -0.7317342417214737, -0.675384361138828, -1.3288347345850258, -0.5552682289365384, -1.0394782102747813, -0.3035390905760636, 0.26153801001151333, -0.03845706135748655, 1.45354076622316, -1.4871148396654266, -0.4234954564397153, -0.435433779926493, -0.05586557745353104, -0.4977719385857734, 2.120663332538196, 0.0530247917100818, -2.8978426484745867, 0.518737146244201, 1.5820553406974434, 1.4677199089752861, -0.1322805576936348, 1.5427635528988926, 0.687563795523172, -2.946433058999572, -0.4034878478878113, -1.421890148480623, -0.9687454298027582, -1.2430715836971822, -0.5428139852830066, 1.309612899850895, -2.1397222856948255, -0.04811746511396392, -1.3043753227396213, 1.0506510538439753, 0.47624711763390065, -0.9025851980329057, 1.514874929242849, -0.31486553948494667, -0.05736957013725823, 0.08008607574587215, 0.46302642131205424, 0.4626800691573585, -0.41238067865593053, 1.1336339890254368, 0.9478457308140567, -0.07108131465314094, -0.32842169574612, 0.5779453823846211, 1.076590490225367, -1.0779727500216922, 1.3076665596101618, 0.40609049171444217, 0.30796731285147727, -0.5549314028223358, -0.2999834807312977, -0.07542348872748154, -0.6076141114368502, 0.5830991326191449, 0.4328374016451444, -0.1977276368215539, 0.1654481325395615, -1.1538554559201841, 0.7948790217641916, 0.8943040352564492, -0.748510567152498, 0.4608334807133483, -1.6726255414381614, -0.8172036581392272, -0.15530646285454724, 1.754998290160854, 0.34274002161719014, -0.9592024418394797, -0.08765350086893758, -0.9480509420300525, -1.4427878603364277, -0.5115466969316362, 0.9935556597087679, -0.1988025354538036, -0.8814614374356212, 0.4484828186550076, 0.29334229465532324, 1.343063807285299, 0.30422490227459353, -0.4500461098481865, -0.6161459365281132, -0.5114946001936358, -0.037372700900407396, -2.608833835798035, 0.34143987394055064, 1.2312500440339527, 0.44759338957471007, 0.060032576779737376, -2.1650034053677403, 0.05675453833136843, -0.429048363397258, 0.23846911304844257, 0.8977940646647514, -0.23916988405198034, 0.71913420925605, 0.03193868162438048, 0.0061497008932970935, 0.45915600482713825, 0.9053481418177008, 1.1562761404216502, -0.174861851058802, -2.9700401170949897, -0.39578059325379344, -0.8440840419245388, -1.7997592021393631, -1.6839402156038004, 1.3117590832276103, -0.37987350058335273, -0.6947176678256008, 0.527695660903154, 0.5845949978492082, 0.6796332458878984, -2.9562280477946192, 0.32753076432746825, 0.46087054375488823, -0.4553151098374806, 0.7326664059800772, 1.4910223475410167, -0.22382662560757455, -0.09689188994257748, 0.13516565393152113, -1.233849764374964, 1.1011473432489234, 2.0841193033278227, 1.5719004533253678, 1.321101167923732, 1.3008659194345373, 0.03950231014763362, 0.9568074368306171, 0.08969923363617328, 0.1081874269090038, -1.2475492861406587, -0.027951692958323466, 0.4051972181375504, -1.3027745031597202, -1.5921175478334513, -1.462219373151866, 0.13353102110067136, -0.06557435645044019, 0.42483008966893193, 1.9961420421038916, 1.8750625273068844, 2.082432264208339, 0.7341464772437211, -1.4293066617910473, 0.09593647318761549, -0.3693972595828253, 1.3636757463675593, -0.8466450381390557, -0.9612403587441509, -1.537022763116978, -1.690739880049566, 0.26186094221731565, -1.7004096803375928, 0.23511381504975915, -0.3503948507413041, 0.7745533304792542, -1.8050827735423554, -1.5133521662266882, -0.969561655200495, -0.5784024529801953, -1.37393043610208, -1.0412430603791563, 1.0002438850193813, -0.8963631226428308, -0.4692884140516045, -2.3077213632207356, -1.5287669900518608, -1.2539094457145852, 1.3650295725813058, 1.4883671732367418, -0.15311199499308303, -0.820062492466008, -0.4451671005631526, -1.7146199403140405, 0.43607345119423485, 0.3630923586583254, -1.2561556214514984, 1.7415573627146643, -0.010238952727111297, -0.17148181921194355, 0.9687779570252649, 0.31839820139937586, 0.0010117748882537351, 1.8439928716650187, -1.4843336572147163, -1.1130788661299345, -0.043721815160437265, 0.3504322706940456, 0.7057459798541046, 1.1897778639254721, -1.0761746442597782, 1.4088897365898945, 1.4349069360707485, -0.40900065521089946, -0.1748377173737007, 0.36973389593611933, 0.6908709612012968, 1.1317331284926924, -0.6324385149281299, -0.6945344272402073, 1.1374940974916037, -1.700334703233863, 0.8526408520400596, -0.9320997574968611, 0.5277660895912601, -0.3256811655282492, -0.31639060508156436, 0.39208662505591996, -0.24726666159658564, -0.5770903207963252, 0.6898197033817071, 0.5448871447620212, -1.4464281916525357, -0.5953852581426359, 0.7478131217735334, 0.34824807295575555, 1.1172864803099107, 0.4172476654417187, -0.7459496318720786, -0.18821103960495292, 1.0631409690259137, -0.8702726880236674, -0.09263193906075856, -1.0132665400960923, -0.958834374990415, -0.1532963969194728, -0.6182499903090566, 1.0741889560452837, 1.622001474570565, 1.1097114715234013, -0.0217442627106227, -0.7853391045519778, 1.167114935814884, -0.7974667862946985, 0.6015805544767036, 0.03489165261834718, 1.2925654932625765, -0.2549466978416504, 0.2501475657382631, -0.5892307286408973, -2.0263792348928793, -0.10460559373397464, -0.8415944244202738, 2.0702544678628065, -0.02488220819026784, -0.27541306485804906, -0.8395457913469092, -0.2487814909237011, 0.35309559890662495, 0.34189508333367213, -1.9985267159684292, -0.8693925312501015, -1.759676762623947, -0.06486208194023464, -1.4725216716978085, 1.7647252418804995, -1.4555781063454458, -0.25842774337848645, -0.07980599403193973, -1.6184840490664074, -0.18551544586095453, 0.2776121335007666, -0.6932459097848332, 1.4135897884027544, -0.5780181913005563, -1.5539288679751637, -0.5172191327637549, 0.8474209620180028, 0.44991093825481754, -0.23366753640963872, -0.027052338100299958, -1.2662381305804433, 0.19749759220026067, 1.3627227654445901, -1.6969375159864442, 0.09223781974359654, 0.31528448600462117, -0.17814586396535292, 0.5535060113640552, 0.8689213492225242, 1.0200548909793163, -0.07213568012400329, 0.21616562623606966, -1.0437121275024916, -0.5138030558303153, -0.23203296222251277, -0.9635628161695234, 0.7148367434580745, -0.9773992632453011, -0.39918437785811095, -0.38371021521825016, 1.0777557367076467, -0.03400355826667529, -1.2155682285571272, 1.2284187759829353, -0.49508497659036377, -0.19819864579351953, -0.9392177503176333, 0.36250933729128076, 1.742755213833046, 1.0815721410788743, 0.27577526078128023, -2.8397041009151596, 0.23591047465288745, 0.7305589086922539, 0.3403906002629283, 0.08240707456197532, 1.8838509147334843, -0.7528072724536147, -1.718722513885163, -0.10284658466895719, 0.9499480161721459, 0.4706230351334385, -2.7264213277849003, -0.4947024597842726, -0.6075502288378344, -0.7850884192539767, 0.16990633515121148, 1.4091764868537322, -1.5702747847771334, -0.013451221501098518, 2.902585196503069, 0.2212415825563486, 0.07314157789265092, 0.7104144239482989, -1.192712318348035, -0.8049725629610145, 1.45749705735292, 0.0052996356937169, -1.1650180138176296, -0.8844512176931085, 0.20926884882493543, -0.2523508354369917, 0.5558280699267456, 0.4697715702229894, -0.1549015847682652, -0.19889715499114122, -0.7774315524928713, 0.2722085193783634, 1.7279303739892988, -1.3365119831183618, 0.2656558586368299, -0.6508071073039047, 2.182174890979643, -0.25037025900999693, 0.977424230328369, -0.8597666897019868, -0.0824046131230656, -0.3165653348711286, 1.934208483463907, -0.599024204110897, -1.4344005767784271, -0.40850863845479185, -1.2954047014328913, 0.8522720553029122, -0.42732974088563264, -0.6575114843336416, 1.6939055976638389, 0.2124914785583274, -0.019836301197084585, 0.7382933983633343, 0.11117155950752661, -0.0632219937505648, -2.10408605166082, 1.117728344817423, -0.00493087301227004, -0.16932552213878205, 0.04284645249117863, 0.42777970232077356, -0.7591882807731746, 0.3734392691086673, -0.28540304419379187, -0.12463438177237739, -0.9726220210926722, -0.3340480327274609, 0.7004259439281656, -0.5826300581786035, 0.5201959340425402, 0.707901243077144, 1.4557708573214563, 0.8392727094962186, -0.816730353583634, -1.9866775122385818, 0.7945221299807953, 1.2658628749651346, -0.8231894455915975, 0.2527627764625214, -1.0620852647813532, -0.08827891833026374, 0.8004136023383743, -0.755782636039525, 1.2474205591656533, -1.2444505909454544, -0.4738319839170345, 0.9386881076129059, -1.6169743480959955, 0.7181636994793881, -0.7166545358881541, 0.38300388642982486, 1.9230521406446057, 0.5178691915850318, -0.7489750820809276, 1.3226701764940492, -1.1789054078085368, -0.08083488406360038, -0.06311241893628299, -1.0137201778430043, -0.5880508843330075, -0.7257263003496557, -0.438421617335747, 1.406303238533004, -0.19954104212379378, -1.0218107085765478, -0.017878896426247615, -1.9822270236901922, 0.3987383435664442, 0.683863711535549, -0.33237102034721283, -0.49320630892744793, 1.1270349343244461, 1.2144742462985192, -0.8458327272763744, -1.4440502090863236, 2.135501187223814, -0.43317845345404016, 0.33608559857226755, -0.16082198355713495, 1.6126342998397132, -0.23192094714247702, -0.5861574033549101, -2.2215969985481894, -0.4183304914575964, 1.1327051831583224, -3.0143695536107082, -0.19753183002147368, -0.203975989540378, -0.8549830791246875, -0.3874576863229458, -1.2562471255315761, -0.7803861374190355, 1.2763509100363761, 0.915433983183238, -0.28823737153223433, -0.4999585810151211, 0.571989631467991, 0.3669326421565784, 0.5963823875720529, 1.3903819037320702, 1.0093796721536117, -1.7778785588137684, -0.19811645806001058, 0.29182522961811624, 0.10737156611481223, 1.0940742177065401, -1.0957032880909072, 1.2859203023268277, 1.9563169598693173, 0.4383131367388581, -0.7436470019574013, 0.7699963232198955, -0.3281991756371519, 1.3634385008293401, -0.5597142124385039, -1.664220257432142, -0.7895904766119383, 1.2402901830654873, -1.2380931097860264, -0.12424429815073924, 1.0722512453088384, -1.088260310170605, -0.8689298357601465, 0.2239799764724841, -0.13767597441484208, -0.37907395697014307, -0.9397641535076592, -0.16125134179307904, -0.650049998325713, -0.4667135247207217, 0.8633886003065461, -0.20774875125588183, 0.18162653567663312, -0.5572536900788241, -1.3522200676134872, 0.5695069354628863, -0.44486190276596815, -0.7688030379630949, 0.9434278977083693, 0.605565428946651, 0.8533531336686523, 1.7150746863525206, 0.7177788005600112, -0.9569647028503785, 2.2151504748694872, -0.41307751861577247, -0.5747052910438559, 0.177437278456855, -0.5548925286371172, -0.6007761915149635, -1.4719026566728006, 1.1551048464985594, 1.459847277567032, 1.1875000518998555, 1.5543308562247913, 0.7298931223842442, -2.4873961802455247, 0.14728932697495878, 0.561952095905308, -0.02728288622112554, 1.8734572508445124, 0.8179435663926397, 1.2518130459135814, -1.0040350951903634, 1.3534975248850731, -0.47489539374620554, 0.14452383263191254, -0.3370066137168794, -0.8503227693472708, -1.5925813422895956, -0.6261224862562226, 0.9188019325220295, 0.6370904310314672, 0.43174999899742367, 1.6711864498622342, 0.3096149078711582, 0.056085195739524675, -0.14017191562353545, -0.5780886219666287, 0.166080620910576, 1.1044351143066105, 2.0264241137961507, -0.44311227574890155, 1.2185091605828453, -0.48865551575489025, 0.884694869780103, -0.34575167259433187, 1.2544403786657659, -0.19807575168111, 1.608690573416055, -0.3583062323948799, -0.19149738075455064, -1.434954293378422, 1.3481220497481678, 1.0010389823447086, -0.5223018137006242, 0.7070047001121845, 0.09760737441177197, -0.5573445714233662, 1.0065529522216476, 0.9916960750549318, 1.3013254331738024, 1.2902568666619256, -0.5564893548969571, -0.1640264661787414, -0.42244865566407785, 1.1164893308359543, 0.6706827003592964, 1.2752251935569283, -0.1609171233117148, -0.7781758202141335, -0.7444908514698838, 1.4902404327987113, 0.5159964736950075, -0.545902560757937, 1.1317116262557247, -0.758002814640874, -0.7429165874623276, -0.7935344214369645, -0.029679881751570745, 0.1388650682631688, 2.847026006515378, -1.232180375579209, -0.17577196934245398, 0.07088389806664347, -1.3737391903394789, 0.5865628658427785, 0.033480824235679926, -1.7724857776814513, -0.512124694934411, 0.8667555192171048, 0.03365390956449082, 0.4805319280132639, -0.7259978525808006, -1.9048209189365697, 0.4640072123991562, -0.5517280119492244, 0.7680527110026268, -1.2808617555247688, -0.45018902175436293, 0.8770859153298572, 0.2795952191071665, 0.35872225338663066, 0.5102933920201909, -0.4373924208292965, 1.2373064605199968, 0.9636154254293767, -0.2953221722996026, -1.143804907593571, 1.5342269225415635, 0.22249840996351147, -1.795114762375854, -0.7064599771316957, 0.43389055769808116, -0.8124144289435664, 0.7253413162990822, -1.134494296859827, 1.764109203340484, 1.416260685569623, -1.1093646558516792, 0.7789577590915446, -0.4047441832723023, -0.6056449546952525, -1.1159927370469005, 0.8497095837419086, -1.2793292559563554, 1.5368421759689772, 0.6534359734891287, 0.5178018243279732, -0.00972435561638195, 1.5463873492537716, 0.3931068438993737, 0.8930943785398554, -1.0126218045767008, 0.015807199178433276, 0.838605686704357, 0.7385827172264827, -0.2167492237401863, 2.4456493606172245, 0.63346203972573, -0.20122377591565174, -0.33779163999151046, 2.451370150340274, 1.8140748757592091, 0.42462601425891533, -1.0408120520372668, -1.2971048446001716, -2.0852706692014995, 0.2735759852198828, 0.5887551490992355, -0.7634534608879353, -0.0070401510913334206, -0.4243883766964281, 1.4301915532719176, -0.25402467132766005, 0.12649749797154047, -1.9896729949388854, -0.24149837083360615, 0.18427010112756223, 0.15605743434032723, 1.1082333304104717, 0.674212691363185, -1.6351437138183866, 1.1458172635084962, -0.32636451807660827, 0.6327203503001241, 0.6246184842597103, 0.6074334066639603, 0.020462221707838898, -0.7131235107434811, -1.837111684031989, -0.28518580127874776, -0.6348490624960867, 0.6986930113078241, 1.2336815815336502, 0.027675470711099184, 0.6721498480954112, -0.9920295741130685, -0.42633091447699056, -0.8466487046882138, 2.0325419272082668, 2.0500855153836524, 0.08357034064217264, 0.7074435194168996, -0.07164304348884866, 0.5687690924963665, -0.512586500069751, -1.0380485347753443, -1.701644960452711, 1.87632667032177, -0.17047339238563225, 0.39156903621292266, -0.8004463523602765, 2.267743424903016, 1.0969285167962715, -1.1824310000629532, -1.3000800350609747, 0.20712629598254687, -0.7379041946659792, 0.0254516259281834, 1.6375906798524391, -0.654535562268442, -1.926472412924245, 0.22980919462996044, 1.0649255697512103, 0.7856196451039127, 1.180216325232768, -0.6133420568690102, 0.24682100362243703, -0.2990870952656416, 0.959861227227784, -0.014492706536977342, 0.184403725508862, -1.0101600455125042, 0.5928309359230557, -1.2370856016379719, 0.32122765568255024, 0.15421975218477352, -0.45608086541711285, 1.0448577067852265, 1.169045537111371, -0.9144673181206061, -1.4127818217980432, -0.37508164512721315, -1.5536728936353696, 2.064275164162357, 1.087901323157144, -0.7259323231336328, 0.43783825053247816, -0.06400654547667899, -0.9367388027058742, -0.339952100198618, 0.09303376971825839, 0.9975904349030356, 2.003845350668678, -0.7858551890082249, 0.4620834511122613, -1.24947249038211, 2.0915471209205623, 0.8491387472835699, 1.261062904557122, -0.16109085548662577, 0.38545226973262486, -0.2909622772606673, 0.3142641069962312, -0.19054855060152995, 0.05263679074474257, 0.6535253835575839, 1.0675644494406358, -1.5535875537860808, -0.8973155057006722, -1.2897897024866707, 1.3375344872791854, -0.2861430757354303, -0.2706291387851009, 0.8082987026798706, -0.6724409896654184, 1.7601430819552155, -1.4822941110028762, 0.41764280799228876, -0.6674290943511009, 2.059456339401971, 1.29941528006287, 0.687391462572872, -1.1692085033600046, 1.2732799249574205, -0.03376495486599749, 0.0872861432267691, -0.15283146682892138, 1.6960508012020614, -0.3084643571536404, 1.1659840358941005, -0.6401388683200319, -1.256735167598027, 0.398950471267814, -0.5139349780359388, -0.2428102279032243, 0.7463739955919341, 0.5132918682062175, -1.5981817509128726, -0.9853996004126245, -0.9503899190534295, 0.49070580381520323, 0.546400120497001, 0.9576383964173272, -1.760520563267457, 0.7550007252588802, -2.449607507151493, 0.24523033868119068, -2.1371014098206382, 0.30826027798811795, 0.9221923074039508, 0.946463010023092, 0.262478814302626, -1.6200283562577382, 0.35550501981241256, 0.16987282347376054, -0.4748687501093622, -0.7471033346750161, 0.11646740145896456, 0.15315255269236222, -0.13679979263082376, 0.6595719299373726, -0.6990580960742078, 1.1064966800474993, 2.2398161652567663, 0.4004083733108486, -1.3503679234497012, 1.4048356677678513, -1.5698740349144948, 0.0864253384190594, -0.21960175783746522, 0.4774350967358587, -0.42809712293970725, 1.5576709717808979, 0.23264514198612743, -1.165811114666109, 1.032896732553447, -0.7950208649548316, -0.5776244052851852, 0.33581998298098387, 0.3537041304149854, -0.2685832596720015, 0.8406037809604507, 0.08919256549948269, 2.6675781505032736, 0.5964493164229451, -1.2269375883584037, 0.7188043594157396, -0.48826029035572555, 0.683219124575462, 0.47731327777937893, -0.2789208217756074, 2.1092225243768157, -1.4232978464542478, -0.9045660223093709, 0.5135721058277973, 1.8695551822333694, 0.9743521234682668, -0.1498929783391005, 0.9263480003489424, 0.25968249891104, 2.083156658805014, 0.2941709481796536, 0.15574730423619224, -0.2898028105246615, 0.42063835873631156, 0.3096103302493417, -0.09533692082059801, 0.3561512922609184, -1.0743087976393753, -1.7020485664772824, -0.7227854042466398, 0.3631159172068238, -1.1102415848431222, -0.9984587027529384, 0.2318314779856399, 0.5318897944956482, 0.6933211834725944, -2.322474290985347, 0.22214553464454667, 0.3381742469508746, 0.5991719766686769, 0.11640430323164969, -0.041276042788000275, 0.03575636883912424, 0.44930272608307104, -0.6438381948244225, 1.0056218777749382, -2.3633000709214618, -0.48899142213033503, 1.5224837126119046, -0.12550108178850025, 0.47777911430993736, 0.1544057821188352, -0.9551875746897756, -0.7255677434344536, 0.2596615529482898, 1.020873599885553, 0.6491448177045743, 1.888428517522234, -0.397534825703051, -0.5949973377642123, 0.591177925804607, -0.3264781574481478, 1.2172452164824925, -0.8851309523497654, -1.4469008178851337, -0.631366143281096, -2.4722155481065995, -0.7583773073356374, -0.16855159707640277, 0.31525433468662895, -1.1066795803051555, -0.5347551292862507, -0.717803098413025, 0.3402939128309359, 0.25657490830971325, 1.448989784720569, 1.070334988076293, -0.19591998414896739, 0.2139249081481458, -1.8547408596678157, 0.16730925107074768, 0.06781369897668764, 2.619590214234126, 0.9037189529517637, -0.6019254614173783, -0.5817571108784353, 1.3609453271473948, -1.6289193391185415, -1.0147017483435175, -0.6663323912735738, -1.1397510001263653, -0.11860229632475007, -0.4641571014016596, -0.4673376243848152, -0.4661566176171998, -1.2590287236634505, -0.2876111808313361, 0.9252999207220625, -0.13959494719349155, 0.44926399035089004, -1.723398058533404, 1.6979925970930443, 0.4599781042264549, -0.25987299724546364, -0.6859446779851645, -0.45466433147268176, -2.5140502198177637, 0.5951616997294876, 2.2821991061298084, 1.4195448946410378, 0.6322316944584878, -0.7060015283175278, 0.383101147815851, 0.6837096254290146, 0.5908253105803087, 0.5590373308024903, -0.645669536603717, 0.41462548952694733, -0.12575654746377488, 0.5915221558189322, -0.25513729203570806, 0.6808014520052325, -0.6724608416767683, 2.3961833678504836, -1.278574063207171, 0.6621300952855168, 0.6624978696825612, -0.1740907176645709, -0.22663767619158495, -0.9280325391454136, -1.5386533794593533, 0.5364966709057659, 0.878949962810955, 0.4841425388496737, 0.9783344559887789, -0.47646237665966756, -0.7485524158824671, 0.6851101819051321, 0.5180607676151892, 0.9572784452357656, 0.2881172549299647, 0.20687638100420688, 0.2507677235720571, -2.172507232674998, -0.19311572545731737, -0.013277399989952844, -1.7047222463032272, -0.37704235343190956, -0.46922650316883313, -0.5011133682406579, -1.03798113564965, -0.021602847479107314, -0.8411989407046719, 1.2165519616129963, 0.6207102505916324, 0.8120003305146081, -1.5906246230286538, -0.5809317668286471, -0.6203878075225261, -0.09959006665293184, -0.8191879561013157, -0.10193868340678805, 1.0824992560400455, -2.130372773347528, -1.0152281902012066, -0.9670735913482282, -0.8756890682491455, -1.1232773490855956, -1.3246632592048262, 0.006109547834998642, 0.32964179271477173, 0.24272393116145857, -0.7224417733826147, 0.13966064593838967, 0.32570764971709737, -1.5405872983649755, -0.667177918638842, 0.7823527481819479, 1.5145719835214226, -0.07705307719280363, -0.3116461137789649, -1.5354787160236867], \"y\": [0.25895269287044564, 0.5812205339311485, -0.15348408034755182, 0.27283909210458335, 0.08913841316475794, -0.06130726901219158, -1.358341568064127, -0.0244474126651847, 0.16187018579673734, -0.01559919050685335, 3.4746818913141198, 1.0016858799325634, 1.2687256538118237, -0.21864877528808577, 1.8279986203838354, -1.6113633014779687, 0.6056601314278479, -1.1190020498149085, -2.342625864951943, 0.29189977901911396, 0.49759783900847243, -1.5986437462112697, -1.6920800022954956, -0.17989481439460117, 0.555259670957578, -1.192927943169298, 0.5974266137543145, -0.001396342607150352, 0.6096561997874816, 1.915707468927555, -0.4641468150798157, 0.4261240962491461, 0.25913700289942854, -0.5981661463541106, 0.6401958967471091, 1.9625819106850695, -1.2081881026323111, -0.4784072306355306, -1.8169497513149917, -1.015589276659879, 0.5494304648859473, 0.699395220160126, 0.06348697643858837, -0.5694555775671457, 1.0932953444630447, -0.7382574588162061, 0.2825140272559023, -1.7505365526838632, -0.7335758727341543, -0.23548872062094886, 0.578291023983789, -1.0459984867829386, 0.81329738209666, -0.9461194144494431, -1.9301477969695717, 0.2988425240074377, -0.331053596846838, 0.09569572203156917, -0.7451569299084301, 0.20736745916198623, -0.06543051037840215, 2.2851566720491894, -1.2287830579448076, 0.9755192502370201, 0.14351334261158744, 1.2537270278493127, 0.6469695113202155, 0.12317195913668917, -0.11600471587681627, 1.0379342861687664, -2.0837807991301323, 0.41589114081148787, -1.178682420660582, 0.008217034304047651, -0.4762251477507544, -2.355030286774131, -0.9273929964100075, 0.46389143634868685, 0.7094649948589978, -0.24673320956529254, 0.6480582126755061, -0.608478761367235, 1.657927392571974, 1.807001509564951, 2.4919038632060353, 1.3057226100986372, 0.30208170961312014, -1.851860374818285, 1.2819790825850828, 1.3083308323171405, 0.47873395980136574, 1.1915940364132556, -0.7923792639897893, 0.7973258292586874, 0.15754551964127778, -0.8225052076424564, 1.0360312696090601, 0.6377275741880115, -0.8745215410889191, 0.8158477649743734, -0.22383432951159501, 0.08964004243895483, -0.5440270392246787, 0.15400365411626976, 1.4450397851456922, -0.5078721538082621, 1.139166158708435, -0.8887361812437101, 0.9720482042534234, 0.88140631636806, -0.3548053192806189, -0.08964166267376647, -0.6698091004683872, -1.1513372074112926, 1.2785067461714983, 0.15713313534970244, 1.0956989388543747, 0.7243307196383011, -1.2835864177237029, 0.9717078387209391, 0.7968924037058688, -1.1760041624661937, 0.8510093095664791, 0.20257806576587248, -0.4699854128200981, 0.8857953078878305, 0.3802488287400424, -0.34244346053472347, -0.48468910829261713, 0.16582534714845817, -0.7444889061784975, -1.4074342647825304, 2.123857026993892, 0.49734392669639316, 0.058831023242552884, -0.26550690474484956, 0.4500775440576587, -1.835967241197181, -0.1125191327459631, 0.127015575128376, -0.6431905151632645, 0.11964340580539112, 1.3504305525674765, -0.6165776995517985, -0.1290501494158772, 0.6885059682944599, 0.35244630566960716, 0.9332185178006625, -0.35277089902694597, -1.2141728300313335, -1.0337285113530703, 1.9254177910872181, 1.4041956889673068, 0.9015731963324091, -0.737577618145374, 1.4853662808355796, -1.8319468785338822, 0.835503421818077, 0.9575791079414788, -0.9587666070894477, -0.06620219085035041, 0.3412424538631172, -0.3120477775352076, 1.2917621557613017, 1.1924402417858757, 1.3107335447281532, 0.6101527101216502, -0.8279025828692934, -0.09946727774171983, 0.12690531558080706, -1.16054084936999, -0.028120811759683527, -0.6662144205675052, 2.2660721242781943, 0.42648881703441344, -1.993018332907304, -0.7341706470105803, 1.5881333521680316, 1.364188279939235, -0.799104418282956, 0.6979326350316623, 0.5043740950103669, 0.23472763019761841, 1.6051080970790872, -1.090816623148652, -1.0938960488642286, -0.5476239841685574, 0.7087381996950347, 1.7111406619354868, -0.3983819814799904, 1.8357928878201675, -0.6090280034172509, 0.5118013318050332, -1.3946929280218023, 0.6373554865790454, -0.6610941034950967, -0.8490708893704008, 1.4776851313183537, 1.135358599983282, -0.14649534865578787, 0.4821612938679019, 2.062538317071954, 1.7977671553563848, 0.06539167730761557, 0.6628737052004368, -0.8842006229610422, 1.1792658779023835, -0.7764539948708845, 0.6106824804761255, 1.1054082414704338, 0.9789129958246484, 0.2056220814581928, 1.185428347564819, -2.3686413743461316, -0.7629949446216125, 1.6419978511452857, 1.218863723380387, -2.047735140766134, 0.3299579850893941, 0.7275512716150635, 1.3865582111987766, -0.8652508363468876, -0.42967354599528396, -1.0474884292365563, -0.5850350248037441, 0.8615040850975704, -0.21964474938137638, -2.069354727504869, -0.5156325204632217, 0.8706791916659219, 0.5040651895688487, -0.46106156985569124, -0.5056286049643379, -0.2707948107732169, -0.9590245710101459, -0.9302348894360385, -1.1580846069078243, 1.088484511069171, -1.4250347205351344, 0.5328091613420805, -1.2043646192737818, 2.4553049068724095, -0.8690569226937271, 0.5965112305813837, 0.8257030283603543, -2.30112606998822, -0.3468746938642999, -0.8941038011680279, 0.009577652167580514, 0.1110220439439443, -1.4166213335314706, 0.6408433189417011, 0.6359541831876963, 0.036325525172074456, 0.1401846047063933, 0.6444154876487082, 1.017454837677221, -0.12374696767974479, 0.14704175682293966, 0.5275947274985251, 0.8287755347838938, -0.885300337472925, 0.34844565520088, -2.0504177751889854, 1.0050788862550244, 0.19503575161921505, 0.34677726952307275, -0.9109609670491998, 0.17060138605297967, -0.1578167416517618, -0.181643109839729, 0.9802564819423397, 1.8385020204931724, 1.01070622709963, -0.13943478787011718, 0.20711376169232382, 0.5838786017775824, -1.1072006364074547, 0.5893206706409757, 1.134606262866522, -0.006099911991802678, -1.4846306977787025, -0.9144907766026644, 0.8927774077452859, -0.20394271228075697, -0.1978389578929014, -0.4164114752411088, -0.987162216753761, 0.3128763621532059, -2.221042530032479, -1.4698932984360054, -1.5595051790211707, 0.1404992492944146, -1.0207586461019047, 1.0928921994877558, 0.05094499779644053, -1.9183428221013346, 2.4464774946282417, 0.22599282692845454, 1.1723597414579234, 0.9926874536054157, -1.0675547173706632, 0.3355530324347604, 1.072877675803959, -1.5117881344315338, 1.9733399750595566, 0.6880005523249757, -0.47601575954510816, -1.388015244202664, -1.8036910824244983, -0.13121435616322272, -0.38277852157987774, -0.7170989101515535, 1.5428706451512992, 1.022818722575843, -0.6947580740970007, 1.836098417795754, 0.7090973595138875, 0.31105486919383096, 0.805286217833478, 2.2250574313787466, -0.8477870493515891, 0.7369159563921766, 0.08896640645957388, 1.0488747063886277, -0.5692014926814545, -0.6294520262505818, -0.08665470722912513, 2.1598650140491737, 1.555459926538754, -1.2586558604759006, -0.22332107135615908, -0.040847265073273194, -0.11985518489680898, 1.1592834197576825, 0.03835385022059563, 0.5618000871795553, 1.0174906925881193, 0.3804333094861358, 0.9620821500048744, 0.1985130013849655, 2.2491404687152885, 1.352537350978178, -0.9830399218536755, 0.4959632924452114, 0.5114699411283948, 0.9114886636862186, -0.6635761015258036, 0.6253359748501253, -0.4172120240027858, -1.4270246665370039, -0.19893487144531127, -0.2526770393714712, -0.47052916985252324, 0.9379001635510933, 1.812644946765576, 1.5437611792427948, -0.25553784900114623, -0.16058654039776327, -0.08299398493723413, -0.40954736787352963, -2.140574206092477, -0.0961222671734126, 2.108334418645596, 1.5014332323121253, 0.5403407102161439, -1.4907361117089024, 2.2396813570890792, 1.4779418604174472, -0.24345170623332002, -0.01010056094386493, -0.5536136223359762, 1.4994662667973975, -0.8049372041090347, 0.05541228960799507, -0.3579690538759641, -1.7300070137598211, -1.211991527251878, 0.029576974032724947, 0.9703287501715354, 0.49447970233723854, 1.0347309519977208, 1.3173632540356692, -0.15048773314361974, -0.19914541941882438, -0.13314374129067025, 1.5670188151397637, 0.014749249516307898, 1.6350920965764322, -1.8948084369279687, 1.487496091851001, 0.1124799538580456, -0.03521643513271332, 0.45990094338609644, -0.4119168267550103, 0.5480497662123187, -0.41113167608483175, -0.772895084808031, 2.005925085744571, -0.3062975148066433, 1.1835981387867005, 1.4331242856458355, 1.083522390770767, -1.5062789301084383, -0.6153185294216315, -1.6930758105166557, -0.48477794232492766, -1.4902748607702456, 0.47249304246996376, 2.1814360003959687, -1.8044115352775458, 0.28820080738404885, -0.04846863243214667, 0.823618236630929, 1.4056716446802848, 0.413076889334248, -0.5777280268500938, -1.2057023732171823, -0.3620477545713978, -0.3071065079151233, -0.23115151471087847, 2.3099135850273993, 0.4686305842257631, 0.7934229791433284, -1.1483800868392484, -1.2240617367898126, 0.47763540492857437, -0.9747283386311659, -2.0005816374726546, 0.11395229329087024, -1.3962288650671681, -0.271163063439674, 0.34789662949631894, -0.1184227659618588, 0.4114075500578389, 0.22942732803697888, -1.364175220722337, 0.2773552071990519, 0.7046465474812189, -0.2648358661393529, 0.3194584830191339, -0.5411686221998697, -1.3839450355245284, 1.7481121425302446, 0.3968183459298479, -0.20723871056356652, -1.895492550697493, -1.625445215550586, -0.015142369697808043, 0.23812367692314165, 0.024447217738988374, 0.4696554515560268, 1.022572194295422, 1.6579200304202286, 2.104702039758354, -0.28572020384295277, -0.35258169009691714, 0.8240945492549603, -0.33924632600183585, -1.1604822966010846, -1.3600675990507223, -0.04889596907310514, 2.479351249549031, 0.7634116088207465, 0.19011275141441278, -1.1389605753744159, -0.3076730369161492, 1.5505680200630207, 1.6684833318078485, 0.49330137937377744, -0.7355252236323824, -0.12760262833475794, -1.5023114170819236, 0.3370419759838716, -1.9881797685936784, -2.255934250351268, 0.35948430855375196, -0.27098552905014966, -1.1807622444737194, -0.8291182322311522, 1.6258413072060136, 0.838900383732381, 0.22534121135379584, -0.539561435460327, -0.24673033707423847, -0.5169727656211667, 0.12071362647982391, -0.10117012092146946, -1.2541809594821522, 1.6461514677274602, -1.6171754882267417, 0.27456345216069644, -0.7790189461364013, 1.375853792519557, -0.9182993488029992, 1.1437675912665148, -1.3565684363814878, 0.9494851098323739, -0.5853363020327824, 0.2693195430366816, -0.28945237750560454, -0.48110535989108627, -0.7384778036376879, 0.6570546242855163, 0.6997165453637688, -0.10597807979229541, 1.1034163432820434, -1.897478725866446, -1.1864245795622281, 0.6716991512492971, -2.5109587721766604, -0.6688165467774312, 0.3605733029261544, 0.9679847946923581, -0.038877849170086076, 0.6116498966225149, 0.5722980313311957, 0.680179647963384, -0.08484543756799481, 0.8255133370940675, -0.7366572955838088, 0.05855568306112321, 0.6698166731665278, 1.2563039445978224, 1.1499380403163357, 0.31393821586072285, -1.0070140323642207, -0.6355554420296307, -1.1507789803058261, -1.3493207517013992, -1.8753135805486096, 1.603206184279015, 0.2558736563661992, -2.0610766017034057, 1.7514487987782668, 1.0709473570367924, 0.17086339277415172, 0.03166061072270591, -0.0011870955762976032, -2.2261993903399455, -0.1937505841856762, -0.2294737344821426, 0.6456785925037474, 0.7098803254685595, -1.1523577757353132, 0.220092780532208, 2.574169455337368, -0.9968919862049648, -1.6840339780681801, 1.7851843438109922, -0.14078472680418197, -0.27236508870471143, -0.7953643432318284, 0.7906488642701042, 1.2381705118869162, 0.0827844857620104, -0.7633276193245255, -0.004955646524848617, 0.27132681235491274, 0.20874561797790897, -0.602445101287848, -1.1089705316701828, 1.7527262692660484, -1.5196998055353284, -1.1684428856967235, -0.7232401765237445, 0.4129140481200962, -0.5734583557011449, 0.5623183248296033, 0.3781766841748795, 0.2798241604936102, -0.15123861675903974, -0.5417216519648677, 0.9408932044279374, 0.7242524432135169, 1.2975229693132178, -0.13520370249529565, -0.6516189506934168, 0.07051392157965612, -0.10433475964409648, 0.48087898448097743, 0.2844532826780097, -0.9456708731892715, -0.4981102238118219, -0.2817817744472552, -0.9466421650622502, -2.2450649697488716, 0.008065361777192937, 0.010122535073309962, 1.3103124303569695, -0.9617982038086771, -0.8632713306032486, -0.6005614279788969, 0.8258915016137429, -0.4048515449163248, 0.870505797497477, 1.1345925275326931, -0.7589621208363976, 1.0204229528304687, 0.22298659944799368, 0.1538623589818334, 1.5942234572887966, 0.9257565316411248, 0.4119906838221127, 1.3638263464008105, -0.3829026860641826, -0.531152916299969, 0.6579897554670363, -0.7952402096620002, 0.4201647990093108, -0.4192794757836303, -0.56500200756255, -0.12881041912063138, -0.06323176973697284, 0.45653704266239226, 1.8414506209712187, 0.8343314034842008, 0.503604269044257, 0.9571152317313831, 2.9033602876584976, -0.5666024071731484, 1.0293047727189273, 0.29452682821486104, -0.6587581248288871, -0.027952340201397193, 1.4297626242134456, 0.899841010937727, -0.3335143743599104, -0.17446437910194473, -0.4573167824094444, 0.40310963689515555, -0.33468013166238, -0.5718728492195297, 0.7678970399989866, 2.232254647823898, 0.5579637117680154, -0.06738156267692645, -1.0717474607275141, 0.6139150537281114, -0.9630168503540504, -0.02939870228731485, -1.3847964995202855, -0.4327282659455912, -0.9139019934176213, 0.676383934692763, -0.03195052302435424, -0.7591597725732081, 0.041743574321295045, -1.0191346114598294, 1.7003112710377652, -0.44944509451403564, 0.6486928948826103, 0.40842114098579524, -0.9464296266363479, 1.3852594126953386, 1.476366335115929, 0.6475649359878775, -1.382141974288368, 0.013048023002649125, -0.40752433054783765, -3.61929373642685, -1.9029514821695652, -1.3579223850718591, 0.8702969732284842, -0.2208726773821118, 1.1828322364374921, 0.0057056043386372515, -0.7849065935917179, 1.023713482506054, -0.8478294714316111, 2.465068721215976, -0.1148901972085925, 0.31309453199088483, -0.5786863368314011, -1.3374747769088673, 0.7045912520774132, 2.762761375343802, -1.7288284684337336, 0.6049348967082487, -1.7054899158537686, -0.13439132832095077, 0.23525927610999425, 0.42075954552459555, 0.027281530763151738, 0.16708761754967755, -0.12511999051355854, 0.2941841705261437, -0.07062170109727678, -0.03293894706755199, -0.3191120069993329, -0.4504505966222748, 0.04542623816307675, -1.5139110494533177, -0.552268288200243, 0.9410486550239638, 1.6930966672221273, 1.652987614121942, -0.013628270733854168, -2.1927470857985947, -0.15073822102525056, -0.7829105107281896, -0.30239596009929653, 0.06159343549375721, 1.5363809579909167, 1.2916641093339878, -0.3498410371119057, -0.880176864198332, 0.29766432793669856, 0.5546610848568277, 0.48287792060305945, 0.020991346181636582, 0.7821045997846966, 0.03821228124879116, 0.5899462736867617, 1.737963146099032, -1.271788984100902, -0.5322476229391914, -2.428835848863898, 0.5847686220510014, 0.9005602940745395, -1.6462799485591715, -0.09188416944439083, -1.271005534467248, -1.1175003818444635, 0.5827420324557581, 1.439256672980486, 0.16594493270264063, 1.4716468352592667, 0.7281927148697632, -0.6759769876161114, 1.6120682531410524, -0.8264639890346616, 0.2320324293995883, 0.7904146313992257, 0.39362095937445735, -0.5938681466645221, -0.2154767350917504, 0.3035520274432873, 0.7734936076454171, 0.8672507268961822, 0.12113245215298568, -0.6448272602253187, -0.5667018634832885, -0.8808831990232352, -1.7381104672361944, -1.1702990747257598, 0.5893652992278376, -0.10184753702842969, -1.0205482642345034, 0.7816490429567072, 1.7555388470527162, -0.2538809933229555, -1.4502640959218802, 1.0381601850741997, -1.3482663797298406, 1.5437718966939475, -0.9576552151290373, 0.5525103234913441, 0.5250018729174034, 2.0193589380772896, -0.5930845927924887, 0.6601913974525156, 0.4869539421201939, -0.10288587555715503, -0.47552275130332156, -0.2728586375016777, -0.8960869919797865, -0.7352537600688797, -2.0364107739019492, 0.07589970749521839, 0.5590347475329263, -0.7147220207228789, -0.5049184285032075, -0.20635287573625258, -0.1858214328235075, -0.7207507219449313, 0.23400019115456636, -0.6813894743084629, -0.7312100531211981, -0.872809272608838, 0.12810128082681851, 0.212888327375068, -1.0680614302717029, 1.0800283518594451, -0.6180329768725007, 1.1266617589389933, 0.40200019506710144, 0.3616478749110332, -1.3885705680807245, -0.45675257188736074, 0.5135541947234572, -0.11401403553306289, -0.011879222429322182, 0.37791046995421984, -0.023447727991715763, -0.9036488949380386, 0.3353431692879386, 0.9469915807924821, -0.3533441615526748, 0.3989571751892893, 2.118840508489202, -0.5182529286492876, 0.09198909133959614, -1.5837855740366866, -0.5590570556904488, 1.5062510712395234, -2.0498484975707045, -0.10991454477550405, 0.19297412037503248, 0.9739791935774, -1.5461241082964867, 1.0539294142688558, -0.007693677067626202, 0.6192676147315213, -0.16565983352606553, -0.2360508709043674, -0.5544197712521144, -0.373675541030452, 1.2993004727063886, -1.4268217643973027, 0.3758672131171336, -0.22761263127133533, 0.8939051017423867, -0.025588236519921113, 0.07136982920941103, 0.8121822253995556, 0.7279064229751453, 0.08898743777680934, 0.3928108909512378, 0.525764124225484, -0.3823287078496034, 0.05062908468222347, -1.1417150277460688, 1.9274182676945932, -1.7780466159580492, 0.854894275486764, 0.42824546773215943, -0.2780992384042175, -0.5837965955016127, 0.8418292960995458, -0.31891554742522354, 0.0011676547474009555, 0.7362921953534782, -0.1503294436500871, -0.39780939223566464, -1.3775721185245373, -0.4113659726346565, -0.9617351596834381, 0.6989331164639253, 0.03994265753283209, 0.9535318296306005, -1.1823901977262004, 1.2363682547587456, -1.9078803830925122, -1.025845127467202, -0.17038031021418773, -0.2912452766706327, -0.2725174793581057, 0.554812332210362, 0.34029370325688335, 1.8031102460719357, 0.8829693941357787, 1.0310785247333447, -0.26563565021788244, 0.3044504888380534, -1.4273035408978128, 0.32174429939918814, -1.7076628358008077, 0.2046779267508477, 0.4644954212076825, 2.389571613171378, 0.6006456117928421, -1.3864694905875343, 0.6006986701838105, -0.3614451314263861, 0.7686803871032117, -2.182360968045921, 0.5530207017942466, -0.05305369577399308, -0.19567139224247512, 0.5556176200726838, -0.27022099446104525, -0.2970251945683288, 0.8557276114994017, -0.8528052256789054, -1.1080815827413026, -0.39049266723774206, 0.17669893501621525, -0.3352015871688911, -2.619955742755124, -0.10449066351420415, -0.9832219223713633, 0.3790223623761519, -0.4602824837677899, 1.266424942840101, -1.6150676710419463, -0.13390903596641857, -0.955467997688502, -2.1110227947384907, 0.3838811134791746, -0.8093271929731941, -0.9138103437792277, 0.23500612399608067, 0.22262671738257994, 0.712372644883896, -0.9422734895572287, -0.8426329700676839, 2.395953488108135, 0.9358664798580402, -0.18904103045058784, -0.9697478504040479, 1.1498297347528752, 0.46961011689262366, -0.6113826817550619, -0.7178541819807954, 0.44037992417635224, -0.08787571383056722, 0.9436520252658116, 2.7138379110733997, 0.2741242970649651, 0.017888651419219942, 0.5562972964443395, -0.6562540552891243, 1.7385870362981937, -1.3733423732923655, -0.2349065411087463, 0.26486407489432623, -1.2359545359892843, 0.31559021277916316, 0.25899744372279476, -1.1786079156763727, 1.1929834688997556, 0.46663475319076564, -0.9019400549569969, 1.0231703859538417, 2.119616569561514, 0.7077760750636436, -0.4334806115920548, -1.0411329662397122, 0.055948151782597884, 2.084043471508685, 0.25371920784705376, -0.6162709536877268, 0.7222215188768792, -1.6880334026754296, 1.2505758783418994, -0.9040159400019782, -0.7687889755672895, 1.1162266512865144, 0.8171947144076644, 0.3421979690985216, 2.282933212213798, -1.1284874880424982, -0.8458654661858181, -0.14046777980746786, 0.13932584718769414, 0.7621403050387138, -0.9954659495938176, -0.9029074232923284, -1.601287552542129, -1.113831208717632, -0.33766665153636716, -0.7155669901090835, -1.2464974702048692, -0.6225603241723233, -0.3560477949280349, 0.8309958280403242, -0.8744767040226807, 1.1929888505895945, 0.6646921097723574, -0.5628181933697224, -1.7914597218358093, 0.830681726824732, -0.3737184743909007, -0.06401527742131378, -0.8541351266597028, -1.1450141570967627, 0.575973899315991, -0.7156813126963303, -0.3787148340233212, -0.811020900715864, -0.6661522647133363, 0.7396886439400886, 1.3248557833100425, 0.5881936732750801, -0.973707143414489, -0.23023387859908068, -0.6356195651110165, 0.5136590739047509, 0.49850215502782835, -0.35785629959247517, -0.376421182189696, 0.41296832680315687, 0.5958963847055032, -1.215691470293326, 3.0088597474617296, 0.24277312725137856, -0.971706431325199, 0.3133048452777483, 1.4816744354789435, 1.2934596128753333, -0.7454085219659855, 1.0348257066271616, 0.6888412925054225, -0.9126351943341369, 0.2215130591447454, 0.15014915629407688, 1.6936809289028352, -0.5160216983860554, 0.9690551665621823, 0.6098417370941284, -0.36324232466263573, -0.6318806987352691, 0.961319142102849, -0.04905949342611906, -0.37003762683564584, -1.8548203280989137, 1.241580977203219, 0.9695222778878552, -1.2580543196362513, -0.2778043544325551, -0.024900292897384133, 0.5331589649231017, -0.2571366890236119, 0.501131835556351, -1.6333693151694118, -0.6531558129459079, -0.5613916931145777, 0.23335137756003416, -0.3053349601268253, 0.3866103734641609, -0.1013220950595596, -0.09818144569871236, 0.894112207374607, -0.02551146062428864, -1.1630849109194503, -1.1850002974800502, -0.07127364282545406, -0.22589302444574377, -1.202942124820417, -0.8827029326342856, -1.425462736922034, -1.043818754201821, -1.002616278957907, 1.562623090011332, 1.2524851995946216, 0.7954741456351591, -0.4468273659873353, -0.3881152072572166, -0.7748975699132142, -0.07821075631276177, -0.8403353339323931, -1.4429197719027376, 1.000901541065202, -0.33050169370551535, -0.013943028048199508, 0.7953338905567443, -0.3048316333690557, 1.4698464064853263, 0.8346536390918918, 2.0616969277304764, 0.4474728813936005, 1.8197631316094058, 0.14101122675810832, 0.49388462645919357, -2.2841638811601004, -0.08417722348790203, -1.3921101660665995, 0.8827206026771853, -1.2448723241470907, 1.0853117275815098, -0.04736764556718823, 0.3849378392381082, 0.889321659383226, 0.7186058383859558, -0.689505626938272, 2.2787458428649643, -0.8141183192719474, -1.4094203756520851, 0.9723187652964226, -0.5174740151544551, -1.1337228213488457, -0.6596774315297109, 0.8719688741926668, 0.2886480009375546, -0.5992551965745981, -1.6480987774919487, 0.8879410158263753, -0.0779722330524118, 0.7695742424042147, 2.0812899127570197, 0.6903907466098467, 1.6355487605206507, -1.1623027326296789, -0.10944927250516243, 0.3020695221415434, -1.0773573076224525, -0.2910955541004155, 1.3919574532008108, -0.029313184650240465, -0.4660072850161786, -0.08479673669471594, 2.7060811892467243, 0.5304189301149285, -1.0504571595533252, 0.07134656219888388, 0.6259195435188528, -0.855331957623909, -1.5053097739153904, -0.463055898776417, 1.3731118151165866, -0.282269954755254, -0.32439286811011886, 1.6743479913361154, -0.2152924739879522, 0.8662150601812496, 2.202986899625532, 0.7504087043494644, 0.11337123479974544, 1.798707673431114, -0.9773638299612484, 0.3227168557788372, 0.2080384710025075, 0.41632005468449856, 1.3099986295022448, -0.8619837003626023, 0.2117327831671286, 2.5016015209796, 1.5671039792515011, 0.09887852091962307, 0.34855870259160837, 1.6503801591078766, -1.0381182588237121, 1.0690862302251547, -0.30320844059494156, -0.36814650300829393, 0.5411326996453047, -0.6907071201398665, -1.3084080489556424, -0.12009654212182518, -0.8645192666695136, 0.9981079613274427, -0.8290281299886852, -0.6589598318734636, -0.457174308116433, -0.2889497246413633, -0.4700475115229863, 0.20117720624139168, -0.012481424529981485, 0.7774060915724873, 2.5504254244804003, -1.5987740385313636, -0.18820831221968715, -1.4252348420932055, 0.3191849711826877, -0.2513648641986184, 0.42409425277399365, -0.6055679020718563, -0.5657419046564929, 1.1750263511682193, -0.06690403494691603, -1.3107831129461636, 0.27714859483060045, 1.0832417897720388, -0.19903573391869728, -2.256556164580058, 0.07142713265544659, 0.9955251445414264, 0.20810481878323703, 0.11869751107903188, -0.5975209348037833, -0.11287716468636648, -2.45555760059863, 0.46969497025981416, 0.91915013178246, 0.5948607746016182, -0.07621847759407094, -1.925934782644378, -0.46085722992350664, -0.5622424061582705, 1.3231821854200134, -2.3908960383655145, 0.12036652480687854, -0.8922408382426633, 0.6528354605820966, 1.3116636073666754, -0.4615874952054909, 0.29246324130355167, 0.4499269559946741, -0.379749567647174, 1.1180326579239706, 0.5093398516469521, 0.47711113218969736, -1.2219223684832174, 1.9730553386356262, 1.10760611984275, -0.7874083137701565, -0.33950376835411583, -0.3764764892941866, 1.0935066268896891, -2.3091826958412507, 0.6614512897967861, 0.6765102936345551, 0.8217135374307255, -0.2910061941590321, -1.0172808545956262, 1.4398502479542992, 1.0790518908556352, 0.34596399011906787, 0.2916338652934067, -0.09155618849898149, -2.9737612984298893, 0.9570955016351733, 0.26333787136360504, 0.6980934010624377, 1.0887135519178726, 0.46999861128302, 0.6197576573934654, 0.5018237842957429, -0.8265090610978676, -0.7723311429220712, -0.7984714184134427, 0.24617807012282408, -1.3590286779430008, -1.0152967502755907, -0.5360443908962627, 0.015906299911218162, 0.26764888064626946, -0.1999391102867646, -0.36075643166223104, 0.7136953722194326, 0.5802092429538399, -1.1075424214004976, -0.40211282548081145, -0.2243268427625873, 0.9091637443316058, 0.23145678637600003, 1.2737963284307825, -0.10554376831606167, 1.7906752714335628, 0.27264060050672784, 0.5768225081297439, 0.1165203204354917, 0.7623154688112875, 0.7882182994347549, -1.106465214959533, -0.30289146000066397, 0.163684743069219, -0.7807138441081858, 0.1975773188654068, -0.3801673394172174, -0.7055557914964593, 0.7741214333876861, 0.21662830278268477, 0.27634532117686494, 0.6171305382440814, -0.04678235302683413, 0.5033542326867484, -0.2593966841072175, 0.18140749835971187, 1.6323573066688446, -0.33140018297002305, -0.23391646562981688, 1.3676212639556011, -1.3169432496067337, 1.9776847039034597, -0.49949223758273487, -1.1212202091387242, 0.9655364753704035, -0.05323052008952479, -2.736620407323672, 0.44178327287750707, 1.650109926081626, 0.4153070757453906, 0.5565245312590235, -1.1283840800046883, -0.6381275716842225, 0.8794729350488892, 0.8882106465790195, -0.07430514086217131, -0.2647473656355644, 0.31727723405723474, 0.6666502346347226, -1.008713705835833, -0.8519878400127232, 0.0499362022261604, 0.12461197901651776, 0.8243651205461732, 0.3951569477516467, 0.20160472332161924, -0.4855635591688543, -0.4246025540721636, -0.7411193264152168, -0.09805243819285578, 0.10013289210914503, -0.6373727941366558, 1.1942613336072965, 0.5687330478394382, -0.4780092981310268, -0.9124655223782461, -1.8754198685986, -0.5617635860142459, -1.161211473794668, 0.9389669587754894, -0.8758801791475308, 0.015197335334095199, 0.3771630461778983, -0.5752783261274815, -0.7333066373665953, 0.36147856038530785, 0.7064803873317467, -0.5206992500082276, -0.1645934909538898, 1.8083300426697262, 1.4999803679723678, -0.6076137460860777, 0.45774805339363256, 0.5926741219373508, 0.04989531637333502, -0.7777466950779057, -1.82513669316961, -0.30879142713149, 0.2890505979169689, -0.5318459284246024, 0.7505131303969821, -0.8024281847691191, 0.5188035485522458, -0.8860214200543224, 0.21994033288263126, 0.7417572700726129, -1.4193917532295162, 1.3155736042794912, -1.2615820621084652, -0.3497102751507965, 0.2389638527054295, -1.0366551397588841, 0.6561025488117269, 2.425317880009083, -0.07154260146749687, 0.7996873513891263, -0.4780581672324148, -0.3797132939408402, -0.4530383782287245, 0.5666873683862793, 0.027035618488941714, -0.7242400166117107, -1.1537532831074289, -2.1934037540955402, 1.0943051956845964, -0.08351507336046206, -0.41526093522787677, -0.4272461722059642, 0.6296899520381766, 0.540097414486598, -1.021886429306092, 1.5279243303060952, 1.3392343492457854, -0.17320946753143526, 1.003173036613549, -0.3090338354539524, -1.9419087162711997, -0.10128681501816415, 0.6186114605875895, 1.2559762231063767, 1.0092104697139386, 0.06055553373502893, 0.5693184620447338, 0.6046694572851015, -0.6684717065924045, 1.4233300377631792, -0.19666015186788433, 0.18711484246040977, -0.7324717709076111, 1.653863229356181, 0.6596616281283914, 2.3724871929131295, -0.4510892279931928, 0.48409680763618634, -1.3311496257007744, 1.2921673906659177, -0.5667476785870708, 0.48685394840587215, 0.0076816730751226485, 1.142534109128849, 0.9087300799826858, -0.19880833405489012, -0.7150438280919731, 0.5076123826130927, 0.6941424304148889, 0.8797427316090729, -0.6291506520556469, 0.20335034155134987, -1.7352887703017268, 1.1712820694990962, -1.7686633876881577, 0.6223396676009575, 0.46512885937622345, 1.6879250702679165, 0.4303253072142224, -1.6144809631523196, -0.5406306272838356, 0.03921939017545267, -0.6231451542982434, -0.9177576458013124, -0.6182010739952635, -0.0663679032919053, -1.1125017063608322, -0.9593546131731476, -0.09290822100846133, 0.3240975476441513, 0.8411515231068016, -0.6721900059274769, -1.1637484662694721, -0.06224411183149558, -0.7985321033750173, 0.6101468542988028, -0.4857054067253779, -0.38349412242818515, -0.650463321641253, -1.4920601025656222, 1.0432210004362124, -1.1078433610107075, 1.1031805413143472, -0.0720209422385812, -0.6675390971554305, -1.445952814346146, 0.8726307008351787, 0.016838377640785884, 0.29705271536042344, 0.2447610980206667, -1.3992038454730664, -0.8926919724169559, 0.813737547971762, 1.6883745916691946, -1.2571568681543634, 0.03671762268182246, 0.05841127107522684, 0.36680281574756496, 1.1253177719018173, 0.30825166498532325, -0.6535628807215174, 0.8118517052863042, 0.06028665126041884, -1.2930416119368637, -1.2258187042711257, -1.1577262790326222, -0.8254646771882811, -0.3020979232955071, -0.7184671454056301, 0.403330500084435, -1.0010344407300915, 0.07845088042314924, -0.07399161048452825, -1.256135197169535, -0.4783252971380331, -0.2125393817833896, -0.8425798019150639, 1.3020125700763243, -0.07776835067159145, 0.27602975380637323, -1.648065409888974, -0.53592008754995, 2.0841062342782943, 1.605188104456061, -0.3273212386421819, 0.05598411793674916, -0.20033208243134581, -0.13403046068771202, 0.8261983518696379, -0.3563840113347411, 0.904412671526077, -0.3001353340233346, -0.27071654561188685, -0.9577540225574851, -0.7953246718586225, -0.22938890242506188, -0.001358483503068319, 0.9848543909455649, 0.570051157592364, 0.6243240461826833, 1.0713880588690317, -0.06033745349606635, 0.7619793708716687, 1.5290997368452874, 1.8521137660762985, 0.1582169246736874, 0.5829525923026336, 0.1555859085970491, -0.369953331294912, 0.1654948480580207, 0.798605307642438, 1.0770338979178338, -0.8357876964869747, -1.0359944570552002, 1.164777639092528, 0.33141445787673424, 1.0985199006520039, -1.0277445766427504, -0.29587435746214885, -0.16839358706441218, 1.1080870999293133, -0.011929103206299429, -0.25166313551895064, 1.5267616588384638, -0.6532311492535046, 0.8575086936039383, 0.4042670599708394, -0.056591193117109286, 0.15588558943326727, -0.294289598336257, 0.7509055819899709, 1.7779704642658065, 0.67513444542959, 0.49103795596913, 1.571777832739829, -0.5267816835107868, -0.6013577180116284, -0.7273859510649329, 0.8312330413350001, -0.18248353269237122, -0.39163050244291664, -0.6890642225847022, -0.46749975554873135, 0.07512583793327426, -0.05042939829041792, 0.6414932813729759, 0.8668888288931468, 1.7272222570616709, -0.19856248740500362, -0.5632060776229861, -0.30899968026251073, 0.9029395601114132, -0.783445532891624, -1.3058292375264955, -0.6942425606089814, -0.7425307751988784, 1.1644421083589518, -1.1574851456839899, -0.5431588076006786, 2.592774711631148, -0.2201635177734268, 0.27050579497099947, -1.3924787761441506, -0.10148944144902143, -0.1424446628031529, 0.3159251147008662, 0.44786623209043047, -1.0739823113852711, -1.393104585600274, -0.8552546225446618, 0.6418953254800542, 1.2768218773059312, -1.0945259137273486, -0.18433207209797278, 1.058922073582595, -0.3187637788725864, -0.7377182181928101, 0.2958406122860769, 0.75081301144595, 0.7987241470047366, 0.08945314094575811, 0.6357529049602588, 0.6269982861603071, -0.14423953702736628, 2.964225475372427, -0.8069074567025979, 1.4592308115229198, -0.34530251513416294, -0.8383793261596899, 0.5867823701984384, -0.8447532162929366, 0.0917683840993265, -1.2485281528163958, 0.09346141708734042, -0.44125855158149807, -0.2212204483564036, -0.35065568662976626, 0.0007470775868581524, 0.04340769748970289, -0.29667899648176693, -1.692708792305199, 1.4354902450710953, -0.6493856214870773, -0.08599006297193612, 0.0676717887475617, 0.05333673736065794, -1.8422831472271792, 0.02911608066765954, -1.0794253888757648, 0.5148723927603068, 1.640515315335578, -0.3415749716293763, 0.8231023491158692, 1.493966805595762, -0.29380218035732253, 0.0012973364070417517, -0.7269283835086937, -0.7473618055010358, -0.3641518862944902, -1.3851700146036545, -1.0436467306820623, 1.1452296503812822, -0.7956367335272068, 0.18818411888912442, 0.7295013029552007, 0.7075436969845531, -1.506675635561223, 1.3296861835410754, 0.8037236862584387, -0.15483404496207673, -0.37688648802175106, -0.0893631635005528, -1.726445997649762, 0.5658445773339826, 0.27061721526249793, -1.1633351201399458, -1.445887509347687, 0.6626507988427469, -0.6942422181854078, 0.34717250215910456, -2.020878623188553, 0.8976860947704064, 0.9664748927898328, 0.661980972530657, -1.1448891290449388, 0.21947322068978875, -1.5360247363104695, -0.08808047825588959, -1.5618813265548626, -1.067640801313717, 0.40447829065312507, -0.5773022416929507, -1.414906065629015, 2.137963379578184, -0.662253886061952, 0.5821014407421737, -1.0787350150079833, 0.9108268359970109, -1.8384373878900993, -1.4957719793889337, 0.6693863311107345, -1.5964747271274415, -0.22472896140380222, -0.13615415200696981, 1.2647809637636824, 0.14158534005777784, -1.0136214700128132, -0.472723550572239, -0.18584379216161587, -0.12505548322546609, -0.8087754441421612, -0.07377645844832632, -2.9925217509923026, -0.543799784716643, 0.25096799444521206, 0.7942610185839578, -2.141309151576011, 0.05763577237989899, 0.4853434898768164, 1.799171586925284, -0.0014773250205623281, 1.4655730365907913, 0.14901599353092854, -1.6592108729973503, 0.5981454740142631, -1.1641729516794992, -1.313416457677928, -0.7170866645617505, 1.245053267045489, -1.339211099307672, 0.2626257203614569, -0.5805972390815918, -0.6832770492171473, -0.46222258217782347, 0.2851260491439169, -0.6128821455465993, 1.3301449045108775, 0.6661988369709437, -1.113911764546147, -0.33913295683448225, 1.3597499366712198, 1.9813454262641823, -0.5757750982645312, 0.48112772303621537, -0.4988346407444025, -1.248507156221654, -0.4918171244738918, 0.9009939627042345, 1.545776848741756, -0.7135235536721949, -0.808365813237641, 0.30076440675393157, 0.831326837669148, 0.08887211760331419, 0.322498698313574, 2.4631293233397336, 0.8609292649576673, 0.4950408927355608, 1.6093494230813628, -0.17034139108596943, -0.855479865099203, -0.19657030610815965, -0.036104812395649395, 0.4241658297378606, 0.31376725058880384, 0.5142848706430239, 2.0707658609930255, -0.10700593277107903, 0.7859474885537889, 0.19461512026643904, -0.48074087710649016, -1.401190517440701, 1.2640665268132392, 0.010511554201732474, 2.61256203213255, -0.06649826235635294, -0.21953778867508342, -0.5598410278790363, -1.0391498754623174, -1.5296063791106305, 0.5005392838990163, -0.8680506575827143, -0.10452275420111237, 0.9519639326858127, -0.6572650641919763, 1.1342281872164877, -1.2679617778191716, 0.03963334576221716, 2.326254098270857, 0.8011608508238872, -0.14807560365471242, 0.31996456108635163, -0.014124743767362958, 1.1571029331771747, -0.12578516227772854, 0.17504860937496097, 0.2144900210091769, 1.5752323294114774, 1.8246989079354672, 0.1309611137956106, -0.6757843017454854, -0.2117530490652891, 0.949184218589263, 1.4677497473794616, 1.0945746447762041, 0.43415230544051747, -1.7870657536781436, -0.4501877565322022, -0.9535620345795551, 0.7535589031415431, 0.2562937609570394, 2.011326953368684, -0.6597708540760969, -0.9547846998440388, 0.17481546886463473, 1.3641948271545958, 1.378453838819299, -1.9715550023463573, -0.3578052471892819, -2.3035229263485446, -0.8255017009199421, -1.315916170946626, 1.2056926659038467, -0.8422017077324722, 0.07311310402546559, -1.016202317439971, 1.8726079348883873, -0.8607599232537259, -0.17796446324752382, -1.6934344676539466, 1.289087609096196, 1.747289650612585, 2.7639560107311647, -1.6512829017973065, 1.6205101748963777, 0.8194243632693784, -0.5814903123208954, -0.6990464497679778, -0.15878062270888693, -0.19256902923259114, 1.9646014964018617, -1.9221153666097053, -0.11104217518668368, 0.9991625294526492, 1.2966853235769582, -0.7688695660120158, -0.9667351708231018, 2.0004105211515295, -0.37163887480846647, -0.05261859998687409, 0.023841157768726834, 0.4287717074259177, -0.5241122435996922, 0.8601258113876703, 1.6857647216964577, -1.4616092230940638, 0.4444576430954128, -0.8688984819260501, 0.43293005921522765, -1.250773513716424, -0.1584708957786072, -0.531450250909861, 0.4346688727190713, 0.3058371341474531, -0.13375628486148408, -0.29637287906696314, 0.9641246265196018, -0.4076640352155521, -0.7894254687503622, -0.6473271969115607, -0.0005728795310815858, -0.3748105436975825, -1.6128516213430817, 0.4883934800366658, -0.6978833604698951, -0.057452896732476354, 1.8082206978650448, -0.9638675140509728, 1.0790493562009023, -1.3209548704428542, 1.1534610594355037, 1.5145523313729392, 1.1593345295936341, -1.658455465429712, 2.2165964774770384, 0.9391490148944827, 0.3665521137303055, -0.39747997695919496, 0.8407984799098788, -1.2857172471464022, -1.0714117391368547, 0.9887724538544179, -0.40289813359061344, -2.545862286086248, -0.3755783556289682, 0.5805162637715404, -0.31489603887001816, -1.3106748386168356, 0.06506050600984645, 0.9086322548796404, 0.8572119286148585, 0.07498346928893214, -1.2347537229117616, -1.8663935348730774, -1.5442516992183144, -0.1993772483167179, -0.5111445822453946, 1.2244393788766166, -0.9628413567167847, -1.3076223187183327, 1.8870908404209663, 0.09578942363081318, -0.6495976250584372, 0.42545209409073104, 0.5850611171092331, -0.3302328936546411, -1.986257089066722, -1.3561677810347934, -2.0651480173086596, 1.8172843787150956, -0.06658091272881916, -0.2013238420836077, -0.3801896804778596, -1.1187282116603194, -1.0424836256824743, -0.9541548476470518, -0.767740128074741, 0.3339312410599053, -0.6755625753253186, 0.9369654189330122, -0.21599025444743436, -1.4501177081567111, 0.1595680622392685, -0.2100652795261813, 1.0304433299345102, 0.42526937387674374, 2.2071542991479847, 0.9650205134006667, -1.1738370173776078, -0.664315020941951, -2.1207024512939276, 2.102172054408683, 1.9351662165068402, 0.5469853959212132, 1.76161058622051, 0.3031461861421765, -0.26517787853926755, -0.060945378070659965, 0.13219498902876592, -1.0175696618131418, 0.8211868337555057, -0.2754121595029774, 0.837713208836695, 0.47747232382590726, -0.025154770629646026, 0.7404571214314025, 0.7288078007555462, -0.12790906237292135, -0.18343429006545095, -0.7274770610267501, -0.3012285057357105, 1.1113118565399238, 0.1691767857151511, 0.6839762061848613, 1.3168230966905559, 0.19881549293719974, 0.6864300225188392, -1.6941335187679887, 0.287769565779034, 0.46422068315517884, -0.6280434222955306, 0.3804994038181858, -1.1287325524920109, -0.33300206014462364, 0.08877333854401351, 0.26854919946526634, -0.6550617733560679, 1.4256803629215178, -0.7968953764239889, -0.7293766584677153, -1.1450009377993602, -1.1307374531420915, -0.15686244569731828, -1.3337696262679954, -0.45884546631074674, 0.49700515766103637, -1.3122192744566952, 0.7733626970199162, -0.9578895362314711, -2.066277745395777, -0.2851525189426774, 2.3245064861560603, 0.6768300176644921, 1.5797029331324832, -0.578196409420862, -1.8604583405496469, -0.8064264469979253, 0.48576772062700274, -0.5637542879368195, -1.1375730578534342, -1.8312334787004005, 0.1752917561000956, -0.686485477607451, 1.9782628488636385, -0.8883147481633199, -2.192261620372481, 0.5461686003878126, 0.1061385979653285, 2.0445600439238723, -0.3655443985289486, 0.8323857526828216, 0.26005116402151124, 0.485735477699686, 1.3047464819865635, 0.17758414143111886, 0.43975306291143995, 1.0782920886840477, -0.425361116934097, -0.839646207035077, -0.7231629831804107, 1.6208741401167392, -0.4320179789994998, -0.2976914679647249, 2.087523018870449, -0.08019517972061695, -1.8130091294930093, 0.03434299047865633, 1.5215469200623328, 0.12789770929867278, 0.5430662492609012, 0.9112465656581393, 0.6740287114979534, -1.8646127163401547, -0.6655326852898295, 0.7346883744060526, 0.1432015897444746, 0.30063069220110444, -0.5290872736701677, -3.2933411916045494, -0.3758396524498813, 1.4644287451987328, 0.7218473582705479, 1.373189633261211, 0.628684654798293, -1.9922464066344097, 1.1078556028466684, 0.038700487704821825, 1.6933605907386984, -1.0690987277208026, -0.31733869296019884, 0.8457322393919079, 0.06522179459209035, -0.7609100043454021, -0.0652464515175564, -0.344622439220483, -0.42228470909689964, -0.5090064024019236, -0.6769564897434693, 0.16019583388782457, -1.1994634875320833]}],\n",
       "                        {\"template\": {\"data\": {\"bar\": [{\"error_x\": {\"color\": \"#2a3f5f\"}, \"error_y\": {\"color\": \"#2a3f5f\"}, \"marker\": {\"line\": {\"color\": \"#E5ECF6\", \"width\": 0.5}}, \"type\": \"bar\"}], \"barpolar\": [{\"marker\": {\"line\": {\"color\": \"#E5ECF6\", \"width\": 0.5}}, \"type\": \"barpolar\"}], \"carpet\": [{\"aaxis\": {\"endlinecolor\": \"#2a3f5f\", \"gridcolor\": \"white\", \"linecolor\": \"white\", \"minorgridcolor\": \"white\", \"startlinecolor\": \"#2a3f5f\"}, \"baxis\": {\"endlinecolor\": \"#2a3f5f\", \"gridcolor\": \"white\", \"linecolor\": \"white\", \"minorgridcolor\": \"white\", \"startlinecolor\": \"#2a3f5f\"}, \"type\": \"carpet\"}], \"choropleth\": [{\"colorbar\": {\"outlinewidth\": 0, \"ticks\": \"\"}, \"type\": \"choropleth\"}], \"contour\": [{\"colorbar\": {\"outlinewidth\": 0, \"ticks\": \"\"}, \"colorscale\": [[0.0, \"#0d0887\"], [0.1111111111111111, \"#46039f\"], [0.2222222222222222, \"#7201a8\"], [0.3333333333333333, \"#9c179e\"], [0.4444444444444444, \"#bd3786\"], [0.5555555555555556, \"#d8576b\"], [0.6666666666666666, \"#ed7953\"], [0.7777777777777778, \"#fb9f3a\"], [0.8888888888888888, \"#fdca26\"], [1.0, \"#f0f921\"]], \"type\": \"contour\"}], \"contourcarpet\": [{\"colorbar\": {\"outlinewidth\": 0, \"ticks\": \"\"}, \"type\": \"contourcarpet\"}], \"heatmap\": [{\"colorbar\": {\"outlinewidth\": 0, \"ticks\": \"\"}, \"colorscale\": [[0.0, \"#0d0887\"], [0.1111111111111111, \"#46039f\"], [0.2222222222222222, \"#7201a8\"], [0.3333333333333333, \"#9c179e\"], [0.4444444444444444, \"#bd3786\"], [0.5555555555555556, \"#d8576b\"], [0.6666666666666666, \"#ed7953\"], [0.7777777777777778, \"#fb9f3a\"], [0.8888888888888888, \"#fdca26\"], [1.0, \"#f0f921\"]], \"type\": \"heatmap\"}], \"heatmapgl\": [{\"colorbar\": {\"outlinewidth\": 0, \"ticks\": \"\"}, \"colorscale\": [[0.0, \"#0d0887\"], [0.1111111111111111, \"#46039f\"], [0.2222222222222222, \"#7201a8\"], [0.3333333333333333, \"#9c179e\"], [0.4444444444444444, \"#bd3786\"], [0.5555555555555556, \"#d8576b\"], [0.6666666666666666, \"#ed7953\"], [0.7777777777777778, \"#fb9f3a\"], [0.8888888888888888, \"#fdca26\"], [1.0, \"#f0f921\"]], \"type\": \"heatmapgl\"}], \"histogram\": [{\"marker\": {\"colorbar\": {\"outlinewidth\": 0, \"ticks\": \"\"}}, \"type\": \"histogram\"}], \"histogram2d\": [{\"colorbar\": {\"outlinewidth\": 0, \"ticks\": \"\"}, \"colorscale\": [[0.0, \"#0d0887\"], [0.1111111111111111, \"#46039f\"], [0.2222222222222222, \"#7201a8\"], [0.3333333333333333, \"#9c179e\"], [0.4444444444444444, \"#bd3786\"], [0.5555555555555556, \"#d8576b\"], [0.6666666666666666, \"#ed7953\"], [0.7777777777777778, \"#fb9f3a\"], [0.8888888888888888, \"#fdca26\"], [1.0, \"#f0f921\"]], \"type\": \"histogram2d\"}], \"histogram2dcontour\": [{\"colorbar\": {\"outlinewidth\": 0, \"ticks\": \"\"}, \"colorscale\": [[0.0, \"#0d0887\"], [0.1111111111111111, \"#46039f\"], [0.2222222222222222, \"#7201a8\"], [0.3333333333333333, \"#9c179e\"], [0.4444444444444444, \"#bd3786\"], [0.5555555555555556, \"#d8576b\"], [0.6666666666666666, \"#ed7953\"], [0.7777777777777778, \"#fb9f3a\"], [0.8888888888888888, \"#fdca26\"], [1.0, \"#f0f921\"]], \"type\": \"histogram2dcontour\"}], \"mesh3d\": [{\"colorbar\": {\"outlinewidth\": 0, \"ticks\": \"\"}, \"type\": \"mesh3d\"}], \"parcoords\": [{\"line\": {\"colorbar\": {\"outlinewidth\": 0, \"ticks\": \"\"}}, \"type\": \"parcoords\"}], \"scatter\": [{\"marker\": {\"colorbar\": {\"outlinewidth\": 0, \"ticks\": \"\"}}, \"type\": \"scatter\"}], \"scatter3d\": [{\"line\": {\"colorbar\": {\"outlinewidth\": 0, \"ticks\": \"\"}}, \"marker\": {\"colorbar\": {\"outlinewidth\": 0, \"ticks\": \"\"}}, \"type\": \"scatter3d\"}], \"scattercarpet\": [{\"marker\": {\"colorbar\": {\"outlinewidth\": 0, \"ticks\": \"\"}}, \"type\": \"scattercarpet\"}], \"scattergeo\": [{\"marker\": {\"colorbar\": {\"outlinewidth\": 0, \"ticks\": \"\"}}, \"type\": \"scattergeo\"}], \"scattergl\": [{\"marker\": {\"colorbar\": {\"outlinewidth\": 0, \"ticks\": \"\"}}, \"type\": \"scattergl\"}], \"scattermapbox\": [{\"marker\": {\"colorbar\": {\"outlinewidth\": 0, \"ticks\": \"\"}}, \"type\": \"scattermapbox\"}], \"scatterpolar\": [{\"marker\": {\"colorbar\": {\"outlinewidth\": 0, \"ticks\": \"\"}}, \"type\": \"scatterpolar\"}], \"scatterpolargl\": [{\"marker\": {\"colorbar\": {\"outlinewidth\": 0, \"ticks\": \"\"}}, \"type\": \"scatterpolargl\"}], \"scatterternary\": [{\"marker\": {\"colorbar\": {\"outlinewidth\": 0, \"ticks\": \"\"}}, \"type\": \"scatterternary\"}], \"surface\": [{\"colorbar\": {\"outlinewidth\": 0, \"ticks\": \"\"}, \"colorscale\": [[0.0, \"#0d0887\"], [0.1111111111111111, \"#46039f\"], [0.2222222222222222, \"#7201a8\"], [0.3333333333333333, \"#9c179e\"], [0.4444444444444444, \"#bd3786\"], [0.5555555555555556, \"#d8576b\"], [0.6666666666666666, \"#ed7953\"], [0.7777777777777778, \"#fb9f3a\"], [0.8888888888888888, \"#fdca26\"], [1.0, \"#f0f921\"]], \"type\": \"surface\"}], \"table\": [{\"cells\": {\"fill\": {\"color\": \"#EBF0F8\"}, \"line\": {\"color\": \"white\"}}, \"header\": {\"fill\": {\"color\": \"#C8D4E3\"}, \"line\": {\"color\": \"white\"}}, \"type\": \"table\"}]}, \"layout\": {\"annotationdefaults\": {\"arrowcolor\": \"#2a3f5f\", \"arrowhead\": 0, \"arrowwidth\": 1}, \"colorscale\": {\"diverging\": [[0, \"#8e0152\"], [0.1, \"#c51b7d\"], [0.2, \"#de77ae\"], [0.3, \"#f1b6da\"], [0.4, \"#fde0ef\"], [0.5, \"#f7f7f7\"], [0.6, \"#e6f5d0\"], [0.7, \"#b8e186\"], [0.8, \"#7fbc41\"], [0.9, \"#4d9221\"], [1, \"#276419\"]], \"sequential\": [[0.0, \"#0d0887\"], [0.1111111111111111, \"#46039f\"], [0.2222222222222222, \"#7201a8\"], [0.3333333333333333, \"#9c179e\"], [0.4444444444444444, \"#bd3786\"], [0.5555555555555556, \"#d8576b\"], [0.6666666666666666, \"#ed7953\"], [0.7777777777777778, \"#fb9f3a\"], [0.8888888888888888, \"#fdca26\"], [1.0, \"#f0f921\"]], \"sequentialminus\": [[0.0, \"#0d0887\"], [0.1111111111111111, \"#46039f\"], [0.2222222222222222, \"#7201a8\"], [0.3333333333333333, \"#9c179e\"], [0.4444444444444444, \"#bd3786\"], [0.5555555555555556, \"#d8576b\"], [0.6666666666666666, \"#ed7953\"], [0.7777777777777778, \"#fb9f3a\"], [0.8888888888888888, \"#fdca26\"], [1.0, \"#f0f921\"]]}, \"colorway\": [\"#636efa\", \"#EF553B\", \"#00cc96\", \"#ab63fa\", \"#FFA15A\", \"#19d3f3\", \"#FF6692\", \"#B6E880\", \"#FF97FF\", \"#FECB52\"], \"font\": {\"color\": \"#2a3f5f\"}, \"geo\": {\"bgcolor\": \"white\", \"lakecolor\": \"white\", \"landcolor\": \"#E5ECF6\", \"showlakes\": true, \"showland\": true, \"subunitcolor\": \"white\"}, \"hoverlabel\": {\"align\": \"left\"}, \"hovermode\": \"closest\", \"mapbox\": {\"style\": \"light\"}, \"paper_bgcolor\": \"white\", \"plot_bgcolor\": \"#E5ECF6\", \"polar\": {\"angularaxis\": {\"gridcolor\": \"white\", \"linecolor\": \"white\", \"ticks\": \"\"}, \"bgcolor\": \"#E5ECF6\", \"radialaxis\": {\"gridcolor\": \"white\", \"linecolor\": \"white\", \"ticks\": \"\"}}, \"scene\": {\"xaxis\": {\"backgroundcolor\": \"#E5ECF6\", \"gridcolor\": \"white\", \"gridwidth\": 2, \"linecolor\": \"white\", \"showbackground\": true, \"ticks\": \"\", \"zerolinecolor\": \"white\"}, \"yaxis\": {\"backgroundcolor\": \"#E5ECF6\", \"gridcolor\": \"white\", \"gridwidth\": 2, \"linecolor\": \"white\", \"showbackground\": true, \"ticks\": \"\", \"zerolinecolor\": \"white\"}, \"zaxis\": {\"backgroundcolor\": \"#E5ECF6\", \"gridcolor\": \"white\", \"gridwidth\": 2, \"linecolor\": \"white\", \"showbackground\": true, \"ticks\": \"\", \"zerolinecolor\": \"white\"}}, \"shapedefaults\": {\"line\": {\"color\": \"#2a3f5f\"}}, \"ternary\": {\"aaxis\": {\"gridcolor\": \"white\", \"linecolor\": \"white\", \"ticks\": \"\"}, \"baxis\": {\"gridcolor\": \"white\", \"linecolor\": \"white\", \"ticks\": \"\"}, \"bgcolor\": \"#E5ECF6\", \"caxis\": {\"gridcolor\": \"white\", \"linecolor\": \"white\", \"ticks\": \"\"}}, \"title\": {\"x\": 0.05}, \"xaxis\": {\"automargin\": true, \"gridcolor\": \"white\", \"linecolor\": \"white\", \"ticks\": \"\", \"zerolinecolor\": \"white\", \"zerolinewidth\": 2}, \"yaxis\": {\"automargin\": true, \"gridcolor\": \"white\", \"linecolor\": \"white\", \"ticks\": \"\", \"zerolinecolor\": \"white\", \"zerolinewidth\": 2}}}},\n",
       "                        {\"responsive\": true}\n",
       "                    ).then(function(){\n",
       "                            \n",
       "var gd = document.getElementById('1f76a8bd-1073-4fe7-a4c7-e0f6280b50b9');\n",
       "var x = new MutationObserver(function (mutations, observer) {{\n",
       "        var display = window.getComputedStyle(gd).display;\n",
       "        if (!display || display === 'none') {{\n",
       "            console.log([gd, 'removed!']);\n",
       "            Plotly.purge(gd);\n",
       "            observer.disconnect();\n",
       "        }}\n",
       "}});\n",
       "\n",
       "// Listen for the removal of the full notebook cells\n",
       "var notebookContainer = gd.closest('#notebook-container');\n",
       "if (notebookContainer) {{\n",
       "    x.observe(notebookContainer, {childList: true});\n",
       "}}\n",
       "\n",
       "// Listen for the clearing of the current output cell\n",
       "var outputEl = gd.closest('.output');\n",
       "if (outputEl) {{\n",
       "    x.observe(outputEl, {childList: true});\n",
       "}}\n",
       "\n",
       "                        })\n",
       "                };\n",
       "                });\n",
       "            </script>\n",
       "        </div>"
      ]
     },
     "metadata": {},
     "output_type": "display_data"
    }
   ],
   "source": [
    "import plotly.graph_objs as go\n",
    "import numpy as np\n",
    "\n",
    "x = np.random.randn(2000)\n",
    "y = np.random.randn(2000)\n",
    "\n",
    "iplot([go.Histogram2dContour(x=x,y=y,contours=dict(coloring='heatmap')),\n",
    "      go.Scatter(x=x,y=y,mode='markers',marker=dict(color='white',size=3,opacity=0.3))],show_link=False)"
   ]
  },
  {
   "cell_type": "code",
   "execution_count": 5,
   "metadata": {},
   "outputs": [],
   "source": [
    "import chart_studio.plotly as py\n",
    "import plotly.graph_objs as go\n",
    "import numpy as np"
   ]
  },
  {
   "cell_type": "code",
   "execution_count": 6,
   "metadata": {},
   "outputs": [
    {
     "name": "stdout",
     "output_type": "stream",
     "text": [
      "4.1.1\n"
     ]
    }
   ],
   "source": [
    "import plotly\n",
    "from plotly import __version__\n",
    "print(__version__)\n",
    "from plotly.offline import download_plotlyjs, init_notebook_mode, plot, iplot"
   ]
  },
  {
   "cell_type": "code",
   "execution_count": 7,
   "metadata": {},
   "outputs": [],
   "source": [
    "N = 100\n",
    "example_x = np.random.rand(N)\n",
    "example_y = np.random.rand(N)"
   ]
  },
  {
   "cell_type": "code",
   "execution_count": 8,
   "metadata": {},
   "outputs": [],
   "source": [
    "trace = go.Scatter(\n",
    "x = example_x,\n",
    "y = example_y,\n",
    "mode = 'markers')"
   ]
  },
  {
   "cell_type": "code",
   "execution_count": 9,
   "metadata": {},
   "outputs": [
    {
     "data": {
      "application/vnd.plotly.v1+json": {
       "config": {
        "linkText": "Export to plot.ly",
        "plotlyServerURL": "https://plot.ly",
        "showLink": false
       },
       "data": [
        {
         "mode": "markers",
         "type": "scatter",
         "x": [
          0.8630037754579168,
          0.04485041816970514,
          0.12598118876503583,
          0.13906861404054083,
          0.05791542756102863,
          0.05541821945172021,
          0.9678120199968308,
          0.49465704108333275,
          0.6638112685026224,
          0.48813943468890486,
          0.2827617063402057,
          0.9535129702268526,
          0.9224922501946891,
          0.9799024817882754,
          0.40964958666288076,
          0.20530117506152035,
          0.5325381325098518,
          0.06567412176243925,
          0.13232472424785657,
          0.8319891611844527,
          0.8398248502093477,
          0.7893912584923917,
          0.22268660267105223,
          0.09913109168691858,
          0.7725353943083573,
          0.2941084434226713,
          0.6610984579972917,
          0.6371157430035806,
          0.06996610435091621,
          0.38572154324137775,
          0.8212773881077349,
          0.2735937825033363,
          0.5232276232309034,
          0.6783230029709989,
          0.35306621876279676,
          0.24467640105789545,
          0.3858848046484773,
          0.9203783965716569,
          0.7837549332275565,
          0.19732457169188033,
          0.32804922638778256,
          0.7611810259568768,
          0.002902892552352321,
          0.8712002166613074,
          0.382079446851847,
          0.22303867852016435,
          0.6367551873154982,
          0.75936778627716,
          0.33664055992016384,
          0.12277963234995448,
          0.06924665322820778,
          0.31529093076302717,
          0.9795440547117893,
          0.35993985559884023,
          0.11955211800342158,
          0.3639558621130683,
          0.7567073808059703,
          0.16342591651770455,
          0.5610726396209099,
          0.8729101841204149,
          0.20036669159871856,
          0.6015832140922974,
          0.19300264888328744,
          0.6137906649675735,
          0.77958277183336,
          0.12600155705341987,
          0.39316950649548155,
          0.09729410508059666,
          0.21181947128455436,
          0.3811157734249555,
          0.6796976423739979,
          0.36638919895755206,
          0.4444478341220781,
          0.6941742204870688,
          0.6478831238576698,
          0.033441103560757135,
          0.9787194224266879,
          0.05193082605066568,
          0.5373844736531671,
          0.7307151343315365,
          0.3884408636930391,
          0.7017548082206699,
          0.8759929085545031,
          0.1266094421291203,
          0.5043422811089376,
          0.04970256148342822,
          0.2652718090166363,
          0.11096222348969587,
          0.19194793155475354,
          0.22146967321875943,
          0.8098139956467729,
          0.2999609274121465,
          0.39413580175504825,
          0.47060118728452105,
          0.5483292166773042,
          0.18288347102000413,
          0.5013069112347913,
          0.22755678336369334,
          0.6103649475537214,
          0.12457728259520906
         ],
         "y": [
          0.12308517860582113,
          0.7347103338980412,
          0.29232953409816587,
          0.6737667129309352,
          0.8903014671302489,
          0.8765125727749421,
          0.18935952269272072,
          0.6217789579701971,
          0.8127824527295557,
          0.6142070415338977,
          0.6067685451525076,
          0.9980497831684301,
          0.5067924693079752,
          0.12042950008676134,
          0.8815787057499109,
          0.10669543402725123,
          0.04235129400891391,
          0.29062181682642174,
          0.10402076848794573,
          0.6437178486569997,
          0.018973481320978203,
          0.3191614232103006,
          0.7201214505823567,
          0.12490656912779885,
          0.8545442121203412,
          0.9562361485780653,
          0.8488557758614579,
          0.9464178811215593,
          0.2955425514067934,
          0.9897352606986028,
          0.3731742680631658,
          0.26845709638341064,
          0.20620963467774256,
          0.3115532899900799,
          0.8206200267824544,
          0.7395946656432272,
          0.6736234349472764,
          0.4296386896884592,
          0.7423995599827584,
          0.23158746408302455,
          0.24910118469472997,
          0.6637586682793273,
          0.16946107505336472,
          0.09530333452761552,
          0.03787975135641719,
          0.8488978403317844,
          0.847490520911022,
          0.8437508343087352,
          0.7131571567624586,
          0.5793088673327684,
          0.3979579184172779,
          0.5942399412703301,
          0.5759004357217182,
          0.8123962963088268,
          0.25577586518880946,
          0.8141555806438103,
          0.39738116165883774,
          0.26132070186822454,
          0.6659950674003081,
          0.02338048923542768,
          0.8078265509771254,
          0.6185433847574094,
          0.10305383384326083,
          0.7708180544837421,
          0.28369295805381867,
          0.8127953372614769,
          0.08562398967843088,
          0.7107117574209465,
          0.21739657349705876,
          0.16764434890978142,
          0.6915069895227192,
          0.43119582781510624,
          0.9718073235234581,
          0.3646507503003712,
          0.24241870657687936,
          0.41055155889543915,
          0.11232991531873604,
          0.6993139536949373,
          0.1417301356303562,
          0.45637224640231,
          0.20137544412676334,
          0.3511996111023431,
          0.9066531666578551,
          0.39212581701570304,
          0.806063725443957,
          0.6857804822066658,
          0.44555427807703196,
          0.5285548115372485,
          0.44703258577617844,
          0.9130939206240677,
          0.36014733739597715,
          0.07512578861486141,
          0.7568185704519759,
          0.8623996466333962,
          0.4326686569798017,
          0.8999761366974183,
          0.9127684791352573,
          0.07629871929963683,
          0.8102330981290174,
          0.38109945176799165
         ]
        }
       ],
       "layout": {
        "template": {
         "data": {
          "bar": [
           {
            "error_x": {
             "color": "#2a3f5f"
            },
            "error_y": {
             "color": "#2a3f5f"
            },
            "marker": {
             "line": {
              "color": "#E5ECF6",
              "width": 0.5
             }
            },
            "type": "bar"
           }
          ],
          "barpolar": [
           {
            "marker": {
             "line": {
              "color": "#E5ECF6",
              "width": 0.5
             }
            },
            "type": "barpolar"
           }
          ],
          "carpet": [
           {
            "aaxis": {
             "endlinecolor": "#2a3f5f",
             "gridcolor": "white",
             "linecolor": "white",
             "minorgridcolor": "white",
             "startlinecolor": "#2a3f5f"
            },
            "baxis": {
             "endlinecolor": "#2a3f5f",
             "gridcolor": "white",
             "linecolor": "white",
             "minorgridcolor": "white",
             "startlinecolor": "#2a3f5f"
            },
            "type": "carpet"
           }
          ],
          "choropleth": [
           {
            "colorbar": {
             "outlinewidth": 0,
             "ticks": ""
            },
            "type": "choropleth"
           }
          ],
          "contour": [
           {
            "colorbar": {
             "outlinewidth": 0,
             "ticks": ""
            },
            "colorscale": [
             [
              0,
              "#0d0887"
             ],
             [
              0.1111111111111111,
              "#46039f"
             ],
             [
              0.2222222222222222,
              "#7201a8"
             ],
             [
              0.3333333333333333,
              "#9c179e"
             ],
             [
              0.4444444444444444,
              "#bd3786"
             ],
             [
              0.5555555555555556,
              "#d8576b"
             ],
             [
              0.6666666666666666,
              "#ed7953"
             ],
             [
              0.7777777777777778,
              "#fb9f3a"
             ],
             [
              0.8888888888888888,
              "#fdca26"
             ],
             [
              1,
              "#f0f921"
             ]
            ],
            "type": "contour"
           }
          ],
          "contourcarpet": [
           {
            "colorbar": {
             "outlinewidth": 0,
             "ticks": ""
            },
            "type": "contourcarpet"
           }
          ],
          "heatmap": [
           {
            "colorbar": {
             "outlinewidth": 0,
             "ticks": ""
            },
            "colorscale": [
             [
              0,
              "#0d0887"
             ],
             [
              0.1111111111111111,
              "#46039f"
             ],
             [
              0.2222222222222222,
              "#7201a8"
             ],
             [
              0.3333333333333333,
              "#9c179e"
             ],
             [
              0.4444444444444444,
              "#bd3786"
             ],
             [
              0.5555555555555556,
              "#d8576b"
             ],
             [
              0.6666666666666666,
              "#ed7953"
             ],
             [
              0.7777777777777778,
              "#fb9f3a"
             ],
             [
              0.8888888888888888,
              "#fdca26"
             ],
             [
              1,
              "#f0f921"
             ]
            ],
            "type": "heatmap"
           }
          ],
          "heatmapgl": [
           {
            "colorbar": {
             "outlinewidth": 0,
             "ticks": ""
            },
            "colorscale": [
             [
              0,
              "#0d0887"
             ],
             [
              0.1111111111111111,
              "#46039f"
             ],
             [
              0.2222222222222222,
              "#7201a8"
             ],
             [
              0.3333333333333333,
              "#9c179e"
             ],
             [
              0.4444444444444444,
              "#bd3786"
             ],
             [
              0.5555555555555556,
              "#d8576b"
             ],
             [
              0.6666666666666666,
              "#ed7953"
             ],
             [
              0.7777777777777778,
              "#fb9f3a"
             ],
             [
              0.8888888888888888,
              "#fdca26"
             ],
             [
              1,
              "#f0f921"
             ]
            ],
            "type": "heatmapgl"
           }
          ],
          "histogram": [
           {
            "marker": {
             "colorbar": {
              "outlinewidth": 0,
              "ticks": ""
             }
            },
            "type": "histogram"
           }
          ],
          "histogram2d": [
           {
            "colorbar": {
             "outlinewidth": 0,
             "ticks": ""
            },
            "colorscale": [
             [
              0,
              "#0d0887"
             ],
             [
              0.1111111111111111,
              "#46039f"
             ],
             [
              0.2222222222222222,
              "#7201a8"
             ],
             [
              0.3333333333333333,
              "#9c179e"
             ],
             [
              0.4444444444444444,
              "#bd3786"
             ],
             [
              0.5555555555555556,
              "#d8576b"
             ],
             [
              0.6666666666666666,
              "#ed7953"
             ],
             [
              0.7777777777777778,
              "#fb9f3a"
             ],
             [
              0.8888888888888888,
              "#fdca26"
             ],
             [
              1,
              "#f0f921"
             ]
            ],
            "type": "histogram2d"
           }
          ],
          "histogram2dcontour": [
           {
            "colorbar": {
             "outlinewidth": 0,
             "ticks": ""
            },
            "colorscale": [
             [
              0,
              "#0d0887"
             ],
             [
              0.1111111111111111,
              "#46039f"
             ],
             [
              0.2222222222222222,
              "#7201a8"
             ],
             [
              0.3333333333333333,
              "#9c179e"
             ],
             [
              0.4444444444444444,
              "#bd3786"
             ],
             [
              0.5555555555555556,
              "#d8576b"
             ],
             [
              0.6666666666666666,
              "#ed7953"
             ],
             [
              0.7777777777777778,
              "#fb9f3a"
             ],
             [
              0.8888888888888888,
              "#fdca26"
             ],
             [
              1,
              "#f0f921"
             ]
            ],
            "type": "histogram2dcontour"
           }
          ],
          "mesh3d": [
           {
            "colorbar": {
             "outlinewidth": 0,
             "ticks": ""
            },
            "type": "mesh3d"
           }
          ],
          "parcoords": [
           {
            "line": {
             "colorbar": {
              "outlinewidth": 0,
              "ticks": ""
             }
            },
            "type": "parcoords"
           }
          ],
          "scatter": [
           {
            "marker": {
             "colorbar": {
              "outlinewidth": 0,
              "ticks": ""
             }
            },
            "type": "scatter"
           }
          ],
          "scatter3d": [
           {
            "line": {
             "colorbar": {
              "outlinewidth": 0,
              "ticks": ""
             }
            },
            "marker": {
             "colorbar": {
              "outlinewidth": 0,
              "ticks": ""
             }
            },
            "type": "scatter3d"
           }
          ],
          "scattercarpet": [
           {
            "marker": {
             "colorbar": {
              "outlinewidth": 0,
              "ticks": ""
             }
            },
            "type": "scattercarpet"
           }
          ],
          "scattergeo": [
           {
            "marker": {
             "colorbar": {
              "outlinewidth": 0,
              "ticks": ""
             }
            },
            "type": "scattergeo"
           }
          ],
          "scattergl": [
           {
            "marker": {
             "colorbar": {
              "outlinewidth": 0,
              "ticks": ""
             }
            },
            "type": "scattergl"
           }
          ],
          "scattermapbox": [
           {
            "marker": {
             "colorbar": {
              "outlinewidth": 0,
              "ticks": ""
             }
            },
            "type": "scattermapbox"
           }
          ],
          "scatterpolar": [
           {
            "marker": {
             "colorbar": {
              "outlinewidth": 0,
              "ticks": ""
             }
            },
            "type": "scatterpolar"
           }
          ],
          "scatterpolargl": [
           {
            "marker": {
             "colorbar": {
              "outlinewidth": 0,
              "ticks": ""
             }
            },
            "type": "scatterpolargl"
           }
          ],
          "scatterternary": [
           {
            "marker": {
             "colorbar": {
              "outlinewidth": 0,
              "ticks": ""
             }
            },
            "type": "scatterternary"
           }
          ],
          "surface": [
           {
            "colorbar": {
             "outlinewidth": 0,
             "ticks": ""
            },
            "colorscale": [
             [
              0,
              "#0d0887"
             ],
             [
              0.1111111111111111,
              "#46039f"
             ],
             [
              0.2222222222222222,
              "#7201a8"
             ],
             [
              0.3333333333333333,
              "#9c179e"
             ],
             [
              0.4444444444444444,
              "#bd3786"
             ],
             [
              0.5555555555555556,
              "#d8576b"
             ],
             [
              0.6666666666666666,
              "#ed7953"
             ],
             [
              0.7777777777777778,
              "#fb9f3a"
             ],
             [
              0.8888888888888888,
              "#fdca26"
             ],
             [
              1,
              "#f0f921"
             ]
            ],
            "type": "surface"
           }
          ],
          "table": [
           {
            "cells": {
             "fill": {
              "color": "#EBF0F8"
             },
             "line": {
              "color": "white"
             }
            },
            "header": {
             "fill": {
              "color": "#C8D4E3"
             },
             "line": {
              "color": "white"
             }
            },
            "type": "table"
           }
          ]
         },
         "layout": {
          "annotationdefaults": {
           "arrowcolor": "#2a3f5f",
           "arrowhead": 0,
           "arrowwidth": 1
          },
          "colorscale": {
           "diverging": [
            [
             0,
             "#8e0152"
            ],
            [
             0.1,
             "#c51b7d"
            ],
            [
             0.2,
             "#de77ae"
            ],
            [
             0.3,
             "#f1b6da"
            ],
            [
             0.4,
             "#fde0ef"
            ],
            [
             0.5,
             "#f7f7f7"
            ],
            [
             0.6,
             "#e6f5d0"
            ],
            [
             0.7,
             "#b8e186"
            ],
            [
             0.8,
             "#7fbc41"
            ],
            [
             0.9,
             "#4d9221"
            ],
            [
             1,
             "#276419"
            ]
           ],
           "sequential": [
            [
             0,
             "#0d0887"
            ],
            [
             0.1111111111111111,
             "#46039f"
            ],
            [
             0.2222222222222222,
             "#7201a8"
            ],
            [
             0.3333333333333333,
             "#9c179e"
            ],
            [
             0.4444444444444444,
             "#bd3786"
            ],
            [
             0.5555555555555556,
             "#d8576b"
            ],
            [
             0.6666666666666666,
             "#ed7953"
            ],
            [
             0.7777777777777778,
             "#fb9f3a"
            ],
            [
             0.8888888888888888,
             "#fdca26"
            ],
            [
             1,
             "#f0f921"
            ]
           ],
           "sequentialminus": [
            [
             0,
             "#0d0887"
            ],
            [
             0.1111111111111111,
             "#46039f"
            ],
            [
             0.2222222222222222,
             "#7201a8"
            ],
            [
             0.3333333333333333,
             "#9c179e"
            ],
            [
             0.4444444444444444,
             "#bd3786"
            ],
            [
             0.5555555555555556,
             "#d8576b"
            ],
            [
             0.6666666666666666,
             "#ed7953"
            ],
            [
             0.7777777777777778,
             "#fb9f3a"
            ],
            [
             0.8888888888888888,
             "#fdca26"
            ],
            [
             1,
             "#f0f921"
            ]
           ]
          },
          "colorway": [
           "#636efa",
           "#EF553B",
           "#00cc96",
           "#ab63fa",
           "#FFA15A",
           "#19d3f3",
           "#FF6692",
           "#B6E880",
           "#FF97FF",
           "#FECB52"
          ],
          "font": {
           "color": "#2a3f5f"
          },
          "geo": {
           "bgcolor": "white",
           "lakecolor": "white",
           "landcolor": "#E5ECF6",
           "showlakes": true,
           "showland": true,
           "subunitcolor": "white"
          },
          "hoverlabel": {
           "align": "left"
          },
          "hovermode": "closest",
          "mapbox": {
           "style": "light"
          },
          "paper_bgcolor": "white",
          "plot_bgcolor": "#E5ECF6",
          "polar": {
           "angularaxis": {
            "gridcolor": "white",
            "linecolor": "white",
            "ticks": ""
           },
           "bgcolor": "#E5ECF6",
           "radialaxis": {
            "gridcolor": "white",
            "linecolor": "white",
            "ticks": ""
           }
          },
          "scene": {
           "xaxis": {
            "backgroundcolor": "#E5ECF6",
            "gridcolor": "white",
            "gridwidth": 2,
            "linecolor": "white",
            "showbackground": true,
            "ticks": "",
            "zerolinecolor": "white"
           },
           "yaxis": {
            "backgroundcolor": "#E5ECF6",
            "gridcolor": "white",
            "gridwidth": 2,
            "linecolor": "white",
            "showbackground": true,
            "ticks": "",
            "zerolinecolor": "white"
           },
           "zaxis": {
            "backgroundcolor": "#E5ECF6",
            "gridcolor": "white",
            "gridwidth": 2,
            "linecolor": "white",
            "showbackground": true,
            "ticks": "",
            "zerolinecolor": "white"
           }
          },
          "shapedefaults": {
           "line": {
            "color": "#2a3f5f"
           }
          },
          "ternary": {
           "aaxis": {
            "gridcolor": "white",
            "linecolor": "white",
            "ticks": ""
           },
           "baxis": {
            "gridcolor": "white",
            "linecolor": "white",
            "ticks": ""
           },
           "bgcolor": "#E5ECF6",
           "caxis": {
            "gridcolor": "white",
            "linecolor": "white",
            "ticks": ""
           }
          },
          "title": {
           "x": 0.05
          },
          "xaxis": {
           "automargin": true,
           "gridcolor": "white",
           "linecolor": "white",
           "ticks": "",
           "zerolinecolor": "white",
           "zerolinewidth": 2
          },
          "yaxis": {
           "automargin": true,
           "gridcolor": "white",
           "linecolor": "white",
           "ticks": "",
           "zerolinecolor": "white",
           "zerolinewidth": 2
          }
         }
        }
       }
      },
      "text/html": [
       "<div>\n",
       "        \n",
       "        \n",
       "            <div id=\"066cfd6a-ca6a-45f8-8842-6f675332e30d\" class=\"plotly-graph-div\" style=\"height:525px; width:100%;\"></div>\n",
       "            <script type=\"text/javascript\">\n",
       "                require([\"plotly\"], function(Plotly) {\n",
       "                    window.PLOTLYENV=window.PLOTLYENV || {};\n",
       "                    \n",
       "                if (document.getElementById(\"066cfd6a-ca6a-45f8-8842-6f675332e30d\")) {\n",
       "                    Plotly.newPlot(\n",
       "                        '066cfd6a-ca6a-45f8-8842-6f675332e30d',\n",
       "                        [{\"mode\": \"markers\", \"type\": \"scatter\", \"x\": [0.8630037754579168, 0.04485041816970514, 0.12598118876503583, 0.13906861404054083, 0.05791542756102863, 0.05541821945172021, 0.9678120199968308, 0.49465704108333275, 0.6638112685026224, 0.48813943468890486, 0.2827617063402057, 0.9535129702268526, 0.9224922501946891, 0.9799024817882754, 0.40964958666288076, 0.20530117506152035, 0.5325381325098518, 0.06567412176243925, 0.13232472424785657, 0.8319891611844527, 0.8398248502093477, 0.7893912584923917, 0.22268660267105223, 0.09913109168691858, 0.7725353943083573, 0.2941084434226713, 0.6610984579972917, 0.6371157430035806, 0.06996610435091621, 0.38572154324137775, 0.8212773881077349, 0.2735937825033363, 0.5232276232309034, 0.6783230029709989, 0.35306621876279676, 0.24467640105789545, 0.3858848046484773, 0.9203783965716569, 0.7837549332275565, 0.19732457169188033, 0.32804922638778256, 0.7611810259568768, 0.002902892552352321, 0.8712002166613074, 0.382079446851847, 0.22303867852016435, 0.6367551873154982, 0.75936778627716, 0.33664055992016384, 0.12277963234995448, 0.06924665322820778, 0.31529093076302717, 0.9795440547117893, 0.35993985559884023, 0.11955211800342158, 0.3639558621130683, 0.7567073808059703, 0.16342591651770455, 0.5610726396209099, 0.8729101841204149, 0.20036669159871856, 0.6015832140922974, 0.19300264888328744, 0.6137906649675735, 0.77958277183336, 0.12600155705341987, 0.39316950649548155, 0.09729410508059666, 0.21181947128455436, 0.3811157734249555, 0.6796976423739979, 0.36638919895755206, 0.4444478341220781, 0.6941742204870688, 0.6478831238576698, 0.033441103560757135, 0.9787194224266879, 0.05193082605066568, 0.5373844736531671, 0.7307151343315365, 0.3884408636930391, 0.7017548082206699, 0.8759929085545031, 0.1266094421291203, 0.5043422811089376, 0.04970256148342822, 0.2652718090166363, 0.11096222348969587, 0.19194793155475354, 0.22146967321875943, 0.8098139956467729, 0.2999609274121465, 0.39413580175504825, 0.47060118728452105, 0.5483292166773042, 0.18288347102000413, 0.5013069112347913, 0.22755678336369334, 0.6103649475537214, 0.12457728259520906], \"y\": [0.12308517860582113, 0.7347103338980412, 0.29232953409816587, 0.6737667129309352, 0.8903014671302489, 0.8765125727749421, 0.18935952269272072, 0.6217789579701971, 0.8127824527295557, 0.6142070415338977, 0.6067685451525076, 0.9980497831684301, 0.5067924693079752, 0.12042950008676134, 0.8815787057499109, 0.10669543402725123, 0.04235129400891391, 0.29062181682642174, 0.10402076848794573, 0.6437178486569997, 0.018973481320978203, 0.3191614232103006, 0.7201214505823567, 0.12490656912779885, 0.8545442121203412, 0.9562361485780653, 0.8488557758614579, 0.9464178811215593, 0.2955425514067934, 0.9897352606986028, 0.3731742680631658, 0.26845709638341064, 0.20620963467774256, 0.3115532899900799, 0.8206200267824544, 0.7395946656432272, 0.6736234349472764, 0.4296386896884592, 0.7423995599827584, 0.23158746408302455, 0.24910118469472997, 0.6637586682793273, 0.16946107505336472, 0.09530333452761552, 0.03787975135641719, 0.8488978403317844, 0.847490520911022, 0.8437508343087352, 0.7131571567624586, 0.5793088673327684, 0.3979579184172779, 0.5942399412703301, 0.5759004357217182, 0.8123962963088268, 0.25577586518880946, 0.8141555806438103, 0.39738116165883774, 0.26132070186822454, 0.6659950674003081, 0.02338048923542768, 0.8078265509771254, 0.6185433847574094, 0.10305383384326083, 0.7708180544837421, 0.28369295805381867, 0.8127953372614769, 0.08562398967843088, 0.7107117574209465, 0.21739657349705876, 0.16764434890978142, 0.6915069895227192, 0.43119582781510624, 0.9718073235234581, 0.3646507503003712, 0.24241870657687936, 0.41055155889543915, 0.11232991531873604, 0.6993139536949373, 0.1417301356303562, 0.45637224640231, 0.20137544412676334, 0.3511996111023431, 0.9066531666578551, 0.39212581701570304, 0.806063725443957, 0.6857804822066658, 0.44555427807703196, 0.5285548115372485, 0.44703258577617844, 0.9130939206240677, 0.36014733739597715, 0.07512578861486141, 0.7568185704519759, 0.8623996466333962, 0.4326686569798017, 0.8999761366974183, 0.9127684791352573, 0.07629871929963683, 0.8102330981290174, 0.38109945176799165]}],\n",
       "                        {\"template\": {\"data\": {\"bar\": [{\"error_x\": {\"color\": \"#2a3f5f\"}, \"error_y\": {\"color\": \"#2a3f5f\"}, \"marker\": {\"line\": {\"color\": \"#E5ECF6\", \"width\": 0.5}}, \"type\": \"bar\"}], \"barpolar\": [{\"marker\": {\"line\": {\"color\": \"#E5ECF6\", \"width\": 0.5}}, \"type\": \"barpolar\"}], \"carpet\": [{\"aaxis\": {\"endlinecolor\": \"#2a3f5f\", \"gridcolor\": \"white\", \"linecolor\": \"white\", \"minorgridcolor\": \"white\", \"startlinecolor\": \"#2a3f5f\"}, \"baxis\": {\"endlinecolor\": \"#2a3f5f\", \"gridcolor\": \"white\", \"linecolor\": \"white\", \"minorgridcolor\": \"white\", \"startlinecolor\": \"#2a3f5f\"}, \"type\": \"carpet\"}], \"choropleth\": [{\"colorbar\": {\"outlinewidth\": 0, \"ticks\": \"\"}, \"type\": \"choropleth\"}], \"contour\": [{\"colorbar\": {\"outlinewidth\": 0, \"ticks\": \"\"}, \"colorscale\": [[0.0, \"#0d0887\"], [0.1111111111111111, \"#46039f\"], [0.2222222222222222, \"#7201a8\"], [0.3333333333333333, \"#9c179e\"], [0.4444444444444444, \"#bd3786\"], [0.5555555555555556, \"#d8576b\"], [0.6666666666666666, \"#ed7953\"], [0.7777777777777778, \"#fb9f3a\"], [0.8888888888888888, \"#fdca26\"], [1.0, \"#f0f921\"]], \"type\": \"contour\"}], \"contourcarpet\": [{\"colorbar\": {\"outlinewidth\": 0, \"ticks\": \"\"}, \"type\": \"contourcarpet\"}], \"heatmap\": [{\"colorbar\": {\"outlinewidth\": 0, \"ticks\": \"\"}, \"colorscale\": [[0.0, \"#0d0887\"], [0.1111111111111111, \"#46039f\"], [0.2222222222222222, \"#7201a8\"], [0.3333333333333333, \"#9c179e\"], [0.4444444444444444, \"#bd3786\"], [0.5555555555555556, \"#d8576b\"], [0.6666666666666666, \"#ed7953\"], [0.7777777777777778, \"#fb9f3a\"], [0.8888888888888888, \"#fdca26\"], [1.0, \"#f0f921\"]], \"type\": \"heatmap\"}], \"heatmapgl\": [{\"colorbar\": {\"outlinewidth\": 0, \"ticks\": \"\"}, \"colorscale\": [[0.0, \"#0d0887\"], [0.1111111111111111, \"#46039f\"], [0.2222222222222222, \"#7201a8\"], [0.3333333333333333, \"#9c179e\"], [0.4444444444444444, \"#bd3786\"], [0.5555555555555556, \"#d8576b\"], [0.6666666666666666, \"#ed7953\"], [0.7777777777777778, \"#fb9f3a\"], [0.8888888888888888, \"#fdca26\"], [1.0, \"#f0f921\"]], \"type\": \"heatmapgl\"}], \"histogram\": [{\"marker\": {\"colorbar\": {\"outlinewidth\": 0, \"ticks\": \"\"}}, \"type\": \"histogram\"}], \"histogram2d\": [{\"colorbar\": {\"outlinewidth\": 0, \"ticks\": \"\"}, \"colorscale\": [[0.0, \"#0d0887\"], [0.1111111111111111, \"#46039f\"], [0.2222222222222222, \"#7201a8\"], [0.3333333333333333, \"#9c179e\"], [0.4444444444444444, \"#bd3786\"], [0.5555555555555556, \"#d8576b\"], [0.6666666666666666, \"#ed7953\"], [0.7777777777777778, \"#fb9f3a\"], [0.8888888888888888, \"#fdca26\"], [1.0, \"#f0f921\"]], \"type\": \"histogram2d\"}], \"histogram2dcontour\": [{\"colorbar\": {\"outlinewidth\": 0, \"ticks\": \"\"}, \"colorscale\": [[0.0, \"#0d0887\"], [0.1111111111111111, \"#46039f\"], [0.2222222222222222, \"#7201a8\"], [0.3333333333333333, \"#9c179e\"], [0.4444444444444444, \"#bd3786\"], [0.5555555555555556, \"#d8576b\"], [0.6666666666666666, \"#ed7953\"], [0.7777777777777778, \"#fb9f3a\"], [0.8888888888888888, \"#fdca26\"], [1.0, \"#f0f921\"]], \"type\": \"histogram2dcontour\"}], \"mesh3d\": [{\"colorbar\": {\"outlinewidth\": 0, \"ticks\": \"\"}, \"type\": \"mesh3d\"}], \"parcoords\": [{\"line\": {\"colorbar\": {\"outlinewidth\": 0, \"ticks\": \"\"}}, \"type\": \"parcoords\"}], \"scatter\": [{\"marker\": {\"colorbar\": {\"outlinewidth\": 0, \"ticks\": \"\"}}, \"type\": \"scatter\"}], \"scatter3d\": [{\"line\": {\"colorbar\": {\"outlinewidth\": 0, \"ticks\": \"\"}}, \"marker\": {\"colorbar\": {\"outlinewidth\": 0, \"ticks\": \"\"}}, \"type\": \"scatter3d\"}], \"scattercarpet\": [{\"marker\": {\"colorbar\": {\"outlinewidth\": 0, \"ticks\": \"\"}}, \"type\": \"scattercarpet\"}], \"scattergeo\": [{\"marker\": {\"colorbar\": {\"outlinewidth\": 0, \"ticks\": \"\"}}, \"type\": \"scattergeo\"}], \"scattergl\": [{\"marker\": {\"colorbar\": {\"outlinewidth\": 0, \"ticks\": \"\"}}, \"type\": \"scattergl\"}], \"scattermapbox\": [{\"marker\": {\"colorbar\": {\"outlinewidth\": 0, \"ticks\": \"\"}}, \"type\": \"scattermapbox\"}], \"scatterpolar\": [{\"marker\": {\"colorbar\": {\"outlinewidth\": 0, \"ticks\": \"\"}}, \"type\": \"scatterpolar\"}], \"scatterpolargl\": [{\"marker\": {\"colorbar\": {\"outlinewidth\": 0, \"ticks\": \"\"}}, \"type\": \"scatterpolargl\"}], \"scatterternary\": [{\"marker\": {\"colorbar\": {\"outlinewidth\": 0, \"ticks\": \"\"}}, \"type\": \"scatterternary\"}], \"surface\": [{\"colorbar\": {\"outlinewidth\": 0, \"ticks\": \"\"}, \"colorscale\": [[0.0, \"#0d0887\"], [0.1111111111111111, \"#46039f\"], [0.2222222222222222, \"#7201a8\"], [0.3333333333333333, \"#9c179e\"], [0.4444444444444444, \"#bd3786\"], [0.5555555555555556, \"#d8576b\"], [0.6666666666666666, \"#ed7953\"], [0.7777777777777778, \"#fb9f3a\"], [0.8888888888888888, \"#fdca26\"], [1.0, \"#f0f921\"]], \"type\": \"surface\"}], \"table\": [{\"cells\": {\"fill\": {\"color\": \"#EBF0F8\"}, \"line\": {\"color\": \"white\"}}, \"header\": {\"fill\": {\"color\": \"#C8D4E3\"}, \"line\": {\"color\": \"white\"}}, \"type\": \"table\"}]}, \"layout\": {\"annotationdefaults\": {\"arrowcolor\": \"#2a3f5f\", \"arrowhead\": 0, \"arrowwidth\": 1}, \"colorscale\": {\"diverging\": [[0, \"#8e0152\"], [0.1, \"#c51b7d\"], [0.2, \"#de77ae\"], [0.3, \"#f1b6da\"], [0.4, \"#fde0ef\"], [0.5, \"#f7f7f7\"], [0.6, \"#e6f5d0\"], [0.7, \"#b8e186\"], [0.8, \"#7fbc41\"], [0.9, \"#4d9221\"], [1, \"#276419\"]], \"sequential\": [[0.0, \"#0d0887\"], [0.1111111111111111, \"#46039f\"], [0.2222222222222222, \"#7201a8\"], [0.3333333333333333, \"#9c179e\"], [0.4444444444444444, \"#bd3786\"], [0.5555555555555556, \"#d8576b\"], [0.6666666666666666, \"#ed7953\"], [0.7777777777777778, \"#fb9f3a\"], [0.8888888888888888, \"#fdca26\"], [1.0, \"#f0f921\"]], \"sequentialminus\": [[0.0, \"#0d0887\"], [0.1111111111111111, \"#46039f\"], [0.2222222222222222, \"#7201a8\"], [0.3333333333333333, \"#9c179e\"], [0.4444444444444444, \"#bd3786\"], [0.5555555555555556, \"#d8576b\"], [0.6666666666666666, \"#ed7953\"], [0.7777777777777778, \"#fb9f3a\"], [0.8888888888888888, \"#fdca26\"], [1.0, \"#f0f921\"]]}, \"colorway\": [\"#636efa\", \"#EF553B\", \"#00cc96\", \"#ab63fa\", \"#FFA15A\", \"#19d3f3\", \"#FF6692\", \"#B6E880\", \"#FF97FF\", \"#FECB52\"], \"font\": {\"color\": \"#2a3f5f\"}, \"geo\": {\"bgcolor\": \"white\", \"lakecolor\": \"white\", \"landcolor\": \"#E5ECF6\", \"showlakes\": true, \"showland\": true, \"subunitcolor\": \"white\"}, \"hoverlabel\": {\"align\": \"left\"}, \"hovermode\": \"closest\", \"mapbox\": {\"style\": \"light\"}, \"paper_bgcolor\": \"white\", \"plot_bgcolor\": \"#E5ECF6\", \"polar\": {\"angularaxis\": {\"gridcolor\": \"white\", \"linecolor\": \"white\", \"ticks\": \"\"}, \"bgcolor\": \"#E5ECF6\", \"radialaxis\": {\"gridcolor\": \"white\", \"linecolor\": \"white\", \"ticks\": \"\"}}, \"scene\": {\"xaxis\": {\"backgroundcolor\": \"#E5ECF6\", \"gridcolor\": \"white\", \"gridwidth\": 2, \"linecolor\": \"white\", \"showbackground\": true, \"ticks\": \"\", \"zerolinecolor\": \"white\"}, \"yaxis\": {\"backgroundcolor\": \"#E5ECF6\", \"gridcolor\": \"white\", \"gridwidth\": 2, \"linecolor\": \"white\", \"showbackground\": true, \"ticks\": \"\", \"zerolinecolor\": \"white\"}, \"zaxis\": {\"backgroundcolor\": \"#E5ECF6\", \"gridcolor\": \"white\", \"gridwidth\": 2, \"linecolor\": \"white\", \"showbackground\": true, \"ticks\": \"\", \"zerolinecolor\": \"white\"}}, \"shapedefaults\": {\"line\": {\"color\": \"#2a3f5f\"}}, \"ternary\": {\"aaxis\": {\"gridcolor\": \"white\", \"linecolor\": \"white\", \"ticks\": \"\"}, \"baxis\": {\"gridcolor\": \"white\", \"linecolor\": \"white\", \"ticks\": \"\"}, \"bgcolor\": \"#E5ECF6\", \"caxis\": {\"gridcolor\": \"white\", \"linecolor\": \"white\", \"ticks\": \"\"}}, \"title\": {\"x\": 0.05}, \"xaxis\": {\"automargin\": true, \"gridcolor\": \"white\", \"linecolor\": \"white\", \"ticks\": \"\", \"zerolinecolor\": \"white\", \"zerolinewidth\": 2}, \"yaxis\": {\"automargin\": true, \"gridcolor\": \"white\", \"linecolor\": \"white\", \"ticks\": \"\", \"zerolinecolor\": \"white\", \"zerolinewidth\": 2}}}},\n",
       "                        {\"responsive\": true}\n",
       "                    ).then(function(){\n",
       "                            \n",
       "var gd = document.getElementById('066cfd6a-ca6a-45f8-8842-6f675332e30d');\n",
       "var x = new MutationObserver(function (mutations, observer) {{\n",
       "        var display = window.getComputedStyle(gd).display;\n",
       "        if (!display || display === 'none') {{\n",
       "            console.log([gd, 'removed!']);\n",
       "            Plotly.purge(gd);\n",
       "            observer.disconnect();\n",
       "        }}\n",
       "}});\n",
       "\n",
       "// Listen for the removal of the full notebook cells\n",
       "var notebookContainer = gd.closest('#notebook-container');\n",
       "if (notebookContainer) {{\n",
       "    x.observe(notebookContainer, {childList: true});\n",
       "}}\n",
       "\n",
       "// Listen for the clearing of the current output cell\n",
       "var outputEl = gd.closest('.output');\n",
       "if (outputEl) {{\n",
       "    x.observe(outputEl, {childList: true});\n",
       "}}\n",
       "\n",
       "                        })\n",
       "                };\n",
       "                });\n",
       "            </script>\n",
       "        </div>"
      ]
     },
     "metadata": {},
     "output_type": "display_data"
    }
   ],
   "source": [
    "data = [trace]\n",
    "iplot(data)"
   ]
  },
  {
   "cell_type": "code",
   "execution_count": 10,
   "metadata": {},
   "outputs": [
    {
     "data": {
      "application/vnd.plotly.v1+json": {
       "config": {
        "linkText": "Export to plot.ly",
        "plotlyServerURL": "https://plot.ly",
        "showLink": false
       },
       "data": [
        {
         "hoverinfo": "label+percent",
         "labels": [
          "rent",
          "food",
          "bills",
          "Min"
         ],
         "textinfo": "value",
         "type": "pie",
         "values": [
          1000,
          518,
          331,
          277
         ]
        }
       ],
       "layout": {
        "template": {
         "data": {
          "bar": [
           {
            "error_x": {
             "color": "#2a3f5f"
            },
            "error_y": {
             "color": "#2a3f5f"
            },
            "marker": {
             "line": {
              "color": "#E5ECF6",
              "width": 0.5
             }
            },
            "type": "bar"
           }
          ],
          "barpolar": [
           {
            "marker": {
             "line": {
              "color": "#E5ECF6",
              "width": 0.5
             }
            },
            "type": "barpolar"
           }
          ],
          "carpet": [
           {
            "aaxis": {
             "endlinecolor": "#2a3f5f",
             "gridcolor": "white",
             "linecolor": "white",
             "minorgridcolor": "white",
             "startlinecolor": "#2a3f5f"
            },
            "baxis": {
             "endlinecolor": "#2a3f5f",
             "gridcolor": "white",
             "linecolor": "white",
             "minorgridcolor": "white",
             "startlinecolor": "#2a3f5f"
            },
            "type": "carpet"
           }
          ],
          "choropleth": [
           {
            "colorbar": {
             "outlinewidth": 0,
             "ticks": ""
            },
            "type": "choropleth"
           }
          ],
          "contour": [
           {
            "colorbar": {
             "outlinewidth": 0,
             "ticks": ""
            },
            "colorscale": [
             [
              0,
              "#0d0887"
             ],
             [
              0.1111111111111111,
              "#46039f"
             ],
             [
              0.2222222222222222,
              "#7201a8"
             ],
             [
              0.3333333333333333,
              "#9c179e"
             ],
             [
              0.4444444444444444,
              "#bd3786"
             ],
             [
              0.5555555555555556,
              "#d8576b"
             ],
             [
              0.6666666666666666,
              "#ed7953"
             ],
             [
              0.7777777777777778,
              "#fb9f3a"
             ],
             [
              0.8888888888888888,
              "#fdca26"
             ],
             [
              1,
              "#f0f921"
             ]
            ],
            "type": "contour"
           }
          ],
          "contourcarpet": [
           {
            "colorbar": {
             "outlinewidth": 0,
             "ticks": ""
            },
            "type": "contourcarpet"
           }
          ],
          "heatmap": [
           {
            "colorbar": {
             "outlinewidth": 0,
             "ticks": ""
            },
            "colorscale": [
             [
              0,
              "#0d0887"
             ],
             [
              0.1111111111111111,
              "#46039f"
             ],
             [
              0.2222222222222222,
              "#7201a8"
             ],
             [
              0.3333333333333333,
              "#9c179e"
             ],
             [
              0.4444444444444444,
              "#bd3786"
             ],
             [
              0.5555555555555556,
              "#d8576b"
             ],
             [
              0.6666666666666666,
              "#ed7953"
             ],
             [
              0.7777777777777778,
              "#fb9f3a"
             ],
             [
              0.8888888888888888,
              "#fdca26"
             ],
             [
              1,
              "#f0f921"
             ]
            ],
            "type": "heatmap"
           }
          ],
          "heatmapgl": [
           {
            "colorbar": {
             "outlinewidth": 0,
             "ticks": ""
            },
            "colorscale": [
             [
              0,
              "#0d0887"
             ],
             [
              0.1111111111111111,
              "#46039f"
             ],
             [
              0.2222222222222222,
              "#7201a8"
             ],
             [
              0.3333333333333333,
              "#9c179e"
             ],
             [
              0.4444444444444444,
              "#bd3786"
             ],
             [
              0.5555555555555556,
              "#d8576b"
             ],
             [
              0.6666666666666666,
              "#ed7953"
             ],
             [
              0.7777777777777778,
              "#fb9f3a"
             ],
             [
              0.8888888888888888,
              "#fdca26"
             ],
             [
              1,
              "#f0f921"
             ]
            ],
            "type": "heatmapgl"
           }
          ],
          "histogram": [
           {
            "marker": {
             "colorbar": {
              "outlinewidth": 0,
              "ticks": ""
             }
            },
            "type": "histogram"
           }
          ],
          "histogram2d": [
           {
            "colorbar": {
             "outlinewidth": 0,
             "ticks": ""
            },
            "colorscale": [
             [
              0,
              "#0d0887"
             ],
             [
              0.1111111111111111,
              "#46039f"
             ],
             [
              0.2222222222222222,
              "#7201a8"
             ],
             [
              0.3333333333333333,
              "#9c179e"
             ],
             [
              0.4444444444444444,
              "#bd3786"
             ],
             [
              0.5555555555555556,
              "#d8576b"
             ],
             [
              0.6666666666666666,
              "#ed7953"
             ],
             [
              0.7777777777777778,
              "#fb9f3a"
             ],
             [
              0.8888888888888888,
              "#fdca26"
             ],
             [
              1,
              "#f0f921"
             ]
            ],
            "type": "histogram2d"
           }
          ],
          "histogram2dcontour": [
           {
            "colorbar": {
             "outlinewidth": 0,
             "ticks": ""
            },
            "colorscale": [
             [
              0,
              "#0d0887"
             ],
             [
              0.1111111111111111,
              "#46039f"
             ],
             [
              0.2222222222222222,
              "#7201a8"
             ],
             [
              0.3333333333333333,
              "#9c179e"
             ],
             [
              0.4444444444444444,
              "#bd3786"
             ],
             [
              0.5555555555555556,
              "#d8576b"
             ],
             [
              0.6666666666666666,
              "#ed7953"
             ],
             [
              0.7777777777777778,
              "#fb9f3a"
             ],
             [
              0.8888888888888888,
              "#fdca26"
             ],
             [
              1,
              "#f0f921"
             ]
            ],
            "type": "histogram2dcontour"
           }
          ],
          "mesh3d": [
           {
            "colorbar": {
             "outlinewidth": 0,
             "ticks": ""
            },
            "type": "mesh3d"
           }
          ],
          "parcoords": [
           {
            "line": {
             "colorbar": {
              "outlinewidth": 0,
              "ticks": ""
             }
            },
            "type": "parcoords"
           }
          ],
          "scatter": [
           {
            "marker": {
             "colorbar": {
              "outlinewidth": 0,
              "ticks": ""
             }
            },
            "type": "scatter"
           }
          ],
          "scatter3d": [
           {
            "line": {
             "colorbar": {
              "outlinewidth": 0,
              "ticks": ""
             }
            },
            "marker": {
             "colorbar": {
              "outlinewidth": 0,
              "ticks": ""
             }
            },
            "type": "scatter3d"
           }
          ],
          "scattercarpet": [
           {
            "marker": {
             "colorbar": {
              "outlinewidth": 0,
              "ticks": ""
             }
            },
            "type": "scattercarpet"
           }
          ],
          "scattergeo": [
           {
            "marker": {
             "colorbar": {
              "outlinewidth": 0,
              "ticks": ""
             }
            },
            "type": "scattergeo"
           }
          ],
          "scattergl": [
           {
            "marker": {
             "colorbar": {
              "outlinewidth": 0,
              "ticks": ""
             }
            },
            "type": "scattergl"
           }
          ],
          "scattermapbox": [
           {
            "marker": {
             "colorbar": {
              "outlinewidth": 0,
              "ticks": ""
             }
            },
            "type": "scattermapbox"
           }
          ],
          "scatterpolar": [
           {
            "marker": {
             "colorbar": {
              "outlinewidth": 0,
              "ticks": ""
             }
            },
            "type": "scatterpolar"
           }
          ],
          "scatterpolargl": [
           {
            "marker": {
             "colorbar": {
              "outlinewidth": 0,
              "ticks": ""
             }
            },
            "type": "scatterpolargl"
           }
          ],
          "scatterternary": [
           {
            "marker": {
             "colorbar": {
              "outlinewidth": 0,
              "ticks": ""
             }
            },
            "type": "scatterternary"
           }
          ],
          "surface": [
           {
            "colorbar": {
             "outlinewidth": 0,
             "ticks": ""
            },
            "colorscale": [
             [
              0,
              "#0d0887"
             ],
             [
              0.1111111111111111,
              "#46039f"
             ],
             [
              0.2222222222222222,
              "#7201a8"
             ],
             [
              0.3333333333333333,
              "#9c179e"
             ],
             [
              0.4444444444444444,
              "#bd3786"
             ],
             [
              0.5555555555555556,
              "#d8576b"
             ],
             [
              0.6666666666666666,
              "#ed7953"
             ],
             [
              0.7777777777777778,
              "#fb9f3a"
             ],
             [
              0.8888888888888888,
              "#fdca26"
             ],
             [
              1,
              "#f0f921"
             ]
            ],
            "type": "surface"
           }
          ],
          "table": [
           {
            "cells": {
             "fill": {
              "color": "#EBF0F8"
             },
             "line": {
              "color": "white"
             }
            },
            "header": {
             "fill": {
              "color": "#C8D4E3"
             },
             "line": {
              "color": "white"
             }
            },
            "type": "table"
           }
          ]
         },
         "layout": {
          "annotationdefaults": {
           "arrowcolor": "#2a3f5f",
           "arrowhead": 0,
           "arrowwidth": 1
          },
          "colorscale": {
           "diverging": [
            [
             0,
             "#8e0152"
            ],
            [
             0.1,
             "#c51b7d"
            ],
            [
             0.2,
             "#de77ae"
            ],
            [
             0.3,
             "#f1b6da"
            ],
            [
             0.4,
             "#fde0ef"
            ],
            [
             0.5,
             "#f7f7f7"
            ],
            [
             0.6,
             "#e6f5d0"
            ],
            [
             0.7,
             "#b8e186"
            ],
            [
             0.8,
             "#7fbc41"
            ],
            [
             0.9,
             "#4d9221"
            ],
            [
             1,
             "#276419"
            ]
           ],
           "sequential": [
            [
             0,
             "#0d0887"
            ],
            [
             0.1111111111111111,
             "#46039f"
            ],
            [
             0.2222222222222222,
             "#7201a8"
            ],
            [
             0.3333333333333333,
             "#9c179e"
            ],
            [
             0.4444444444444444,
             "#bd3786"
            ],
            [
             0.5555555555555556,
             "#d8576b"
            ],
            [
             0.6666666666666666,
             "#ed7953"
            ],
            [
             0.7777777777777778,
             "#fb9f3a"
            ],
            [
             0.8888888888888888,
             "#fdca26"
            ],
            [
             1,
             "#f0f921"
            ]
           ],
           "sequentialminus": [
            [
             0,
             "#0d0887"
            ],
            [
             0.1111111111111111,
             "#46039f"
            ],
            [
             0.2222222222222222,
             "#7201a8"
            ],
            [
             0.3333333333333333,
             "#9c179e"
            ],
            [
             0.4444444444444444,
             "#bd3786"
            ],
            [
             0.5555555555555556,
             "#d8576b"
            ],
            [
             0.6666666666666666,
             "#ed7953"
            ],
            [
             0.7777777777777778,
             "#fb9f3a"
            ],
            [
             0.8888888888888888,
             "#fdca26"
            ],
            [
             1,
             "#f0f921"
            ]
           ]
          },
          "colorway": [
           "#636efa",
           "#EF553B",
           "#00cc96",
           "#ab63fa",
           "#FFA15A",
           "#19d3f3",
           "#FF6692",
           "#B6E880",
           "#FF97FF",
           "#FECB52"
          ],
          "font": {
           "color": "#2a3f5f"
          },
          "geo": {
           "bgcolor": "white",
           "lakecolor": "white",
           "landcolor": "#E5ECF6",
           "showlakes": true,
           "showland": true,
           "subunitcolor": "white"
          },
          "hoverlabel": {
           "align": "left"
          },
          "hovermode": "closest",
          "mapbox": {
           "style": "light"
          },
          "paper_bgcolor": "white",
          "plot_bgcolor": "#E5ECF6",
          "polar": {
           "angularaxis": {
            "gridcolor": "white",
            "linecolor": "white",
            "ticks": ""
           },
           "bgcolor": "#E5ECF6",
           "radialaxis": {
            "gridcolor": "white",
            "linecolor": "white",
            "ticks": ""
           }
          },
          "scene": {
           "xaxis": {
            "backgroundcolor": "#E5ECF6",
            "gridcolor": "white",
            "gridwidth": 2,
            "linecolor": "white",
            "showbackground": true,
            "ticks": "",
            "zerolinecolor": "white"
           },
           "yaxis": {
            "backgroundcolor": "#E5ECF6",
            "gridcolor": "white",
            "gridwidth": 2,
            "linecolor": "white",
            "showbackground": true,
            "ticks": "",
            "zerolinecolor": "white"
           },
           "zaxis": {
            "backgroundcolor": "#E5ECF6",
            "gridcolor": "white",
            "gridwidth": 2,
            "linecolor": "white",
            "showbackground": true,
            "ticks": "",
            "zerolinecolor": "white"
           }
          },
          "shapedefaults": {
           "line": {
            "color": "#2a3f5f"
           }
          },
          "ternary": {
           "aaxis": {
            "gridcolor": "white",
            "linecolor": "white",
            "ticks": ""
           },
           "baxis": {
            "gridcolor": "white",
            "linecolor": "white",
            "ticks": ""
           },
           "bgcolor": "#E5ECF6",
           "caxis": {
            "gridcolor": "white",
            "linecolor": "white",
            "ticks": ""
           }
          },
          "title": {
           "x": 0.05
          },
          "xaxis": {
           "automargin": true,
           "gridcolor": "white",
           "linecolor": "white",
           "ticks": "",
           "zerolinecolor": "white",
           "zerolinewidth": 2
          },
          "yaxis": {
           "automargin": true,
           "gridcolor": "white",
           "linecolor": "white",
           "ticks": "",
           "zerolinecolor": "white",
           "zerolinewidth": 2
          }
         }
        }
       }
      },
      "text/html": [
       "<div>\n",
       "        \n",
       "        \n",
       "            <div id=\"6683299b-1198-4d5d-9d56-09606c3bd78d\" class=\"plotly-graph-div\" style=\"height:525px; width:100%;\"></div>\n",
       "            <script type=\"text/javascript\">\n",
       "                require([\"plotly\"], function(Plotly) {\n",
       "                    window.PLOTLYENV=window.PLOTLYENV || {};\n",
       "                    \n",
       "                if (document.getElementById(\"6683299b-1198-4d5d-9d56-09606c3bd78d\")) {\n",
       "                    Plotly.newPlot(\n",
       "                        '6683299b-1198-4d5d-9d56-09606c3bd78d',\n",
       "                        [{\"hoverinfo\": \"label+percent\", \"labels\": [\"rent\", \"food\", \"bills\", \"Min\"], \"textinfo\": \"value\", \"type\": \"pie\", \"values\": [1000, 518, 331, 277]}],\n",
       "                        {\"template\": {\"data\": {\"bar\": [{\"error_x\": {\"color\": \"#2a3f5f\"}, \"error_y\": {\"color\": \"#2a3f5f\"}, \"marker\": {\"line\": {\"color\": \"#E5ECF6\", \"width\": 0.5}}, \"type\": \"bar\"}], \"barpolar\": [{\"marker\": {\"line\": {\"color\": \"#E5ECF6\", \"width\": 0.5}}, \"type\": \"barpolar\"}], \"carpet\": [{\"aaxis\": {\"endlinecolor\": \"#2a3f5f\", \"gridcolor\": \"white\", \"linecolor\": \"white\", \"minorgridcolor\": \"white\", \"startlinecolor\": \"#2a3f5f\"}, \"baxis\": {\"endlinecolor\": \"#2a3f5f\", \"gridcolor\": \"white\", \"linecolor\": \"white\", \"minorgridcolor\": \"white\", \"startlinecolor\": \"#2a3f5f\"}, \"type\": \"carpet\"}], \"choropleth\": [{\"colorbar\": {\"outlinewidth\": 0, \"ticks\": \"\"}, \"type\": \"choropleth\"}], \"contour\": [{\"colorbar\": {\"outlinewidth\": 0, \"ticks\": \"\"}, \"colorscale\": [[0.0, \"#0d0887\"], [0.1111111111111111, \"#46039f\"], [0.2222222222222222, \"#7201a8\"], [0.3333333333333333, \"#9c179e\"], [0.4444444444444444, \"#bd3786\"], [0.5555555555555556, \"#d8576b\"], [0.6666666666666666, \"#ed7953\"], [0.7777777777777778, \"#fb9f3a\"], [0.8888888888888888, \"#fdca26\"], [1.0, \"#f0f921\"]], \"type\": \"contour\"}], \"contourcarpet\": [{\"colorbar\": {\"outlinewidth\": 0, \"ticks\": \"\"}, \"type\": \"contourcarpet\"}], \"heatmap\": [{\"colorbar\": {\"outlinewidth\": 0, \"ticks\": \"\"}, \"colorscale\": [[0.0, \"#0d0887\"], [0.1111111111111111, \"#46039f\"], [0.2222222222222222, \"#7201a8\"], [0.3333333333333333, \"#9c179e\"], [0.4444444444444444, \"#bd3786\"], [0.5555555555555556, \"#d8576b\"], [0.6666666666666666, \"#ed7953\"], [0.7777777777777778, \"#fb9f3a\"], [0.8888888888888888, \"#fdca26\"], [1.0, \"#f0f921\"]], \"type\": \"heatmap\"}], \"heatmapgl\": [{\"colorbar\": {\"outlinewidth\": 0, \"ticks\": \"\"}, \"colorscale\": [[0.0, \"#0d0887\"], [0.1111111111111111, \"#46039f\"], [0.2222222222222222, \"#7201a8\"], [0.3333333333333333, \"#9c179e\"], [0.4444444444444444, \"#bd3786\"], [0.5555555555555556, \"#d8576b\"], [0.6666666666666666, \"#ed7953\"], [0.7777777777777778, \"#fb9f3a\"], [0.8888888888888888, \"#fdca26\"], [1.0, \"#f0f921\"]], \"type\": \"heatmapgl\"}], \"histogram\": [{\"marker\": {\"colorbar\": {\"outlinewidth\": 0, \"ticks\": \"\"}}, \"type\": \"histogram\"}], \"histogram2d\": [{\"colorbar\": {\"outlinewidth\": 0, \"ticks\": \"\"}, \"colorscale\": [[0.0, \"#0d0887\"], [0.1111111111111111, \"#46039f\"], [0.2222222222222222, \"#7201a8\"], [0.3333333333333333, \"#9c179e\"], [0.4444444444444444, \"#bd3786\"], [0.5555555555555556, \"#d8576b\"], [0.6666666666666666, \"#ed7953\"], [0.7777777777777778, \"#fb9f3a\"], [0.8888888888888888, \"#fdca26\"], [1.0, \"#f0f921\"]], \"type\": \"histogram2d\"}], \"histogram2dcontour\": [{\"colorbar\": {\"outlinewidth\": 0, \"ticks\": \"\"}, \"colorscale\": [[0.0, \"#0d0887\"], [0.1111111111111111, \"#46039f\"], [0.2222222222222222, \"#7201a8\"], [0.3333333333333333, \"#9c179e\"], [0.4444444444444444, \"#bd3786\"], [0.5555555555555556, \"#d8576b\"], [0.6666666666666666, \"#ed7953\"], [0.7777777777777778, \"#fb9f3a\"], [0.8888888888888888, \"#fdca26\"], [1.0, \"#f0f921\"]], \"type\": \"histogram2dcontour\"}], \"mesh3d\": [{\"colorbar\": {\"outlinewidth\": 0, \"ticks\": \"\"}, \"type\": \"mesh3d\"}], \"parcoords\": [{\"line\": {\"colorbar\": {\"outlinewidth\": 0, \"ticks\": \"\"}}, \"type\": \"parcoords\"}], \"scatter\": [{\"marker\": {\"colorbar\": {\"outlinewidth\": 0, \"ticks\": \"\"}}, \"type\": \"scatter\"}], \"scatter3d\": [{\"line\": {\"colorbar\": {\"outlinewidth\": 0, \"ticks\": \"\"}}, \"marker\": {\"colorbar\": {\"outlinewidth\": 0, \"ticks\": \"\"}}, \"type\": \"scatter3d\"}], \"scattercarpet\": [{\"marker\": {\"colorbar\": {\"outlinewidth\": 0, \"ticks\": \"\"}}, \"type\": \"scattercarpet\"}], \"scattergeo\": [{\"marker\": {\"colorbar\": {\"outlinewidth\": 0, \"ticks\": \"\"}}, \"type\": \"scattergeo\"}], \"scattergl\": [{\"marker\": {\"colorbar\": {\"outlinewidth\": 0, \"ticks\": \"\"}}, \"type\": \"scattergl\"}], \"scattermapbox\": [{\"marker\": {\"colorbar\": {\"outlinewidth\": 0, \"ticks\": \"\"}}, \"type\": \"scattermapbox\"}], \"scatterpolar\": [{\"marker\": {\"colorbar\": {\"outlinewidth\": 0, \"ticks\": \"\"}}, \"type\": \"scatterpolar\"}], \"scatterpolargl\": [{\"marker\": {\"colorbar\": {\"outlinewidth\": 0, \"ticks\": \"\"}}, \"type\": \"scatterpolargl\"}], \"scatterternary\": [{\"marker\": {\"colorbar\": {\"outlinewidth\": 0, \"ticks\": \"\"}}, \"type\": \"scatterternary\"}], \"surface\": [{\"colorbar\": {\"outlinewidth\": 0, \"ticks\": \"\"}, \"colorscale\": [[0.0, \"#0d0887\"], [0.1111111111111111, \"#46039f\"], [0.2222222222222222, \"#7201a8\"], [0.3333333333333333, \"#9c179e\"], [0.4444444444444444, \"#bd3786\"], [0.5555555555555556, \"#d8576b\"], [0.6666666666666666, \"#ed7953\"], [0.7777777777777778, \"#fb9f3a\"], [0.8888888888888888, \"#fdca26\"], [1.0, \"#f0f921\"]], \"type\": \"surface\"}], \"table\": [{\"cells\": {\"fill\": {\"color\": \"#EBF0F8\"}, \"line\": {\"color\": \"white\"}}, \"header\": {\"fill\": {\"color\": \"#C8D4E3\"}, \"line\": {\"color\": \"white\"}}, \"type\": \"table\"}]}, \"layout\": {\"annotationdefaults\": {\"arrowcolor\": \"#2a3f5f\", \"arrowhead\": 0, \"arrowwidth\": 1}, \"colorscale\": {\"diverging\": [[0, \"#8e0152\"], [0.1, \"#c51b7d\"], [0.2, \"#de77ae\"], [0.3, \"#f1b6da\"], [0.4, \"#fde0ef\"], [0.5, \"#f7f7f7\"], [0.6, \"#e6f5d0\"], [0.7, \"#b8e186\"], [0.8, \"#7fbc41\"], [0.9, \"#4d9221\"], [1, \"#276419\"]], \"sequential\": [[0.0, \"#0d0887\"], [0.1111111111111111, \"#46039f\"], [0.2222222222222222, \"#7201a8\"], [0.3333333333333333, \"#9c179e\"], [0.4444444444444444, \"#bd3786\"], [0.5555555555555556, \"#d8576b\"], [0.6666666666666666, \"#ed7953\"], [0.7777777777777778, \"#fb9f3a\"], [0.8888888888888888, \"#fdca26\"], [1.0, \"#f0f921\"]], \"sequentialminus\": [[0.0, \"#0d0887\"], [0.1111111111111111, \"#46039f\"], [0.2222222222222222, \"#7201a8\"], [0.3333333333333333, \"#9c179e\"], [0.4444444444444444, \"#bd3786\"], [0.5555555555555556, \"#d8576b\"], [0.6666666666666666, \"#ed7953\"], [0.7777777777777778, \"#fb9f3a\"], [0.8888888888888888, \"#fdca26\"], [1.0, \"#f0f921\"]]}, \"colorway\": [\"#636efa\", \"#EF553B\", \"#00cc96\", \"#ab63fa\", \"#FFA15A\", \"#19d3f3\", \"#FF6692\", \"#B6E880\", \"#FF97FF\", \"#FECB52\"], \"font\": {\"color\": \"#2a3f5f\"}, \"geo\": {\"bgcolor\": \"white\", \"lakecolor\": \"white\", \"landcolor\": \"#E5ECF6\", \"showlakes\": true, \"showland\": true, \"subunitcolor\": \"white\"}, \"hoverlabel\": {\"align\": \"left\"}, \"hovermode\": \"closest\", \"mapbox\": {\"style\": \"light\"}, \"paper_bgcolor\": \"white\", \"plot_bgcolor\": \"#E5ECF6\", \"polar\": {\"angularaxis\": {\"gridcolor\": \"white\", \"linecolor\": \"white\", \"ticks\": \"\"}, \"bgcolor\": \"#E5ECF6\", \"radialaxis\": {\"gridcolor\": \"white\", \"linecolor\": \"white\", \"ticks\": \"\"}}, \"scene\": {\"xaxis\": {\"backgroundcolor\": \"#E5ECF6\", \"gridcolor\": \"white\", \"gridwidth\": 2, \"linecolor\": \"white\", \"showbackground\": true, \"ticks\": \"\", \"zerolinecolor\": \"white\"}, \"yaxis\": {\"backgroundcolor\": \"#E5ECF6\", \"gridcolor\": \"white\", \"gridwidth\": 2, \"linecolor\": \"white\", \"showbackground\": true, \"ticks\": \"\", \"zerolinecolor\": \"white\"}, \"zaxis\": {\"backgroundcolor\": \"#E5ECF6\", \"gridcolor\": \"white\", \"gridwidth\": 2, \"linecolor\": \"white\", \"showbackground\": true, \"ticks\": \"\", \"zerolinecolor\": \"white\"}}, \"shapedefaults\": {\"line\": {\"color\": \"#2a3f5f\"}}, \"ternary\": {\"aaxis\": {\"gridcolor\": \"white\", \"linecolor\": \"white\", \"ticks\": \"\"}, \"baxis\": {\"gridcolor\": \"white\", \"linecolor\": \"white\", \"ticks\": \"\"}, \"bgcolor\": \"#E5ECF6\", \"caxis\": {\"gridcolor\": \"white\", \"linecolor\": \"white\", \"ticks\": \"\"}}, \"title\": {\"x\": 0.05}, \"xaxis\": {\"automargin\": true, \"gridcolor\": \"white\", \"linecolor\": \"white\", \"ticks\": \"\", \"zerolinecolor\": \"white\", \"zerolinewidth\": 2}, \"yaxis\": {\"automargin\": true, \"gridcolor\": \"white\", \"linecolor\": \"white\", \"ticks\": \"\", \"zerolinecolor\": \"white\", \"zerolinewidth\": 2}}}},\n",
       "                        {\"responsive\": true}\n",
       "                    ).then(function(){\n",
       "                            \n",
       "var gd = document.getElementById('6683299b-1198-4d5d-9d56-09606c3bd78d');\n",
       "var x = new MutationObserver(function (mutations, observer) {{\n",
       "        var display = window.getComputedStyle(gd).display;\n",
       "        if (!display || display === 'none') {{\n",
       "            console.log([gd, 'removed!']);\n",
       "            Plotly.purge(gd);\n",
       "            observer.disconnect();\n",
       "        }}\n",
       "}});\n",
       "\n",
       "// Listen for the removal of the full notebook cells\n",
       "var notebookContainer = gd.closest('#notebook-container');\n",
       "if (notebookContainer) {{\n",
       "    x.observe(notebookContainer, {childList: true});\n",
       "}}\n",
       "\n",
       "// Listen for the clearing of the current output cell\n",
       "var outputEl = gd.closest('.output');\n",
       "if (outputEl) {{\n",
       "    x.observe(outputEl, {childList: true});\n",
       "}}\n",
       "\n",
       "                        })\n",
       "                };\n",
       "                });\n",
       "            </script>\n",
       "        </div>"
      ]
     },
     "metadata": {},
     "output_type": "display_data"
    }
   ],
   "source": [
    "#Pie chart\n",
    "groups = ['rent','food','bills','Min']\n",
    "amount = [1000,518,331,277]\n",
    "colors =['#ed0c5b','#17ed0c','#17ed0c','#17ed0c']\n",
    "\n",
    "trace = go.Pie(labels=groups,values=amount,\n",
    "               textinfo='value',\n",
    "              hoverinfo='label+percent') \n",
    "\n",
    "iplot([trace])"
   ]
  },
  {
   "cell_type": "code",
   "execution_count": 11,
   "metadata": {},
   "outputs": [],
   "source": [
    "import pandas as pd\n",
    "\n",
    "pubg = pd.read_csv('C:/Users/Siyam/Desktop/plotly/2.Custom-Data-Python-Code/P48-Custom-Data-PUBG.csv')"
   ]
  },
  {
   "cell_type": "code",
   "execution_count": 12,
   "metadata": {
    "scrolled": true
   },
   "outputs": [
    {
     "data": {
      "text/html": [
       "<div>\n",
       "<style scoped>\n",
       "    .dataframe tbody tr th:only-of-type {\n",
       "        vertical-align: middle;\n",
       "    }\n",
       "\n",
       "    .dataframe tbody tr th {\n",
       "        vertical-align: top;\n",
       "    }\n",
       "\n",
       "    .dataframe thead th {\n",
       "        text-align: right;\n",
       "    }\n",
       "</style>\n",
       "<table border=\"1\" class=\"dataframe\">\n",
       "  <thead>\n",
       "    <tr style=\"text-align: right;\">\n",
       "      <th></th>\n",
       "      <th>player_name</th>\n",
       "      <th>tracker_id</th>\n",
       "      <th>solo_KillDeathRatio</th>\n",
       "      <th>solo_WinRatio</th>\n",
       "      <th>solo_TimeSurvived</th>\n",
       "      <th>solo_RoundsPlayed</th>\n",
       "      <th>solo_Wins</th>\n",
       "      <th>solo_WinTop10Ratio</th>\n",
       "      <th>solo_Top10s</th>\n",
       "      <th>solo_Top10Ratio</th>\n",
       "      <th>...</th>\n",
       "      <th>squad_RideDistance</th>\n",
       "      <th>squad_MoveDistance</th>\n",
       "      <th>squad_AvgWalkDistance</th>\n",
       "      <th>squad_AvgRideDistance</th>\n",
       "      <th>squad_LongestKill</th>\n",
       "      <th>squad_Heals</th>\n",
       "      <th>squad_Revives</th>\n",
       "      <th>squad_Boosts</th>\n",
       "      <th>squad_DamageDealt</th>\n",
       "      <th>squad_DBNOs</th>\n",
       "    </tr>\n",
       "  </thead>\n",
       "  <tbody>\n",
       "    <tr>\n",
       "      <td>0</td>\n",
       "      <td>BreakNeck</td>\n",
       "      <td>4405</td>\n",
       "      <td>3.14</td>\n",
       "      <td>17.65</td>\n",
       "      <td>18469.14</td>\n",
       "      <td>17</td>\n",
       "      <td>3</td>\n",
       "      <td>0.83</td>\n",
       "      <td>4</td>\n",
       "      <td>23.5</td>\n",
       "      <td>...</td>\n",
       "      <td>3751590.99</td>\n",
       "      <td>5194786.58</td>\n",
       "      <td>2626.97</td>\n",
       "      <td>4372.64</td>\n",
       "      <td>536.98</td>\n",
       "      <td>2186</td>\n",
       "      <td>234</td>\n",
       "      <td>1884</td>\n",
       "      <td>242132.73</td>\n",
       "      <td>1448</td>\n",
       "    </tr>\n",
       "    <tr>\n",
       "      <td>1</td>\n",
       "      <td>Blackwalk</td>\n",
       "      <td>8199</td>\n",
       "      <td>4.41</td>\n",
       "      <td>18.18</td>\n",
       "      <td>33014.86</td>\n",
       "      <td>33</td>\n",
       "      <td>6</td>\n",
       "      <td>0.36</td>\n",
       "      <td>11</td>\n",
       "      <td>33.3</td>\n",
       "      <td>...</td>\n",
       "      <td>4295917.30</td>\n",
       "      <td>6051783.67</td>\n",
       "      <td>2422.48</td>\n",
       "      <td>6009.73</td>\n",
       "      <td>734.85</td>\n",
       "      <td>2041</td>\n",
       "      <td>276</td>\n",
       "      <td>2340</td>\n",
       "      <td>269795.75</td>\n",
       "      <td>1724</td>\n",
       "    </tr>\n",
       "    <tr>\n",
       "      <td>2</td>\n",
       "      <td>mercedes_benz</td>\n",
       "      <td>4454</td>\n",
       "      <td>3.60</td>\n",
       "      <td>0.00</td>\n",
       "      <td>4330.44</td>\n",
       "      <td>5</td>\n",
       "      <td>0</td>\n",
       "      <td>0.00</td>\n",
       "      <td>1</td>\n",
       "      <td>20.0</td>\n",
       "      <td>...</td>\n",
       "      <td>3935265.63</td>\n",
       "      <td>5589608.74</td>\n",
       "      <td>1871.89</td>\n",
       "      <td>3011.87</td>\n",
       "      <td>725.44</td>\n",
       "      <td>1766</td>\n",
       "      <td>210</td>\n",
       "      <td>2193</td>\n",
       "      <td>292977.07</td>\n",
       "      <td>1897</td>\n",
       "    </tr>\n",
       "    <tr>\n",
       "      <td>3</td>\n",
       "      <td>DORA</td>\n",
       "      <td>7729</td>\n",
       "      <td>14.00</td>\n",
       "      <td>50.00</td>\n",
       "      <td>13421.82</td>\n",
       "      <td>8</td>\n",
       "      <td>4</td>\n",
       "      <td>0.67</td>\n",
       "      <td>6</td>\n",
       "      <td>75.0</td>\n",
       "      <td>...</td>\n",
       "      <td>2738998.00</td>\n",
       "      <td>3796916.00</td>\n",
       "      <td>2154.62</td>\n",
       "      <td>5578.41</td>\n",
       "      <td>587.28</td>\n",
       "      <td>1214</td>\n",
       "      <td>142</td>\n",
       "      <td>1252</td>\n",
       "      <td>181106.90</td>\n",
       "      <td>1057</td>\n",
       "    </tr>\n",
       "    <tr>\n",
       "      <td>4</td>\n",
       "      <td>n2tstar</td>\n",
       "      <td>0</td>\n",
       "      <td>10.50</td>\n",
       "      <td>33.33</td>\n",
       "      <td>9841.04</td>\n",
       "      <td>6</td>\n",
       "      <td>2</td>\n",
       "      <td>0.40</td>\n",
       "      <td>5</td>\n",
       "      <td>83.3</td>\n",
       "      <td>...</td>\n",
       "      <td>2347295.00</td>\n",
       "      <td>3220260.00</td>\n",
       "      <td>2098.47</td>\n",
       "      <td>5642.54</td>\n",
       "      <td>546.10</td>\n",
       "      <td>1245</td>\n",
       "      <td>120</td>\n",
       "      <td>923</td>\n",
       "      <td>160029.80</td>\n",
       "      <td>1077</td>\n",
       "    </tr>\n",
       "    <tr>\n",
       "      <td>5</td>\n",
       "      <td>coldoxygen</td>\n",
       "      <td>33313</td>\n",
       "      <td>5.73</td>\n",
       "      <td>31.25</td>\n",
       "      <td>22003.22</td>\n",
       "      <td>16</td>\n",
       "      <td>5</td>\n",
       "      <td>0.50</td>\n",
       "      <td>10</td>\n",
       "      <td>62.5</td>\n",
       "      <td>...</td>\n",
       "      <td>3218436.00</td>\n",
       "      <td>4733977.00</td>\n",
       "      <td>2078.93</td>\n",
       "      <td>4414.86</td>\n",
       "      <td>1212.76</td>\n",
       "      <td>2023</td>\n",
       "      <td>195</td>\n",
       "      <td>2307</td>\n",
       "      <td>238640.00</td>\n",
       "      <td>1450</td>\n",
       "    </tr>\n",
       "    <tr>\n",
       "      <td>6</td>\n",
       "      <td>Giken</td>\n",
       "      <td>15585</td>\n",
       "      <td>2.45</td>\n",
       "      <td>8.45</td>\n",
       "      <td>148051.25</td>\n",
       "      <td>142</td>\n",
       "      <td>12</td>\n",
       "      <td>0.18</td>\n",
       "      <td>34</td>\n",
       "      <td>23.9</td>\n",
       "      <td>...</td>\n",
       "      <td>2057423.12</td>\n",
       "      <td>2883099.31</td>\n",
       "      <td>1664.77</td>\n",
       "      <td>3022.51</td>\n",
       "      <td>564.20</td>\n",
       "      <td>1274</td>\n",
       "      <td>133</td>\n",
       "      <td>1320</td>\n",
       "      <td>132008.88</td>\n",
       "      <td>775</td>\n",
       "    </tr>\n",
       "    <tr>\n",
       "      <td>7</td>\n",
       "      <td>KoreaNo1</td>\n",
       "      <td>9454</td>\n",
       "      <td>2.71</td>\n",
       "      <td>26.32</td>\n",
       "      <td>26091.14</td>\n",
       "      <td>19</td>\n",
       "      <td>5</td>\n",
       "      <td>0.50</td>\n",
       "      <td>10</td>\n",
       "      <td>52.6</td>\n",
       "      <td>...</td>\n",
       "      <td>3586593.00</td>\n",
       "      <td>4854387.00</td>\n",
       "      <td>1635.86</td>\n",
       "      <td>4627.86</td>\n",
       "      <td>806.24</td>\n",
       "      <td>2199</td>\n",
       "      <td>163</td>\n",
       "      <td>1864</td>\n",
       "      <td>201659.00</td>\n",
       "      <td>1287</td>\n",
       "    </tr>\n",
       "    <tr>\n",
       "      <td>8</td>\n",
       "      <td>undor</td>\n",
       "      <td>24029</td>\n",
       "      <td>3.68</td>\n",
       "      <td>13.64</td>\n",
       "      <td>49282.41</td>\n",
       "      <td>44</td>\n",
       "      <td>6</td>\n",
       "      <td>0.23</td>\n",
       "      <td>13</td>\n",
       "      <td>29.5</td>\n",
       "      <td>...</td>\n",
       "      <td>1054263.00</td>\n",
       "      <td>1550975.00</td>\n",
       "      <td>2207.61</td>\n",
       "      <td>4685.61</td>\n",
       "      <td>455.67</td>\n",
       "      <td>617</td>\n",
       "      <td>61</td>\n",
       "      <td>585</td>\n",
       "      <td>80498.73</td>\n",
       "      <td>513</td>\n",
       "    </tr>\n",
       "    <tr>\n",
       "      <td>9</td>\n",
       "      <td>Fordune</td>\n",
       "      <td>11289</td>\n",
       "      <td>4.17</td>\n",
       "      <td>25.00</td>\n",
       "      <td>10280.77</td>\n",
       "      <td>8</td>\n",
       "      <td>2</td>\n",
       "      <td>0.25</td>\n",
       "      <td>4</td>\n",
       "      <td>50.0</td>\n",
       "      <td>...</td>\n",
       "      <td>2793909.91</td>\n",
       "      <td>4071039.87</td>\n",
       "      <td>1981.29</td>\n",
       "      <td>3635.28</td>\n",
       "      <td>546.95</td>\n",
       "      <td>1320</td>\n",
       "      <td>220</td>\n",
       "      <td>1338</td>\n",
       "      <td>123573.74</td>\n",
       "      <td>675</td>\n",
       "    </tr>\n",
       "  </tbody>\n",
       "</table>\n",
       "<p>10 rows × 152 columns</p>\n",
       "</div>"
      ],
      "text/plain": [
       "     player_name  tracker_id  solo_KillDeathRatio  solo_WinRatio  \\\n",
       "0      BreakNeck        4405                 3.14          17.65   \n",
       "1      Blackwalk        8199                 4.41          18.18   \n",
       "2  mercedes_benz        4454                 3.60           0.00   \n",
       "3           DORA        7729                14.00          50.00   \n",
       "4        n2tstar           0                10.50          33.33   \n",
       "5     coldoxygen       33313                 5.73          31.25   \n",
       "6          Giken       15585                 2.45           8.45   \n",
       "7       KoreaNo1        9454                 2.71          26.32   \n",
       "8          undor       24029                 3.68          13.64   \n",
       "9        Fordune       11289                 4.17          25.00   \n",
       "\n",
       "   solo_TimeSurvived  solo_RoundsPlayed  solo_Wins  solo_WinTop10Ratio  \\\n",
       "0           18469.14                 17          3                0.83   \n",
       "1           33014.86                 33          6                0.36   \n",
       "2            4330.44                  5          0                0.00   \n",
       "3           13421.82                  8          4                0.67   \n",
       "4            9841.04                  6          2                0.40   \n",
       "5           22003.22                 16          5                0.50   \n",
       "6          148051.25                142         12                0.18   \n",
       "7           26091.14                 19          5                0.50   \n",
       "8           49282.41                 44          6                0.23   \n",
       "9           10280.77                  8          2                0.25   \n",
       "\n",
       "   solo_Top10s  solo_Top10Ratio  ...  squad_RideDistance  squad_MoveDistance  \\\n",
       "0            4             23.5  ...          3751590.99          5194786.58   \n",
       "1           11             33.3  ...          4295917.30          6051783.67   \n",
       "2            1             20.0  ...          3935265.63          5589608.74   \n",
       "3            6             75.0  ...          2738998.00          3796916.00   \n",
       "4            5             83.3  ...          2347295.00          3220260.00   \n",
       "5           10             62.5  ...          3218436.00          4733977.00   \n",
       "6           34             23.9  ...          2057423.12          2883099.31   \n",
       "7           10             52.6  ...          3586593.00          4854387.00   \n",
       "8           13             29.5  ...          1054263.00          1550975.00   \n",
       "9            4             50.0  ...          2793909.91          4071039.87   \n",
       "\n",
       "   squad_AvgWalkDistance  squad_AvgRideDistance  squad_LongestKill  \\\n",
       "0                2626.97                4372.64             536.98   \n",
       "1                2422.48                6009.73             734.85   \n",
       "2                1871.89                3011.87             725.44   \n",
       "3                2154.62                5578.41             587.28   \n",
       "4                2098.47                5642.54             546.10   \n",
       "5                2078.93                4414.86            1212.76   \n",
       "6                1664.77                3022.51             564.20   \n",
       "7                1635.86                4627.86             806.24   \n",
       "8                2207.61                4685.61             455.67   \n",
       "9                1981.29                3635.28             546.95   \n",
       "\n",
       "   squad_Heals  squad_Revives  squad_Boosts  squad_DamageDealt  squad_DBNOs  \n",
       "0         2186            234          1884          242132.73         1448  \n",
       "1         2041            276          2340          269795.75         1724  \n",
       "2         1766            210          2193          292977.07         1897  \n",
       "3         1214            142          1252          181106.90         1057  \n",
       "4         1245            120           923          160029.80         1077  \n",
       "5         2023            195          2307          238640.00         1450  \n",
       "6         1274            133          1320          132008.88          775  \n",
       "7         2199            163          1864          201659.00         1287  \n",
       "8          617             61           585           80498.73          513  \n",
       "9         1320            220          1338          123573.74          675  \n",
       "\n",
       "[10 rows x 152 columns]"
      ]
     },
     "execution_count": 12,
     "metadata": {},
     "output_type": "execute_result"
    }
   ],
   "source": [
    "pubg.head(10)"
   ]
  },
  {
   "cell_type": "code",
   "execution_count": 13,
   "metadata": {},
   "outputs": [],
   "source": [
    "df_pubg = pubg.apply(pd.to_numeric,errors='ignore')\n",
    "df_new_pubg = df_pubg.head(10)"
   ]
  },
  {
   "cell_type": "code",
   "execution_count": 14,
   "metadata": {},
   "outputs": [
    {
     "data": {
      "application/vnd.plotly.v1+json": {
       "config": {
        "linkText": "Export to plot.ly",
        "plotlyServerURL": "https://plot.ly",
        "showLink": false
       },
       "data": [
        {
         "name": "Round Won",
         "type": "scatter",
         "x": [
          17,
          33,
          5,
          8,
          6,
          16,
          142,
          19,
          44,
          8
         ],
         "y": [
          3,
          6,
          0,
          4,
          2,
          5,
          12,
          5,
          6,
          2
         ]
        }
       ],
       "layout": {
        "showlegend": true,
        "template": {
         "data": {
          "bar": [
           {
            "error_x": {
             "color": "#2a3f5f"
            },
            "error_y": {
             "color": "#2a3f5f"
            },
            "marker": {
             "line": {
              "color": "#E5ECF6",
              "width": 0.5
             }
            },
            "type": "bar"
           }
          ],
          "barpolar": [
           {
            "marker": {
             "line": {
              "color": "#E5ECF6",
              "width": 0.5
             }
            },
            "type": "barpolar"
           }
          ],
          "carpet": [
           {
            "aaxis": {
             "endlinecolor": "#2a3f5f",
             "gridcolor": "white",
             "linecolor": "white",
             "minorgridcolor": "white",
             "startlinecolor": "#2a3f5f"
            },
            "baxis": {
             "endlinecolor": "#2a3f5f",
             "gridcolor": "white",
             "linecolor": "white",
             "minorgridcolor": "white",
             "startlinecolor": "#2a3f5f"
            },
            "type": "carpet"
           }
          ],
          "choropleth": [
           {
            "colorbar": {
             "outlinewidth": 0,
             "ticks": ""
            },
            "type": "choropleth"
           }
          ],
          "contour": [
           {
            "colorbar": {
             "outlinewidth": 0,
             "ticks": ""
            },
            "colorscale": [
             [
              0,
              "#0d0887"
             ],
             [
              0.1111111111111111,
              "#46039f"
             ],
             [
              0.2222222222222222,
              "#7201a8"
             ],
             [
              0.3333333333333333,
              "#9c179e"
             ],
             [
              0.4444444444444444,
              "#bd3786"
             ],
             [
              0.5555555555555556,
              "#d8576b"
             ],
             [
              0.6666666666666666,
              "#ed7953"
             ],
             [
              0.7777777777777778,
              "#fb9f3a"
             ],
             [
              0.8888888888888888,
              "#fdca26"
             ],
             [
              1,
              "#f0f921"
             ]
            ],
            "type": "contour"
           }
          ],
          "contourcarpet": [
           {
            "colorbar": {
             "outlinewidth": 0,
             "ticks": ""
            },
            "type": "contourcarpet"
           }
          ],
          "heatmap": [
           {
            "colorbar": {
             "outlinewidth": 0,
             "ticks": ""
            },
            "colorscale": [
             [
              0,
              "#0d0887"
             ],
             [
              0.1111111111111111,
              "#46039f"
             ],
             [
              0.2222222222222222,
              "#7201a8"
             ],
             [
              0.3333333333333333,
              "#9c179e"
             ],
             [
              0.4444444444444444,
              "#bd3786"
             ],
             [
              0.5555555555555556,
              "#d8576b"
             ],
             [
              0.6666666666666666,
              "#ed7953"
             ],
             [
              0.7777777777777778,
              "#fb9f3a"
             ],
             [
              0.8888888888888888,
              "#fdca26"
             ],
             [
              1,
              "#f0f921"
             ]
            ],
            "type": "heatmap"
           }
          ],
          "heatmapgl": [
           {
            "colorbar": {
             "outlinewidth": 0,
             "ticks": ""
            },
            "colorscale": [
             [
              0,
              "#0d0887"
             ],
             [
              0.1111111111111111,
              "#46039f"
             ],
             [
              0.2222222222222222,
              "#7201a8"
             ],
             [
              0.3333333333333333,
              "#9c179e"
             ],
             [
              0.4444444444444444,
              "#bd3786"
             ],
             [
              0.5555555555555556,
              "#d8576b"
             ],
             [
              0.6666666666666666,
              "#ed7953"
             ],
             [
              0.7777777777777778,
              "#fb9f3a"
             ],
             [
              0.8888888888888888,
              "#fdca26"
             ],
             [
              1,
              "#f0f921"
             ]
            ],
            "type": "heatmapgl"
           }
          ],
          "histogram": [
           {
            "marker": {
             "colorbar": {
              "outlinewidth": 0,
              "ticks": ""
             }
            },
            "type": "histogram"
           }
          ],
          "histogram2d": [
           {
            "colorbar": {
             "outlinewidth": 0,
             "ticks": ""
            },
            "colorscale": [
             [
              0,
              "#0d0887"
             ],
             [
              0.1111111111111111,
              "#46039f"
             ],
             [
              0.2222222222222222,
              "#7201a8"
             ],
             [
              0.3333333333333333,
              "#9c179e"
             ],
             [
              0.4444444444444444,
              "#bd3786"
             ],
             [
              0.5555555555555556,
              "#d8576b"
             ],
             [
              0.6666666666666666,
              "#ed7953"
             ],
             [
              0.7777777777777778,
              "#fb9f3a"
             ],
             [
              0.8888888888888888,
              "#fdca26"
             ],
             [
              1,
              "#f0f921"
             ]
            ],
            "type": "histogram2d"
           }
          ],
          "histogram2dcontour": [
           {
            "colorbar": {
             "outlinewidth": 0,
             "ticks": ""
            },
            "colorscale": [
             [
              0,
              "#0d0887"
             ],
             [
              0.1111111111111111,
              "#46039f"
             ],
             [
              0.2222222222222222,
              "#7201a8"
             ],
             [
              0.3333333333333333,
              "#9c179e"
             ],
             [
              0.4444444444444444,
              "#bd3786"
             ],
             [
              0.5555555555555556,
              "#d8576b"
             ],
             [
              0.6666666666666666,
              "#ed7953"
             ],
             [
              0.7777777777777778,
              "#fb9f3a"
             ],
             [
              0.8888888888888888,
              "#fdca26"
             ],
             [
              1,
              "#f0f921"
             ]
            ],
            "type": "histogram2dcontour"
           }
          ],
          "mesh3d": [
           {
            "colorbar": {
             "outlinewidth": 0,
             "ticks": ""
            },
            "type": "mesh3d"
           }
          ],
          "parcoords": [
           {
            "line": {
             "colorbar": {
              "outlinewidth": 0,
              "ticks": ""
             }
            },
            "type": "parcoords"
           }
          ],
          "scatter": [
           {
            "marker": {
             "colorbar": {
              "outlinewidth": 0,
              "ticks": ""
             }
            },
            "type": "scatter"
           }
          ],
          "scatter3d": [
           {
            "line": {
             "colorbar": {
              "outlinewidth": 0,
              "ticks": ""
             }
            },
            "marker": {
             "colorbar": {
              "outlinewidth": 0,
              "ticks": ""
             }
            },
            "type": "scatter3d"
           }
          ],
          "scattercarpet": [
           {
            "marker": {
             "colorbar": {
              "outlinewidth": 0,
              "ticks": ""
             }
            },
            "type": "scattercarpet"
           }
          ],
          "scattergeo": [
           {
            "marker": {
             "colorbar": {
              "outlinewidth": 0,
              "ticks": ""
             }
            },
            "type": "scattergeo"
           }
          ],
          "scattergl": [
           {
            "marker": {
             "colorbar": {
              "outlinewidth": 0,
              "ticks": ""
             }
            },
            "type": "scattergl"
           }
          ],
          "scattermapbox": [
           {
            "marker": {
             "colorbar": {
              "outlinewidth": 0,
              "ticks": ""
             }
            },
            "type": "scattermapbox"
           }
          ],
          "scatterpolar": [
           {
            "marker": {
             "colorbar": {
              "outlinewidth": 0,
              "ticks": ""
             }
            },
            "type": "scatterpolar"
           }
          ],
          "scatterpolargl": [
           {
            "marker": {
             "colorbar": {
              "outlinewidth": 0,
              "ticks": ""
             }
            },
            "type": "scatterpolargl"
           }
          ],
          "scatterternary": [
           {
            "marker": {
             "colorbar": {
              "outlinewidth": 0,
              "ticks": ""
             }
            },
            "type": "scatterternary"
           }
          ],
          "surface": [
           {
            "colorbar": {
             "outlinewidth": 0,
             "ticks": ""
            },
            "colorscale": [
             [
              0,
              "#0d0887"
             ],
             [
              0.1111111111111111,
              "#46039f"
             ],
             [
              0.2222222222222222,
              "#7201a8"
             ],
             [
              0.3333333333333333,
              "#9c179e"
             ],
             [
              0.4444444444444444,
              "#bd3786"
             ],
             [
              0.5555555555555556,
              "#d8576b"
             ],
             [
              0.6666666666666666,
              "#ed7953"
             ],
             [
              0.7777777777777778,
              "#fb9f3a"
             ],
             [
              0.8888888888888888,
              "#fdca26"
             ],
             [
              1,
              "#f0f921"
             ]
            ],
            "type": "surface"
           }
          ],
          "table": [
           {
            "cells": {
             "fill": {
              "color": "#EBF0F8"
             },
             "line": {
              "color": "white"
             }
            },
            "header": {
             "fill": {
              "color": "#C8D4E3"
             },
             "line": {
              "color": "white"
             }
            },
            "type": "table"
           }
          ]
         },
         "layout": {
          "annotationdefaults": {
           "arrowcolor": "#2a3f5f",
           "arrowhead": 0,
           "arrowwidth": 1
          },
          "colorscale": {
           "diverging": [
            [
             0,
             "#8e0152"
            ],
            [
             0.1,
             "#c51b7d"
            ],
            [
             0.2,
             "#de77ae"
            ],
            [
             0.3,
             "#f1b6da"
            ],
            [
             0.4,
             "#fde0ef"
            ],
            [
             0.5,
             "#f7f7f7"
            ],
            [
             0.6,
             "#e6f5d0"
            ],
            [
             0.7,
             "#b8e186"
            ],
            [
             0.8,
             "#7fbc41"
            ],
            [
             0.9,
             "#4d9221"
            ],
            [
             1,
             "#276419"
            ]
           ],
           "sequential": [
            [
             0,
             "#0d0887"
            ],
            [
             0.1111111111111111,
             "#46039f"
            ],
            [
             0.2222222222222222,
             "#7201a8"
            ],
            [
             0.3333333333333333,
             "#9c179e"
            ],
            [
             0.4444444444444444,
             "#bd3786"
            ],
            [
             0.5555555555555556,
             "#d8576b"
            ],
            [
             0.6666666666666666,
             "#ed7953"
            ],
            [
             0.7777777777777778,
             "#fb9f3a"
            ],
            [
             0.8888888888888888,
             "#fdca26"
            ],
            [
             1,
             "#f0f921"
            ]
           ],
           "sequentialminus": [
            [
             0,
             "#0d0887"
            ],
            [
             0.1111111111111111,
             "#46039f"
            ],
            [
             0.2222222222222222,
             "#7201a8"
            ],
            [
             0.3333333333333333,
             "#9c179e"
            ],
            [
             0.4444444444444444,
             "#bd3786"
            ],
            [
             0.5555555555555556,
             "#d8576b"
            ],
            [
             0.6666666666666666,
             "#ed7953"
            ],
            [
             0.7777777777777778,
             "#fb9f3a"
            ],
            [
             0.8888888888888888,
             "#fdca26"
            ],
            [
             1,
             "#f0f921"
            ]
           ]
          },
          "colorway": [
           "#636efa",
           "#EF553B",
           "#00cc96",
           "#ab63fa",
           "#FFA15A",
           "#19d3f3",
           "#FF6692",
           "#B6E880",
           "#FF97FF",
           "#FECB52"
          ],
          "font": {
           "color": "#2a3f5f"
          },
          "geo": {
           "bgcolor": "white",
           "lakecolor": "white",
           "landcolor": "#E5ECF6",
           "showlakes": true,
           "showland": true,
           "subunitcolor": "white"
          },
          "hoverlabel": {
           "align": "left"
          },
          "hovermode": "closest",
          "mapbox": {
           "style": "light"
          },
          "paper_bgcolor": "white",
          "plot_bgcolor": "#E5ECF6",
          "polar": {
           "angularaxis": {
            "gridcolor": "white",
            "linecolor": "white",
            "ticks": ""
           },
           "bgcolor": "#E5ECF6",
           "radialaxis": {
            "gridcolor": "white",
            "linecolor": "white",
            "ticks": ""
           }
          },
          "scene": {
           "xaxis": {
            "backgroundcolor": "#E5ECF6",
            "gridcolor": "white",
            "gridwidth": 2,
            "linecolor": "white",
            "showbackground": true,
            "ticks": "",
            "zerolinecolor": "white"
           },
           "yaxis": {
            "backgroundcolor": "#E5ECF6",
            "gridcolor": "white",
            "gridwidth": 2,
            "linecolor": "white",
            "showbackground": true,
            "ticks": "",
            "zerolinecolor": "white"
           },
           "zaxis": {
            "backgroundcolor": "#E5ECF6",
            "gridcolor": "white",
            "gridwidth": 2,
            "linecolor": "white",
            "showbackground": true,
            "ticks": "",
            "zerolinecolor": "white"
           }
          },
          "shapedefaults": {
           "line": {
            "color": "#2a3f5f"
           }
          },
          "ternary": {
           "aaxis": {
            "gridcolor": "white",
            "linecolor": "white",
            "ticks": ""
           },
           "baxis": {
            "gridcolor": "white",
            "linecolor": "white",
            "ticks": ""
           },
           "bgcolor": "#E5ECF6",
           "caxis": {
            "gridcolor": "white",
            "linecolor": "white",
            "ticks": ""
           }
          },
          "title": {
           "x": 0.05
          },
          "xaxis": {
           "automargin": true,
           "gridcolor": "white",
           "linecolor": "white",
           "ticks": "",
           "zerolinecolor": "white",
           "zerolinewidth": 2
          },
          "yaxis": {
           "automargin": true,
           "gridcolor": "white",
           "linecolor": "white",
           "ticks": "",
           "zerolinecolor": "white",
           "zerolinewidth": 2
          }
         }
        },
        "title": {
         "text": "Wins vs Round Played"
        }
       }
      },
      "text/html": [
       "<div>\n",
       "        \n",
       "        \n",
       "            <div id=\"f570e71c-52fa-401c-a65d-222b6f5d40b1\" class=\"plotly-graph-div\" style=\"height:525px; width:100%;\"></div>\n",
       "            <script type=\"text/javascript\">\n",
       "                require([\"plotly\"], function(Plotly) {\n",
       "                    window.PLOTLYENV=window.PLOTLYENV || {};\n",
       "                    \n",
       "                if (document.getElementById(\"f570e71c-52fa-401c-a65d-222b6f5d40b1\")) {\n",
       "                    Plotly.newPlot(\n",
       "                        'f570e71c-52fa-401c-a65d-222b6f5d40b1',\n",
       "                        [{\"name\": \"Round Won\", \"type\": \"scatter\", \"x\": [17, 33, 5, 8, 6, 16, 142, 19, 44, 8], \"y\": [3, 6, 0, 4, 2, 5, 12, 5, 6, 2]}],\n",
       "                        {\"showlegend\": true, \"template\": {\"data\": {\"bar\": [{\"error_x\": {\"color\": \"#2a3f5f\"}, \"error_y\": {\"color\": \"#2a3f5f\"}, \"marker\": {\"line\": {\"color\": \"#E5ECF6\", \"width\": 0.5}}, \"type\": \"bar\"}], \"barpolar\": [{\"marker\": {\"line\": {\"color\": \"#E5ECF6\", \"width\": 0.5}}, \"type\": \"barpolar\"}], \"carpet\": [{\"aaxis\": {\"endlinecolor\": \"#2a3f5f\", \"gridcolor\": \"white\", \"linecolor\": \"white\", \"minorgridcolor\": \"white\", \"startlinecolor\": \"#2a3f5f\"}, \"baxis\": {\"endlinecolor\": \"#2a3f5f\", \"gridcolor\": \"white\", \"linecolor\": \"white\", \"minorgridcolor\": \"white\", \"startlinecolor\": \"#2a3f5f\"}, \"type\": \"carpet\"}], \"choropleth\": [{\"colorbar\": {\"outlinewidth\": 0, \"ticks\": \"\"}, \"type\": \"choropleth\"}], \"contour\": [{\"colorbar\": {\"outlinewidth\": 0, \"ticks\": \"\"}, \"colorscale\": [[0.0, \"#0d0887\"], [0.1111111111111111, \"#46039f\"], [0.2222222222222222, \"#7201a8\"], [0.3333333333333333, \"#9c179e\"], [0.4444444444444444, \"#bd3786\"], [0.5555555555555556, \"#d8576b\"], [0.6666666666666666, \"#ed7953\"], [0.7777777777777778, \"#fb9f3a\"], [0.8888888888888888, \"#fdca26\"], [1.0, \"#f0f921\"]], \"type\": \"contour\"}], \"contourcarpet\": [{\"colorbar\": {\"outlinewidth\": 0, \"ticks\": \"\"}, \"type\": \"contourcarpet\"}], \"heatmap\": [{\"colorbar\": {\"outlinewidth\": 0, \"ticks\": \"\"}, \"colorscale\": [[0.0, \"#0d0887\"], [0.1111111111111111, \"#46039f\"], [0.2222222222222222, \"#7201a8\"], [0.3333333333333333, \"#9c179e\"], [0.4444444444444444, \"#bd3786\"], [0.5555555555555556, \"#d8576b\"], [0.6666666666666666, \"#ed7953\"], [0.7777777777777778, \"#fb9f3a\"], [0.8888888888888888, \"#fdca26\"], [1.0, \"#f0f921\"]], \"type\": \"heatmap\"}], \"heatmapgl\": [{\"colorbar\": {\"outlinewidth\": 0, \"ticks\": \"\"}, \"colorscale\": [[0.0, \"#0d0887\"], [0.1111111111111111, \"#46039f\"], [0.2222222222222222, \"#7201a8\"], [0.3333333333333333, \"#9c179e\"], [0.4444444444444444, \"#bd3786\"], [0.5555555555555556, \"#d8576b\"], [0.6666666666666666, \"#ed7953\"], [0.7777777777777778, \"#fb9f3a\"], [0.8888888888888888, \"#fdca26\"], [1.0, \"#f0f921\"]], \"type\": \"heatmapgl\"}], \"histogram\": [{\"marker\": {\"colorbar\": {\"outlinewidth\": 0, \"ticks\": \"\"}}, \"type\": \"histogram\"}], \"histogram2d\": [{\"colorbar\": {\"outlinewidth\": 0, \"ticks\": \"\"}, \"colorscale\": [[0.0, \"#0d0887\"], [0.1111111111111111, \"#46039f\"], [0.2222222222222222, \"#7201a8\"], [0.3333333333333333, \"#9c179e\"], [0.4444444444444444, \"#bd3786\"], [0.5555555555555556, \"#d8576b\"], [0.6666666666666666, \"#ed7953\"], [0.7777777777777778, \"#fb9f3a\"], [0.8888888888888888, \"#fdca26\"], [1.0, \"#f0f921\"]], \"type\": \"histogram2d\"}], \"histogram2dcontour\": [{\"colorbar\": {\"outlinewidth\": 0, \"ticks\": \"\"}, \"colorscale\": [[0.0, \"#0d0887\"], [0.1111111111111111, \"#46039f\"], [0.2222222222222222, \"#7201a8\"], [0.3333333333333333, \"#9c179e\"], [0.4444444444444444, \"#bd3786\"], [0.5555555555555556, \"#d8576b\"], [0.6666666666666666, \"#ed7953\"], [0.7777777777777778, \"#fb9f3a\"], [0.8888888888888888, \"#fdca26\"], [1.0, \"#f0f921\"]], \"type\": \"histogram2dcontour\"}], \"mesh3d\": [{\"colorbar\": {\"outlinewidth\": 0, \"ticks\": \"\"}, \"type\": \"mesh3d\"}], \"parcoords\": [{\"line\": {\"colorbar\": {\"outlinewidth\": 0, \"ticks\": \"\"}}, \"type\": \"parcoords\"}], \"scatter\": [{\"marker\": {\"colorbar\": {\"outlinewidth\": 0, \"ticks\": \"\"}}, \"type\": \"scatter\"}], \"scatter3d\": [{\"line\": {\"colorbar\": {\"outlinewidth\": 0, \"ticks\": \"\"}}, \"marker\": {\"colorbar\": {\"outlinewidth\": 0, \"ticks\": \"\"}}, \"type\": \"scatter3d\"}], \"scattercarpet\": [{\"marker\": {\"colorbar\": {\"outlinewidth\": 0, \"ticks\": \"\"}}, \"type\": \"scattercarpet\"}], \"scattergeo\": [{\"marker\": {\"colorbar\": {\"outlinewidth\": 0, \"ticks\": \"\"}}, \"type\": \"scattergeo\"}], \"scattergl\": [{\"marker\": {\"colorbar\": {\"outlinewidth\": 0, \"ticks\": \"\"}}, \"type\": \"scattergl\"}], \"scattermapbox\": [{\"marker\": {\"colorbar\": {\"outlinewidth\": 0, \"ticks\": \"\"}}, \"type\": \"scattermapbox\"}], \"scatterpolar\": [{\"marker\": {\"colorbar\": {\"outlinewidth\": 0, \"ticks\": \"\"}}, \"type\": \"scatterpolar\"}], \"scatterpolargl\": [{\"marker\": {\"colorbar\": {\"outlinewidth\": 0, \"ticks\": \"\"}}, \"type\": \"scatterpolargl\"}], \"scatterternary\": [{\"marker\": {\"colorbar\": {\"outlinewidth\": 0, \"ticks\": \"\"}}, \"type\": \"scatterternary\"}], \"surface\": [{\"colorbar\": {\"outlinewidth\": 0, \"ticks\": \"\"}, \"colorscale\": [[0.0, \"#0d0887\"], [0.1111111111111111, \"#46039f\"], [0.2222222222222222, \"#7201a8\"], [0.3333333333333333, \"#9c179e\"], [0.4444444444444444, \"#bd3786\"], [0.5555555555555556, \"#d8576b\"], [0.6666666666666666, \"#ed7953\"], [0.7777777777777778, \"#fb9f3a\"], [0.8888888888888888, \"#fdca26\"], [1.0, \"#f0f921\"]], \"type\": \"surface\"}], \"table\": [{\"cells\": {\"fill\": {\"color\": \"#EBF0F8\"}, \"line\": {\"color\": \"white\"}}, \"header\": {\"fill\": {\"color\": \"#C8D4E3\"}, \"line\": {\"color\": \"white\"}}, \"type\": \"table\"}]}, \"layout\": {\"annotationdefaults\": {\"arrowcolor\": \"#2a3f5f\", \"arrowhead\": 0, \"arrowwidth\": 1}, \"colorscale\": {\"diverging\": [[0, \"#8e0152\"], [0.1, \"#c51b7d\"], [0.2, \"#de77ae\"], [0.3, \"#f1b6da\"], [0.4, \"#fde0ef\"], [0.5, \"#f7f7f7\"], [0.6, \"#e6f5d0\"], [0.7, \"#b8e186\"], [0.8, \"#7fbc41\"], [0.9, \"#4d9221\"], [1, \"#276419\"]], \"sequential\": [[0.0, \"#0d0887\"], [0.1111111111111111, \"#46039f\"], [0.2222222222222222, \"#7201a8\"], [0.3333333333333333, \"#9c179e\"], [0.4444444444444444, \"#bd3786\"], [0.5555555555555556, \"#d8576b\"], [0.6666666666666666, \"#ed7953\"], [0.7777777777777778, \"#fb9f3a\"], [0.8888888888888888, \"#fdca26\"], [1.0, \"#f0f921\"]], \"sequentialminus\": [[0.0, \"#0d0887\"], [0.1111111111111111, \"#46039f\"], [0.2222222222222222, \"#7201a8\"], [0.3333333333333333, \"#9c179e\"], [0.4444444444444444, \"#bd3786\"], [0.5555555555555556, \"#d8576b\"], [0.6666666666666666, \"#ed7953\"], [0.7777777777777778, \"#fb9f3a\"], [0.8888888888888888, \"#fdca26\"], [1.0, \"#f0f921\"]]}, \"colorway\": [\"#636efa\", \"#EF553B\", \"#00cc96\", \"#ab63fa\", \"#FFA15A\", \"#19d3f3\", \"#FF6692\", \"#B6E880\", \"#FF97FF\", \"#FECB52\"], \"font\": {\"color\": \"#2a3f5f\"}, \"geo\": {\"bgcolor\": \"white\", \"lakecolor\": \"white\", \"landcolor\": \"#E5ECF6\", \"showlakes\": true, \"showland\": true, \"subunitcolor\": \"white\"}, \"hoverlabel\": {\"align\": \"left\"}, \"hovermode\": \"closest\", \"mapbox\": {\"style\": \"light\"}, \"paper_bgcolor\": \"white\", \"plot_bgcolor\": \"#E5ECF6\", \"polar\": {\"angularaxis\": {\"gridcolor\": \"white\", \"linecolor\": \"white\", \"ticks\": \"\"}, \"bgcolor\": \"#E5ECF6\", \"radialaxis\": {\"gridcolor\": \"white\", \"linecolor\": \"white\", \"ticks\": \"\"}}, \"scene\": {\"xaxis\": {\"backgroundcolor\": \"#E5ECF6\", \"gridcolor\": \"white\", \"gridwidth\": 2, \"linecolor\": \"white\", \"showbackground\": true, \"ticks\": \"\", \"zerolinecolor\": \"white\"}, \"yaxis\": {\"backgroundcolor\": \"#E5ECF6\", \"gridcolor\": \"white\", \"gridwidth\": 2, \"linecolor\": \"white\", \"showbackground\": true, \"ticks\": \"\", \"zerolinecolor\": \"white\"}, \"zaxis\": {\"backgroundcolor\": \"#E5ECF6\", \"gridcolor\": \"white\", \"gridwidth\": 2, \"linecolor\": \"white\", \"showbackground\": true, \"ticks\": \"\", \"zerolinecolor\": \"white\"}}, \"shapedefaults\": {\"line\": {\"color\": \"#2a3f5f\"}}, \"ternary\": {\"aaxis\": {\"gridcolor\": \"white\", \"linecolor\": \"white\", \"ticks\": \"\"}, \"baxis\": {\"gridcolor\": \"white\", \"linecolor\": \"white\", \"ticks\": \"\"}, \"bgcolor\": \"#E5ECF6\", \"caxis\": {\"gridcolor\": \"white\", \"linecolor\": \"white\", \"ticks\": \"\"}}, \"title\": {\"x\": 0.05}, \"xaxis\": {\"automargin\": true, \"gridcolor\": \"white\", \"linecolor\": \"white\", \"ticks\": \"\", \"zerolinecolor\": \"white\", \"zerolinewidth\": 2}, \"yaxis\": {\"automargin\": true, \"gridcolor\": \"white\", \"linecolor\": \"white\", \"ticks\": \"\", \"zerolinecolor\": \"white\", \"zerolinewidth\": 2}}}, \"title\": {\"text\": \"Wins vs Round Played\"}},\n",
       "                        {\"responsive\": true}\n",
       "                    ).then(function(){\n",
       "                            \n",
       "var gd = document.getElementById('f570e71c-52fa-401c-a65d-222b6f5d40b1');\n",
       "var x = new MutationObserver(function (mutations, observer) {{\n",
       "        var display = window.getComputedStyle(gd).display;\n",
       "        if (!display || display === 'none') {{\n",
       "            console.log([gd, 'removed!']);\n",
       "            Plotly.purge(gd);\n",
       "            observer.disconnect();\n",
       "        }}\n",
       "}});\n",
       "\n",
       "// Listen for the removal of the full notebook cells\n",
       "var notebookContainer = gd.closest('#notebook-container');\n",
       "if (notebookContainer) {{\n",
       "    x.observe(notebookContainer, {childList: true});\n",
       "}}\n",
       "\n",
       "// Listen for the clearing of the current output cell\n",
       "var outputEl = gd.closest('.output');\n",
       "if (outputEl) {{\n",
       "    x.observe(outputEl, {childList: true});\n",
       "}}\n",
       "\n",
       "                        })\n",
       "                };\n",
       "                });\n",
       "            </script>\n",
       "        </div>"
      ]
     },
     "metadata": {},
     "output_type": "display_data"
    }
   ],
   "source": [
    "trace = go.Scatter(x = df_new_pubg['solo_RoundsPlayed'],y=df_new_pubg['solo_Wins'],\n",
    "                  name='Round Won'\n",
    "                  )\n",
    "\n",
    "layout = go.Layout(title='Wins vs Round Played',showlegend=True)\n",
    "\n",
    "fig = go.Figure(data=[trace],layout = layout)\n",
    "iplot(fig)"
   ]
  },
  {
   "cell_type": "code",
   "execution_count": 15,
   "metadata": {},
   "outputs": [],
   "source": [
    "df_bar_pubg = df_pubg.head(10)"
   ]
  },
  {
   "cell_type": "code",
   "execution_count": 16,
   "metadata": {},
   "outputs": [],
   "source": [
    "trace1 = go.Bar(x = df_bar_pubg['player_name'],\n",
    "              y = df_bar_pubg['solo_RoundsPlayed'],\n",
    "              name = 'Round Played')\n",
    "\n",
    "trace2 = go.Bar(x = df_bar_pubg['player_name'],\n",
    "              y = df_bar_pubg['solo_Wins'],\n",
    "              name = 'Wins')"
   ]
  },
  {
   "cell_type": "code",
   "execution_count": 17,
   "metadata": {},
   "outputs": [
    {
     "data": {
      "application/vnd.plotly.v1+json": {
       "config": {
        "linkText": "Export to plot.ly",
        "plotlyServerURL": "https://plot.ly",
        "showLink": false
       },
       "data": [
        {
         "name": "Round Played",
         "type": "bar",
         "x": [
          "BreakNeck",
          "Blackwalk",
          "mercedes_benz",
          "DORA",
          "n2tstar",
          "coldoxygen",
          "Giken",
          "KoreaNo1",
          "undor",
          "Fordune"
         ],
         "y": [
          17,
          33,
          5,
          8,
          6,
          16,
          142,
          19,
          44,
          8
         ]
        },
        {
         "name": "Wins",
         "type": "bar",
         "x": [
          "BreakNeck",
          "Blackwalk",
          "mercedes_benz",
          "DORA",
          "n2tstar",
          "coldoxygen",
          "Giken",
          "KoreaNo1",
          "undor",
          "Fordune"
         ],
         "y": [
          3,
          6,
          0,
          4,
          2,
          5,
          12,
          5,
          6,
          2
         ]
        }
       ],
       "layout": {
        "barmode": "group",
        "template": {
         "data": {
          "bar": [
           {
            "error_x": {
             "color": "#2a3f5f"
            },
            "error_y": {
             "color": "#2a3f5f"
            },
            "marker": {
             "line": {
              "color": "#E5ECF6",
              "width": 0.5
             }
            },
            "type": "bar"
           }
          ],
          "barpolar": [
           {
            "marker": {
             "line": {
              "color": "#E5ECF6",
              "width": 0.5
             }
            },
            "type": "barpolar"
           }
          ],
          "carpet": [
           {
            "aaxis": {
             "endlinecolor": "#2a3f5f",
             "gridcolor": "white",
             "linecolor": "white",
             "minorgridcolor": "white",
             "startlinecolor": "#2a3f5f"
            },
            "baxis": {
             "endlinecolor": "#2a3f5f",
             "gridcolor": "white",
             "linecolor": "white",
             "minorgridcolor": "white",
             "startlinecolor": "#2a3f5f"
            },
            "type": "carpet"
           }
          ],
          "choropleth": [
           {
            "colorbar": {
             "outlinewidth": 0,
             "ticks": ""
            },
            "type": "choropleth"
           }
          ],
          "contour": [
           {
            "colorbar": {
             "outlinewidth": 0,
             "ticks": ""
            },
            "colorscale": [
             [
              0,
              "#0d0887"
             ],
             [
              0.1111111111111111,
              "#46039f"
             ],
             [
              0.2222222222222222,
              "#7201a8"
             ],
             [
              0.3333333333333333,
              "#9c179e"
             ],
             [
              0.4444444444444444,
              "#bd3786"
             ],
             [
              0.5555555555555556,
              "#d8576b"
             ],
             [
              0.6666666666666666,
              "#ed7953"
             ],
             [
              0.7777777777777778,
              "#fb9f3a"
             ],
             [
              0.8888888888888888,
              "#fdca26"
             ],
             [
              1,
              "#f0f921"
             ]
            ],
            "type": "contour"
           }
          ],
          "contourcarpet": [
           {
            "colorbar": {
             "outlinewidth": 0,
             "ticks": ""
            },
            "type": "contourcarpet"
           }
          ],
          "heatmap": [
           {
            "colorbar": {
             "outlinewidth": 0,
             "ticks": ""
            },
            "colorscale": [
             [
              0,
              "#0d0887"
             ],
             [
              0.1111111111111111,
              "#46039f"
             ],
             [
              0.2222222222222222,
              "#7201a8"
             ],
             [
              0.3333333333333333,
              "#9c179e"
             ],
             [
              0.4444444444444444,
              "#bd3786"
             ],
             [
              0.5555555555555556,
              "#d8576b"
             ],
             [
              0.6666666666666666,
              "#ed7953"
             ],
             [
              0.7777777777777778,
              "#fb9f3a"
             ],
             [
              0.8888888888888888,
              "#fdca26"
             ],
             [
              1,
              "#f0f921"
             ]
            ],
            "type": "heatmap"
           }
          ],
          "heatmapgl": [
           {
            "colorbar": {
             "outlinewidth": 0,
             "ticks": ""
            },
            "colorscale": [
             [
              0,
              "#0d0887"
             ],
             [
              0.1111111111111111,
              "#46039f"
             ],
             [
              0.2222222222222222,
              "#7201a8"
             ],
             [
              0.3333333333333333,
              "#9c179e"
             ],
             [
              0.4444444444444444,
              "#bd3786"
             ],
             [
              0.5555555555555556,
              "#d8576b"
             ],
             [
              0.6666666666666666,
              "#ed7953"
             ],
             [
              0.7777777777777778,
              "#fb9f3a"
             ],
             [
              0.8888888888888888,
              "#fdca26"
             ],
             [
              1,
              "#f0f921"
             ]
            ],
            "type": "heatmapgl"
           }
          ],
          "histogram": [
           {
            "marker": {
             "colorbar": {
              "outlinewidth": 0,
              "ticks": ""
             }
            },
            "type": "histogram"
           }
          ],
          "histogram2d": [
           {
            "colorbar": {
             "outlinewidth": 0,
             "ticks": ""
            },
            "colorscale": [
             [
              0,
              "#0d0887"
             ],
             [
              0.1111111111111111,
              "#46039f"
             ],
             [
              0.2222222222222222,
              "#7201a8"
             ],
             [
              0.3333333333333333,
              "#9c179e"
             ],
             [
              0.4444444444444444,
              "#bd3786"
             ],
             [
              0.5555555555555556,
              "#d8576b"
             ],
             [
              0.6666666666666666,
              "#ed7953"
             ],
             [
              0.7777777777777778,
              "#fb9f3a"
             ],
             [
              0.8888888888888888,
              "#fdca26"
             ],
             [
              1,
              "#f0f921"
             ]
            ],
            "type": "histogram2d"
           }
          ],
          "histogram2dcontour": [
           {
            "colorbar": {
             "outlinewidth": 0,
             "ticks": ""
            },
            "colorscale": [
             [
              0,
              "#0d0887"
             ],
             [
              0.1111111111111111,
              "#46039f"
             ],
             [
              0.2222222222222222,
              "#7201a8"
             ],
             [
              0.3333333333333333,
              "#9c179e"
             ],
             [
              0.4444444444444444,
              "#bd3786"
             ],
             [
              0.5555555555555556,
              "#d8576b"
             ],
             [
              0.6666666666666666,
              "#ed7953"
             ],
             [
              0.7777777777777778,
              "#fb9f3a"
             ],
             [
              0.8888888888888888,
              "#fdca26"
             ],
             [
              1,
              "#f0f921"
             ]
            ],
            "type": "histogram2dcontour"
           }
          ],
          "mesh3d": [
           {
            "colorbar": {
             "outlinewidth": 0,
             "ticks": ""
            },
            "type": "mesh3d"
           }
          ],
          "parcoords": [
           {
            "line": {
             "colorbar": {
              "outlinewidth": 0,
              "ticks": ""
             }
            },
            "type": "parcoords"
           }
          ],
          "scatter": [
           {
            "marker": {
             "colorbar": {
              "outlinewidth": 0,
              "ticks": ""
             }
            },
            "type": "scatter"
           }
          ],
          "scatter3d": [
           {
            "line": {
             "colorbar": {
              "outlinewidth": 0,
              "ticks": ""
             }
            },
            "marker": {
             "colorbar": {
              "outlinewidth": 0,
              "ticks": ""
             }
            },
            "type": "scatter3d"
           }
          ],
          "scattercarpet": [
           {
            "marker": {
             "colorbar": {
              "outlinewidth": 0,
              "ticks": ""
             }
            },
            "type": "scattercarpet"
           }
          ],
          "scattergeo": [
           {
            "marker": {
             "colorbar": {
              "outlinewidth": 0,
              "ticks": ""
             }
            },
            "type": "scattergeo"
           }
          ],
          "scattergl": [
           {
            "marker": {
             "colorbar": {
              "outlinewidth": 0,
              "ticks": ""
             }
            },
            "type": "scattergl"
           }
          ],
          "scattermapbox": [
           {
            "marker": {
             "colorbar": {
              "outlinewidth": 0,
              "ticks": ""
             }
            },
            "type": "scattermapbox"
           }
          ],
          "scatterpolar": [
           {
            "marker": {
             "colorbar": {
              "outlinewidth": 0,
              "ticks": ""
             }
            },
            "type": "scatterpolar"
           }
          ],
          "scatterpolargl": [
           {
            "marker": {
             "colorbar": {
              "outlinewidth": 0,
              "ticks": ""
             }
            },
            "type": "scatterpolargl"
           }
          ],
          "scatterternary": [
           {
            "marker": {
             "colorbar": {
              "outlinewidth": 0,
              "ticks": ""
             }
            },
            "type": "scatterternary"
           }
          ],
          "surface": [
           {
            "colorbar": {
             "outlinewidth": 0,
             "ticks": ""
            },
            "colorscale": [
             [
              0,
              "#0d0887"
             ],
             [
              0.1111111111111111,
              "#46039f"
             ],
             [
              0.2222222222222222,
              "#7201a8"
             ],
             [
              0.3333333333333333,
              "#9c179e"
             ],
             [
              0.4444444444444444,
              "#bd3786"
             ],
             [
              0.5555555555555556,
              "#d8576b"
             ],
             [
              0.6666666666666666,
              "#ed7953"
             ],
             [
              0.7777777777777778,
              "#fb9f3a"
             ],
             [
              0.8888888888888888,
              "#fdca26"
             ],
             [
              1,
              "#f0f921"
             ]
            ],
            "type": "surface"
           }
          ],
          "table": [
           {
            "cells": {
             "fill": {
              "color": "#EBF0F8"
             },
             "line": {
              "color": "white"
             }
            },
            "header": {
             "fill": {
              "color": "#C8D4E3"
             },
             "line": {
              "color": "white"
             }
            },
            "type": "table"
           }
          ]
         },
         "layout": {
          "annotationdefaults": {
           "arrowcolor": "#2a3f5f",
           "arrowhead": 0,
           "arrowwidth": 1
          },
          "colorscale": {
           "diverging": [
            [
             0,
             "#8e0152"
            ],
            [
             0.1,
             "#c51b7d"
            ],
            [
             0.2,
             "#de77ae"
            ],
            [
             0.3,
             "#f1b6da"
            ],
            [
             0.4,
             "#fde0ef"
            ],
            [
             0.5,
             "#f7f7f7"
            ],
            [
             0.6,
             "#e6f5d0"
            ],
            [
             0.7,
             "#b8e186"
            ],
            [
             0.8,
             "#7fbc41"
            ],
            [
             0.9,
             "#4d9221"
            ],
            [
             1,
             "#276419"
            ]
           ],
           "sequential": [
            [
             0,
             "#0d0887"
            ],
            [
             0.1111111111111111,
             "#46039f"
            ],
            [
             0.2222222222222222,
             "#7201a8"
            ],
            [
             0.3333333333333333,
             "#9c179e"
            ],
            [
             0.4444444444444444,
             "#bd3786"
            ],
            [
             0.5555555555555556,
             "#d8576b"
            ],
            [
             0.6666666666666666,
             "#ed7953"
            ],
            [
             0.7777777777777778,
             "#fb9f3a"
            ],
            [
             0.8888888888888888,
             "#fdca26"
            ],
            [
             1,
             "#f0f921"
            ]
           ],
           "sequentialminus": [
            [
             0,
             "#0d0887"
            ],
            [
             0.1111111111111111,
             "#46039f"
            ],
            [
             0.2222222222222222,
             "#7201a8"
            ],
            [
             0.3333333333333333,
             "#9c179e"
            ],
            [
             0.4444444444444444,
             "#bd3786"
            ],
            [
             0.5555555555555556,
             "#d8576b"
            ],
            [
             0.6666666666666666,
             "#ed7953"
            ],
            [
             0.7777777777777778,
             "#fb9f3a"
            ],
            [
             0.8888888888888888,
             "#fdca26"
            ],
            [
             1,
             "#f0f921"
            ]
           ]
          },
          "colorway": [
           "#636efa",
           "#EF553B",
           "#00cc96",
           "#ab63fa",
           "#FFA15A",
           "#19d3f3",
           "#FF6692",
           "#B6E880",
           "#FF97FF",
           "#FECB52"
          ],
          "font": {
           "color": "#2a3f5f"
          },
          "geo": {
           "bgcolor": "white",
           "lakecolor": "white",
           "landcolor": "#E5ECF6",
           "showlakes": true,
           "showland": true,
           "subunitcolor": "white"
          },
          "hoverlabel": {
           "align": "left"
          },
          "hovermode": "closest",
          "mapbox": {
           "style": "light"
          },
          "paper_bgcolor": "white",
          "plot_bgcolor": "#E5ECF6",
          "polar": {
           "angularaxis": {
            "gridcolor": "white",
            "linecolor": "white",
            "ticks": ""
           },
           "bgcolor": "#E5ECF6",
           "radialaxis": {
            "gridcolor": "white",
            "linecolor": "white",
            "ticks": ""
           }
          },
          "scene": {
           "xaxis": {
            "backgroundcolor": "#E5ECF6",
            "gridcolor": "white",
            "gridwidth": 2,
            "linecolor": "white",
            "showbackground": true,
            "ticks": "",
            "zerolinecolor": "white"
           },
           "yaxis": {
            "backgroundcolor": "#E5ECF6",
            "gridcolor": "white",
            "gridwidth": 2,
            "linecolor": "white",
            "showbackground": true,
            "ticks": "",
            "zerolinecolor": "white"
           },
           "zaxis": {
            "backgroundcolor": "#E5ECF6",
            "gridcolor": "white",
            "gridwidth": 2,
            "linecolor": "white",
            "showbackground": true,
            "ticks": "",
            "zerolinecolor": "white"
           }
          },
          "shapedefaults": {
           "line": {
            "color": "#2a3f5f"
           }
          },
          "ternary": {
           "aaxis": {
            "gridcolor": "white",
            "linecolor": "white",
            "ticks": ""
           },
           "baxis": {
            "gridcolor": "white",
            "linecolor": "white",
            "ticks": ""
           },
           "bgcolor": "#E5ECF6",
           "caxis": {
            "gridcolor": "white",
            "linecolor": "white",
            "ticks": ""
           }
          },
          "title": {
           "x": 0.05
          },
          "xaxis": {
           "automargin": true,
           "gridcolor": "white",
           "linecolor": "white",
           "ticks": "",
           "zerolinecolor": "white",
           "zerolinewidth": 2
          },
          "yaxis": {
           "automargin": true,
           "gridcolor": "white",
           "linecolor": "white",
           "ticks": "",
           "zerolinecolor": "white",
           "zerolinewidth": 2
          }
         }
        }
       }
      },
      "text/html": [
       "<div>\n",
       "        \n",
       "        \n",
       "            <div id=\"946d5c5b-4f61-4805-b94e-a15830d1c850\" class=\"plotly-graph-div\" style=\"height:525px; width:100%;\"></div>\n",
       "            <script type=\"text/javascript\">\n",
       "                require([\"plotly\"], function(Plotly) {\n",
       "                    window.PLOTLYENV=window.PLOTLYENV || {};\n",
       "                    \n",
       "                if (document.getElementById(\"946d5c5b-4f61-4805-b94e-a15830d1c850\")) {\n",
       "                    Plotly.newPlot(\n",
       "                        '946d5c5b-4f61-4805-b94e-a15830d1c850',\n",
       "                        [{\"name\": \"Round Played\", \"type\": \"bar\", \"x\": [\"BreakNeck\", \"Blackwalk\", \"mercedes_benz\", \"DORA\", \"n2tstar\", \"coldoxygen\", \"Giken\", \"KoreaNo1\", \"undor\", \"Fordune\"], \"y\": [17, 33, 5, 8, 6, 16, 142, 19, 44, 8]}, {\"name\": \"Wins\", \"type\": \"bar\", \"x\": [\"BreakNeck\", \"Blackwalk\", \"mercedes_benz\", \"DORA\", \"n2tstar\", \"coldoxygen\", \"Giken\", \"KoreaNo1\", \"undor\", \"Fordune\"], \"y\": [3, 6, 0, 4, 2, 5, 12, 5, 6, 2]}],\n",
       "                        {\"barmode\": \"group\", \"template\": {\"data\": {\"bar\": [{\"error_x\": {\"color\": \"#2a3f5f\"}, \"error_y\": {\"color\": \"#2a3f5f\"}, \"marker\": {\"line\": {\"color\": \"#E5ECF6\", \"width\": 0.5}}, \"type\": \"bar\"}], \"barpolar\": [{\"marker\": {\"line\": {\"color\": \"#E5ECF6\", \"width\": 0.5}}, \"type\": \"barpolar\"}], \"carpet\": [{\"aaxis\": {\"endlinecolor\": \"#2a3f5f\", \"gridcolor\": \"white\", \"linecolor\": \"white\", \"minorgridcolor\": \"white\", \"startlinecolor\": \"#2a3f5f\"}, \"baxis\": {\"endlinecolor\": \"#2a3f5f\", \"gridcolor\": \"white\", \"linecolor\": \"white\", \"minorgridcolor\": \"white\", \"startlinecolor\": \"#2a3f5f\"}, \"type\": \"carpet\"}], \"choropleth\": [{\"colorbar\": {\"outlinewidth\": 0, \"ticks\": \"\"}, \"type\": \"choropleth\"}], \"contour\": [{\"colorbar\": {\"outlinewidth\": 0, \"ticks\": \"\"}, \"colorscale\": [[0.0, \"#0d0887\"], [0.1111111111111111, \"#46039f\"], [0.2222222222222222, \"#7201a8\"], [0.3333333333333333, \"#9c179e\"], [0.4444444444444444, \"#bd3786\"], [0.5555555555555556, \"#d8576b\"], [0.6666666666666666, \"#ed7953\"], [0.7777777777777778, \"#fb9f3a\"], [0.8888888888888888, \"#fdca26\"], [1.0, \"#f0f921\"]], \"type\": \"contour\"}], \"contourcarpet\": [{\"colorbar\": {\"outlinewidth\": 0, \"ticks\": \"\"}, \"type\": \"contourcarpet\"}], \"heatmap\": [{\"colorbar\": {\"outlinewidth\": 0, \"ticks\": \"\"}, \"colorscale\": [[0.0, \"#0d0887\"], [0.1111111111111111, \"#46039f\"], [0.2222222222222222, \"#7201a8\"], [0.3333333333333333, \"#9c179e\"], [0.4444444444444444, \"#bd3786\"], [0.5555555555555556, \"#d8576b\"], [0.6666666666666666, \"#ed7953\"], [0.7777777777777778, \"#fb9f3a\"], [0.8888888888888888, \"#fdca26\"], [1.0, \"#f0f921\"]], \"type\": \"heatmap\"}], \"heatmapgl\": [{\"colorbar\": {\"outlinewidth\": 0, \"ticks\": \"\"}, \"colorscale\": [[0.0, \"#0d0887\"], [0.1111111111111111, \"#46039f\"], [0.2222222222222222, \"#7201a8\"], [0.3333333333333333, \"#9c179e\"], [0.4444444444444444, \"#bd3786\"], [0.5555555555555556, \"#d8576b\"], [0.6666666666666666, \"#ed7953\"], [0.7777777777777778, \"#fb9f3a\"], [0.8888888888888888, \"#fdca26\"], [1.0, \"#f0f921\"]], \"type\": \"heatmapgl\"}], \"histogram\": [{\"marker\": {\"colorbar\": {\"outlinewidth\": 0, \"ticks\": \"\"}}, \"type\": \"histogram\"}], \"histogram2d\": [{\"colorbar\": {\"outlinewidth\": 0, \"ticks\": \"\"}, \"colorscale\": [[0.0, \"#0d0887\"], [0.1111111111111111, \"#46039f\"], [0.2222222222222222, \"#7201a8\"], [0.3333333333333333, \"#9c179e\"], [0.4444444444444444, \"#bd3786\"], [0.5555555555555556, \"#d8576b\"], [0.6666666666666666, \"#ed7953\"], [0.7777777777777778, \"#fb9f3a\"], [0.8888888888888888, \"#fdca26\"], [1.0, \"#f0f921\"]], \"type\": \"histogram2d\"}], \"histogram2dcontour\": [{\"colorbar\": {\"outlinewidth\": 0, \"ticks\": \"\"}, \"colorscale\": [[0.0, \"#0d0887\"], [0.1111111111111111, \"#46039f\"], [0.2222222222222222, \"#7201a8\"], [0.3333333333333333, \"#9c179e\"], [0.4444444444444444, \"#bd3786\"], [0.5555555555555556, \"#d8576b\"], [0.6666666666666666, \"#ed7953\"], [0.7777777777777778, \"#fb9f3a\"], [0.8888888888888888, \"#fdca26\"], [1.0, \"#f0f921\"]], \"type\": \"histogram2dcontour\"}], \"mesh3d\": [{\"colorbar\": {\"outlinewidth\": 0, \"ticks\": \"\"}, \"type\": \"mesh3d\"}], \"parcoords\": [{\"line\": {\"colorbar\": {\"outlinewidth\": 0, \"ticks\": \"\"}}, \"type\": \"parcoords\"}], \"scatter\": [{\"marker\": {\"colorbar\": {\"outlinewidth\": 0, \"ticks\": \"\"}}, \"type\": \"scatter\"}], \"scatter3d\": [{\"line\": {\"colorbar\": {\"outlinewidth\": 0, \"ticks\": \"\"}}, \"marker\": {\"colorbar\": {\"outlinewidth\": 0, \"ticks\": \"\"}}, \"type\": \"scatter3d\"}], \"scattercarpet\": [{\"marker\": {\"colorbar\": {\"outlinewidth\": 0, \"ticks\": \"\"}}, \"type\": \"scattercarpet\"}], \"scattergeo\": [{\"marker\": {\"colorbar\": {\"outlinewidth\": 0, \"ticks\": \"\"}}, \"type\": \"scattergeo\"}], \"scattergl\": [{\"marker\": {\"colorbar\": {\"outlinewidth\": 0, \"ticks\": \"\"}}, \"type\": \"scattergl\"}], \"scattermapbox\": [{\"marker\": {\"colorbar\": {\"outlinewidth\": 0, \"ticks\": \"\"}}, \"type\": \"scattermapbox\"}], \"scatterpolar\": [{\"marker\": {\"colorbar\": {\"outlinewidth\": 0, \"ticks\": \"\"}}, \"type\": \"scatterpolar\"}], \"scatterpolargl\": [{\"marker\": {\"colorbar\": {\"outlinewidth\": 0, \"ticks\": \"\"}}, \"type\": \"scatterpolargl\"}], \"scatterternary\": [{\"marker\": {\"colorbar\": {\"outlinewidth\": 0, \"ticks\": \"\"}}, \"type\": \"scatterternary\"}], \"surface\": [{\"colorbar\": {\"outlinewidth\": 0, \"ticks\": \"\"}, \"colorscale\": [[0.0, \"#0d0887\"], [0.1111111111111111, \"#46039f\"], [0.2222222222222222, \"#7201a8\"], [0.3333333333333333, \"#9c179e\"], [0.4444444444444444, \"#bd3786\"], [0.5555555555555556, \"#d8576b\"], [0.6666666666666666, \"#ed7953\"], [0.7777777777777778, \"#fb9f3a\"], [0.8888888888888888, \"#fdca26\"], [1.0, \"#f0f921\"]], \"type\": \"surface\"}], \"table\": [{\"cells\": {\"fill\": {\"color\": \"#EBF0F8\"}, \"line\": {\"color\": \"white\"}}, \"header\": {\"fill\": {\"color\": \"#C8D4E3\"}, \"line\": {\"color\": \"white\"}}, \"type\": \"table\"}]}, \"layout\": {\"annotationdefaults\": {\"arrowcolor\": \"#2a3f5f\", \"arrowhead\": 0, \"arrowwidth\": 1}, \"colorscale\": {\"diverging\": [[0, \"#8e0152\"], [0.1, \"#c51b7d\"], [0.2, \"#de77ae\"], [0.3, \"#f1b6da\"], [0.4, \"#fde0ef\"], [0.5, \"#f7f7f7\"], [0.6, \"#e6f5d0\"], [0.7, \"#b8e186\"], [0.8, \"#7fbc41\"], [0.9, \"#4d9221\"], [1, \"#276419\"]], \"sequential\": [[0.0, \"#0d0887\"], [0.1111111111111111, \"#46039f\"], [0.2222222222222222, \"#7201a8\"], [0.3333333333333333, \"#9c179e\"], [0.4444444444444444, \"#bd3786\"], [0.5555555555555556, \"#d8576b\"], [0.6666666666666666, \"#ed7953\"], [0.7777777777777778, \"#fb9f3a\"], [0.8888888888888888, \"#fdca26\"], [1.0, \"#f0f921\"]], \"sequentialminus\": [[0.0, \"#0d0887\"], [0.1111111111111111, \"#46039f\"], [0.2222222222222222, \"#7201a8\"], [0.3333333333333333, \"#9c179e\"], [0.4444444444444444, \"#bd3786\"], [0.5555555555555556, \"#d8576b\"], [0.6666666666666666, \"#ed7953\"], [0.7777777777777778, \"#fb9f3a\"], [0.8888888888888888, \"#fdca26\"], [1.0, \"#f0f921\"]]}, \"colorway\": [\"#636efa\", \"#EF553B\", \"#00cc96\", \"#ab63fa\", \"#FFA15A\", \"#19d3f3\", \"#FF6692\", \"#B6E880\", \"#FF97FF\", \"#FECB52\"], \"font\": {\"color\": \"#2a3f5f\"}, \"geo\": {\"bgcolor\": \"white\", \"lakecolor\": \"white\", \"landcolor\": \"#E5ECF6\", \"showlakes\": true, \"showland\": true, \"subunitcolor\": \"white\"}, \"hoverlabel\": {\"align\": \"left\"}, \"hovermode\": \"closest\", \"mapbox\": {\"style\": \"light\"}, \"paper_bgcolor\": \"white\", \"plot_bgcolor\": \"#E5ECF6\", \"polar\": {\"angularaxis\": {\"gridcolor\": \"white\", \"linecolor\": \"white\", \"ticks\": \"\"}, \"bgcolor\": \"#E5ECF6\", \"radialaxis\": {\"gridcolor\": \"white\", \"linecolor\": \"white\", \"ticks\": \"\"}}, \"scene\": {\"xaxis\": {\"backgroundcolor\": \"#E5ECF6\", \"gridcolor\": \"white\", \"gridwidth\": 2, \"linecolor\": \"white\", \"showbackground\": true, \"ticks\": \"\", \"zerolinecolor\": \"white\"}, \"yaxis\": {\"backgroundcolor\": \"#E5ECF6\", \"gridcolor\": \"white\", \"gridwidth\": 2, \"linecolor\": \"white\", \"showbackground\": true, \"ticks\": \"\", \"zerolinecolor\": \"white\"}, \"zaxis\": {\"backgroundcolor\": \"#E5ECF6\", \"gridcolor\": \"white\", \"gridwidth\": 2, \"linecolor\": \"white\", \"showbackground\": true, \"ticks\": \"\", \"zerolinecolor\": \"white\"}}, \"shapedefaults\": {\"line\": {\"color\": \"#2a3f5f\"}}, \"ternary\": {\"aaxis\": {\"gridcolor\": \"white\", \"linecolor\": \"white\", \"ticks\": \"\"}, \"baxis\": {\"gridcolor\": \"white\", \"linecolor\": \"white\", \"ticks\": \"\"}, \"bgcolor\": \"#E5ECF6\", \"caxis\": {\"gridcolor\": \"white\", \"linecolor\": \"white\", \"ticks\": \"\"}}, \"title\": {\"x\": 0.05}, \"xaxis\": {\"automargin\": true, \"gridcolor\": \"white\", \"linecolor\": \"white\", \"ticks\": \"\", \"zerolinecolor\": \"white\", \"zerolinewidth\": 2}, \"yaxis\": {\"automargin\": true, \"gridcolor\": \"white\", \"linecolor\": \"white\", \"ticks\": \"\", \"zerolinecolor\": \"white\", \"zerolinewidth\": 2}}}},\n",
       "                        {\"responsive\": true}\n",
       "                    ).then(function(){\n",
       "                            \n",
       "var gd = document.getElementById('946d5c5b-4f61-4805-b94e-a15830d1c850');\n",
       "var x = new MutationObserver(function (mutations, observer) {{\n",
       "        var display = window.getComputedStyle(gd).display;\n",
       "        if (!display || display === 'none') {{\n",
       "            console.log([gd, 'removed!']);\n",
       "            Plotly.purge(gd);\n",
       "            observer.disconnect();\n",
       "        }}\n",
       "}});\n",
       "\n",
       "// Listen for the removal of the full notebook cells\n",
       "var notebookContainer = gd.closest('#notebook-container');\n",
       "if (notebookContainer) {{\n",
       "    x.observe(notebookContainer, {childList: true});\n",
       "}}\n",
       "\n",
       "// Listen for the clearing of the current output cell\n",
       "var outputEl = gd.closest('.output');\n",
       "if (outputEl) {{\n",
       "    x.observe(outputEl, {childList: true});\n",
       "}}\n",
       "\n",
       "                        })\n",
       "                };\n",
       "                });\n",
       "            </script>\n",
       "        </div>"
      ]
     },
     "metadata": {},
     "output_type": "display_data"
    }
   ],
   "source": [
    "data = [trace1,trace2]\n",
    "layout = go.Layout(barmode='group')\n",
    "\n",
    "fig = go.Figure(data=data,layout=layout)\n",
    "iplot(fig,filename='group-bar')"
   ]
  },
  {
   "cell_type": "code",
   "execution_count": null,
   "metadata": {},
   "outputs": [],
   "source": []
  }
 ],
 "metadata": {
  "kernelspec": {
   "display_name": "Python 3",
   "language": "python",
   "name": "python3"
  },
  "language_info": {
   "codemirror_mode": {
    "name": "ipython",
    "version": 3
   },
   "file_extension": ".py",
   "mimetype": "text/x-python",
   "name": "python",
   "nbconvert_exporter": "python",
   "pygments_lexer": "ipython3",
   "version": "3.7.3"
  }
 },
 "nbformat": 4,
 "nbformat_minor": 2
}
